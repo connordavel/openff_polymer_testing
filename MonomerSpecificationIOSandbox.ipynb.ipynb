{
 "cells": [
  {
   "attachments": {},
   "cell_type": "markdown",
   "id": "c003f1a8",
   "metadata": {},
   "source": [
    "# Monomer Input Validation Testing\n",
    "### Requirements:\n",
    "A good input validation step should require that the input monomer smarts:\n",
    "1. Be unambiguous. This means no \"or\" conditionals\n",
    "2. Have all atoms with a single element contain:\n",
    "    1. query connectivity (X?) with explicit connectivity that matches (even for H)\n",
    "    2. formal charge (even if 0)\n",
    "    3. NO other info/conditionals (send warning if this happens, but allow it). So if the User tries to send atomic mass of something that isn't supported, don't allow that\n",
    "3. Require that all atoms:\n",
    "    1. be connected\n",
    "    2. have an atom map number\n",
    "4. Require that all bonds have a single discrete bond order\n",
    "\n",
    "Note that currently there is no restriction on where wild-type atoms exist and how many of them there are. Wildtype atoms are treated as a variable node not used for information/chemistry assignment, but them must be connected to all other nodes and have an atom number. \n",
    "\n",
    "### Approach\n",
    "RDKit's internal atom query logic contains many of the tools necessary for validation, which is explored first. See the final few cells in this notebook for a working example for input validation and a few example cases. \n"
   ]
  },
  {
   "attachments": {},
   "cell_type": "markdown",
   "id": "a52d201e",
   "metadata": {},
   "source": [
    "## 1. RDKit testing and query examples\n",
    "From https://www.daylight.com/dayhtml/doc/theory/theory.smarts.html:\n",
    "Valid logical operators can be:\n",
    "1. \"not\" -> `!`\n",
    "2. \"and\" (high precedence) -> `&`\n",
    "3. \"or\" -> `,`\n",
    "4. \"and\" (low precedence) -> `;`\n",
    "\n",
    "The only 2 operators that are allowed in this format are the 2 \"and\" operators. Rdkit's internal query logic represents this with a block of text and can be parsed:\n"
   ]
  },
  {
   "cell_type": "code",
   "execution_count": 51,
   "metadata": {},
   "outputs": [],
   "source": [
    "from rdkit import Chem"
   ]
  },
  {
   "cell_type": "code",
   "execution_count": 79,
   "id": "7bd88968",
   "metadata": {},
   "outputs": [
    {
     "data": {
      "text/plain": [
       "1"
      ]
     },
     "execution_count": 79,
     "metadata": {},
     "output_type": "execute_result"
    }
   ],
   "source": [
    "smarts = \"[C;D4;+0:1]-[C&D4&+0:3](-[C,D4,+0:2])(-[C&!D4&+0:4])-[*&X4&+0:5]\"\n",
    "qmol = Chem.MolFromSmarts(smarts)\n",
    "qmol.GetAtomWithIdx(0).GetDegree()"
   ]
  },
  {
   "cell_type": "code",
   "execution_count": 88,
   "id": "4e87a43b",
   "metadata": {},
   "outputs": [],
   "source": [
    "def print_atom_info(a):\n",
    "    print(\"=====================================================\")\n",
    "    print(f\"          Atom with Idx {a.GetIdx()} and map num {a.GetAtomMapNum()}\")\n",
    "    print(\"=====================================================\")\n",
    "    print(f\"degree is {a.GetDegree()}\")\n",
    "    print(f\"formal charge is {a.GetFormalCharge()}\")\n",
    "    print(f\"has query is {a.HasQuery()}\")\n",
    "    print(f\"Query is desicribed as: \\n{a.DescribeQuery()}\")"
   ]
  },
  {
   "cell_type": "code",
   "execution_count": 89,
   "id": "956d8a13",
   "metadata": {},
   "outputs": [
    {
     "name": "stdout",
     "output_type": "stream",
     "text": [
      "=====================================================\n",
      "          Atom with Idx 0 and map num 1\n",
      "=====================================================\n",
      "degree is 1\n",
      "formal charge is 0\n",
      "has query is True\n",
      "Query is desicribed as: \n",
      "AtomAnd\n",
      "  AtomAnd\n",
      "    AtomType 6 = val\n",
      "    AtomExplicitDegree 4 = val\n",
      "  AtomFormalCharge 0 = val\n",
      "\n"
     ]
    }
   ],
   "source": [
    "print_atom_info(qmol.GetAtomWithIdx(0))"
   ]
  },
  {
   "cell_type": "code",
   "execution_count": 82,
   "id": "c3fce316",
   "metadata": {},
   "outputs": [
    {
     "name": "stdout",
     "output_type": "stream",
     "text": [
      "=====================================================\n",
      "          Atom with Idx 1 and map num 3\n",
      "=====================================================\n",
      "degree is 4\n",
      "formal charge is 0\n",
      "has query is True\n",
      "Query is desicribed as: \n",
      "AtomAnd\n",
      "  AtomAnd\n",
      "    AtomType 6 = val\n",
      "    AtomExplicitDegree 4 = val\n",
      "  AtomFormalCharge 0 = val\n",
      "\n"
     ]
    }
   ],
   "source": [
    "\n",
    "print_atom_info(qmol.GetAtomWithIdx(1))"
   ]
  },
  {
   "cell_type": "code",
   "execution_count": 83,
   "id": "c94f29ee",
   "metadata": {},
   "outputs": [
    {
     "name": "stdout",
     "output_type": "stream",
     "text": [
      "=====================================================\n",
      "          Atom with Idx 2 and map num 2\n",
      "=====================================================\n",
      "degree is 1\n",
      "formal charge is 0\n",
      "has query is True\n",
      "Query is desicribed as: \n",
      "AtomOr\n",
      "  AtomOr\n",
      "    AtomType 6 = val\n",
      "    AtomExplicitDegree 4 = val\n",
      "  AtomFormalCharge 0 = val\n",
      "\n"
     ]
    }
   ],
   "source": [
    "print_atom_info(qmol.GetAtomWithIdx(2))"
   ]
  },
  {
   "cell_type": "code",
   "execution_count": 84,
   "id": "1e84146f",
   "metadata": {},
   "outputs": [
    {
     "name": "stdout",
     "output_type": "stream",
     "text": [
      "=====================================================\n",
      "          Atom with Idx 3 and map num 4\n",
      "=====================================================\n",
      "degree is 1\n",
      "formal charge is 0\n",
      "has query is True\n",
      "Query is desicribed as: \n",
      "AtomAnd\n",
      "  AtomAnd\n",
      "    AtomType 6 = val\n",
      "    AtomExplicitDegree 4 != val\n",
      "  AtomFormalCharge 0 = val\n",
      "\n"
     ]
    }
   ],
   "source": [
    "print_atom_info(qmol.GetAtomWithIdx(3))"
   ]
  },
  {
   "cell_type": "code",
   "execution_count": 85,
   "id": "f2e1ec5c",
   "metadata": {},
   "outputs": [
    {
     "name": "stdout",
     "output_type": "stream",
     "text": [
      "=====================================================\n",
      "          Atom with Idx 4 and map num 5\n",
      "=====================================================\n",
      "degree is 1\n",
      "formal charge is 0\n",
      "has query is True\n",
      "Query is desicribed as: \n",
      "AtomAnd\n",
      "  AtomTotalDegree 4 = val\n",
      "  AtomFormalCharge 0 = val\n",
      "\n"
     ]
    }
   ],
   "source": [
    "print_atom_info(qmol.GetAtomWithIdx(4))"
   ]
  },
  {
   "attachments": {},
   "cell_type": "markdown",
   "metadata": {},
   "source": [
    "Smarts queries can then be enforced by looking for specific keywords in the query such as \"!=\", \"AtomOr\". \"AtomTotalDegree\" will be used (X? format) in all atoms to ensure that atoms with an explicit element are explicitly specified. "
   ]
  },
  {
   "attachments": {},
   "cell_type": "markdown",
   "id": "d366ea4f",
   "metadata": {},
   "source": [
    "## Setting queries\n",
    "Setting queries is most usefull when handling transitions from user-inputted monomer formats to the internal json representation of monomers"
   ]
  },
  {
   "cell_type": "code",
   "execution_count": 92,
   "id": "5faaee50",
   "metadata": {},
   "outputs": [
    {
     "ename": "ArgumentError",
     "evalue": "Python argument types in\n    QueryAtom.ExpandQuery(QueryAtom)\ndid not match C++ signature:\n    ExpandQuery(RDKit::QueryAtom* self, RDKit::QueryAtom const* other, Queries::CompositeQueryType how=rdkit.Chem.rdchem.CompositeQueryType.COMPOSITE_AND, bool maintainOrder=True)",
     "output_type": "error",
     "traceback": [
      "\u001b[0;31m---------------------------------------------------------------------------\u001b[0m",
      "\u001b[0;31mArgumentError\u001b[0m                             Traceback (most recent call last)",
      "Cell \u001b[0;32mIn[92], line 6\u001b[0m\n\u001b[1;32m      1\u001b[0m a \u001b[39m=\u001b[39m qmol\u001b[39m.\u001b[39mGetAtomWithIdx(\u001b[39m0\u001b[39m)\n\u001b[1;32m      2\u001b[0m \u001b[39m# print(a.GetSmarts())\u001b[39;00m\n\u001b[1;32m      3\u001b[0m \u001b[39m# new_a = Chem.AtomFromSmarts(\"[C&X3&+1:4]\")\u001b[39;00m\n\u001b[1;32m      4\u001b[0m \u001b[39m# a.SetQuery(new_a)\u001b[39;00m\n\u001b[1;32m      5\u001b[0m \u001b[39m# print(a.GetSmarts())\u001b[39;00m\n\u001b[0;32m----> 6\u001b[0m a\u001b[39m.\u001b[39;49mExpandQuery()\n",
      "\u001b[0;31mArgumentError\u001b[0m: Python argument types in\n    QueryAtom.ExpandQuery(QueryAtom)\ndid not match C++ signature:\n    ExpandQuery(RDKit::QueryAtom* self, RDKit::QueryAtom const* other, Queries::CompositeQueryType how=rdkit.Chem.rdchem.CompositeQueryType.COMPOSITE_AND, bool maintainOrder=True)"
     ]
    }
   ],
   "source": [
    "a = qmol.GetAtomWithIdx(0)\n",
    "# print(a.GetSmarts())\n",
    "# new_a = Chem.AtomFromSmarts(\"[C&X3&+1:4]\")\n",
    "# a.SetQuery(new_a)\n",
    "# print(a.GetSmarts())\n",
    "a.ExpandQuery()"
   ]
  },
  {
   "attachments": {},
   "cell_type": "markdown",
   "id": "49bd6740",
   "metadata": {},
   "source": [
    "## 2. Working example"
   ]
  },
  {
   "cell_type": "code",
   "execution_count": null,
   "id": "cb51eb2f",
   "metadata": {},
   "outputs": [],
   "source": [
    "def is_connected(rdmol):\n",
    "    # determine if the rdmol object has all atoms connected\n",
    "    # input: rdmol.Chem molecule object\n",
    "    # ouput: True if graph is connected, False if not\n",
    "    found_atom_ids = set()\n",
    "    # perform simple graph search over the graph\n",
    "    queue = []\n",
    "    while len(queue) != 0:\n",
    "        atom_id = queue.pop()\n",
    "        found_atom_ids.add(atom_id)\n",
    "        atom = rdmol.GetAtomWithIdx(atom_id)\n",
    "        for neighbor in atom.GetNeighbors():\n",
    "            n_idx = neighbor.GetIdx()\n",
    "            if n_idx not in queue and n_idx not in found_atom_ids:\n",
    "                queue.append(n_idx)\n",
    "    if len(found_atom_ids) == rdmol.GetNumAtoms():\n",
    "        return True\n",
    "    else:\n",
    "        return False\n",
    "\n",
    "def is_valid_monomer(smarts):\n",
    "    def is_valid_query(query_str):\n",
    "        if \"!=\" in query_str:\n",
    "            return False\n",
    "        elif \"AtomOr\" in query_str:\n",
    "            return False\n",
    "        if \"AtomType\" not in query_str:\n",
    "            return False\n",
    "        elif \"AtomTotalDegree\" not in query_str:\n",
    "            return False\n",
    "        elif \"AtomFormalCharge\" not in query_str:\n",
    "            return False\n",
    "\n",
    "    qmol = Chem.MolFromSmarts(smarts)\n",
    "\n",
    "    if not is_connected(qmol):\n",
    "        return False\n",
    "    \n",
    "    for atom in qmol.GetAtoms():\n",
    "        if not is_valid_query(atom.DescribeQuery()):\n",
    "            return False\n",
    "    return True\n"
   ]
  },
  {
   "attachments": {},
   "cell_type": "markdown",
   "id": "344a1bc9",
   "metadata": {},
   "source": [
    "## 3. Examples"
   ]
  },
  {
   "cell_type": "markdown",
   "id": "850e3db7",
   "metadata": {},
   "source": []
  }
 ],
 "metadata": {
  "kernelspec": {
   "display_name": "openff-dev",
   "language": "python",
   "name": "python3"
  },
  "language_info": {
   "codemirror_mode": {
    "name": "ipython",
    "version": 3
   },
   "file_extension": ".py",
   "mimetype": "text/x-python",
   "name": "python",
   "nbconvert_exporter": "python",
   "pygments_lexer": "ipython3",
   "version": "3.10.9"
  },
  "vscode": {
   "interpreter": {
    "hash": "1f2965d7f442f9c67ab5b19224bbf458e71d7719abe5def5b71eb159ed814c96"
   }
  }
 },
 "nbformat": 4,
 "nbformat_minor": 5
}
