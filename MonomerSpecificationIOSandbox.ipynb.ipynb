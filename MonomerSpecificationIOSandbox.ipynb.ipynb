{
 "cells": [
  {
   "attachments": {},
   "cell_type": "markdown",
   "id": "c003f1a8",
   "metadata": {},
   "source": [
    "# Monomer Input Validation Testing\n",
    "### Requirements:\n",
    "A good input validation step should require that the input monomer smarts:\n",
    "1. Be unambiguous. This means no \"or\" conditionals\n",
    "2. Have all atoms with a single element contain:\n",
    "    1. query connectivity (X?) with explicit connectivity that matches (even for H)\n",
    "    2. formal charge (even if 0)\n",
    "    3. NO other info/conditionals (send warning if this happens, but allow it). So if the User tries to send atomic mass of something that isn't supported, don't allow that\n",
    "3. Require that all atoms:\n",
    "    1. be connected\n",
    "    2. have an atom map number\n",
    "4. Require that all bonds have a single discrete bond order\n",
    "\n",
    "Note that currently there is no restriction on where wild-type atoms exist and how many of them there are. Wildtype atoms are treated as a variable node not used for information/chemistry assignment, but them must be connected to all other nodes and have an atom number. \n",
    "\n",
    "### Approach\n",
    "RDKit's internal atom query logic contains many of the tools necessary for validation, which is explored first. See the final few cells in this notebook for a working example for input validation and a few example cases. \n"
   ]
  },
  {
   "attachments": {},
   "cell_type": "markdown",
   "id": "a52d201e",
   "metadata": {},
   "source": [
    "## 1. RDKit testing and query examples\n",
    "From https://www.daylight.com/dayhtml/doc/theory/theory.smarts.html:\n",
    "Valid logical operators can be:\n",
    "1. \"not\" -> `!`\n",
    "2. \"and\" (high precedence) -> `&`\n",
    "3. \"or\" -> `,`\n",
    "4. \"and\" (low precedence) -> `;`\n",
    "\n",
    "The only 2 operators that are allowed in this format are the 2 \"and\" operators. Rdkit's internal query logic represents this with a block of text and can be parsed:\n"
   ]
  },
  {
   "cell_type": "code",
   "execution_count": 2,
   "metadata": {},
   "outputs": [],
   "source": [
    "from rdkit import Chem"
   ]
  },
  {
   "cell_type": "code",
   "execution_count": 3,
   "id": "7bd88968",
   "metadata": {},
   "outputs": [
    {
     "data": {
      "text/plain": [
       "1"
      ]
     },
     "execution_count": 3,
     "metadata": {},
     "output_type": "execute_result"
    }
   ],
   "source": [
    "smarts = \"[C;X4;+0:1]-[C&X4&+0:3](-[C,X4,+0:2])(-[C&!X4&+0:4])-[*&X4&+0:5]\"\n",
    "qmol = Chem.MolFromSmarts(smarts)\n",
    "qmol.GetAtomWithIdx(0).GetDegree()"
   ]
  },
  {
   "cell_type": "code",
   "execution_count": 4,
   "id": "4e87a43b",
   "metadata": {},
   "outputs": [],
   "source": [
    "def print_atom_info(a):\n",
    "    print(\"=====================================================\")\n",
    "    print(f\"          Atom with Idx {a.GetIdx()} and map num {a.GetAtomMapNum()}\")\n",
    "    print(\"=====================================================\")\n",
    "    print(f\"degree is {a.GetDegree()}\")\n",
    "    print(f\"formal charge is {a.GetFormalCharge()}\")\n",
    "    print(f\"has query is {a.HasQuery()}\")\n",
    "    print(f\"Query is desicribed as: \\n{a.DescribeQuery()}\")"
   ]
  },
  {
   "cell_type": "code",
   "execution_count": 5,
   "id": "956d8a13",
   "metadata": {},
   "outputs": [
    {
     "name": "stdout",
     "output_type": "stream",
     "text": [
      "=====================================================\n",
      "          Atom with Idx 0 and map num 1\n",
      "=====================================================\n",
      "degree is 1\n",
      "formal charge is 0\n",
      "has query is True\n",
      "Query is desicribed as: \n",
      "AtomAnd\n",
      "  AtomAnd\n",
      "    AtomType 6 = val\n",
      "    AtomTotalDegree 4 = val\n",
      "  AtomFormalCharge 0 = val\n",
      "\n"
     ]
    }
   ],
   "source": [
    "print_atom_info(qmol.GetAtomWithIdx(0))"
   ]
  },
  {
   "cell_type": "code",
   "execution_count": 6,
   "id": "c3fce316",
   "metadata": {},
   "outputs": [
    {
     "name": "stdout",
     "output_type": "stream",
     "text": [
      "=====================================================\n",
      "          Atom with Idx 1 and map num 3\n",
      "=====================================================\n",
      "degree is 4\n",
      "formal charge is 0\n",
      "has query is True\n",
      "Query is desicribed as: \n",
      "AtomAnd\n",
      "  AtomAnd\n",
      "    AtomType 6 = val\n",
      "    AtomTotalDegree 4 = val\n",
      "  AtomFormalCharge 0 = val\n",
      "\n"
     ]
    }
   ],
   "source": [
    "\n",
    "print_atom_info(qmol.GetAtomWithIdx(1))"
   ]
  },
  {
   "cell_type": "code",
   "execution_count": 7,
   "id": "c94f29ee",
   "metadata": {},
   "outputs": [
    {
     "name": "stdout",
     "output_type": "stream",
     "text": [
      "=====================================================\n",
      "          Atom with Idx 2 and map num 2\n",
      "=====================================================\n",
      "degree is 1\n",
      "formal charge is 0\n",
      "has query is True\n",
      "Query is desicribed as: \n",
      "AtomOr\n",
      "  AtomOr\n",
      "    AtomType 6 = val\n",
      "    AtomTotalDegree 4 = val\n",
      "  AtomFormalCharge 0 = val\n",
      "\n"
     ]
    }
   ],
   "source": [
    "print_atom_info(qmol.GetAtomWithIdx(2))"
   ]
  },
  {
   "cell_type": "code",
   "execution_count": 8,
   "id": "1e84146f",
   "metadata": {},
   "outputs": [
    {
     "name": "stdout",
     "output_type": "stream",
     "text": [
      "=====================================================\n",
      "          Atom with Idx 3 and map num 4\n",
      "=====================================================\n",
      "degree is 1\n",
      "formal charge is 0\n",
      "has query is True\n",
      "Query is desicribed as: \n",
      "AtomAnd\n",
      "  AtomAnd\n",
      "    AtomType 6 = val\n",
      "    AtomTotalDegree 4 != val\n",
      "  AtomFormalCharge 0 = val\n",
      "\n"
     ]
    }
   ],
   "source": [
    "print_atom_info(qmol.GetAtomWithIdx(3))"
   ]
  },
  {
   "cell_type": "code",
   "execution_count": 9,
   "id": "f2e1ec5c",
   "metadata": {},
   "outputs": [
    {
     "name": "stdout",
     "output_type": "stream",
     "text": [
      "=====================================================\n",
      "          Atom with Idx 4 and map num 5\n",
      "=====================================================\n",
      "degree is 1\n",
      "formal charge is 0\n",
      "has query is True\n",
      "Query is desicribed as: \n",
      "AtomAnd\n",
      "  AtomTotalDegree 4 = val\n",
      "  AtomFormalCharge 0 = val\n",
      "\n"
     ]
    }
   ],
   "source": [
    "print_atom_info(qmol.GetAtomWithIdx(4))"
   ]
  },
  {
   "attachments": {},
   "cell_type": "markdown",
   "metadata": {},
   "source": [
    "Smarts queries can then be enforced by looking for specific keywords in the query such as \"!=\", \"AtomOr\". \"AtomTotalDegree\" will be used (X? format) in all atoms to ensure that atoms with an explicit element are explicitly specified. "
   ]
  },
  {
   "attachments": {},
   "cell_type": "markdown",
   "id": "d366ea4f",
   "metadata": {},
   "source": [
    "## Setting queries\n",
    "Setting queries is most usefull when handling transitions from user-inputted monomer formats to the internal json representation of monomers"
   ]
  },
  {
   "cell_type": "code",
   "execution_count": 10,
   "id": "5faaee50",
   "metadata": {},
   "outputs": [
    {
     "name": "stdout",
     "output_type": "stream",
     "text": [
      "[C&X4&+0:1]\n",
      "[C&D3&+:1]\n"
     ]
    }
   ],
   "source": [
    "a = qmol.GetAtomWithIdx(0)\n",
    "print(a.GetSmarts())\n",
    "new_a = Chem.AtomFromSmarts(\"[C&D3&+1:4]\")\n",
    "a.SetQuery(new_a)\n",
    "print(a.GetSmarts())"
   ]
  },
  {
   "attachments": {},
   "cell_type": "markdown",
   "id": "49bd6740",
   "metadata": {},
   "source": [
    "## 2. Working example"
   ]
  },
  {
   "cell_type": "code",
   "execution_count": 121,
   "id": "cb51eb2f",
   "metadata": {},
   "outputs": [],
   "source": [
    "\n",
    "\n",
    "def is_valid_monomer(smarts):\n",
    "    def is_connected(rdmol):\n",
    "        if len(Chem.rdmolops.GetMolFrags(rdmol)) > 1:\n",
    "            return False\n",
    "        else:\n",
    "            return True\n",
    "    \n",
    "    def is_valid_interior_atom(atom):\n",
    "        atom_smarts = atom.GetSmarts()\n",
    "        # ensure that no unsupported logical operators exist\n",
    "        operators = r\"!,;\"\n",
    "        if any(op in atom_smarts for op in operators):\n",
    "            reason = f\"{atom_smarts}: found an unsupported logical operator\"\n",
    "            return False, reason\n",
    "        # ensure that no other unsupported atomic primitives are accepted\n",
    "        unsupported_prims = r\"@xXvrRhH*\"\n",
    "        if any(prim in atom_smarts for prim in unsupported_prims):\n",
    "            reason = f\"{atom_smarts}: found unsupported primitive\"\n",
    "            return False, reason\n",
    "        # require that all elements are specified in #<n> format. This removes the H prototype edge case\n",
    "        # Also require explicit connecitivity in D<n> format and explicit charge with either a + or -\n",
    "        required_prims = r\"[]#D:\"\n",
    "        if not all(prim in atom_smarts for prim in required_prims):\n",
    "            reason = f\"{atom_smarts}: required primitive not included\"\n",
    "            return False, reason\n",
    "        charge_prims = r\"-+\"\n",
    "        if not any(prim in atom_smarts for prim in charge_prims):\n",
    "            reason = f\"{atom_smarts}: no charge primitive on at least one atom\"\n",
    "            return False, reason\n",
    "        if not atom.Match(atom):\n",
    "            reason = f\"{atom_smarts}: query does not match rdchem.Mol reading of the molecule (likely due to connectivity)\"\n",
    "            return False, reason\n",
    "        return True, \"\"\n",
    "\n",
    "    def is_valid_neighbor_atom(atom):\n",
    "        atom_smarts = atom.GetSmarts()\n",
    "        # ensure that no unsupported logical operators exist\n",
    "        operators = r\"!,;&\"\n",
    "        if any(op in atom_smarts for op in operators):\n",
    "            reason = f\"{atom_smarts}: found an unsupported logical operator\"\n",
    "            return False, reason\n",
    "        # ensure that no other unsupported atomic primitives are accepted\n",
    "        unsupported_prims = r\"@xXDvrRhH\"\n",
    "        if any(prim in atom_smarts for prim in unsupported_prims):\n",
    "            reason = f\"{atom_smarts}: found unsupported primitive\"\n",
    "            return False, reason\n",
    "        # require that atoms have a wildtype atom and label\n",
    "        required_prims = r\"[]*:\"\n",
    "        if not all(prim in atom_smarts for prim in required_prims):\n",
    "            reason = f\"{atom_smarts}: required primitive not included\"\n",
    "            return False, reason\n",
    "        return True, \"\"\n",
    "    \n",
    "    def is_valid_bond(bond):\n",
    "        valid_bond_types = [\n",
    "                Chem.BondType.SINGLE,\n",
    "                # Chem.BondType.AROMATIC, # no current support for aromatic bonds or 1.5 bonds\n",
    "                Chem.BondType.DOUBLE,\n",
    "                Chem.BondType.TRIPLE,\n",
    "                Chem.BondType.QUADRUPLE,\n",
    "                Chem.BondType.QUINTUPLE,\n",
    "                Chem.BondType.HEXTUPLE,\n",
    "            ]\n",
    "        if bond.GetBondType() in valid_bond_types:\n",
    "            return True\n",
    "        else:\n",
    "            return False\n",
    "\n",
    "    qmol = Chem.MolFromSmarts(smarts)\n",
    "\n",
    "    # check if graph is connected\n",
    "    if not is_connected(qmol):\n",
    "        reason = \"not connected\"\n",
    "        return False, reason\n",
    "    \n",
    "    # check atom strings for required and unsupported primitives\n",
    "    for atom in qmol.GetAtoms():\n",
    "        if atom.GetAtomicNum() > 0:\n",
    "            is_valid, reason = is_valid_interior_atom(atom)\n",
    "            if not is_valid:\n",
    "                return False, reason\n",
    "        elif atom.GetAtomicNum() == 0 and \"#\" not in atom.GetSmarts():\n",
    "            is_valid, reason = is_valid_neighbor_atom(atom)\n",
    "            if not is_valid:\n",
    "                return False, reason\n",
    "        else:\n",
    "            reason = \"zero atomic number with # primitive (likely due to conditionals\"\n",
    "            return False, reason\n",
    "        \n",
    "    # ensure unique atom map numbers for each atom\n",
    "    map_nums = [atom.GetAtomMapNum() for atom in qmol.GetAtoms()]\n",
    "    unique_map_nums = set(map_nums)\n",
    "    if len(map_nums) != len(unique_map_nums):\n",
    "        reason = \"non-unique atom map numbers\"\n",
    "        return False, reason\n",
    "    \n",
    "    # If all checks are passed, the smarts is valid\n",
    "    return True, \"all checks passed\"\n"
   ]
  },
  {
   "attachments": {},
   "cell_type": "markdown",
   "id": "344a1bc9",
   "metadata": {},
   "source": [
    "## 3. Examples"
   ]
  },
  {
   "cell_type": "code",
   "execution_count": 122,
   "id": "e2cc20a7",
   "metadata": {},
   "outputs": [
    {
     "name": "stdout",
     "output_type": "stream",
     "text": [
      "[#6&D4&+0:1]   6   False\n",
      "[#1&D1&+0:2]   1   False\n",
      "[#1&D1&+0:3]   1   False\n",
      "[#1&D1&+0:4]   1   False\n",
      "[*:5]   0   True\n"
     ]
    },
    {
     "data": {
      "text/plain": [
       "(True, 'all checks passed')"
      ]
     },
     "execution_count": 122,
     "metadata": {},
     "output_type": "execute_result"
    }
   ],
   "source": [
    "smarts = \"[#6D4+0:1](-[#1D1+0:2])(-[#1D1+0:3])(-[#1D1+0:4])-[*:5]\"\n",
    "is_valid_monomer(smarts)"
   ]
  },
  {
   "cell_type": "code",
   "execution_count": 123,
   "id": "f2dc1aba",
   "metadata": {},
   "outputs": [
    {
     "name": "stdout",
     "output_type": "stream",
     "text": [
      "[#6&D4&+0:1]   6   False\n",
      "[#1&D1&+0:2]   1   False\n",
      "[#1&D1&+0:3]   1   False\n",
      "[#1&D1&+0:4]   1   False\n",
      "[*:5]   0   True\n",
      "C   6   False\n",
      "[#6&D4:1]   6   False\n",
      "[#6&D4&+0:1]   6   False\n",
      "[#1&D1:2]   1   False\n",
      "[#6&D4&+0:1]   6   False\n",
      "[#1&D1&+0:2]   1   False\n",
      "[#1&D1&+0]   1   False\n",
      "[#6&D4&+0:1]   6   False\n",
      "[#1&D1&+0:1]   1   False\n",
      "[#1&D1&+0:3]   1   False\n",
      "[#1&D1&+0:4]   1   False\n",
      "[*:5]   0   True\n",
      "[#6,D4&+0:1]   0   True\n",
      "[!#6&D4&+0:1]   0   True\n",
      "[#6&D4&+0:1]   6   False\n",
      "[#1&D1&+0:2]   1   False\n",
      "[#1&D1&+0:3]   1   False\n",
      "[#1&D1&+0:4]   1   False\n",
      "[*:5]   0   True\n",
      "[#6&D3&+0:1]   6   False\n",
      "[#6&+0:1]   6   False\n",
      "[#6&D4&+0:1]   6   False\n",
      "[#1&D1&+0:2]   1   False\n",
      "[#1&D1&+0:3]   1   False\n",
      "[#1&D1&+0:4]   1   False\n",
      "[D4:5]   0   True\n",
      "[C&D4&+0:1]   6   False\n",
      "[#6&D4&+0:1]   6   False\n",
      "[#1&D1&+0:2]   1   False\n",
      "[#1&D1&+0:3]   1   False\n",
      "[#1&D1&+0:4]   1   False\n",
      "[*:5]   0   True\n",
      "                                               smarts  valid  \\\n",
      "0   [#6D4+0:1](-[#1D1+0:2])(-[#1D1+0:3])(-[#1D1+0:...   True   \n",
      "1      C(-[#1D1+0:2])(-[#1D1+0:3])(-[#1D1+0:4])-[*:5]  False   \n",
      "2   [#6D4:1](-[#1D1+0:2])(-[#1D1+0:3])(-[#1D1+0:4]...  False   \n",
      "3   [#6D4+0:1](-[#1D1:2])(-[#1D1+0:3])(-[#1D1+0:4]...  False   \n",
      "4   [#6D4+0:1](-[#1D1+0:2])(-[#1D1+0])(-[#1D1+0:4]...  False   \n",
      "5   [#6D4+0:1](-[#1D1+0:1])(-[#1D1+0:3])(-[#1D1+0:...  False   \n",
      "6   [#6,D4+0:1](-[#1D1+0:2])(-[#1D1+0:3])(-[#1D1+0...  False   \n",
      "7   [!#6D4+0:1](-[#1D1+0:2])(-[#1D1+0:3])(-[#1D1+0...  False   \n",
      "8   [#6D4-0:1](-[#1D1-0:2])(-[#1D1-0:3])(-[#1D1-0:...   True   \n",
      "9   [#6D3+0:1](-[#1D1+0:2])(-[#1D1+0:3])(-[#1D1+0:...  False   \n",
      "10  [#6+0:1](-[#1D1+0:2])(-[#1D1+0:3])(-[#1D1+0:4]...  False   \n",
      "11  [#6D4+0:1](-[#1D1+0:2])(-[#1D1+0:3])(-[#1D1+0:...  False   \n",
      "12  [CD4+0:1](-[CD1+0:2])(-[#1D1+0:3])(-[#1D1+0:4]...  False   \n",
      "13  [#6&D4&+0:1](-[#1D1+0:2])(-[#1D1+0:3])(-[#1D1+...   True   \n",
      "\n",
      "                                               reason  \n",
      "0                                   all checks passed  \n",
      "1                  C: required primitive not included  \n",
      "2   [#6&D4:1]: no charge primitive on at least one...  \n",
      "3   [#1&D1:2]: no charge primitive on at least one...  \n",
      "4         [#1&D1&+0]: required primitive not included  \n",
      "5                         non-unique atom map numbers  \n",
      "6   zero atomic number with # primitive (likely du...  \n",
      "7   zero atomic number with # primitive (likely du...  \n",
      "8                                   all checks passed  \n",
      "9   [#6&D3&+0:1]: query does not match rdchem.Mol ...  \n",
      "10         [#6&+0:1]: required primitive not included  \n",
      "11                [D4:5]: found unsupported primitive  \n",
      "12       [C&D4&+0:1]: required primitive not included  \n",
      "13                                  all checks passed  \n"
     ]
    }
   ],
   "source": [
    "import pandas as pd\n",
    "changed_smarts = [\n",
    "    \"[#6D4+0:1](-[#1D1+0:2])(-[#1D1+0:3])(-[#1D1+0:4])-[*:5]\",\n",
    "    \"C(-[#1D1+0:2])(-[#1D1+0:3])(-[#1D1+0:4])-[*:5]\",\n",
    "    \"[#6D4:1](-[#1D1+0:2])(-[#1D1+0:3])(-[#1D1+0:4])-[*:5]\",\n",
    "    \"[#6D4+0:1](-[#1D1:2])(-[#1D1+0:3])(-[#1D1+0:4])-[*:5]\",\n",
    "    \"[#6D4+0:1](-[#1D1+0:2])(-[#1D1+0])(-[#1D1+0:4])-[*:5]\",\n",
    "    \"[#6D4+0:1](-[#1D1+0:1])(-[#1D1+0:3])(-[#1D1+0:4])-[*:5]\",\n",
    "    \"[#6,D4+0:1](-[#1D1+0:2])(-[#1D1+0:3])(-[#1D1+0:4])-[*:5]\",\n",
    "    \"[!#6D4+0:1](-[#1D1+0:2])(-[#1D1+0:3])(-[#1D1+0:4])-[*:5]\",\n",
    "    \"[#6D4-0:1](-[#1D1-0:2])(-[#1D1-0:3])(-[#1D1-0:4])-[*:5]\",\n",
    "    \"[#6D3+0:1](-[#1D1+0:2])(-[#1D1+0:3])(-[#1D1+0:4])-[*:5]\",\n",
    "    \"[#6+0:1](-[#1D1+0:2])(-[#1D1+0:3])(-[#1D1+0:4])-[*:5]\",\n",
    "    \"[#6D4+0:1](-[#1D1+0:2])(-[#1D1+0:3])(-[#1D1+0:4])-[*D4:5]\",\n",
    "    \"[CD4+0:1](-[CD1+0:2])(-[#1D1+0:3])(-[#1D1+0:4])-[*:5]\",\n",
    "    \"[#6&D4&+0:1](-[#1D1+0:2])(-[#1D1+0:3])(-[#1D1+0:4])-[*:5]\"\n",
    "]\n",
    "df = pd.DataFrame(columns=[\"smarts\", \"valid\", \"reason\"])\n",
    "for smarts in changed_smarts:\n",
    "    is_valid, reason = is_valid_monomer(smarts)\n",
    "    new_row = {\"smarts\": smarts, \"valid\": is_valid, \"reason\": reason}\n",
    "    df.loc[len(df)] = new_row\n",
    "\n",
    "print(df)\n",
    "df.to_csv(\"junk.csv\", sep=\"\\t\")"
   ]
  },
  {
   "cell_type": "markdown",
   "id": "850e3db7",
   "metadata": {},
   "source": []
  },
  {
   "cell_type": "code",
   "execution_count": 74,
   "id": "9f14e336",
   "metadata": {},
   "outputs": [
    {
     "data": {
      "text/plain": [
       "3"
      ]
     },
     "execution_count": 74,
     "metadata": {},
     "output_type": "execute_result"
    }
   ],
   "source": [
    "atom = qmol.GetAtomWithIdx(0)\n",
    "atom.GetExplicitValence()"
   ]
  },
  {
   "cell_type": "code",
   "execution_count": 75,
   "id": "a8abb9bb",
   "metadata": {},
   "outputs": [
    {
     "data": {
      "text/plain": [
       "['ClearProp',\n",
       " 'DescribeQuery',\n",
       " 'ExpandQuery',\n",
       " 'GetAtomMapNum',\n",
       " 'GetAtomicNum',\n",
       " 'GetBonds',\n",
       " 'GetBoolProp',\n",
       " 'GetChiralTag',\n",
       " 'GetDegree',\n",
       " 'GetDoubleProp',\n",
       " 'GetExplicitBitVectProp',\n",
       " 'GetExplicitValence',\n",
       " 'GetFormalCharge',\n",
       " 'GetHybridization',\n",
       " 'GetIdx',\n",
       " 'GetImplicitValence',\n",
       " 'GetIntProp',\n",
       " 'GetIsAromatic',\n",
       " 'GetIsotope',\n",
       " 'GetMass',\n",
       " 'GetMonomerInfo',\n",
       " 'GetNeighbors',\n",
       " 'GetNoImplicit',\n",
       " 'GetNumExplicitHs',\n",
       " 'GetNumImplicitHs',\n",
       " 'GetNumRadicalElectrons',\n",
       " 'GetOwningMol',\n",
       " 'GetPDBResidueInfo',\n",
       " 'GetProp',\n",
       " 'GetPropNames',\n",
       " 'GetPropsAsDict',\n",
       " 'GetQueryType',\n",
       " 'GetSmarts',\n",
       " 'GetSymbol',\n",
       " 'GetTotalDegree',\n",
       " 'GetTotalNumHs',\n",
       " 'GetTotalValence',\n",
       " 'GetUnsignedProp',\n",
       " 'HasOwningMol',\n",
       " 'HasProp',\n",
       " 'HasQuery',\n",
       " 'InvertChirality',\n",
       " 'IsInRing',\n",
       " 'IsInRingSize',\n",
       " 'Match',\n",
       " 'NeedsUpdatePropertyCache',\n",
       " 'SetAtomMapNum',\n",
       " 'SetAtomicNum',\n",
       " 'SetBoolProp',\n",
       " 'SetChiralTag',\n",
       " 'SetDoubleProp',\n",
       " 'SetExplicitBitVectProp',\n",
       " 'SetFormalCharge',\n",
       " 'SetHybridization',\n",
       " 'SetIntProp',\n",
       " 'SetIsAromatic',\n",
       " 'SetIsotope',\n",
       " 'SetMonomerInfo',\n",
       " 'SetNoImplicit',\n",
       " 'SetNumExplicitHs',\n",
       " 'SetNumRadicalElectrons',\n",
       " 'SetPDBResidueInfo',\n",
       " 'SetProp',\n",
       " 'SetQuery',\n",
       " 'SetUnsignedProp',\n",
       " 'UpdatePropertyCache',\n",
       " '__class__',\n",
       " '__copy__',\n",
       " '__delattr__',\n",
       " '__dict__',\n",
       " '__dir__',\n",
       " '__doc__',\n",
       " '__eq__',\n",
       " '__format__',\n",
       " '__ge__',\n",
       " '__getattribute__',\n",
       " '__gt__',\n",
       " '__hash__',\n",
       " '__init__',\n",
       " '__init_subclass__',\n",
       " '__instance_size__',\n",
       " '__le__',\n",
       " '__lt__',\n",
       " '__module__',\n",
       " '__ne__',\n",
       " '__new__',\n",
       " '__reduce__',\n",
       " '__reduce_ex__',\n",
       " '__repr__',\n",
       " '__setattr__',\n",
       " '__sizeof__',\n",
       " '__str__',\n",
       " '__subclasshook__',\n",
       " '__weakref__']"
      ]
     },
     "execution_count": 75,
     "metadata": {},
     "output_type": "execute_result"
    }
   ],
   "source": [
    "dir(atom)"
   ]
  },
  {
   "cell_type": "code",
   "execution_count": 76,
   "id": "aec63afd",
   "metadata": {},
   "outputs": [
    {
     "data": {
      "text/plain": [
       "0"
      ]
     },
     "execution_count": 76,
     "metadata": {},
     "output_type": "execute_result"
    }
   ],
   "source": [
    "atom.GetImplicitValence()"
   ]
  },
  {
   "cell_type": "code",
   "execution_count": 77,
   "id": "ddc04633",
   "metadata": {},
   "outputs": [
    {
     "name": "stdout",
     "output_type": "stream",
     "text": [
      "molAtomMapNumber\n"
     ]
    },
    {
     "data": {
      "text/plain": [
       "[None]"
      ]
     },
     "execution_count": 77,
     "metadata": {},
     "output_type": "execute_result"
    }
   ],
   "source": [
    "[print(a) for a in atom.GetPropNames()]"
   ]
  },
  {
   "cell_type": "code",
   "execution_count": 78,
   "id": "85a91a10",
   "metadata": {},
   "outputs": [
    {
     "data": {
      "text/plain": [
       "'AtomAnd\\n  AtomAnd\\n    AtomAtomicNum 6 = val\\n    AtomTotalDegree 3 = val\\n  AtomFormalCharge 1 = val\\n'"
      ]
     },
     "execution_count": 78,
     "metadata": {},
     "output_type": "execute_result"
    }
   ],
   "source": [
    "atom.DescribeQuery()"
   ]
  },
  {
   "cell_type": "code",
   "execution_count": 79,
   "id": "3b113eee",
   "metadata": {},
   "outputs": [
    {
     "data": {
      "text/plain": [
       "True"
      ]
     },
     "execution_count": 79,
     "metadata": {},
     "output_type": "execute_result"
    }
   ],
   "source": [
    "atom.Match(atom)"
   ]
  },
  {
   "cell_type": "code",
   "execution_count": 72,
   "id": "6318293b",
   "metadata": {},
   "outputs": [
    {
     "name": "stdout",
     "output_type": "stream",
     "text": [
      "SINGLE\n"
     ]
    }
   ],
   "source": [
    "bond = qmol.GetBonds()[0]\n",
    "print(bond.GetBondType())"
   ]
  },
  {
   "cell_type": "code",
   "execution_count": 81,
   "id": "07ff5bee",
   "metadata": {},
   "outputs": [
    {
     "data": {
      "text/plain": [
       "rdkit.Chem.rdchem.QueryAtom"
      ]
     },
     "execution_count": 81,
     "metadata": {},
     "output_type": "execute_result"
    }
   ],
   "source": [
    "type(atom)"
   ]
  },
  {
   "cell_type": "code",
   "execution_count": null,
   "id": "03cac532",
   "metadata": {},
   "outputs": [],
   "source": []
  }
 ],
 "metadata": {
  "kernelspec": {
   "display_name": "openff-dev",
   "language": "python",
   "name": "python3"
  },
  "language_info": {
   "codemirror_mode": {
    "name": "ipython",
    "version": 3
   },
   "file_extension": ".py",
   "mimetype": "text/x-python",
   "name": "python",
   "nbconvert_exporter": "python",
   "pygments_lexer": "ipython3",
   "version": "3.10.9"
  },
  "vscode": {
   "interpreter": {
    "hash": "1f2965d7f442f9c67ab5b19224bbf458e71d7719abe5def5b71eb159ed814c96"
   }
  }
 },
 "nbformat": 4,
 "nbformat_minor": 5
}
