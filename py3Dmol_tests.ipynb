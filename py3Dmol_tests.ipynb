{
 "cells": [
  {
   "cell_type": "code",
   "execution_count": 3,
   "id": "085cf6a8",
   "metadata": {},
   "outputs": [],
   "source": [
    "import py3Dmol\n",
    "from polymer_utils import ParsePolymer\n",
    "from rdkit import Chem\n",
    "from IPython.display import Javascript\n",
    "import IPython"
   ]
  },
  {
   "cell_type": "code",
   "execution_count": 5,
   "id": "5203d00b",
   "metadata": {
    "scrolled": true
   },
   "outputs": [
    {
     "name": "stdout",
     "output_type": "stream",
     "text": [
      "1.529 0.481 0.58 2.246 0.62 -0.547\n"
     ]
    },
    {
     "data": {
      "application/3dmoljs_load.v0": "<div id=\"3dmolviewer_16523442290492995\"  style=\"position: relative; width: 900px; height: 400px\">\n        <p id=\"3dmolwarning_16523442290492995\" style=\"background-color:#ffcccc;color:black\">You appear to be running in JupyterLab (or JavaScript failed to load for some other reason).  You need to install the 3dmol extension: <br>\n        <tt>jupyter labextension install jupyterlab_3dmol</tt></p>\n        </div>\n<script>\n\nvar loadScriptAsync = function(uri){\n  return new Promise((resolve, reject) => {\n    var tag = document.createElement('script');\n    tag.src = uri;\n    tag.async = true;\n    tag.onload = () => {\n      resolve();\n    };\n  var firstScriptTag = document.getElementsByTagName('script')[0];\n  firstScriptTag.parentNode.insertBefore(tag, firstScriptTag);\n});\n};\n\nif(typeof $3Dmolpromise === 'undefined') {\n$3Dmolpromise = null;\n  $3Dmolpromise = loadScriptAsync('https://3dmol.org/build/3Dmol.js');\n}\n\nvar viewer_16523442290492995 = null;\nvar warn = document.getElementById(\"3dmolwarning_16523442290492995\");\nif(warn) {\n    warn.parentNode.removeChild(warn);\n}\n$3Dmolpromise.then(function() {\nviewer_16523442290492995 = $3Dmol.createViewer($(\"#3dmolviewer_16523442290492995\"),{backgroundColor:\"white\"});\nviewer_16523442290492995.zoomTo();\n\tviewer_16523442290492995.addModel(\"ATOM      1 C01 AAA     1       3.595   1.320  -0.618  0.00  0.00           C  \\nATOM      2 H01 AAA     1       3.693   2.054   0.196  0.00  0.00           H  \\nATOM      3 H02 AAA     1       3.643   1.911  -1.553  0.00  0.00           H  \\nATOM      4 C02 AAA     1       2.246   0.620  -0.547  0.00  0.00           C  \\nATOM      5 C03 AAA     1       1.529   0.481   0.580  0.00  0.00           C  \\nATOM      6 H03 AAA     1       0.552  -0.013   0.512  0.00  0.00           H  \\nATOM      7 C04 AAA     1       1.909   0.909   1.976  0.00  0.00           C  \\nATOM      8 H04 AAA     1       2.944   1.266   2.056  0.00  0.00           H  \\nATOM      9 H05 AAA     1       1.809   0.058   2.671  0.00  0.00           H  \\nATOM     10 C05 AAA     1       1.742   0.060  -1.859  0.00  0.00           C  \\nATOM     11 H06 AAA     1       2.413  -0.729  -2.237  0.00  0.00           H  \\nATOM     12 H07 AAA     1       1.679   0.848  -2.629  0.00  0.00           H  \\nATOM     13 H08 AAA     1       0.740  -0.379  -1.756  0.00  0.00           H  \\nATOM     14 H09 AAA     1       1.246   1.716   2.328  0.00  0.00           H  \\nATOM     15 C06 AAA     1       6.885   1.120   1.599  0.00  0.00           C  \\nATOM     16 H10 AAA     1       5.824   1.056   1.884  0.00  0.00           H  \\nATOM     17 H11 AAA     1       7.288   1.986   2.158  0.00  0.00           H  \\nATOM     18 C07 AAA     1       7.015   1.387   0.106  0.00  0.00           C  \\nATOM     19 C08 AAA     1       6.077   1.055  -0.796  0.00  0.00           C  \\nATOM     20 H12 AAA     1       6.252   1.325  -1.843  0.00  0.00           H  \\nATOM     21 C09 AAA     1       4.769   0.332  -0.558  0.00  0.00           C  \\nATOM     22 H13 AAA     1       4.765  -0.191   0.410  0.00  0.00           H  \\nATOM     23 H14 AAA     1       4.665  -0.454  -1.327  0.00  0.00           H  \\nATOM     24 C10 AAA     1       8.290   2.072  -0.333  0.00  0.00           C  \\nATOM     25 H15 AAA     1       9.179   1.458  -0.115  0.00  0.00           H  \\nATOM     26 H16 AAA     1       8.415   3.037   0.184  0.00  0.00           H  \\nATOM     27 H17 AAA     1       8.287   2.277  -1.413  0.00  0.00           H  \\nATOM     28 C11 AAA     1       5.713  -2.106   3.584  0.00  0.00           C  \\nATOM     29 H18 AAA     1       5.404  -1.706   2.607  0.00  0.00           H  \\nATOM     30 H19 AAA     1       4.808  -2.066   4.219  0.00  0.00           H  \\nATOM     31 C12 AAA     1       6.778  -1.219   4.212  0.00  0.00           C  \\nATOM     32 C13 AAA     1       7.548  -0.363   3.519  0.00  0.00           C  \\nATOM     33 H20 AAA     1       8.240   0.278   4.077  0.00  0.00           H  \\nATOM     34 C14 AAA     1       7.604  -0.169   2.018  0.00  0.00           C  \\nATOM     35 H21 AAA     1       7.160  -1.023   1.486  0.00  0.00           H  \\nATOM     36 H22 AAA     1       8.666  -0.145   1.714  0.00  0.00           H  \\nATOM     37 C15 AAA     1       6.914  -1.334   5.716  0.00  0.00           C  \\nATOM     38 H23 AAA     1       7.197  -2.356   6.019  0.00  0.00           H  \\nATOM     39 H24 AAA     1       5.964  -1.082   6.218  0.00  0.00           H  \\nATOM     40 H25 AAA     1       7.685  -0.654   6.108  0.00  0.00           H  \\nATOM     41 C16 AAA     1       5.523  -4.846   0.608  0.00  0.00           C  \\nATOM     42 H26 AAA     1       6.093  -3.906   0.661  0.00  0.00           H  \\nATOM     43 H27 AAA     1       4.850  -4.734  -0.262  0.00  0.00           H  \\nATOM     44 C17 AAA     1       4.689  -5.018   1.871  0.00  0.00           C  \\nATOM     45 C18 AAA     1       4.986  -4.434   3.044  0.00  0.00           C  \\nATOM     46 H28 AAA     1       4.310  -4.604   3.887  0.00  0.00           H  \\nATOM     47 C19 AAA     1       6.169  -3.561   3.402  0.00  0.00           C  \\nATOM     48 H29 AAA     1       6.964  -3.606   2.644  0.00  0.00           H  \\nATOM     49 H30 AAA     1       6.615  -3.959   4.331  0.00  0.00           H  \\nATOM     50 C20 AAA     1       3.474  -5.916   1.748  0.00  0.00           C  \\nATOM     51 H31 AAA     1       3.752  -6.935   1.428  0.00  0.00           H  \\nATOM     52 H32 AAA     1       2.756  -5.516   1.012  0.00  0.00           H  \\nATOM     53 H33 AAA     1       2.939  -6.012   2.705  0.00  0.00           H  \\nATOM     54 C21 AAA     1       9.252  -4.614   0.248  0.00  0.00           C  \\nATOM     55 H34 AAA     1       8.538  -4.469   1.071  0.00  0.00           H  \\nATOM     56 H35 AAA     1       9.571  -3.597  -0.043  0.00  0.00           H  \\nATOM     57 C22 AAA     1       8.555  -5.280  -0.930  0.00  0.00           C  \\nATOM     58 C23 AAA     1       7.342  -5.856  -0.843  0.00  0.00           C  \\nATOM     59 H36 AAA     1       6.912  -6.299  -1.747  0.00  0.00           H  \\nATOM     60 C24 AAA     1       6.481  -6.023   0.397  0.00  0.00           C  \\nATOM     61 H37 AAA     1       7.112  -6.147   1.288  0.00  0.00           H  \\nATOM     62 H38 AAA     1       5.918  -6.969   0.297  0.00  0.00           H  \\nATOM     63 C25 AAA     1       9.301  -5.261  -2.250  0.00  0.00           C  \\nATOM     64 H39 AAA     1      10.222  -5.866  -2.205  0.00  0.00           H  \\nATOM     65 H40 AAA     1       9.582  -4.231  -2.526  0.00  0.00           H  \\nATOM     66 H41 AAA     1       8.682  -5.659  -3.067  0.00  0.00           H  \\nATOM     67 C26 AAA     1       9.538  -6.330   3.559  0.00  0.00           C  \\nATOM     68 H42 AAA     1       8.810  -6.306   2.737  0.00  0.00           H  \\nATOM     69 H43 AAA     1       8.967  -6.043   4.462  0.00  0.00           H  \\nATOM     70 C27 AAA     1      10.624  -5.293   3.303  0.00  0.00           C  \\nATOM     71 C28 AAA     1      10.984  -4.896   2.069  0.00  0.00           C  \\nATOM     72 H44 AAA     1      11.749  -4.119   1.970  0.00  0.00           H  \\nATOM     73 C29 AAA     1      10.444  -5.436   0.755  0.00  0.00           C  \\nATOM     74 H45 AAA     1      10.139  -6.486   0.877  0.00  0.00           H  \\nATOM     75 H46 AAA     1      11.262  -5.447   0.011  0.00  0.00           H  \\nATOM     76 C30 AAA     1      11.268  -4.711   4.540  0.00  0.00           C  \\nATOM     77 H47 AAA     1      11.699  -5.500   5.180  0.00  0.00           H  \\nATOM     78 H48 AAA     1      10.528  -4.155   5.141  0.00  0.00           H  \\nATOM     79 H49 AAA     1      12.077  -4.012   4.287  0.00  0.00           H  \\nATOM     80 C31 AAA     1       8.477  -9.348   1.546  0.00  0.00           C  \\nATOM     81 H50 AAA     1       9.108  -8.482   1.303  0.00  0.00           H  \\nATOM     82 H51 AAA     1       7.507  -9.146   1.055  0.00  0.00           H  \\nATOM     83 C32 AAA     1       8.249  -9.433   3.046  0.00  0.00           C  \\nATOM     84 C33 AAA     1       8.945  -8.728   3.957  0.00  0.00           C  \\nATOM     85 H52 AAA     1       8.667  -8.832   5.012  0.00  0.00           H  \\nATOM     86 C34 AAA     1      10.083  -7.756   3.706  0.00  0.00           C  \\nATOM     87 H53 AAA     1      10.649  -8.041   2.807  0.00  0.00           H  \\nATOM     88 H54 AAA     1      10.796  -7.821   4.548  0.00  0.00           H  \\nATOM     89 C35 AAA     1       7.121 -10.340   3.487  0.00  0.00           C  \\nATOM     90 H55 AAA     1       7.314 -11.391   3.217  0.00  0.00           H  \\nATOM     91 H56 AAA     1       6.168 -10.038   3.021  0.00  0.00           H  \\nATOM     92 H57 AAA     1       6.977 -10.300   4.576  0.00  0.00           H  \\nATOM     93 C36 AAA     1      11.605  -9.624  -0.704  0.00  0.00           C  \\nATOM     94 H58 AAA     1      12.430 -10.289  -1.005  0.00  0.00           H  \\nATOM     95 H59 AAA     1      11.589  -9.577   0.392  0.00  0.00           H  \\nATOM     96 H60 AAA     1      11.835  -8.605  -1.061  0.00  0.00           H  \\nATOM     97 C37 AAA     1      10.291 -10.096  -1.286  0.00  0.00           C  \\nATOM     98 C38 AAA     1       9.236 -10.493  -0.555  0.00  0.00           C  \\nATOM     99 H61 AAA     1       8.323 -10.777  -1.089  0.00  0.00           H  \\nATOM    100 C39 AAA     1       9.128 -10.607   0.954  0.00  0.00           C  \\nATOM    101 H62 AAA     1      10.114 -10.769   1.415  0.00  0.00           H  \\nATOM    102 H63 AAA     1       8.534 -11.510   1.185  0.00  0.00           H  \\nATOM    103 C40 AAA     1      10.227 -10.058  -2.797  0.00  0.00           C  \\nATOM    104 H64 AAA     1      11.032 -10.661  -3.249  0.00  0.00           H  \\nATOM    105 H65 AAA     1      10.330  -9.022  -3.162  0.00  0.00           H  \\nATOM    106 H66 AAA     1       9.270 -10.446  -3.174  0.00  0.00           H  \\nCONECT    1    2    3    4   21\\nCONECT    4    5   10\\nCONECT    5    6    7\\nCONECT    7    8    9   14\\nCONECT   10   11   12   13\\nCONECT   15   16   17   18   34\\nCONECT   18   19   24\\nCONECT   19   20   21\\nCONECT   21   22   23\\nCONECT   24   25   26   27\\nCONECT   28   29   30   31   47\\nCONECT   31   32   37\\nCONECT   32   33   34\\nCONECT   34   35   36\\nCONECT   37   38   39   40\\nCONECT   41   42   43   44   60\\nCONECT   44   45   50\\nCONECT   45   46   47\\nCONECT   47   48   49\\nCONECT   50   51   52   53\\nCONECT   54   55   56   57   73\\nCONECT   57   58   63\\nCONECT   58   59   60\\nCONECT   60   61   62\\nCONECT   63   64   65   66\\nCONECT   67   68   69   70   86\\nCONECT   70   71   76\\nCONECT   71   72   73\\nCONECT   73   74   75\\nCONECT   76   77   78   79\\nCONECT   80   81   82   83  100\\nCONECT   83   84   89\\nCONECT   84   85   86\\nCONECT   86   87   88\\nCONECT   89   90   91   92\\nCONECT   93   94   95   96   97\\nCONECT   97   98  103\\nCONECT   98   99  100\\nCONECT  100  101  102\\nCONECT  103  104  105  106\\nEND\\n\",\"pdb\",{\"keepH\": true});\n\tviewer_16523442290492995.setStyle({\"model\": -1},{\"stick\": {}});\n\tviewer_16523442290492995.setClickable({},true,\"function(atom,viewer,event,container) {\\n                   if(!atom.label) {\\n                        atom.label = viewer.addLabel(atom.atom+\\\":\\\"+atom.serial,{position: atom, backgroundColor: 'mintcream', fontColor:'black', backgroundOpacity: \\\"0.3\\\"});\\n                        console.log(Object.getOwnPropertyNames(atom))\\n                        console.log(atom.serial)\\n                        viewer.setStyle({\\\"serial\\\": atom.serial}, {\\\"stick\\\": {\\\"color\\\": 0xFF0000}})\\n                        \\n                        atom_data = document.getElementById(\\\"atoms_of_class_1652344146974\\\");\\n                        var a = atom_data.dataset.atoms;\\n                        var s = atom_data.dataset.atoms_serial;\\n\\n                        var arr = a.split(',');\\n                        arr.push(atom.resi.toString() + atom.atom);\\n                        atom_data.dataset.atoms = arr;\\n\\n                        var arr_s = s.split(',');\\n                        arr_s.push(atom.serial);\\n                        atom_data.dataset.atoms_serial = arr_s;\\n                   }\\n                   else {\\n                        viewer.removeLabel(atom.label);\\n                        delete atom.label;\\n                        viewer.setStyle({\\\"serial\\\": atom.serial}, {\\\"stick\\\": {\\\"colorscheme\\\": \\\"default\\\"}})\\n                        \\n                        atom_data = document.getElementById(\\\"atoms_of_class_1652344146974\\\");\\n                        var a = atom_data.dataset.atoms;\\n                        var s = atom_data.dataset.atoms_serial;\\n                        var arr = a.split(',');\\n                        var arr_s = s.split(',');\\n                        \\n                        var atom_str = atom.resi.toString() + atom.atom;\\n                        arr = arr.filter(function(item) {\\n                            return item !== atom_str\\n                        })\\n                        atom_data.dataset.atoms = arr;\\n\\n                        arr_s = arr_s.filter(function(item) {\\n                            return Number(item) !== atom.serial\\n                        })\\n                        atom_data.dataset.atoms_serial = arr_s;\\n                   }\\n                   viewer.render();}\");\n\tviewer_16523442290492995.setClickable({},true,\"function(atom,viewer,event,container) {\\n                        var atom_data = document.getElementById(\\\"atoms_of_class_1652344146974\\\");\\n                        var s = atom_data.dataset.atoms_serial;\\n                        var arr_s = s.split(',');\\n                        arr_s = arr_s.filter(function(item) {\\n                            return Number(item) == atom.serial\\n                        })\\n                        if (!!arr_s.length) \\n                        {\\n                            if(atom.color == 0xFFFF00) {\\n                                    viewer.setStyle({\\\"serial\\\": atom.serial}, {\\\"stick\\\": {\\\"color\\\": 0xFF0000}});\\n                                    atom.color = 0xFF0000;\\n\\n                                    var a = atom_data.dataset.double_bonds;\\n                                    var arr = a.split(',');\\n                                    \\n                                    var atom_str = atom.resi.toString() + atom.atom + \\\":\\\" + atom.serial + \\\":\\\" + atom.x + \\\":\\\" + atom.y + \\\":\\\" + atom.z;\\n                                    arr = arr.filter(function(item) {\\n                                        return item !== atom_str;\\n                                    })\\n                                    atom_data.dataset.double_bonds = arr;\\n                            }\\n                            else {\\n                                    viewer.setStyle({\\\"serial\\\": atom.serial}, {\\\"stick\\\": {\\\"color\\\": 0xFFFF00}});\\n                                    atom.color = 0xFFFF00;\\n\\n                                    var a = atom_data.dataset.double_bonds;\\n                                    var arr = a.split(',');\\n                                    arr.push(atom.resi.toString() + atom.atom + \\\":\\\" + atom.serial + \\\":\\\" + atom.x + \\\":\\\" + atom.y + \\\":\\\" + atom.z);\\n                                    atom_data.dataset.double_bonds = arr;      \\n                            }\\n                        }\\n                        viewer.render();}\");\n\tviewer_16523442290492995.setStyle({\"serial\": 9},{\"stick\": {\"color\": 16711680}});\n\tviewer_16523442290492995.addLabel(\"H05:9\",{\"backgroundColor\": \"mintcream\", \"fontColor\": \"black\", \"backgroundOpacity\": 0.3},{\"serial\": 9});\n\tviewer_16523442290492995.setStyle({\"serial\": 8},{\"stick\": {\"color\": 16711680}});\n\tviewer_16523442290492995.addLabel(\"H04:8\",{\"backgroundColor\": \"mintcream\", \"fontColor\": \"black\", \"backgroundOpacity\": 0.3},{\"serial\": 8});\n\tviewer_16523442290492995.setStyle({\"serial\": 14},{\"stick\": {\"color\": 16711680}});\n\tviewer_16523442290492995.addLabel(\"H09:14\",{\"backgroundColor\": \"mintcream\", \"fontColor\": \"black\", \"backgroundOpacity\": 0.3},{\"serial\": 14});\n\tviewer_16523442290492995.setStyle({\"serial\": 7},{\"stick\": {\"color\": 16711680}});\n\tviewer_16523442290492995.addLabel(\"C04:7\",{\"backgroundColor\": \"mintcream\", \"fontColor\": \"black\", \"backgroundOpacity\": 0.3},{\"serial\": 7});\n\tviewer_16523442290492995.setStyle({\"serial\": 6},{\"stick\": {\"color\": 16711680}});\n\tviewer_16523442290492995.addLabel(\"H03:6\",{\"backgroundColor\": \"mintcream\", \"fontColor\": \"black\", \"backgroundOpacity\": 0.3},{\"serial\": 6});\n\tviewer_16523442290492995.setStyle({\"serial\": 5},{\"stick\": {\"color\": 16711680}});\n\tviewer_16523442290492995.addLabel(\"C03:5\",{\"backgroundColor\": \"mintcream\", \"fontColor\": \"black\", \"backgroundOpacity\": 0.3},{\"serial\": 5});\n\tviewer_16523442290492995.setStyle({\"serial\": 4},{\"stick\": {\"color\": 16711680}});\n\tviewer_16523442290492995.addLabel(\"C02:4\",{\"backgroundColor\": \"mintcream\", \"fontColor\": \"black\", \"backgroundOpacity\": 0.3},{\"serial\": 4});\n\tviewer_16523442290492995.setStyle({\"serial\": 13},{\"stick\": {\"color\": 16711680}});\n\tviewer_16523442290492995.addLabel(\"H08:13\",{\"backgroundColor\": \"mintcream\", \"fontColor\": \"black\", \"backgroundOpacity\": 0.3},{\"serial\": 13});\n\tviewer_16523442290492995.setStyle({\"serial\": 11},{\"stick\": {\"color\": 16711680}});\n\tviewer_16523442290492995.addLabel(\"H06:11\",{\"backgroundColor\": \"mintcream\", \"fontColor\": \"black\", \"backgroundOpacity\": 0.3},{\"serial\": 11});\n\tviewer_16523442290492995.setStyle({\"serial\": 12},{\"stick\": {\"color\": 16711680}});\n\tviewer_16523442290492995.addLabel(\"H07:12\",{\"backgroundColor\": \"mintcream\", \"fontColor\": \"black\", \"backgroundOpacity\": 0.3},{\"serial\": 12});\n\tviewer_16523442290492995.setStyle({\"serial\": 10},{\"stick\": {\"color\": 16711680}});\n\tviewer_16523442290492995.addLabel(\"C05:10\",{\"backgroundColor\": \"mintcream\", \"fontColor\": \"black\", \"backgroundOpacity\": 0.3},{\"serial\": 10});\n\tviewer_16523442290492995.setStyle({\"serial\": 1},{\"stick\": {\"color\": 16711680}});\n\tviewer_16523442290492995.addLabel(\"C01:1\",{\"backgroundColor\": \"mintcream\", \"fontColor\": \"black\", \"backgroundOpacity\": 0.3},{\"serial\": 1});\n\tviewer_16523442290492995.setStyle({\"serial\": 2},{\"stick\": {\"color\": 16711680}});\n\tviewer_16523442290492995.addLabel(\"H01:2\",{\"backgroundColor\": \"mintcream\", \"fontColor\": \"black\", \"backgroundOpacity\": 0.3},{\"serial\": 2});\n\tviewer_16523442290492995.setStyle({\"serial\": 3},{\"stick\": {\"color\": 16711680}});\n\tviewer_16523442290492995.addLabel(\"H02:3\",{\"backgroundColor\": \"mintcream\", \"fontColor\": \"black\", \"backgroundOpacity\": 0.3},{\"serial\": 3});\n\tviewer_16523442290492995.setClickable({},true,\"function(atom,viewer,event,container) {\\n                   if(!atom.label) {\\n                        atom.label = viewer.addLabel(atom.atom+\\\":\\\"+atom.serial,{position: atom, backgroundColor: 'mintcream', fontColor:'black', backgroundOpacity: \\\"0.3\\\"});\\n                        console.log(Object.getOwnPropertyNames(atom))\\n                        console.log(atom.serial)\\n                        viewer.setStyle({\\\"serial\\\": atom.serial}, {\\\"stick\\\": {\\\"color\\\": 0xFF0000}})\\n                        \\n                        atom_data = document.getElementById(\\\"atoms_of_class_1652344146974\\\");\\n                        var a = atom_data.dataset.atoms;\\n                        var s = atom_data.dataset.atoms_serial;\\n\\n                        var arr = a.split(',');\\n                        arr.push(atom.resi.toString() + atom.atom);\\n                        atom_data.dataset.atoms = arr;\\n\\n                        var arr_s = s.split(',');\\n                        arr_s.push(atom.serial);\\n                        atom_data.dataset.atoms_serial = arr_s;\\n                   }\\n                   else {\\n                        viewer.removeLabel(atom.label);\\n                        delete atom.label;\\n                        viewer.setStyle({\\\"serial\\\": atom.serial}, {\\\"stick\\\": {\\\"colorscheme\\\": \\\"default\\\"}})\\n                        \\n                        atom_data = document.getElementById(\\\"atoms_of_class_1652344146974\\\");\\n                        var a = atom_data.dataset.atoms;\\n                        var s = atom_data.dataset.atoms_serial;\\n                        var arr = a.split(',');\\n                        var arr_s = s.split(',');\\n                        \\n                        var atom_str = atom.resi.toString() + atom.atom;\\n                        arr = arr.filter(function(item) {\\n                            return item !== atom_str\\n                        })\\n                        atom_data.dataset.atoms = arr;\\n\\n                        arr_s = arr_s.filter(function(item) {\\n                            return Number(item) !== atom.serial\\n                        })\\n                        atom_data.dataset.atoms_serial = arr_s;\\n                   }\\n                   viewer.render();}\");\n\tviewer_16523442290492995.setStyle({\"serial\": 9},{\"stick\": {\"color\": 16711680}});\n\tviewer_16523442290492995.addLabel(\"H05:9\",{\"backgroundColor\": \"mintcream\", \"fontColor\": \"black\", \"backgroundOpacity\": 0.3},{\"serial\": 9});\n\tviewer_16523442290492995.setStyle({\"serial\": 8},{\"stick\": {\"color\": 16711680}});\n\tviewer_16523442290492995.addLabel(\"H04:8\",{\"backgroundColor\": \"mintcream\", \"fontColor\": \"black\", \"backgroundOpacity\": 0.3},{\"serial\": 8});\n\tviewer_16523442290492995.setStyle({\"serial\": 14},{\"stick\": {\"color\": 16711680}});\n\tviewer_16523442290492995.addLabel(\"H09:14\",{\"backgroundColor\": \"mintcream\", \"fontColor\": \"black\", \"backgroundOpacity\": 0.3},{\"serial\": 14});\n\tviewer_16523442290492995.setStyle({\"serial\": 7},{\"stick\": {\"color\": 16711680}});\n\tviewer_16523442290492995.addLabel(\"C04:7\",{\"backgroundColor\": \"mintcream\", \"fontColor\": \"black\", \"backgroundOpacity\": 0.3},{\"serial\": 7});\n\tviewer_16523442290492995.setStyle({\"serial\": 6},{\"stick\": {\"color\": 16711680}});\n\tviewer_16523442290492995.addLabel(\"H03:6\",{\"backgroundColor\": \"mintcream\", \"fontColor\": \"black\", \"backgroundOpacity\": 0.3},{\"serial\": 6});\n\tviewer_16523442290492995.setStyle({\"serial\": 5},{\"stick\": {\"color\": 16711680}});\n\tviewer_16523442290492995.addLabel(\"C03:5\",{\"backgroundColor\": \"mintcream\", \"fontColor\": \"black\", \"backgroundOpacity\": 0.3},{\"serial\": 5});\n\tviewer_16523442290492995.setStyle({\"serial\": 4},{\"stick\": {\"color\": 16711680}});\n\tviewer_16523442290492995.addLabel(\"C02:4\",{\"backgroundColor\": \"mintcream\", \"fontColor\": \"black\", \"backgroundOpacity\": 0.3},{\"serial\": 4});\n\tviewer_16523442290492995.setStyle({\"serial\": 13},{\"stick\": {\"color\": 16711680}});\n\tviewer_16523442290492995.addLabel(\"H08:13\",{\"backgroundColor\": \"mintcream\", \"fontColor\": \"black\", \"backgroundOpacity\": 0.3},{\"serial\": 13});\n\tviewer_16523442290492995.setStyle({\"serial\": 11},{\"stick\": {\"color\": 16711680}});\n\tviewer_16523442290492995.addLabel(\"H06:11\",{\"backgroundColor\": \"mintcream\", \"fontColor\": \"black\", \"backgroundOpacity\": 0.3},{\"serial\": 11});\n\tviewer_16523442290492995.setStyle({\"serial\": 12},{\"stick\": {\"color\": 16711680}});\n\tviewer_16523442290492995.addLabel(\"H07:12\",{\"backgroundColor\": \"mintcream\", \"fontColor\": \"black\", \"backgroundOpacity\": 0.3},{\"serial\": 12});\n\tviewer_16523442290492995.setStyle({\"serial\": 10},{\"stick\": {\"color\": 16711680}});\n\tviewer_16523442290492995.addLabel(\"C05:10\",{\"backgroundColor\": \"mintcream\", \"fontColor\": \"black\", \"backgroundOpacity\": 0.3},{\"serial\": 10});\n\tviewer_16523442290492995.setStyle({\"serial\": 1},{\"stick\": {\"color\": 16711680}});\n\tviewer_16523442290492995.addLabel(\"C01:1\",{\"backgroundColor\": \"mintcream\", \"fontColor\": \"black\", \"backgroundOpacity\": 0.3},{\"serial\": 1});\n\tviewer_16523442290492995.setStyle({\"serial\": 2},{\"stick\": {\"color\": 16711680}});\n\tviewer_16523442290492995.addLabel(\"H01:2\",{\"backgroundColor\": \"mintcream\", \"fontColor\": \"black\", \"backgroundOpacity\": 0.3},{\"serial\": 2});\n\tviewer_16523442290492995.setStyle({\"serial\": 3},{\"stick\": {\"color\": 16711680}});\n\tviewer_16523442290492995.addLabel(\"H02:3\",{\"backgroundColor\": \"mintcream\", \"fontColor\": \"black\", \"backgroundOpacity\": 0.3},{\"serial\": 3});\n\tviewer_16523442290492995.addCylinder({\"start\": {\"x\": 1.529, \"y\": 0.481, \"z\": 0.58}, \"end\": {\"x\": 2.246, \"y\": 0.62, \"z\": -0.547}, \"radius\": 0.35, \"fromCap\": 0, \"toCap\": 0, \"dashed\": true, \"opacity\": \"0.6\"});\nviewer_16523442290492995.render();\n});\n</script>",
      "text/html": [
       "<div id=\"3dmolviewer_16523442290492995\"  style=\"position: relative; width: 900px; height: 400px\">\n",
       "        <p id=\"3dmolwarning_16523442290492995\" style=\"background-color:#ffcccc;color:black\">You appear to be running in JupyterLab (or JavaScript failed to load for some other reason).  You need to install the 3dmol extension: <br>\n",
       "        <tt>jupyter labextension install jupyterlab_3dmol</tt></p>\n",
       "        </div>\n",
       "<script>\n",
       "\n",
       "var loadScriptAsync = function(uri){\n",
       "  return new Promise((resolve, reject) => {\n",
       "    var tag = document.createElement('script');\n",
       "    tag.src = uri;\n",
       "    tag.async = true;\n",
       "    tag.onload = () => {\n",
       "      resolve();\n",
       "    };\n",
       "  var firstScriptTag = document.getElementsByTagName('script')[0];\n",
       "  firstScriptTag.parentNode.insertBefore(tag, firstScriptTag);\n",
       "});\n",
       "};\n",
       "\n",
       "if(typeof $3Dmolpromise === 'undefined') {\n",
       "$3Dmolpromise = null;\n",
       "  $3Dmolpromise = loadScriptAsync('https://3dmol.org/build/3Dmol.js');\n",
       "}\n",
       "\n",
       "var viewer_16523442290492995 = null;\n",
       "var warn = document.getElementById(\"3dmolwarning_16523442290492995\");\n",
       "if(warn) {\n",
       "    warn.parentNode.removeChild(warn);\n",
       "}\n",
       "$3Dmolpromise.then(function() {\n",
       "viewer_16523442290492995 = $3Dmol.createViewer($(\"#3dmolviewer_16523442290492995\"),{backgroundColor:\"white\"});\n",
       "viewer_16523442290492995.zoomTo();\n",
       "\tviewer_16523442290492995.addModel(\"ATOM      1 C01 AAA     1       3.595   1.320  -0.618  0.00  0.00           C  \\nATOM      2 H01 AAA     1       3.693   2.054   0.196  0.00  0.00           H  \\nATOM      3 H02 AAA     1       3.643   1.911  -1.553  0.00  0.00           H  \\nATOM      4 C02 AAA     1       2.246   0.620  -0.547  0.00  0.00           C  \\nATOM      5 C03 AAA     1       1.529   0.481   0.580  0.00  0.00           C  \\nATOM      6 H03 AAA     1       0.552  -0.013   0.512  0.00  0.00           H  \\nATOM      7 C04 AAA     1       1.909   0.909   1.976  0.00  0.00           C  \\nATOM      8 H04 AAA     1       2.944   1.266   2.056  0.00  0.00           H  \\nATOM      9 H05 AAA     1       1.809   0.058   2.671  0.00  0.00           H  \\nATOM     10 C05 AAA     1       1.742   0.060  -1.859  0.00  0.00           C  \\nATOM     11 H06 AAA     1       2.413  -0.729  -2.237  0.00  0.00           H  \\nATOM     12 H07 AAA     1       1.679   0.848  -2.629  0.00  0.00           H  \\nATOM     13 H08 AAA     1       0.740  -0.379  -1.756  0.00  0.00           H  \\nATOM     14 H09 AAA     1       1.246   1.716   2.328  0.00  0.00           H  \\nATOM     15 C06 AAA     1       6.885   1.120   1.599  0.00  0.00           C  \\nATOM     16 H10 AAA     1       5.824   1.056   1.884  0.00  0.00           H  \\nATOM     17 H11 AAA     1       7.288   1.986   2.158  0.00  0.00           H  \\nATOM     18 C07 AAA     1       7.015   1.387   0.106  0.00  0.00           C  \\nATOM     19 C08 AAA     1       6.077   1.055  -0.796  0.00  0.00           C  \\nATOM     20 H12 AAA     1       6.252   1.325  -1.843  0.00  0.00           H  \\nATOM     21 C09 AAA     1       4.769   0.332  -0.558  0.00  0.00           C  \\nATOM     22 H13 AAA     1       4.765  -0.191   0.410  0.00  0.00           H  \\nATOM     23 H14 AAA     1       4.665  -0.454  -1.327  0.00  0.00           H  \\nATOM     24 C10 AAA     1       8.290   2.072  -0.333  0.00  0.00           C  \\nATOM     25 H15 AAA     1       9.179   1.458  -0.115  0.00  0.00           H  \\nATOM     26 H16 AAA     1       8.415   3.037   0.184  0.00  0.00           H  \\nATOM     27 H17 AAA     1       8.287   2.277  -1.413  0.00  0.00           H  \\nATOM     28 C11 AAA     1       5.713  -2.106   3.584  0.00  0.00           C  \\nATOM     29 H18 AAA     1       5.404  -1.706   2.607  0.00  0.00           H  \\nATOM     30 H19 AAA     1       4.808  -2.066   4.219  0.00  0.00           H  \\nATOM     31 C12 AAA     1       6.778  -1.219   4.212  0.00  0.00           C  \\nATOM     32 C13 AAA     1       7.548  -0.363   3.519  0.00  0.00           C  \\nATOM     33 H20 AAA     1       8.240   0.278   4.077  0.00  0.00           H  \\nATOM     34 C14 AAA     1       7.604  -0.169   2.018  0.00  0.00           C  \\nATOM     35 H21 AAA     1       7.160  -1.023   1.486  0.00  0.00           H  \\nATOM     36 H22 AAA     1       8.666  -0.145   1.714  0.00  0.00           H  \\nATOM     37 C15 AAA     1       6.914  -1.334   5.716  0.00  0.00           C  \\nATOM     38 H23 AAA     1       7.197  -2.356   6.019  0.00  0.00           H  \\nATOM     39 H24 AAA     1       5.964  -1.082   6.218  0.00  0.00           H  \\nATOM     40 H25 AAA     1       7.685  -0.654   6.108  0.00  0.00           H  \\nATOM     41 C16 AAA     1       5.523  -4.846   0.608  0.00  0.00           C  \\nATOM     42 H26 AAA     1       6.093  -3.906   0.661  0.00  0.00           H  \\nATOM     43 H27 AAA     1       4.850  -4.734  -0.262  0.00  0.00           H  \\nATOM     44 C17 AAA     1       4.689  -5.018   1.871  0.00  0.00           C  \\nATOM     45 C18 AAA     1       4.986  -4.434   3.044  0.00  0.00           C  \\nATOM     46 H28 AAA     1       4.310  -4.604   3.887  0.00  0.00           H  \\nATOM     47 C19 AAA     1       6.169  -3.561   3.402  0.00  0.00           C  \\nATOM     48 H29 AAA     1       6.964  -3.606   2.644  0.00  0.00           H  \\nATOM     49 H30 AAA     1       6.615  -3.959   4.331  0.00  0.00           H  \\nATOM     50 C20 AAA     1       3.474  -5.916   1.748  0.00  0.00           C  \\nATOM     51 H31 AAA     1       3.752  -6.935   1.428  0.00  0.00           H  \\nATOM     52 H32 AAA     1       2.756  -5.516   1.012  0.00  0.00           H  \\nATOM     53 H33 AAA     1       2.939  -6.012   2.705  0.00  0.00           H  \\nATOM     54 C21 AAA     1       9.252  -4.614   0.248  0.00  0.00           C  \\nATOM     55 H34 AAA     1       8.538  -4.469   1.071  0.00  0.00           H  \\nATOM     56 H35 AAA     1       9.571  -3.597  -0.043  0.00  0.00           H  \\nATOM     57 C22 AAA     1       8.555  -5.280  -0.930  0.00  0.00           C  \\nATOM     58 C23 AAA     1       7.342  -5.856  -0.843  0.00  0.00           C  \\nATOM     59 H36 AAA     1       6.912  -6.299  -1.747  0.00  0.00           H  \\nATOM     60 C24 AAA     1       6.481  -6.023   0.397  0.00  0.00           C  \\nATOM     61 H37 AAA     1       7.112  -6.147   1.288  0.00  0.00           H  \\nATOM     62 H38 AAA     1       5.918  -6.969   0.297  0.00  0.00           H  \\nATOM     63 C25 AAA     1       9.301  -5.261  -2.250  0.00  0.00           C  \\nATOM     64 H39 AAA     1      10.222  -5.866  -2.205  0.00  0.00           H  \\nATOM     65 H40 AAA     1       9.582  -4.231  -2.526  0.00  0.00           H  \\nATOM     66 H41 AAA     1       8.682  -5.659  -3.067  0.00  0.00           H  \\nATOM     67 C26 AAA     1       9.538  -6.330   3.559  0.00  0.00           C  \\nATOM     68 H42 AAA     1       8.810  -6.306   2.737  0.00  0.00           H  \\nATOM     69 H43 AAA     1       8.967  -6.043   4.462  0.00  0.00           H  \\nATOM     70 C27 AAA     1      10.624  -5.293   3.303  0.00  0.00           C  \\nATOM     71 C28 AAA     1      10.984  -4.896   2.069  0.00  0.00           C  \\nATOM     72 H44 AAA     1      11.749  -4.119   1.970  0.00  0.00           H  \\nATOM     73 C29 AAA     1      10.444  -5.436   0.755  0.00  0.00           C  \\nATOM     74 H45 AAA     1      10.139  -6.486   0.877  0.00  0.00           H  \\nATOM     75 H46 AAA     1      11.262  -5.447   0.011  0.00  0.00           H  \\nATOM     76 C30 AAA     1      11.268  -4.711   4.540  0.00  0.00           C  \\nATOM     77 H47 AAA     1      11.699  -5.500   5.180  0.00  0.00           H  \\nATOM     78 H48 AAA     1      10.528  -4.155   5.141  0.00  0.00           H  \\nATOM     79 H49 AAA     1      12.077  -4.012   4.287  0.00  0.00           H  \\nATOM     80 C31 AAA     1       8.477  -9.348   1.546  0.00  0.00           C  \\nATOM     81 H50 AAA     1       9.108  -8.482   1.303  0.00  0.00           H  \\nATOM     82 H51 AAA     1       7.507  -9.146   1.055  0.00  0.00           H  \\nATOM     83 C32 AAA     1       8.249  -9.433   3.046  0.00  0.00           C  \\nATOM     84 C33 AAA     1       8.945  -8.728   3.957  0.00  0.00           C  \\nATOM     85 H52 AAA     1       8.667  -8.832   5.012  0.00  0.00           H  \\nATOM     86 C34 AAA     1      10.083  -7.756   3.706  0.00  0.00           C  \\nATOM     87 H53 AAA     1      10.649  -8.041   2.807  0.00  0.00           H  \\nATOM     88 H54 AAA     1      10.796  -7.821   4.548  0.00  0.00           H  \\nATOM     89 C35 AAA     1       7.121 -10.340   3.487  0.00  0.00           C  \\nATOM     90 H55 AAA     1       7.314 -11.391   3.217  0.00  0.00           H  \\nATOM     91 H56 AAA     1       6.168 -10.038   3.021  0.00  0.00           H  \\nATOM     92 H57 AAA     1       6.977 -10.300   4.576  0.00  0.00           H  \\nATOM     93 C36 AAA     1      11.605  -9.624  -0.704  0.00  0.00           C  \\nATOM     94 H58 AAA     1      12.430 -10.289  -1.005  0.00  0.00           H  \\nATOM     95 H59 AAA     1      11.589  -9.577   0.392  0.00  0.00           H  \\nATOM     96 H60 AAA     1      11.835  -8.605  -1.061  0.00  0.00           H  \\nATOM     97 C37 AAA     1      10.291 -10.096  -1.286  0.00  0.00           C  \\nATOM     98 C38 AAA     1       9.236 -10.493  -0.555  0.00  0.00           C  \\nATOM     99 H61 AAA     1       8.323 -10.777  -1.089  0.00  0.00           H  \\nATOM    100 C39 AAA     1       9.128 -10.607   0.954  0.00  0.00           C  \\nATOM    101 H62 AAA     1      10.114 -10.769   1.415  0.00  0.00           H  \\nATOM    102 H63 AAA     1       8.534 -11.510   1.185  0.00  0.00           H  \\nATOM    103 C40 AAA     1      10.227 -10.058  -2.797  0.00  0.00           C  \\nATOM    104 H64 AAA     1      11.032 -10.661  -3.249  0.00  0.00           H  \\nATOM    105 H65 AAA     1      10.330  -9.022  -3.162  0.00  0.00           H  \\nATOM    106 H66 AAA     1       9.270 -10.446  -3.174  0.00  0.00           H  \\nCONECT    1    2    3    4   21\\nCONECT    4    5   10\\nCONECT    5    6    7\\nCONECT    7    8    9   14\\nCONECT   10   11   12   13\\nCONECT   15   16   17   18   34\\nCONECT   18   19   24\\nCONECT   19   20   21\\nCONECT   21   22   23\\nCONECT   24   25   26   27\\nCONECT   28   29   30   31   47\\nCONECT   31   32   37\\nCONECT   32   33   34\\nCONECT   34   35   36\\nCONECT   37   38   39   40\\nCONECT   41   42   43   44   60\\nCONECT   44   45   50\\nCONECT   45   46   47\\nCONECT   47   48   49\\nCONECT   50   51   52   53\\nCONECT   54   55   56   57   73\\nCONECT   57   58   63\\nCONECT   58   59   60\\nCONECT   60   61   62\\nCONECT   63   64   65   66\\nCONECT   67   68   69   70   86\\nCONECT   70   71   76\\nCONECT   71   72   73\\nCONECT   73   74   75\\nCONECT   76   77   78   79\\nCONECT   80   81   82   83  100\\nCONECT   83   84   89\\nCONECT   84   85   86\\nCONECT   86   87   88\\nCONECT   89   90   91   92\\nCONECT   93   94   95   96   97\\nCONECT   97   98  103\\nCONECT   98   99  100\\nCONECT  100  101  102\\nCONECT  103  104  105  106\\nEND\\n\",\"pdb\",{\"keepH\": true});\n",
       "\tviewer_16523442290492995.setStyle({\"model\": -1},{\"stick\": {}});\n",
       "\tviewer_16523442290492995.setClickable({},true,\"function(atom,viewer,event,container) {\\n                   if(!atom.label) {\\n                        atom.label = viewer.addLabel(atom.atom+\\\":\\\"+atom.serial,{position: atom, backgroundColor: 'mintcream', fontColor:'black', backgroundOpacity: \\\"0.3\\\"});\\n                        console.log(Object.getOwnPropertyNames(atom))\\n                        console.log(atom.serial)\\n                        viewer.setStyle({\\\"serial\\\": atom.serial}, {\\\"stick\\\": {\\\"color\\\": 0xFF0000}})\\n                        \\n                        atom_data = document.getElementById(\\\"atoms_of_class_1652344146974\\\");\\n                        var a = atom_data.dataset.atoms;\\n                        var s = atom_data.dataset.atoms_serial;\\n\\n                        var arr = a.split(',');\\n                        arr.push(atom.resi.toString() + atom.atom);\\n                        atom_data.dataset.atoms = arr;\\n\\n                        var arr_s = s.split(',');\\n                        arr_s.push(atom.serial);\\n                        atom_data.dataset.atoms_serial = arr_s;\\n                   }\\n                   else {\\n                        viewer.removeLabel(atom.label);\\n                        delete atom.label;\\n                        viewer.setStyle({\\\"serial\\\": atom.serial}, {\\\"stick\\\": {\\\"colorscheme\\\": \\\"default\\\"}})\\n                        \\n                        atom_data = document.getElementById(\\\"atoms_of_class_1652344146974\\\");\\n                        var a = atom_data.dataset.atoms;\\n                        var s = atom_data.dataset.atoms_serial;\\n                        var arr = a.split(',');\\n                        var arr_s = s.split(',');\\n                        \\n                        var atom_str = atom.resi.toString() + atom.atom;\\n                        arr = arr.filter(function(item) {\\n                            return item !== atom_str\\n                        })\\n                        atom_data.dataset.atoms = arr;\\n\\n                        arr_s = arr_s.filter(function(item) {\\n                            return Number(item) !== atom.serial\\n                        })\\n                        atom_data.dataset.atoms_serial = arr_s;\\n                   }\\n                   viewer.render();}\");\n",
       "\tviewer_16523442290492995.setClickable({},true,\"function(atom,viewer,event,container) {\\n                        var atom_data = document.getElementById(\\\"atoms_of_class_1652344146974\\\");\\n                        var s = atom_data.dataset.atoms_serial;\\n                        var arr_s = s.split(',');\\n                        arr_s = arr_s.filter(function(item) {\\n                            return Number(item) == atom.serial\\n                        })\\n                        if (!!arr_s.length) \\n                        {\\n                            if(atom.color == 0xFFFF00) {\\n                                    viewer.setStyle({\\\"serial\\\": atom.serial}, {\\\"stick\\\": {\\\"color\\\": 0xFF0000}});\\n                                    atom.color = 0xFF0000;\\n\\n                                    var a = atom_data.dataset.double_bonds;\\n                                    var arr = a.split(',');\\n                                    \\n                                    var atom_str = atom.resi.toString() + atom.atom + \\\":\\\" + atom.serial + \\\":\\\" + atom.x + \\\":\\\" + atom.y + \\\":\\\" + atom.z;\\n                                    arr = arr.filter(function(item) {\\n                                        return item !== atom_str;\\n                                    })\\n                                    atom_data.dataset.double_bonds = arr;\\n                            }\\n                            else {\\n                                    viewer.setStyle({\\\"serial\\\": atom.serial}, {\\\"stick\\\": {\\\"color\\\": 0xFFFF00}});\\n                                    atom.color = 0xFFFF00;\\n\\n                                    var a = atom_data.dataset.double_bonds;\\n                                    var arr = a.split(',');\\n                                    arr.push(atom.resi.toString() + atom.atom + \\\":\\\" + atom.serial + \\\":\\\" + atom.x + \\\":\\\" + atom.y + \\\":\\\" + atom.z);\\n                                    atom_data.dataset.double_bonds = arr;      \\n                            }\\n                        }\\n                        viewer.render();}\");\n",
       "\tviewer_16523442290492995.setStyle({\"serial\": 9},{\"stick\": {\"color\": 16711680}});\n",
       "\tviewer_16523442290492995.addLabel(\"H05:9\",{\"backgroundColor\": \"mintcream\", \"fontColor\": \"black\", \"backgroundOpacity\": 0.3},{\"serial\": 9});\n",
       "\tviewer_16523442290492995.setStyle({\"serial\": 8},{\"stick\": {\"color\": 16711680}});\n",
       "\tviewer_16523442290492995.addLabel(\"H04:8\",{\"backgroundColor\": \"mintcream\", \"fontColor\": \"black\", \"backgroundOpacity\": 0.3},{\"serial\": 8});\n",
       "\tviewer_16523442290492995.setStyle({\"serial\": 14},{\"stick\": {\"color\": 16711680}});\n",
       "\tviewer_16523442290492995.addLabel(\"H09:14\",{\"backgroundColor\": \"mintcream\", \"fontColor\": \"black\", \"backgroundOpacity\": 0.3},{\"serial\": 14});\n",
       "\tviewer_16523442290492995.setStyle({\"serial\": 7},{\"stick\": {\"color\": 16711680}});\n",
       "\tviewer_16523442290492995.addLabel(\"C04:7\",{\"backgroundColor\": \"mintcream\", \"fontColor\": \"black\", \"backgroundOpacity\": 0.3},{\"serial\": 7});\n",
       "\tviewer_16523442290492995.setStyle({\"serial\": 6},{\"stick\": {\"color\": 16711680}});\n",
       "\tviewer_16523442290492995.addLabel(\"H03:6\",{\"backgroundColor\": \"mintcream\", \"fontColor\": \"black\", \"backgroundOpacity\": 0.3},{\"serial\": 6});\n",
       "\tviewer_16523442290492995.setStyle({\"serial\": 5},{\"stick\": {\"color\": 16711680}});\n",
       "\tviewer_16523442290492995.addLabel(\"C03:5\",{\"backgroundColor\": \"mintcream\", \"fontColor\": \"black\", \"backgroundOpacity\": 0.3},{\"serial\": 5});\n",
       "\tviewer_16523442290492995.setStyle({\"serial\": 4},{\"stick\": {\"color\": 16711680}});\n",
       "\tviewer_16523442290492995.addLabel(\"C02:4\",{\"backgroundColor\": \"mintcream\", \"fontColor\": \"black\", \"backgroundOpacity\": 0.3},{\"serial\": 4});\n",
       "\tviewer_16523442290492995.setStyle({\"serial\": 13},{\"stick\": {\"color\": 16711680}});\n",
       "\tviewer_16523442290492995.addLabel(\"H08:13\",{\"backgroundColor\": \"mintcream\", \"fontColor\": \"black\", \"backgroundOpacity\": 0.3},{\"serial\": 13});\n",
       "\tviewer_16523442290492995.setStyle({\"serial\": 11},{\"stick\": {\"color\": 16711680}});\n",
       "\tviewer_16523442290492995.addLabel(\"H06:11\",{\"backgroundColor\": \"mintcream\", \"fontColor\": \"black\", \"backgroundOpacity\": 0.3},{\"serial\": 11});\n",
       "\tviewer_16523442290492995.setStyle({\"serial\": 12},{\"stick\": {\"color\": 16711680}});\n",
       "\tviewer_16523442290492995.addLabel(\"H07:12\",{\"backgroundColor\": \"mintcream\", \"fontColor\": \"black\", \"backgroundOpacity\": 0.3},{\"serial\": 12});\n",
       "\tviewer_16523442290492995.setStyle({\"serial\": 10},{\"stick\": {\"color\": 16711680}});\n",
       "\tviewer_16523442290492995.addLabel(\"C05:10\",{\"backgroundColor\": \"mintcream\", \"fontColor\": \"black\", \"backgroundOpacity\": 0.3},{\"serial\": 10});\n",
       "\tviewer_16523442290492995.setStyle({\"serial\": 1},{\"stick\": {\"color\": 16711680}});\n",
       "\tviewer_16523442290492995.addLabel(\"C01:1\",{\"backgroundColor\": \"mintcream\", \"fontColor\": \"black\", \"backgroundOpacity\": 0.3},{\"serial\": 1});\n",
       "\tviewer_16523442290492995.setStyle({\"serial\": 2},{\"stick\": {\"color\": 16711680}});\n",
       "\tviewer_16523442290492995.addLabel(\"H01:2\",{\"backgroundColor\": \"mintcream\", \"fontColor\": \"black\", \"backgroundOpacity\": 0.3},{\"serial\": 2});\n",
       "\tviewer_16523442290492995.setStyle({\"serial\": 3},{\"stick\": {\"color\": 16711680}});\n",
       "\tviewer_16523442290492995.addLabel(\"H02:3\",{\"backgroundColor\": \"mintcream\", \"fontColor\": \"black\", \"backgroundOpacity\": 0.3},{\"serial\": 3});\n",
       "\tviewer_16523442290492995.setClickable({},true,\"function(atom,viewer,event,container) {\\n                   if(!atom.label) {\\n                        atom.label = viewer.addLabel(atom.atom+\\\":\\\"+atom.serial,{position: atom, backgroundColor: 'mintcream', fontColor:'black', backgroundOpacity: \\\"0.3\\\"});\\n                        console.log(Object.getOwnPropertyNames(atom))\\n                        console.log(atom.serial)\\n                        viewer.setStyle({\\\"serial\\\": atom.serial}, {\\\"stick\\\": {\\\"color\\\": 0xFF0000}})\\n                        \\n                        atom_data = document.getElementById(\\\"atoms_of_class_1652344146974\\\");\\n                        var a = atom_data.dataset.atoms;\\n                        var s = atom_data.dataset.atoms_serial;\\n\\n                        var arr = a.split(',');\\n                        arr.push(atom.resi.toString() + atom.atom);\\n                        atom_data.dataset.atoms = arr;\\n\\n                        var arr_s = s.split(',');\\n                        arr_s.push(atom.serial);\\n                        atom_data.dataset.atoms_serial = arr_s;\\n                   }\\n                   else {\\n                        viewer.removeLabel(atom.label);\\n                        delete atom.label;\\n                        viewer.setStyle({\\\"serial\\\": atom.serial}, {\\\"stick\\\": {\\\"colorscheme\\\": \\\"default\\\"}})\\n                        \\n                        atom_data = document.getElementById(\\\"atoms_of_class_1652344146974\\\");\\n                        var a = atom_data.dataset.atoms;\\n                        var s = atom_data.dataset.atoms_serial;\\n                        var arr = a.split(',');\\n                        var arr_s = s.split(',');\\n                        \\n                        var atom_str = atom.resi.toString() + atom.atom;\\n                        arr = arr.filter(function(item) {\\n                            return item !== atom_str\\n                        })\\n                        atom_data.dataset.atoms = arr;\\n\\n                        arr_s = arr_s.filter(function(item) {\\n                            return Number(item) !== atom.serial\\n                        })\\n                        atom_data.dataset.atoms_serial = arr_s;\\n                   }\\n                   viewer.render();}\");\n",
       "\tviewer_16523442290492995.setStyle({\"serial\": 9},{\"stick\": {\"color\": 16711680}});\n",
       "\tviewer_16523442290492995.addLabel(\"H05:9\",{\"backgroundColor\": \"mintcream\", \"fontColor\": \"black\", \"backgroundOpacity\": 0.3},{\"serial\": 9});\n",
       "\tviewer_16523442290492995.setStyle({\"serial\": 8},{\"stick\": {\"color\": 16711680}});\n",
       "\tviewer_16523442290492995.addLabel(\"H04:8\",{\"backgroundColor\": \"mintcream\", \"fontColor\": \"black\", \"backgroundOpacity\": 0.3},{\"serial\": 8});\n",
       "\tviewer_16523442290492995.setStyle({\"serial\": 14},{\"stick\": {\"color\": 16711680}});\n",
       "\tviewer_16523442290492995.addLabel(\"H09:14\",{\"backgroundColor\": \"mintcream\", \"fontColor\": \"black\", \"backgroundOpacity\": 0.3},{\"serial\": 14});\n",
       "\tviewer_16523442290492995.setStyle({\"serial\": 7},{\"stick\": {\"color\": 16711680}});\n",
       "\tviewer_16523442290492995.addLabel(\"C04:7\",{\"backgroundColor\": \"mintcream\", \"fontColor\": \"black\", \"backgroundOpacity\": 0.3},{\"serial\": 7});\n",
       "\tviewer_16523442290492995.setStyle({\"serial\": 6},{\"stick\": {\"color\": 16711680}});\n",
       "\tviewer_16523442290492995.addLabel(\"H03:6\",{\"backgroundColor\": \"mintcream\", \"fontColor\": \"black\", \"backgroundOpacity\": 0.3},{\"serial\": 6});\n",
       "\tviewer_16523442290492995.setStyle({\"serial\": 5},{\"stick\": {\"color\": 16711680}});\n",
       "\tviewer_16523442290492995.addLabel(\"C03:5\",{\"backgroundColor\": \"mintcream\", \"fontColor\": \"black\", \"backgroundOpacity\": 0.3},{\"serial\": 5});\n",
       "\tviewer_16523442290492995.setStyle({\"serial\": 4},{\"stick\": {\"color\": 16711680}});\n",
       "\tviewer_16523442290492995.addLabel(\"C02:4\",{\"backgroundColor\": \"mintcream\", \"fontColor\": \"black\", \"backgroundOpacity\": 0.3},{\"serial\": 4});\n",
       "\tviewer_16523442290492995.setStyle({\"serial\": 13},{\"stick\": {\"color\": 16711680}});\n",
       "\tviewer_16523442290492995.addLabel(\"H08:13\",{\"backgroundColor\": \"mintcream\", \"fontColor\": \"black\", \"backgroundOpacity\": 0.3},{\"serial\": 13});\n",
       "\tviewer_16523442290492995.setStyle({\"serial\": 11},{\"stick\": {\"color\": 16711680}});\n",
       "\tviewer_16523442290492995.addLabel(\"H06:11\",{\"backgroundColor\": \"mintcream\", \"fontColor\": \"black\", \"backgroundOpacity\": 0.3},{\"serial\": 11});\n",
       "\tviewer_16523442290492995.setStyle({\"serial\": 12},{\"stick\": {\"color\": 16711680}});\n",
       "\tviewer_16523442290492995.addLabel(\"H07:12\",{\"backgroundColor\": \"mintcream\", \"fontColor\": \"black\", \"backgroundOpacity\": 0.3},{\"serial\": 12});\n",
       "\tviewer_16523442290492995.setStyle({\"serial\": 10},{\"stick\": {\"color\": 16711680}});\n",
       "\tviewer_16523442290492995.addLabel(\"C05:10\",{\"backgroundColor\": \"mintcream\", \"fontColor\": \"black\", \"backgroundOpacity\": 0.3},{\"serial\": 10});\n",
       "\tviewer_16523442290492995.setStyle({\"serial\": 1},{\"stick\": {\"color\": 16711680}});\n",
       "\tviewer_16523442290492995.addLabel(\"C01:1\",{\"backgroundColor\": \"mintcream\", \"fontColor\": \"black\", \"backgroundOpacity\": 0.3},{\"serial\": 1});\n",
       "\tviewer_16523442290492995.setStyle({\"serial\": 2},{\"stick\": {\"color\": 16711680}});\n",
       "\tviewer_16523442290492995.addLabel(\"H01:2\",{\"backgroundColor\": \"mintcream\", \"fontColor\": \"black\", \"backgroundOpacity\": 0.3},{\"serial\": 2});\n",
       "\tviewer_16523442290492995.setStyle({\"serial\": 3},{\"stick\": {\"color\": 16711680}});\n",
       "\tviewer_16523442290492995.addLabel(\"H02:3\",{\"backgroundColor\": \"mintcream\", \"fontColor\": \"black\", \"backgroundOpacity\": 0.3},{\"serial\": 3});\n",
       "\tviewer_16523442290492995.addCylinder({\"start\": {\"x\": 1.529, \"y\": 0.481, \"z\": 0.58}, \"end\": {\"x\": 2.246, \"y\": 0.62, \"z\": -0.547}, \"radius\": 0.35, \"fromCap\": 0, \"toCap\": 0, \"dashed\": true, \"opacity\": \"0.6\"});\n",
       "viewer_16523442290492995.render();\n",
       "});\n",
       "</script>"
      ]
     },
     "metadata": {},
     "output_type": "display_data"
    },
    {
     "data": {
      "text/plain": [
       "<py3Dmol.view at 0x7f905727d400>"
      ]
     },
     "metadata": {},
     "output_type": "display_data"
    },
    {
     "data": {
      "application/vnd.jupyter.widget-view+json": {
       "model_id": "e3a1143e3bd641e086de69e7704d4692",
       "version_major": 2,
       "version_minor": 0
      },
      "text/plain": [
       "HBox(children=(Button(button_style='danger', description='Clear', style=ButtonStyle()), Button(description='[#…"
      ]
     },
     "metadata": {},
     "output_type": "display_data"
    },
    {
     "data": {
      "application/vnd.jupyter.widget-view+json": {
       "model_id": "c9aabea6bba040e6962228236c9123c1",
       "version_major": 2,
       "version_minor": 0
      },
      "text/plain": [
       "Output()"
      ]
     },
     "metadata": {},
     "output_type": "display_data"
    },
    {
     "name": "stdout",
     "output_type": "stream",
     "text": [
      "[8, 7, 13, 6, 5, 4, 3, 12, 10, 11, 9, 0, 1, 2]\n",
      "[0, 1, 2, 3, 4, 5, 6, 7, 8, 9, 10, 11, 12, 13]\n",
      "\"[C:1](-[H:2])(-[H:3])-[C:4](=[C:5](-[H:6])-[C:7](-[H:8])(-[H:9])-[H:14])-[C:10](-[H:11])(-[H:12])-[H:13]\": [\n",
      "\t\"C1\",\n",
      "\t\"H1\",\n",
      "\t\"H2\",\n",
      "\t\"C2\",\n",
      "\t\"C3\",\n",
      "\t\"H3\",\n",
      "\t\"C4\",\n",
      "\t\"H4\",\n",
      "\t\"H5\",\n",
      "\t\"H6\",\n",
      "\t\"C5\",\n",
      "\t\"H7\",\n",
      "\t\"H8\",\n",
      "\t\"H9\"\n",
      "]\n"
     ]
    }
   ],
   "source": [
    "file = \"polymer_examples/rdkit_simple_polymers/naturalrubber.pdb\"\n",
    "p2 = ParsePolymer(file)\n",
    "view = p2.visualize(mode=\"py3Dmol\", width=900, height=400)\n",
    "view"
   ]
  },
  {
   "cell_type": "code",
   "execution_count": 8,
   "id": "54989850",
   "metadata": {},
   "outputs": [
    {
     "name": "stdout",
     "output_type": "stream",
     "text": [
      "(0, 1)\n"
     ]
    }
   ],
   "source": [
    "rdmol = p2.full_molecule\n",
    "for bond in rdmol.GetBonds():\n",
    "    print((bond.GetBeginAtomIdx(), bond.GetEndAtomIdx()))\n",
    "    break"
   ]
  },
  {
   "cell_type": "code",
   "execution_count": 7,
   "id": "c33cf0c3",
   "metadata": {},
   "outputs": [
    {
     "name": "stdout",
     "output_type": "stream",
     "text": [
      "['ClearProp', 'DescribeQuery', 'GetBeginAtom', 'GetBeginAtomIdx', 'GetBondDir', 'GetBondType', 'GetBondTypeAsDouble', 'GetBoolProp', 'GetDoubleProp', 'GetEndAtom', 'GetEndAtomIdx', 'GetIdx', 'GetIntProp', 'GetIsAromatic', 'GetIsConjugated', 'GetOtherAtom', 'GetOtherAtomIdx', 'GetOwningMol', 'GetProp', 'GetPropNames', 'GetPropsAsDict', 'GetSmarts', 'GetStereo', 'GetStereoAtoms', 'GetUnsignedProp', 'GetValenceContrib', 'HasOwningMol', 'HasProp', 'HasQuery', 'IsInRing', 'IsInRingSize', 'Match', 'SetBondDir', 'SetBondType', 'SetBoolProp', 'SetDoubleProp', 'SetIntProp', 'SetIsAromatic', 'SetIsConjugated', 'SetProp', 'SetStereo', 'SetStereoAtoms', 'SetUnsignedProp', '__class__', '__delattr__', '__dict__', '__dir__', '__doc__', '__eq__', '__format__', '__ge__', '__getattribute__', '__gt__', '__hash__', '__init__', '__init_subclass__', '__le__', '__lt__', '__module__', '__ne__', '__new__', '__reduce__', '__reduce_ex__', '__repr__', '__setattr__', '__sizeof__', '__str__', '__subclasshook__', '__weakref__']\n"
     ]
    }
   ],
   "source": [
    "rdmol = p2.full_molecule\n",
    "for bond in rdmol.GetBonds():\n",
    "    print(dir(bond))\n",
    "    break"
   ]
  },
  {
   "cell_type": "code",
   "execution_count": 3,
   "id": "30316482",
   "metadata": {},
   "outputs": [
    {
     "data": {
      "text/plain": [
       "[(4, 6)]"
      ]
     },
     "execution_count": 3,
     "metadata": {},
     "output_type": "execute_result"
    }
   ],
   "source": [
    "p2.double_bond_list"
   ]
  },
  {
   "cell_type": "code",
   "execution_count": 10,
   "id": "8f6288dc",
   "metadata": {},
   "outputs": [
    {
     "data": {
      "text/plain": [
       "True"
      ]
     },
     "execution_count": 10,
     "metadata": {},
     "output_type": "execute_result"
    }
   ],
   "source": [
    "tuple(sorted([4,6])) == tuple(sorted([6,4]))"
   ]
  },
  {
   "cell_type": "code",
   "execution_count": 9,
   "id": "29b6d1c1",
   "metadata": {},
   "outputs": [
    {
     "data": {
      "application/javascript": [
       "var atom = document.createElement(\"div\");\n",
       "atom.innerHTML = \"\";\n",
       "atom.id = \"atoms_of_class_xxx\"\n",
       "document.body.appendChild(atom);\n"
      ],
      "text/plain": [
       "<IPython.core.display.Javascript object>"
      ]
     },
     "metadata": {},
     "output_type": "display_data"
    }
   ],
   "source": [
    "%%javascript\n",
    "var atom = document.createElement(\"div\");\n",
    "atom.innerHTML = \"\";\n",
    "atom.id = \"atoms_of_class_xxx\"\n",
    "document.body.appendChild(atom);"
   ]
  },
  {
   "cell_type": "code",
   "execution_count": 8,
   "id": "dbd1426c",
   "metadata": {},
   "outputs": [
    {
     "data": {
      "application/3dmoljs_load.v0": "<div id=\"3dmolviewer_16521351411780982\"  style=\"position: relative; width: 640px; height: 480px\">\n        <p id=\"3dmolwarning_16521351411780982\" style=\"background-color:#ffcccc;color:black\">You appear to be running in JupyterLab (or JavaScript failed to load for some other reason).  You need to install the 3dmol extension: <br>\n        <tt>jupyter labextension install jupyterlab_3dmol</tt></p>\n        </div>\n<script>\n\nvar loadScriptAsync = function(uri){\n  return new Promise((resolve, reject) => {\n    var tag = document.createElement('script');\n    tag.src = uri;\n    tag.async = true;\n    tag.onload = () => {\n      resolve();\n    };\n  var firstScriptTag = document.getElementsByTagName('script')[0];\n  firstScriptTag.parentNode.insertBefore(tag, firstScriptTag);\n});\n};\n\nif(typeof $3Dmolpromise === 'undefined') {\n$3Dmolpromise = null;\n  $3Dmolpromise = loadScriptAsync('https://3dmol.org/build/3Dmol.js');\n}\n\nvar viewer_16521351411780982 = null;\nvar warn = document.getElementById(\"3dmolwarning_16521351411780982\");\nif(warn) {\n    warn.parentNode.removeChild(warn);\n}\n$3Dmolpromise.then(function() {\nviewer_16521351411780982 = $3Dmol.createViewer($(\"#3dmolviewer_16521351411780982\"),{backgroundColor:\"white\"});\n$3Dmol.download(\"pdb:1ubq\", viewer_16521351411780982, {}, function() {\nviewer_16521351411780982.setStyle({\"cartoon\": {}, \"stick\": {}});\nviewer_16521351411780982.zoomTo();\n\tviewer_16521351411780982.setClickable({},true,\"function(atom,viewer,event,container) {\\n                   if(!atom.label) {\\n                    atom.label = viewer.addLabel(atom.resn+\\\":\\\"+atom.atom,{position: atom, backgroundColor: 'mintcream', fontColor:'black'});\\n                    atom_data = document.getElementById(\\\"atoms_of_class_xxx\\\")\\n                    atom_data.innerHTML += atom.serial + \\\";\\\";\\n                   }\\n                   else {\\n                    console.log(\\\"lskjdlksjdlksjdlfjks\\\");\\n                    if(atom.label) {\\n                     viewer.removeLabel(atom.label);\\n                     delete atom.label;\\n                   }\\n                   }}\");\nviewer_16521351411780982.render();\n})\n});\n</script>",
      "text/html": [
       "<div id=\"3dmolviewer_16521351411780982\"  style=\"position: relative; width: 640px; height: 480px\">\n",
       "        <p id=\"3dmolwarning_16521351411780982\" style=\"background-color:#ffcccc;color:black\">You appear to be running in JupyterLab (or JavaScript failed to load for some other reason).  You need to install the 3dmol extension: <br>\n",
       "        <tt>jupyter labextension install jupyterlab_3dmol</tt></p>\n",
       "        </div>\n",
       "<script>\n",
       "\n",
       "var loadScriptAsync = function(uri){\n",
       "  return new Promise((resolve, reject) => {\n",
       "    var tag = document.createElement('script');\n",
       "    tag.src = uri;\n",
       "    tag.async = true;\n",
       "    tag.onload = () => {\n",
       "      resolve();\n",
       "    };\n",
       "  var firstScriptTag = document.getElementsByTagName('script')[0];\n",
       "  firstScriptTag.parentNode.insertBefore(tag, firstScriptTag);\n",
       "});\n",
       "};\n",
       "\n",
       "if(typeof $3Dmolpromise === 'undefined') {\n",
       "$3Dmolpromise = null;\n",
       "  $3Dmolpromise = loadScriptAsync('https://3dmol.org/build/3Dmol.js');\n",
       "}\n",
       "\n",
       "var viewer_16521351411780982 = null;\n",
       "var warn = document.getElementById(\"3dmolwarning_16521351411780982\");\n",
       "if(warn) {\n",
       "    warn.parentNode.removeChild(warn);\n",
       "}\n",
       "$3Dmolpromise.then(function() {\n",
       "viewer_16521351411780982 = $3Dmol.createViewer($(\"#3dmolviewer_16521351411780982\"),{backgroundColor:\"white\"});\n",
       "$3Dmol.download(\"pdb:1ubq\", viewer_16521351411780982, {}, function() {\n",
       "viewer_16521351411780982.setStyle({\"cartoon\": {}, \"stick\": {}});\n",
       "viewer_16521351411780982.zoomTo();\n",
       "\tviewer_16521351411780982.setClickable({},true,\"function(atom,viewer,event,container) {\\n                   if(!atom.label) {\\n                    atom.label = viewer.addLabel(atom.resn+\\\":\\\"+atom.atom,{position: atom, backgroundColor: 'mintcream', fontColor:'black'});\\n                    atom_data = document.getElementById(\\\"atoms_of_class_xxx\\\")\\n                    atom_data.innerHTML += atom.serial + \\\";\\\";\\n                   }\\n                   else {\\n                    console.log(\\\"lskjdlksjdlksjdlfjks\\\");\\n                    if(atom.label) {\\n                     viewer.removeLabel(atom.label);\\n                     delete atom.label;\\n                   }\\n                   }}\");\n",
       "viewer_16521351411780982.render();\n",
       "})\n",
       "});\n",
       "</script>"
      ]
     },
     "metadata": {},
     "output_type": "display_data"
    },
    {
     "data": {
      "text/plain": [
       "<py3Dmol.view at 0x7fd3501eae20>"
      ]
     },
     "execution_count": 8,
     "metadata": {},
     "output_type": "execute_result"
    }
   ],
   "source": [
    "v = py3Dmol.view(query=\"pdb:1ubq\",style={'cartoon':{},'stick':{}})\n",
    "# v.setHoverable({},True,'''function(atom,viewer,event,container) {\n",
    "#                    if(!atom.label) {\n",
    "#                     atom.label = viewer.addLabel(atom.resn+\":\"+atom.atom,{position: atom, backgroundColor: 'mintcream', fontColor:'black'});\n",
    "#                    }}''',\n",
    "#                '''function(atom,viewer) { \n",
    "#                    if(atom.label) {\n",
    "#                     viewer.removeLabel(atom.label);\n",
    "#                     delete atom.label;\n",
    "#                    }\n",
    "#                 }''')\n",
    "random = []\n",
    "v.setClickable({},True,'''function(atom,viewer,event,container) {\n",
    "                   if(!atom.label) {\n",
    "                    atom.label = viewer.addLabel(atom.resn+\":\"+atom.atom,{position: atom, backgroundColor: 'mintcream', fontColor:'black'});\n",
    "                    atom_data = document.getElementById(\"atoms_of_class_xxx\")\n",
    "                    atom_data.innerHTML += atom.serial + \";\";\n",
    "                   }\n",
    "                   else {\n",
    "                    console.log(\"lskjdlksjdlksjdlfjks\");\n",
    "                    if(atom.label) {\n",
    "                     viewer.removeLabel(atom.label);\n",
    "                     delete atom.label;\n",
    "                   }\n",
    "                   }}''')"
   ]
  },
  {
   "cell_type": "code",
   "execution_count": 32,
   "id": "a7c02c24",
   "metadata": {},
   "outputs": [
    {
     "data": {
      "application/3dmoljs_load.v0": "<div id=\"3dmolviewer_16521345899014976\"  style=\"position: relative; width: 640px; height: 480px\">\n        <p id=\"3dmolwarning_16521345899014976\" style=\"background-color:#ffcccc;color:black\">You appear to be running in JupyterLab (or JavaScript failed to load for some other reason).  You need to install the 3dmol extension: <br>\n        <tt>jupyter labextension install jupyterlab_3dmol</tt></p>\n        </div>\n<script>\n\nvar loadScriptAsync = function(uri){\n  return new Promise((resolve, reject) => {\n    var tag = document.createElement('script');\n    tag.src = uri;\n    tag.async = true;\n    tag.onload = () => {\n      resolve();\n    };\n  var firstScriptTag = document.getElementsByTagName('script')[0];\n  firstScriptTag.parentNode.insertBefore(tag, firstScriptTag);\n});\n};\n\nif(typeof $3Dmolpromise === 'undefined') {\n$3Dmolpromise = null;\n  $3Dmolpromise = loadScriptAsync('https://3dmol.org/build/3Dmol.js');\n}\n\nvar viewer_16521345899014976 = null;\nvar warn = document.getElementById(\"3dmolwarning_16521345899014976\");\nif(warn) {\n    warn.parentNode.removeChild(warn);\n}\n$3Dmolpromise.then(function() {\nviewer_16521345899014976 = $3Dmol.createViewer($(\"#3dmolviewer_16521345899014976\"),{backgroundColor:\"white\"});\n$3Dmol.download(\"pdb:1ubq\", viewer_16521345899014976, {}, function() {\nviewer_16521345899014976.setStyle({\"cartoon\": {}, \"stick\": {}});\nviewer_16521345899014976.zoomTo();\n\tviewer_16521345899014976.setClickable({},true,\"function(atom,viewer,event,container) {\\n                   if(!atom.label) {\\n                    atom.label = viewer.addLabel(atom.resn+\\\":\\\"+atom.atom,{position: atom, backgroundColor: 'mintcream', fontColor:'black'});\\n                    var atom = document.createElement(\\\"div\\\");\\n                    atom.innerHTML = \\\"hi this is my custum div\\\";\\n                    atom.id = \\\"custom_id_12394293784\\\"\\n                    document.body.appendChild(atom);\\n                   }\\n                   else {\\n                    console.log(\\\"lskjdlksjdlksjdlfjks\\\");\\n                    if(atom.label) {\\n                     viewer.removeLabel(atom.label);\\n                     delete atom.label;\\n                   }\\n                   }}\");\n\tviewer_16521345899014976.selectedAtoms({\"resi\": \"GLN\"});\nviewer_16521345899014976.render();\n})\n});\n</script>",
      "text/html": [
       "<div id=\"3dmolviewer_16521345899014976\"  style=\"position: relative; width: 640px; height: 480px\">\n",
       "        <p id=\"3dmolwarning_16521345899014976\" style=\"background-color:#ffcccc;color:black\">You appear to be running in JupyterLab (or JavaScript failed to load for some other reason).  You need to install the 3dmol extension: <br>\n",
       "        <tt>jupyter labextension install jupyterlab_3dmol</tt></p>\n",
       "        </div>\n",
       "<script>\n",
       "\n",
       "var loadScriptAsync = function(uri){\n",
       "  return new Promise((resolve, reject) => {\n",
       "    var tag = document.createElement('script');\n",
       "    tag.src = uri;\n",
       "    tag.async = true;\n",
       "    tag.onload = () => {\n",
       "      resolve();\n",
       "    };\n",
       "  var firstScriptTag = document.getElementsByTagName('script')[0];\n",
       "  firstScriptTag.parentNode.insertBefore(tag, firstScriptTag);\n",
       "});\n",
       "};\n",
       "\n",
       "if(typeof $3Dmolpromise === 'undefined') {\n",
       "$3Dmolpromise = null;\n",
       "  $3Dmolpromise = loadScriptAsync('https://3dmol.org/build/3Dmol.js');\n",
       "}\n",
       "\n",
       "var viewer_16521345899014976 = null;\n",
       "var warn = document.getElementById(\"3dmolwarning_16521345899014976\");\n",
       "if(warn) {\n",
       "    warn.parentNode.removeChild(warn);\n",
       "}\n",
       "$3Dmolpromise.then(function() {\n",
       "viewer_16521345899014976 = $3Dmol.createViewer($(\"#3dmolviewer_16521345899014976\"),{backgroundColor:\"white\"});\n",
       "$3Dmol.download(\"pdb:1ubq\", viewer_16521345899014976, {}, function() {\n",
       "viewer_16521345899014976.setStyle({\"cartoon\": {}, \"stick\": {}});\n",
       "viewer_16521345899014976.zoomTo();\n",
       "\tviewer_16521345899014976.setClickable({},true,\"function(atom,viewer,event,container) {\\n                   if(!atom.label) {\\n                    atom.label = viewer.addLabel(atom.resn+\\\":\\\"+atom.atom,{position: atom, backgroundColor: 'mintcream', fontColor:'black'});\\n                    var atom = document.createElement(\\\"div\\\");\\n                    atom.innerHTML = \\\"hi this is my custum div\\\";\\n                    atom.id = \\\"custom_id_12394293784\\\"\\n                    document.body.appendChild(atom);\\n                   }\\n                   else {\\n                    console.log(\\\"lskjdlksjdlksjdlfjks\\\");\\n                    if(atom.label) {\\n                     viewer.removeLabel(atom.label);\\n                     delete atom.label;\\n                   }\\n                   }}\");\n",
       "\tviewer_16521345899014976.selectedAtoms({\"resi\": \"GLN\"});\n",
       "viewer_16521345899014976.render();\n",
       "})\n",
       "});\n",
       "</script>"
      ]
     },
     "metadata": {},
     "output_type": "display_data"
    },
    {
     "data": {
      "text/plain": [
       "<py3Dmol.view at 0x7f795c06a430>"
      ]
     },
     "execution_count": 32,
     "metadata": {},
     "output_type": "execute_result"
    }
   ],
   "source": [
    "v.selectedAtoms({\"resi\":\"GLN\"})"
   ]
  },
  {
   "cell_type": "code",
   "execution_count": 4,
   "id": "c28f3fee",
   "metadata": {},
   "outputs": [
    {
     "name": "stdout",
     "output_type": "stream",
     "text": [
      "1652342776712\n"
     ]
    }
   ],
   "source": [
    "file = \"polymer_examples/rdkit_simple_polymers/PAMAM.pdb\"\n",
    "p = ParsePolymer(file)\n",
    "rdmol_new = p.full_molecule"
   ]
  },
  {
   "cell_type": "code",
   "execution_count": 5,
   "id": "855400ef",
   "metadata": {},
   "outputs": [
    {
     "data": {
      "application/javascript": [
       "\n",
       "            var atom = document.createElement(\"div\");\n",
       "            atom.innerHTML = \"\";\n",
       "            atom.id = \"atoms_of_class_xxx\"\n",
       "            document.body.appendChild(atom);\n",
       "           "
      ],
      "text/plain": [
       "<IPython.core.display.Javascript object>"
      ]
     },
     "execution_count": 5,
     "metadata": {},
     "output_type": "execute_result"
    }
   ],
   "source": [
    "Javascript(\"\"\"\n",
    "            var atom = document.createElement(\"div\");\n",
    "            atom.innerHTML = \"\";\n",
    "            atom.id = \"atoms_of_class_xxx\"\n",
    "            document.body.appendChild(atom);\n",
    "           \"\"\")"
   ]
  },
  {
   "cell_type": "code",
   "execution_count": 6,
   "id": "fd644f50",
   "metadata": {},
   "outputs": [
    {
     "data": {
      "application/javascript": [
       "var atom_data = document.getElementById(\"atoms_of_class_xxx\");\n",
       "atom_data.dataset.atoms = [2,3,4,23,62,75];\n"
      ],
      "text/plain": [
       "<IPython.core.display.Javascript object>"
      ]
     },
     "metadata": {},
     "output_type": "display_data"
    }
   ],
   "source": [
    "%%javascript\n",
    "var atom_data = document.getElementById(\"atoms_of_class_xxx\");\n",
    "atom_data.dataset.atoms = [2,3,4,23,62,75];"
   ]
  },
  {
   "cell_type": "code",
   "execution_count": 7,
   "id": "ce732755",
   "metadata": {},
   "outputs": [
    {
     "data": {
      "application/javascript": [
       "atom_data = document.getElementById(\"atoms_of_class_xxx\");\n",
       "var a = atom_data.dataset.atoms;\n",
       "var arr = a.split(',').map(element => {\n",
       "  return Number(element);\n",
       "});\n",
       "// add item\n",
       "arr.push(999);\n",
       "console.log(arr);\n",
       "\n",
       "// remove item\n",
       "arr = arr.filter(function(item) {\n",
       "    return item !== 23\n",
       "})\n",
       "console.log(arr)\n"
      ],
      "text/plain": [
       "<IPython.core.display.Javascript object>"
      ]
     },
     "metadata": {},
     "output_type": "display_data"
    }
   ],
   "source": [
    "%%javascript\n",
    "atom_data = document.getElementById(\"atoms_of_class_xxx\");\n",
    "var a = atom_data.dataset.atoms;\n",
    "var arr = a.split(',').map(element => {\n",
    "  return Number(element);\n",
    "});\n",
    "// add item\n",
    "arr.push(999);\n",
    "console.log(arr);\n",
    "\n",
    "// remove item\n",
    "arr = arr.filter(function(item) {\n",
    "    return item !== 23\n",
    "})\n",
    "console.log(arr)"
   ]
  },
  {
   "cell_type": "code",
   "execution_count": 7,
   "id": "fdd64453",
   "metadata": {},
   "outputs": [
    {
     "data": {
      "application/3dmoljs_load.v0": "<div id=\"3dmolviewer_16523428515418844\"  style=\"position: relative; width: 800px; height: 500px\">\n        <p id=\"3dmolwarning_16523428515418844\" style=\"background-color:#ffcccc;color:black\">You appear to be running in JupyterLab (or JavaScript failed to load for some other reason).  You need to install the 3dmol extension: <br>\n        <tt>jupyter labextension install jupyterlab_3dmol</tt></p>\n        </div>\n<script>\n\nvar loadScriptAsync = function(uri){\n  return new Promise((resolve, reject) => {\n    var tag = document.createElement('script');\n    tag.src = uri;\n    tag.async = true;\n    tag.onload = () => {\n      resolve();\n    };\n  var firstScriptTag = document.getElementsByTagName('script')[0];\n  firstScriptTag.parentNode.insertBefore(tag, firstScriptTag);\n});\n};\n\nif(typeof $3Dmolpromise === 'undefined') {\n$3Dmolpromise = null;\n  $3Dmolpromise = loadScriptAsync('https://3dmol.org/build/3Dmol.js');\n}\n\nvar viewer_16523428515418844 = null;\nvar warn = document.getElementById(\"3dmolwarning_16523428515418844\");\nif(warn) {\n    warn.parentNode.removeChild(warn);\n}\n$3Dmolpromise.then(function() {\nviewer_16523428515418844 = $3Dmol.createViewer($(\"#3dmolviewer_16523428515418844\"),{backgroundColor:\"white\"});\nviewer_16523428515418844.zoomTo();\n\tviewer_16523428515418844.addModel(\"ATOM      1  N   UNL     1      -2.689  -1.584   0.666  0.00  0.00           N1+\\nATOM      2  C   UNL     1      -1.532  -0.796   1.135  0.00  0.00           C  \\nATOM      3  C1  UNL     1      -0.220  -0.847   0.304  0.00  0.00           C  \\nATOM      4  N1  UNL     1       0.789   0.104   0.831  0.00  0.00           N1+\\nATOM      5  C2  UNL     1       2.159  -0.327   0.473  0.00  0.00           C  \\nATOM      6  C3  UNL     1       2.662  -1.446   1.386  0.00  0.00           C  \\nATOM      7  C4  UNL     1       4.109  -1.758   1.076  0.00  0.00           C  \\nATOM      8  O   UNL     1       4.435  -2.693   0.355  0.00  0.00           O  \\nATOM      9  N2  UNL     1       5.007  -0.884   1.647  0.00  0.00           N  \\nATOM     10  C5  UNL     1       6.444  -1.066   1.519  0.00  0.00           C  \\nATOM     11  C6  UNL     1       7.004  -2.013   2.600  0.00  0.00           C  \\nATOM     12  N3  UNL     1       8.478  -2.157   2.597  0.00  0.00           N1+\\nATOM     13  C7  UNL     1       0.530   1.466   0.302  0.00  0.00           C  \\nATOM     14  C8  UNL     1       0.985   2.527   1.305  0.00  0.00           C  \\nATOM     15  C9  UNL     1       0.751   3.923   0.767  0.00  0.00           C  \\nATOM     16  O1  UNL     1       0.647   4.177  -0.427  0.00  0.00           O  \\nATOM     17  N4  UNL     1       0.719   4.886   1.752  0.00  0.00           N  \\nATOM     18  Ca  UNL     1       0.547   6.298   1.445  0.00  0.00           C  \\nATOM     19  Cb  UNL     1       1.882   6.967   1.052  0.00  0.00           C  \\nATOM     20  N5  UNL     1       1.799   8.393   0.643  0.00  0.00           N1+\\nATOM     21  Cc  UNL     1      -2.338  -2.942   0.226  0.00  0.00           C  \\nATOM     22  Cd  UNL     1      -3.541  -3.890   0.190  0.00  0.00           C  \\nATOM     23  Ce  UNL     1      -3.135  -5.276  -0.269  0.00  0.00           C  \\nATOM     24  N6  UNL     1      -4.121  -6.221  -0.066  0.00  0.00           N  \\nATOM     25  Cf  UNL     1      -4.010  -7.558  -0.629  0.00  0.00           C  \\nATOM     26  Cg  UNL     1      -4.705  -8.608   0.258  0.00  0.00           C  \\nATOM     27  N7  UNL     1      -4.685  -9.976  -0.307  0.00  0.00           N1+\\nATOM     28  O2  UNL     1      -2.059  -5.523  -0.802  0.00  0.00           O  \\nATOM     29  Ch  UNL     1      -3.591  -0.834  -0.222  0.00  0.00           C  \\nATOM     30  Ci  UNL     1      -3.072  -0.492  -1.618  0.00  0.00           C  \\nATOM     31  Cj  UNL     1      -4.188   0.071  -2.472  0.00  0.00           C  \\nATOM     32  O3  UNL     1      -4.276   1.267  -2.728  0.00  0.00           O  \\nATOM     33  N8  UNL     1      -5.093  -0.875  -2.904  0.00  0.00           N  \\nATOM     34  Ck  UNL     1      -6.135  -0.572  -3.874  0.00  0.00           C  \\nATOM     35  Cl  UNL     1      -7.111   0.544  -3.443  0.00  0.00           C  \\nATOM     36  N9  UNL     1      -8.344   0.568  -4.258  0.00  0.00           N1+\\nATOM     37  Cm  UNL     1       9.166  -0.885   2.896  0.00  0.00           C  \\nATOM     38  Cn  UNL     1       9.914  -0.409   1.651  0.00  0.00           C  \\nATOM     39  Co  UNL     1      10.688   0.861   1.927  0.00  0.00           C  \\nATOM     40  O4  UNL     1      10.843   1.336   3.048  0.00  0.00           O  \\nATOM     41  Na  UNL     1      11.235   1.421   0.792  0.00  0.00           N  \\nATOM     42  Cp  UNL     1      12.073   2.606   0.858  0.00  0.00           C  \\nATOM     43  Cq  UNL     1      13.490   2.281   1.369  0.00  0.00           C  \\nATOM     44  Nb  UNL     1      14.450   3.416   1.388  0.00  0.00           N1+\\nATOM     45  Cr  UNL     1       8.868  -3.232   3.542  0.00  0.00           C  \\nATOM     46  Cs  UNL     1      10.334  -3.665   3.431  0.00  0.00           C  \\nATOM     47  Ct  UNL     1      10.579  -4.709   2.360  0.00  0.00           C  \\nATOM     48  O5  UNL     1       9.746  -5.539   2.011  0.00  0.00           O  \\nATOM     49  Nc  UNL     1      11.868  -4.683   1.871  0.00  0.00           N  \\nATOM     50  Cu  UNL     1      12.382  -5.771   1.064  0.00  0.00           C  \\nATOM     51  Cv  UNL     1      13.656  -5.384   0.284  0.00  0.00           C  \\nATOM     52  Nd  UNL     1      14.641  -4.573   1.033  0.00  0.00           N1+\\nATOM     53  Cw  UNL     1       3.123   8.882   0.194  0.00  0.00           C  \\nATOM     54  Cx  UNL     1       3.667   8.168  -1.048  0.00  0.00           C  \\nATOM     55  Cz  UNL     1       4.832   8.955  -1.603  0.00  0.00           C  \\nATOM     56  O6  UNL     1       5.991   8.734  -1.269  0.00  0.00           O  \\nATOM     57  Ne  UNL     1       4.464   9.972  -2.456  0.00  0.00           N  \\nATOM     58  Cy  UNL     1       5.438  10.866  -3.058  0.00  0.00           C  \\nATOM     59  CA  UNL     1       6.016  11.872  -2.043  0.00  0.00           C  \\nATOM     60  Nf  UNL     1       6.907  12.873  -2.679  0.00  0.00           N1+\\nATOM     61  CB  UNL     1       1.250   9.225   1.744  0.00  0.00           C  \\nATOM     62  CC  UNL     1       1.079  10.710   1.401  0.00  0.00           C  \\nATOM     63  CD  UNL     1       0.272  11.439   2.456  0.00  0.00           C  \\nATOM     64  Ng  UNL     1       0.153  12.789   2.197  0.00  0.00           N  \\nATOM     65  CE  UNL     1      -0.670  13.656   3.024  0.00  0.00           C  \\nATOM     66  CF  UNL     1      -2.154  13.604   2.605  0.00  0.00           C  \\nATOM     67  Nh  UNL     1      -2.992  14.644   3.252  0.00  0.00           N1+\\nATOM     68  O7  UNL     1      -0.225  10.895   3.435  0.00  0.00           O  \\nATOM     69  CG  UNL     1       6.091  13.992  -3.221  0.00  0.00           C  \\nATOM     70  CH  UNL     1       6.878  14.939  -4.137  0.00  0.00           C  \\nATOM     71  CI  UNL     1       7.908  13.373  -1.705  0.00  0.00           C  \\nATOM     72  CJ  UNL     1       9.013  12.348  -1.423  0.00  0.00           C  \\nATOM     73  CK  UNL     1      -4.265  14.791   2.497  0.00  0.00           C  \\nATOM     74  CL  UNL     1      -4.587  16.268   2.272  0.00  0.00           C  \\nATOM     75  CM  UNL     1      -3.249  14.279   4.671  0.00  0.00           C  \\nATOM     76  CN  UNL     1      -3.769  15.436   5.531  0.00  0.00           C  \\nATOM     77  CO  UNL     1      13.981   4.487   2.314  0.00  0.00           C  \\nATOM     78  CP  UNL     1      13.346   5.662   1.563  0.00  0.00           C  \\nATOM     79  CQ  UNL     1      15.785   2.939   1.845  0.00  0.00           C  \\nATOM     80  CR  UNL     1      16.426   1.891   0.929  0.00  0.00           C  \\nATOM     81  CS  UNL     1      15.640  -3.959   0.133  0.00  0.00           C  \\nATOM     82  CT  UNL     1      16.588  -4.922  -0.590  0.00  0.00           C  \\nATOM     83  CU  UNL     1      15.214  -5.273   2.194  0.00  0.00           C  \\nATOM     84  CV  UNL     1      15.845  -4.323   3.219  0.00  0.00           C  \\nATOM     85  CW  UNL     1      -4.861 -10.994   0.754  0.00  0.00           C  \\nATOM     86  CX  UNL     1      -6.147 -10.928   1.581  0.00  0.00           C  \\nATOM     87  CY  UNL     1      -5.655 -10.111  -1.422  0.00  0.00           C  \\nATOM     88  CZ  UNL     1      -5.655 -11.457  -2.158  0.00  0.00           C  \\nATOM     89  C!  UNL     1      -9.042   1.869  -4.231  0.00  0.00           C  \\nATOM     90  C@  UNL     1      -8.232   3.051  -4.765  0.00  0.00           C  \\nATOM     91  C#  UNL     1      -9.280  -0.536  -3.944  0.00  0.00           C  \\nATOM     92  C$  UNL     1      -9.723  -0.639  -2.480  0.00  0.00           C  \\nATOM     93  C%  UNL     1       7.264  16.223  -3.431  0.00  0.00           C  \\nATOM     94  Ni  UNL     1       8.497  16.712  -3.805  0.00  0.00           N  \\nATOM     95  C^  UNL     1       9.094  17.843  -3.118  0.00  0.00           C  \\nATOM     96  C&  UNL     1       9.712  17.437  -1.770  0.00  0.00           C  \\nATOM     97  Nj  UNL     1      10.346  18.574  -1.098  0.00  0.00           N  \\nATOM     98  O8  UNL     1       6.530  16.791  -2.629  0.00  0.00           O  \\nATOM     99  C_  UNL     1      10.118  12.948  -0.577  0.00  0.00           C  \\nATOM    100  Nk  UNL     1      11.107  12.041  -0.276  0.00  0.00           N  \\nATOM    101  C+  UNL     1      12.186  12.359   0.640  0.00  0.00           C  \\nATOM    102  C(  UNL     1      13.220  11.227   0.671  0.00  0.00           C  \\nATOM    103  Nl  UNL     1      12.575   9.925   0.894  0.00  0.00           N  \\nATOM    104  O9  UNL     1      10.143  14.119  -0.212  0.00  0.00           O  \\nATOM    105  C)  UNL     1      14.392   6.572   0.953  0.00  0.00           C  \\nATOM    106  Nm  UNL     1      15.200   5.952   0.030  0.00  0.00           N  \\nATOM    107  C<  UNL     1      16.352   6.609  -0.550  0.00  0.00           C  \\nATOM    108  C?  UNL     1      17.511   6.742   0.450  0.00  0.00           C  \\nATOM    109  Nn  UNL     1      18.755   7.177  -0.195  0.00  0.00           N  \\nATOM    110  C>  UNL     1      17.911   1.839   1.215  0.00  0.00           C  \\nATOM    111  No  UNL     1      18.767   2.418   0.328  0.00  0.00           N  \\nATOM    112  C-  UNL     1      18.447   3.077  -0.927  0.00  0.00           C  \\nATOM    113  C=  UNL     1      19.694   3.642  -1.621  0.00  0.00           C  \\nATOM    114  Np  UNL     1      20.436   4.555  -0.749  0.00  0.00           N  \\nATOM    115  Oa  UNL     1      14.488   7.759   1.250  0.00  0.00           O  \\nATOM    116  Ob  UNL     1      18.343   1.327   2.248  0.00  0.00           O  \\nATOM    117  C:  UNL     1      17.571  -4.179  -1.473  0.00  0.00           C  \\nATOM    118  Nq  UNL     1      18.429  -5.025  -2.143  0.00  0.00           N  \\nATOM    119  C}  UNL     1      19.486  -4.523  -3.001  0.00  0.00           C  \\nATOM    120  C{  UNL     1      20.696  -4.019  -2.202  0.00  0.00           C  \\nATOM    121  Nr  UNL     1      21.791  -3.603  -3.078  0.00  0.00           N  \\nATOM    122  Oc  UNL     1      17.609  -2.959  -1.578  0.00  0.00           O  \\nATOM    123  C]  UNL     1      14.810  -3.456   3.911  0.00  0.00           C  \\nATOM    124  Ns  UNL     1      15.345  -2.344   4.523  0.00  0.00           N  \\nATOM    125  C[  UNL     1      14.512  -1.393   5.238  0.00  0.00           C  \\nATOM    126  C1~ UNL     1      13.673  -0.515   4.299  0.00  0.00           C  \\nATOM    127  Nt  UNL     1      12.904   0.490   5.034  0.00  0.00           N  \\nATOM    128  Od  UNL     1      13.616  -3.737   3.968  0.00  0.00           O  \\nATOM    129  C21 UNL     1      -5.837  16.444   1.434  0.00  0.00           C  \\nATOM    130  Nu  UNL     1      -6.143  17.769   1.198  0.00  0.00           N  \\nATOM    131  C22 UNL     1      -7.334  18.150   0.464  0.00  0.00           C  \\nATOM    132  C23 UNL     1      -8.591  18.130   1.346  0.00  0.00           C  \\nATOM    133  Nv  UNL     1      -9.805  18.522   0.631  0.00  0.00           N  \\nATOM    134  Oe  UNL     1      -6.511  15.516   1.002  0.00  0.00           O  \\nATOM    135  C24 UNL     1      -5.277  15.474   5.666  0.00  0.00           C  \\nATOM    136  Nw  UNL     1      -5.746  16.684   6.132  0.00  0.00           N  \\nATOM    137  C25 UNL     1      -7.166  16.938   6.298  0.00  0.00           C  \\nATOM    138  C26 UNL     1      -7.872  17.189   4.957  0.00  0.00           C  \\nATOM    139  Nx  UNL     1      -9.272  17.569   5.142  0.00  0.00           N  \\nATOM    140  Of  UNL     1      -6.012  14.527   5.417  0.00  0.00           O  \\nATOM    141  C27 UNL     1      -6.313 -12.202   2.380  0.00  0.00           C  \\nATOM    142  Nz  UNL     1      -5.380 -12.383   3.374  0.00  0.00           N  \\nATOM    143  C28 UNL     1      -4.405 -11.739  -2.969  0.00  0.00           C  \\nATOM    144  Ny  UNL     1      -3.222 -11.440  -2.344  0.00  0.00           N  \\nATOM    145  Og  UNL     1      -4.463 -12.274  -4.074  0.00  0.00           O  \\nATOM    146  Oh  UNL     1      -7.197 -13.014   2.125  0.00  0.00           O  \\nATOM    147  C29 UNL     1      -5.398 -13.558   4.235  0.00  0.00           C  \\nATOM    148  C2a UNL     1      -5.087 -14.863   3.468  0.00  0.00           C  \\nATOM    149  NA  UNL     1      -4.714 -16.008   4.337  0.00  0.00           N1+\\nATOM    150  C2b UNL     1      -1.928 -11.670  -2.963  0.00  0.00           C  \\nATOM    151  C2c UNL     1      -1.562 -13.168  -3.006  0.00  0.00           C  \\nATOM    152  NB  UNL     1      -0.142 -13.433  -3.328  0.00  0.00           N1+\\nATOM    153  C2d UNL     1      -5.895 -16.484   5.097  0.00  0.00           C  \\nATOM    154  C2e UNL     1      -5.494 -17.297   6.329  0.00  0.00           C  \\nATOM    155  C2f UNL     1      -4.183 -17.112   3.495  0.00  0.00           C  \\nATOM    156  C2g UNL     1      -2.714 -16.901   3.119  0.00  0.00           C  \\nATOM    157  C2h UNL     1       0.165 -13.103  -4.736  0.00  0.00           C  \\nATOM    158  C2i UNL     1       1.654 -13.213  -5.079  0.00  0.00           C  \\nATOM    159  C2j UNL     1       0.241 -14.806  -2.934  0.00  0.00           C  \\nATOM    160  C2k UNL     1      -0.406 -15.952  -3.719  0.00  0.00           C  \\nATOM    161  C2l UNL     1       1.928 -12.761  -6.498  0.00  0.00           C  \\nATOM    162  NC  UNL     1       3.271 -12.680  -6.784  0.00  0.00           N  \\nATOM    163  C2m UNL     1       3.748 -12.400  -8.124  0.00  0.00           C  \\nATOM    164  C2n UNL     1       5.264 -12.173  -8.130  0.00  0.00           C  \\nATOM    165  Oi  UNL     1       1.051 -12.512  -7.317  0.00  0.00           O  \\nATOM    166  C2o UNL     1       0.015 -17.298  -3.165  0.00  0.00           C  \\nATOM    167  ND  UNL     1      -0.632 -18.356  -3.766  0.00  0.00           N  \\nATOM    168  C2p UNL     1      -0.447 -19.724  -3.315  0.00  0.00           C  \\nATOM    169  C2q UNL     1      -9.119   4.143  -5.325  0.00  0.00           C  \\nATOM    170  NE  UNL     1      -9.883   4.913  -4.503  0.00  0.00           N  \\nATOM    171  C2r UNL     1     -10.123   4.813  -3.072  0.00  0.00           C  \\nATOM    172  C2s UNL     1     -11.483   4.133  -2.788  0.00  0.00           C  \\nATOM    173  NF  UNL     1     -11.874   4.133  -1.358  0.00  0.00           N1+\\nATOM    174  C2t UNL     1     -11.043  -1.359  -2.335  0.00  0.00           C  \\nATOM    175  NG  UNL     1     -12.115  -0.664  -2.850  0.00  0.00           N  \\nATOM    176  C2u UNL     1     -13.485  -1.102  -2.648  0.00  0.00           C  \\nATOM    177  C2v UNL     1     -14.042  -0.612  -1.297  0.00  0.00           C  \\nATOM    178  NH  UNL     1     -15.511  -0.724  -1.193  0.00  0.00           N1+\\nATOM    179  Oj  UNL     1      -9.171   4.367  -6.535  0.00  0.00           O  \\nATOM    180  Ok  UNL     1     -11.141  -2.441  -1.768  0.00  0.00           O  \\nATOM    181  Ol  UNL     1       0.853 -17.441  -2.279  0.00  0.00           O  \\nATOM    182  C2w UNL     1       0.900 -20.320  -3.750  0.00  0.00           C  \\nATOM    183  NI  UNL     1       1.111 -21.646  -3.170  0.00  0.00           N  \\nATOM    184  NJ  UNL     1       5.975 -13.275  -7.465  0.00  0.00           N  \\nATOM    185  C2x UNL     1      -6.729 -17.868   6.987  0.00  0.00           C  \\nATOM    186  NK  UNL     1      -7.186 -19.086   6.579  0.00  0.00           N  \\nATOM    187  C2z UNL     1      -2.216 -18.027   2.234  0.00  0.00           C  \\nATOM    188  NL  UNL     1      -0.895 -17.871   1.864  0.00  0.00           N  \\nATOM    189  Om  UNL     1      -2.915 -18.970   1.880  0.00  0.00           O  \\nATOM    190  On  UNL     1      -7.336 -17.248   7.859  0.00  0.00           O  \\nATOM    191  C2y UNL     1      -6.738 -19.894   5.456  0.00  0.00           C  \\nATOM    192  C2A UNL     1      -7.401 -21.279   5.470  0.00  0.00           C  \\nATOM    193  NM  UNL     1      -8.858 -21.181   5.603  0.00  0.00           N  \\nATOM    194  C2B UNL     1      -0.312 -18.716   0.835  0.00  0.00           C  \\nATOM    195  C2C UNL     1       1.221 -18.710   0.886  0.00  0.00           C  \\nATOM    196  NN  UNL     1       1.813 -19.362  -0.284  0.00  0.00           N  \\nATOM    197  C2D UNL     1     -11.076   3.134  -0.597  0.00  0.00           C  \\nATOM    198  C2E UNL     1     -11.059   3.379   0.917  0.00  0.00           C  \\nATOM    199  C2F UNL     1     -10.295   4.632   1.293  0.00  0.00           C  \\nATOM    200  NO  UNL     1     -10.813   5.784   0.746  0.00  0.00           N  \\nATOM    201  Oo  UNL     1      -9.325   4.608   2.042  0.00  0.00           O  \\nATOM    202  C2G UNL     1     -13.327   3.840  -1.221  0.00  0.00           C  \\nATOM    203  C2H UNL     1     -14.199   5.058  -1.541  0.00  0.00           C  \\nATOM    204  C2I UNL     1     -15.663   4.780  -1.263  0.00  0.00           C  \\nATOM    205  NP  UNL     1     -16.479   5.834  -1.588  0.00  0.00           N  \\nATOM    206  Op  UNL     1     -16.081   3.724  -0.797  0.00  0.00           O  \\nATOM    207  C2J UNL     1     -15.991   0.034  -0.015  0.00  0.00           C  \\nATOM    208  C2K UNL     1     -17.485   0.342  -0.111  0.00  0.00           C  \\nATOM    209  C2L UNL     1     -17.953   1.111   1.104  0.00  0.00           C  \\nATOM    210  NQ  UNL     1     -17.519   2.413   1.160  0.00  0.00           N  \\nATOM    211  C2M UNL     1     -15.940  -2.142  -1.126  0.00  0.00           C  \\nATOM    212  C2N UNL     1     -16.698  -2.517  -2.398  0.00  0.00           C  \\nATOM    213  C2O UNL     1     -17.149  -3.963  -2.365  0.00  0.00           C  \\nATOM    214  NR  UNL     1     -17.900  -4.315  -3.469  0.00  0.00           N  \\nATOM    215  Oq  UNL     1     -18.664   0.602   1.965  0.00  0.00           O  \\nATOM    216  Or  UNL     1     -16.875  -4.741  -1.459  0.00  0.00           O  \\nATOM    217  C2P UNL     1     -18.315  -5.693  -3.668  0.00  0.00           C  \\nATOM    218  C2Q UNL     1     -19.408  -5.815  -4.738  0.00  0.00           C  \\nATOM    219  NS  UNL     1     -19.793  -7.202  -4.984  0.00  0.00           N  \\nATOM    220  C2R UNL     1     -17.942   3.314   2.210  0.00  0.00           C  \\nATOM    221  C2S UNL     1     -19.353   3.873   1.964  0.00  0.00           C  \\nATOM    222  NT  UNL     1     -19.750   4.879   2.952  0.00  0.00           N  \\nATOM    223  C2T UNL     1     -10.130   7.053   0.891  0.00  0.00           C  \\nATOM    224  C2U UNL     1     -11.026   8.225   0.470  0.00  0.00           C  \\nATOM    225  NU  UNL     1     -10.370   9.525   0.579  0.00  0.00           N  \\nATOM    226  C2V UNL     1     -17.896   5.847  -1.277  0.00  0.00           C  \\nATOM    227  C2W UNL     1     -18.600   7.005  -1.993  0.00  0.00           C  \\nATOM    228  NV  UNL     1     -17.899   8.277  -1.761  0.00  0.00           N  \\nATOM    229  H   UNL     1      -1.290  -1.162   2.143  0.00  0.00           H  \\nATOM    230  H1  UNL     1      -1.848   0.243   1.293  0.00  0.00           H  \\nATOM    231  H2  UNL     1      -0.402  -0.660  -0.759  0.00  0.00           H  \\nATOM    232  H3  UNL     1       0.162  -1.872   0.370  0.00  0.00           H  \\nATOM    233  H4  UNL     1       2.851   0.519   0.576  0.00  0.00           H  \\nATOM    234  H5  UNL     1       2.214  -0.632  -0.581  0.00  0.00           H  \\nATOM    235  H6  UNL     1       2.087  -2.370   1.264  0.00  0.00           H  \\nATOM    236  H7  UNL     1       2.578  -1.156   2.441  0.00  0.00           H  \\nATOM    237  H8  UNL     1       4.671  -0.214   2.328  0.00  0.00           H  \\nATOM    238  H9  UNL     1       6.877  -0.065   1.601  0.00  0.00           H  \\nATOM    239  Ha  UNL     1       6.672  -1.456   0.521  0.00  0.00           H  \\nATOM    240  Hb  UNL     1       6.547  -2.997   2.433  0.00  0.00           H  \\nATOM    241  Hc  UNL     1       6.663  -1.680   3.590  0.00  0.00           H  \\nATOM    242  Hd  UNL     1      -0.543   1.623   0.132  0.00  0.00           H  \\nATOM    243  He  UNL     1       1.006   1.603  -0.678  0.00  0.00           H  \\nATOM    244  Hf  UNL     1       2.055   2.437   1.524  0.00  0.00           H  \\nATOM    245  Hg  UNL     1       0.434   2.405   2.246  0.00  0.00           H  \\nATOM    246  Hh  UNL     1       0.856   4.617   2.718  0.00  0.00           H  \\nATOM    247  Hi  UNL     1       0.124   6.748   2.347  0.00  0.00           H  \\nATOM    248  Hj  UNL     1      -0.180   6.397   0.631  0.00  0.00           H  \\nATOM    249  Hk  UNL     1       2.284   6.380   0.219  0.00  0.00           H  \\nATOM    250  Hl  UNL     1       2.593   6.855   1.881  0.00  0.00           H  \\nATOM    251  Hm  UNL     1      -1.618  -3.370   0.936  0.00  0.00           H  \\nATOM    252  Hn  UNL     1      -1.835  -2.924  -0.747  0.00  0.00           H  \\nATOM    253  Ho  UNL     1      -4.302  -3.536  -0.514  0.00  0.00           H  \\nATOM    254  Hp  UNL     1      -3.993  -3.960   1.186  0.00  0.00           H  \\nATOM    255  Hq  UNL     1      -5.047  -5.886   0.172  0.00  0.00           H  \\nATOM    256  Hr  UNL     1      -2.954  -7.820  -0.761  0.00  0.00           H  \\nATOM    257  Hs  UNL     1      -4.465  -7.503  -1.622  0.00  0.00           H  \\nATOM    258  Ht  UNL     1      -5.734  -8.294   0.475  0.00  0.00           H  \\nATOM    259  Hu  UNL     1      -4.174  -8.602   1.220  0.00  0.00           H  \\nATOM    260  Hv  UNL     1      -3.881   0.100   0.279  0.00  0.00           H  \\nATOM    261  Hw  UNL     1      -4.538  -1.380  -0.298  0.00  0.00           H  \\nATOM    262  Hx  UNL     1      -2.663  -1.369  -2.132  0.00  0.00           H  \\nATOM    263  Hz  UNL     1      -2.278   0.260  -1.568  0.00  0.00           H  \\nATOM    264  Hy  UNL     1      -4.798  -1.843  -2.855  0.00  0.00           H  \\nATOM    265  HA  UNL     1      -6.661  -1.518  -4.031  0.00  0.00           H  \\nATOM    266  HB  UNL     1      -5.648  -0.300  -4.818  0.00  0.00           H  \\nATOM    267  HC  UNL     1      -6.575   1.490  -3.562  0.00  0.00           H  \\nATOM    268  HD  UNL     1      -7.340   0.469  -2.374  0.00  0.00           H  \\nATOM    269  HE  UNL     1       9.873  -0.990   3.728  0.00  0.00           H  \\nATOM    270  HF  UNL     1       8.466  -0.110   3.235  0.00  0.00           H  \\nATOM    271  HG  UNL     1       9.215  -0.220   0.829  0.00  0.00           H  \\nATOM    272  HH  UNL     1      10.631  -1.171   1.322  0.00  0.00           H  \\nATOM    273  HI  UNL     1      11.170   0.919  -0.086  0.00  0.00           H  \\nATOM    274  HJ  UNL     1      11.575   3.328   1.512  0.00  0.00           H  \\nATOM    275  HK  UNL     1      12.117   3.025  -0.153  0.00  0.00           H  \\nATOM    276  HL  UNL     1      13.876   1.497   0.707  0.00  0.00           H  \\nATOM    277  HM  UNL     1      13.424   1.836   2.367  0.00  0.00           H  \\nATOM    278  HN  UNL     1       8.228  -4.109   3.388  0.00  0.00           H  \\nATOM    279  HO  UNL     1       8.678  -2.889   4.569  0.00  0.00           H  \\nATOM    280  HP  UNL     1      10.630  -4.132   4.379  0.00  0.00           H  \\nATOM    281  HQ  UNL     1      11.004  -2.813   3.282  0.00  0.00           H  \\nATOM    282  HR  UNL     1      12.561  -4.194   2.441  0.00  0.00           H  \\nATOM    283  HS  UNL     1      11.607  -6.100   0.363  0.00  0.00           H  \\nATOM    284  HT  UNL     1      12.581  -6.610   1.740  0.00  0.00           H  \\nATOM    285  HU  UNL     1      13.319  -4.795  -0.579  0.00  0.00           H  \\nATOM    286  HV  UNL     1      14.116  -6.297  -0.113  0.00  0.00           H  \\nATOM    287  HW  UNL     1       3.856   8.817   1.010  0.00  0.00           H  \\nATOM    288  HX  UNL     1       3.044   9.943  -0.065  0.00  0.00           H  \\nATOM    289  HY  UNL     1       2.894   8.074  -1.819  0.00  0.00           H  \\nATOM    290  HZ  UNL     1       4.026   7.159  -0.818  0.00  0.00           H  \\nATOM    291  H!  UNL     1       3.494  10.059  -2.733  0.00  0.00           H  \\nATOM    292  H@  UNL     1       4.923  11.375  -3.878  0.00  0.00           H  \\nATOM    293  H#  UNL     1       6.245  10.260  -3.487  0.00  0.00           H  \\nATOM    294  H$  UNL     1       6.558  11.290  -1.290  0.00  0.00           H  \\nATOM    295  H%  UNL     1       5.205  12.366  -1.492  0.00  0.00           H  \\nATOM    296  H^  UNL     1       1.872   9.128   2.643  0.00  0.00           H  \\nATOM    297  H&  UNL     1       0.255   8.846   2.001  0.00  0.00           H  \\nATOM    298  H_  UNL     1       0.557  10.818   0.442  0.00  0.00           H  \\nATOM    299  H+  UNL     1       2.052  11.208   1.332  0.00  0.00           H  \\nATOM    300  H(  UNL     1       0.490  13.154   1.316  0.00  0.00           H  \\nATOM    301  H)  UNL     1      -0.277  14.671   2.901  0.00  0.00           H  \\nATOM    302  H<  UNL     1      -0.539  13.361   4.069  0.00  0.00           H  \\nATOM    303  H?  UNL     1      -2.569  12.601   2.771  0.00  0.00           H  \\nATOM    304  H>  UNL     1      -2.161  13.765   1.518  0.00  0.00           H  \\nATOM    305  H-  UNL     1       5.587  14.526  -2.406  0.00  0.00           H  \\nATOM    306  H=  UNL     1       5.297  13.563  -3.845  0.00  0.00           H  \\nATOM    307  H:  UNL     1       6.243  15.236  -4.981  0.00  0.00           H  \\nATOM    308  H}  UNL     1       7.754  14.439  -4.564  0.00  0.00           H  \\nATOM    309  H{  UNL     1       7.424  13.690  -0.772  0.00  0.00           H  \\nATOM    310  H]  UNL     1       8.406  14.258  -2.111  0.00  0.00           H  \\nATOM    311  H[  UNL     1       9.458  12.009  -2.367  0.00  0.00           H  \\nATOM    312  H1~ UNL     1       8.623  11.474  -0.893  0.00  0.00           H  \\nATOM    313  H21 UNL     1      -5.097  14.270   2.983  0.00  0.00           H  \\nATOM    314  H22 UNL     1      -4.188  14.323   1.506  0.00  0.00           H  \\nATOM    315  H23 UNL     1      -3.757  16.755   1.745  0.00  0.00           H  \\nATOM    316  H24 UNL     1      -4.741  16.790   3.220  0.00  0.00           H  \\nATOM    317  H25 UNL     1      -2.294  13.997   5.129  0.00  0.00           H  \\nATOM    318  H26 UNL     1      -3.888  13.390   4.740  0.00  0.00           H  \\nATOM    319  H27 UNL     1      -3.393  16.397   5.161  0.00  0.00           H  \\nATOM    320  H28 UNL     1      -3.378  15.316   6.550  0.00  0.00           H  \\nATOM    321  H29 UNL     1      14.816   4.885   2.906  0.00  0.00           H  \\nATOM    322  H2a UNL     1      13.271   4.086   3.049  0.00  0.00           H  \\nATOM    323  H2b UNL     1      12.764   6.262   2.272  0.00  0.00           H  \\nATOM    324  H2c UNL     1      12.657   5.340   0.776  0.00  0.00           H  \\nATOM    325  H2d UNL     1      15.723   2.541   2.867  0.00  0.00           H  \\nATOM    326  H2e UNL     1      16.458   3.805   1.889  0.00  0.00           H  \\nATOM    327  H2f UNL     1      16.232   2.120  -0.122  0.00  0.00           H  \\nATOM    328  H2g UNL     1      16.016   0.892   1.116  0.00  0.00           H  \\nATOM    329  H2h UNL     1      16.226  -3.221   0.692  0.00  0.00           H  \\nATOM    330  H2i UNL     1      15.105  -3.357  -0.615  0.00  0.00           H  \\nATOM    331  H2j UNL     1      16.026  -5.615  -1.224  0.00  0.00           H  \\nATOM    332  H2k UNL     1      17.173  -5.505   0.130  0.00  0.00           H  \\nATOM    333  H2l UNL     1      15.954  -6.016   1.877  0.00  0.00           H  \\nATOM    334  H2m UNL     1      14.440  -5.843   2.720  0.00  0.00           H  \\nATOM    335  H2n UNL     1      16.622  -3.699   2.767  0.00  0.00           H  \\nATOM    336  H2o UNL     1      16.331  -4.921   4.000  0.00  0.00           H  \\nATOM    337  H2p UNL     1      -4.003 -10.907   1.436  0.00  0.00           H  \\nATOM    338  H2q UNL     1      -4.740 -11.995   0.326  0.00  0.00           H  \\nATOM    339  H2r UNL     1      -7.032 -10.829   0.943  0.00  0.00           H  \\nATOM    340  H2s UNL     1      -6.141 -10.075   2.268  0.00  0.00           H  \\nATOM    341  H2t UNL     1      -5.439  -9.344  -2.175  0.00  0.00           H  \\nATOM    342  H2u UNL     1      -6.671  -9.910  -1.063  0.00  0.00           H  \\nATOM    343  H2v UNL     1      -6.492 -11.441  -2.869  0.00  0.00           H  \\nATOM    344  H2w UNL     1      -5.837 -12.301  -1.487  0.00  0.00           H  \\nATOM    345  H2x UNL     1      -9.358   2.092  -3.208  0.00  0.00           H  \\nATOM    346  H2z UNL     1      -9.956   1.785  -4.833  0.00  0.00           H  \\nATOM    347  H2y UNL     1      -7.578   2.724  -5.584  0.00  0.00           H  \\nATOM    348  H2A UNL     1      -7.583   3.480  -3.993  0.00  0.00           H  \\nATOM    349  H2B UNL     1      -8.826  -1.490  -4.236  0.00  0.00           H  \\nATOM    350  H2C UNL     1     -10.147  -0.451  -4.612  0.00  0.00           H  \\nATOM    351  H2D UNL     1      -9.847   0.344  -2.012  0.00  0.00           H  \\nATOM    352  H2E UNL     1      -8.969  -1.175  -1.892  0.00  0.00           H  \\nATOM    353  H2F UNL     1       9.116  16.115  -4.338  0.00  0.00           H  \\nATOM    354  H2G UNL     1       8.326  18.610  -2.968  0.00  0.00           H  \\nATOM    355  H2H UNL     1       9.862  18.252  -3.783  0.00  0.00           H  \\nATOM    356  H2I UNL     1      10.465  16.658  -1.934  0.00  0.00           H  \\nATOM    357  H2J UNL     1       8.947  17.010  -1.112  0.00  0.00           H  \\nATOM    358  H2K UNL     1      10.739  18.240  -0.217  0.00  0.00           H  \\nATOM    359  H2L UNL     1       9.623  19.244  -0.837  0.00  0.00           H  \\nATOM    360  H2M UNL     1      10.924  11.048  -0.388  0.00  0.00           H  \\nATOM    361  H2N UNL     1      11.744  12.507   1.632  0.00  0.00           H  \\nATOM    362  H2O UNL     1      12.649  13.302   0.332  0.00  0.00           H  \\nATOM    363  H2P UNL     1      13.963  11.417   1.453  0.00  0.00           H  \\nATOM    364  H2Q UNL     1      13.745  11.186  -0.289  0.00  0.00           H  \\nATOM    365  H2R UNL     1      12.179   9.908   1.834  0.00  0.00           H  \\nATOM    366  H2S UNL     1      13.314   9.204   0.921  0.00  0.00           H  \\nATOM    367  H2T UNL     1      15.151   4.934   0.005  0.00  0.00           H  \\nATOM    368  H2U UNL     1      16.048   7.600  -0.909  0.00  0.00           H  \\nATOM    369  H2V UNL     1      16.653   6.010  -1.416  0.00  0.00           H  \\nATOM    370  H2W UNL     1      17.694   5.779   0.939  0.00  0.00           H  \\nATOM    371  H2X UNL     1      17.246   7.455   1.239  0.00  0.00           H  \\nATOM    372  H2Y UNL     1      19.444   7.359   0.539  0.00  0.00           H  \\nATOM    373  H2Z UNL     1      18.593   8.087  -0.631  0.00  0.00           H  \\nATOM    374  H2! UNL     1      19.736   2.463   0.631  0.00  0.00           H  \\nATOM    375  H2@ UNL     1      17.726   3.872  -0.718  0.00  0.00           H  \\nATOM    376  H2# UNL     1      17.962   2.344  -1.581  0.00  0.00           H  \\nATOM    377  H2$ UNL     1      19.400   4.164  -2.538  0.00  0.00           H  \\nATOM    378  H2% UNL     1      20.360   2.819  -1.904  0.00  0.00           H  \\nATOM    379  H2^ UNL     1      19.838   5.369  -0.542  0.00  0.00           H  \\nATOM    380  H2& UNL     1      21.225   4.942  -1.267  0.00  0.00           H  \\nATOM    381  H2_ UNL     1      18.405  -6.018  -1.949  0.00  0.00           H  \\nATOM    382  H2+ UNL     1      19.078  -3.717  -3.623  0.00  0.00           H  \\nATOM    383  H2( UNL     1      19.778  -5.348  -3.661  0.00  0.00           H  \\nATOM    384  H2) UNL     1      21.056  -4.816  -1.542  0.00  0.00           H  \\nATOM    385  H2< UNL     1      20.406  -3.179  -1.561  0.00  0.00           H  \\nATOM    386  H2? UNL     1      22.560  -3.256  -2.504  0.00  0.00           H  \\nATOM    387  H2> UNL     1      21.486  -2.807  -3.639  0.00  0.00           H  \\nATOM    388  H2- UNL     1      16.301  -2.076   4.323  0.00  0.00           H  \\nATOM    389  H2= UNL     1      15.184  -0.776   5.845  0.00  0.00           H  \\nATOM    390  H2: UNL     1      13.857  -1.953   5.917  0.00  0.00           H  \\nATOM    391  H2} UNL     1      12.986  -1.132   3.711  0.00  0.00           H  \\nATOM    392  H2{ UNL     1      14.335  -0.008   3.589  0.00  0.00           H  \\nATOM    393  H2] UNL     1      12.270   0.022   5.681  0.00  0.00           H  \\nATOM    394  H2[ UNL     1      12.276   0.972   4.375  0.00  0.00           H  \\nATOM    395  H2` UNL     1      -5.604  18.492   1.657  0.00  0.00           H  \\nATOM    396  H2~ UNL     1      -7.457  17.470  -0.387  0.00  0.00           H  \\nATOM    397  H31 UNL     1      -7.159  19.157   0.070  0.00  0.00           H  \\nATOM    398  H32 UNL     1      -8.451  18.813   2.192  0.00  0.00           H  \\nATOM    399  H33 UNL     1      -8.741  17.132   1.771  0.00  0.00           H  \\nATOM    400  H34 UNL     1      -9.986  17.848  -0.115  0.00  0.00           H  \\nATOM    401  H35 UNL     1      -9.666  19.421   0.172  0.00  0.00           H  \\nATOM    402  H36 UNL     1      -5.098  17.440   6.311  0.00  0.00           H  \\nATOM    403  H37 UNL     1      -7.257  17.813   6.950  0.00  0.00           H  \\nATOM    404  H38 UNL     1      -7.617  16.081   6.811  0.00  0.00           H  \\nATOM    405  H39 UNL     1      -7.819  16.297   4.323  0.00  0.00           H  \\nATOM    406  H3a UNL     1      -7.357  17.993   4.420  0.00  0.00           H  \\nATOM    407  H3b UNL     1      -9.774  16.788   5.566  0.00  0.00           H  \\nATOM    408  H3c UNL     1      -9.706  17.697   4.225  0.00  0.00           H  \\nATOM    409  H3d UNL     1      -4.805 -11.601   3.662  0.00  0.00           H  \\nATOM    410  H3e UNL     1      -3.264 -10.899  -1.482  0.00  0.00           H  \\nATOM    411  H3f UNL     1      -6.382 -13.603   4.713  0.00  0.00           H  \\nATOM    412  H3g UNL     1      -4.643 -13.386   5.009  0.00  0.00           H  \\nATOM    413  H3h UNL     1      -4.252 -14.635   2.794  0.00  0.00           H  \\nATOM    414  H3i UNL     1      -5.932 -15.134   2.824  0.00  0.00           H  \\nATOM    415  H3j UNL     1      -1.194 -11.116  -2.369  0.00  0.00           H  \\nATOM    416  H3k UNL     1      -1.955 -11.241  -3.970  0.00  0.00           H  \\nATOM    417  H3l UNL     1      -2.225 -13.693  -3.705  0.00  0.00           H  \\nATOM    418  H3m UNL     1      -1.781 -13.575  -2.010  0.00  0.00           H  \\nATOM    419  H3n UNL     1      -6.574 -17.045   4.443  0.00  0.00           H  \\nATOM    420  H3o UNL     1      -6.481 -15.636   5.469  0.00  0.00           H  \\nATOM    421  H3p UNL     1      -4.989 -16.653   7.060  0.00  0.00           H  \\nATOM    422  H3q UNL     1      -4.791 -18.102   6.105  0.00  0.00           H  \\nATOM    423  H3r UNL     1      -4.802 -17.245   2.597  0.00  0.00           H  \\nATOM    424  H3s UNL     1      -4.237 -18.066   4.034  0.00  0.00           H  \\nATOM    425  H3t UNL     1      -2.095 -16.870   4.023  0.00  0.00           H  \\nATOM    426  H3u UNL     1      -2.573 -15.963   2.572  0.00  0.00           H  \\nATOM    427  H3v UNL     1      -0.130 -12.066  -4.933  0.00  0.00           H  \\nATOM    428  H3w UNL     1      -0.428 -13.723  -5.421  0.00  0.00           H  \\nATOM    429  H3x UNL     1       2.001 -14.249  -4.999  0.00  0.00           H  \\nATOM    430  H3z UNL     1       2.244 -12.592  -4.394  0.00  0.00           H  \\nATOM    431  H3y UNL     1       0.019 -14.931  -1.865  0.00  0.00           H  \\nATOM    432  H3A UNL     1       1.333 -14.899  -2.983  0.00  0.00           H  \\nATOM    433  H3B UNL     1      -0.109 -15.919  -4.772  0.00  0.00           H  \\nATOM    434  H3C UNL     1      -1.498 -15.892  -3.661  0.00  0.00           H  \\nATOM    435  H3D UNL     1       3.946 -13.115  -6.162  0.00  0.00           H  \\nATOM    436  H3E UNL     1       3.223 -11.521  -8.514  0.00  0.00           H  \\nATOM    437  H3F UNL     1       3.484 -13.258  -8.754  0.00  0.00           H  \\nATOM    438  H3G UNL     1       5.496 -11.246  -7.594  0.00  0.00           H  \\nATOM    439  H3H UNL     1       5.623 -12.065  -9.158  0.00  0.00           H  \\nATOM    440  H3I UNL     1      -1.351 -18.174  -4.457  0.00  0.00           H  \\nATOM    441  H3J UNL     1      -1.274 -20.315  -3.725  0.00  0.00           H  \\nATOM    442  H3K UNL     1      -0.537 -19.733  -2.223  0.00  0.00           H  \\nATOM    443  H3L UNL     1     -10.400   5.619  -5.016  0.00  0.00           H  \\nATOM    444  H3M UNL     1     -10.137   5.839  -2.688  0.00  0.00           H  \\nATOM    445  H3N UNL     1      -9.290   4.291  -2.598  0.00  0.00           H  \\nATOM    446  H3O UNL     1     -11.495   3.112  -3.190  0.00  0.00           H  \\nATOM    447  H3P UNL     1     -12.225   4.686  -3.375  0.00  0.00           H  \\nATOM    448  H3Q UNL     1     -11.972   0.265  -3.222  0.00  0.00           H  \\nATOM    449  H3R UNL     1     -13.527  -2.194  -2.717  0.00  0.00           H  \\nATOM    450  H3S UNL     1     -14.067  -0.680  -3.475  0.00  0.00           H  \\nATOM    451  H3T UNL     1     -13.763   0.447  -1.210  0.00  0.00           H  \\nATOM    452  H3U UNL     1     -13.541  -1.127  -0.467  0.00  0.00           H  \\nATOM    453  H3V UNL     1       1.728 -19.667  -3.454  0.00  0.00           H  \\nATOM    454  H3W UNL     1       0.930 -20.395  -4.843  0.00  0.00           H  \\nATOM    455  H3X UNL     1       1.154 -21.545  -2.151  0.00  0.00           H  \\nATOM    456  H3Y UNL     1       2.035 -21.982  -3.442  0.00  0.00           H  \\nATOM    457  H3Z UNL     1       6.978 -13.088  -7.503  0.00  0.00           H  \\nATOM    458  H3! UNL     1       5.831 -14.133  -7.997  0.00  0.00           H  \\nATOM    459  H3@ UNL     1      -8.074 -19.362   6.991  0.00  0.00           H  \\nATOM    460  H3# UNL     1      -0.488 -16.953   1.989  0.00  0.00           H  \\nATOM    461  H3$ UNL     1      -5.650 -20.000   5.495  0.00  0.00           H  \\nATOM    462  H3% UNL     1      -6.997 -19.357   4.538  0.00  0.00           H  \\nATOM    463  H3^ UNL     1      -7.019 -21.856   6.320  0.00  0.00           H  \\nATOM    464  H3& UNL     1      -7.145 -21.823   4.555  0.00  0.00           H  \\nATOM    465  H3_ UNL     1      -9.241 -20.676   4.804  0.00  0.00           H  \\nATOM    466  H3+ UNL     1      -9.261 -22.118   5.565  0.00  0.00           H  \\nATOM    467  H3( UNL     1      -0.672 -18.324  -0.123  0.00  0.00           H  \\nATOM    468  H3) UNL     1      -0.694 -19.738   0.939  0.00  0.00           H  \\nATOM    469  H3< UNL     1       1.561 -19.216   1.796  0.00  0.00           H  \\nATOM    470  H3? UNL     1       1.589 -17.678   0.937  0.00  0.00           H  \\nATOM    471  H3> UNL     1       2.828 -19.274  -0.225  0.00  0.00           H  \\nATOM    472  H3- UNL     1       1.556 -18.794  -1.107  0.00  0.00           H  \\nATOM    473  H3= UNL     1     -10.032   3.153  -0.929  0.00  0.00           H  \\nATOM    474  H3: UNL     1     -11.447   2.122  -0.804  0.00  0.00           H  \\nATOM    475  H3} UNL     1     -10.559   2.531   1.401  0.00  0.00           H  \\nATOM    476  H3{ UNL     1     -12.063   3.438   1.350  0.00  0.00           H  \\nATOM    477  H3] UNL     1     -11.382   5.637  -0.088  0.00  0.00           H  \\nATOM    478  H3[ UNL     1     -13.553   3.544  -0.190  0.00  0.00           H  \\nATOM    479  H3` UNL     1     -13.611   2.985  -1.849  0.00  0.00           H  \\nATOM    480  H3~ UNL     1     -14.108   5.348  -2.592  0.00  0.00           H  \\nATOM    481  H41 UNL     1     -13.893   5.909  -0.920  0.00  0.00           H  \\nATOM    482  H42 UNL     1     -16.078   6.750  -1.774  0.00  0.00           H  \\nATOM    483  H43 UNL     1     -15.460   0.994   0.039  0.00  0.00           H  \\nATOM    484  H44 UNL     1     -15.755  -0.493   0.919  0.00  0.00           H  \\nATOM    485  H45 UNL     1     -18.085  -0.572  -0.178  0.00  0.00           H  \\nATOM    486  H46 UNL     1     -17.704   0.935  -1.008  0.00  0.00           H  \\nATOM    487  H47 UNL     1     -17.028   2.812   0.355  0.00  0.00           H  \\nATOM    488  H48 UNL     1     -16.591  -2.327  -0.261  0.00  0.00           H  \\nATOM    489  H49 UNL     1     -15.086  -2.817  -0.979  0.00  0.00           H  \\nATOM    490  H4a UNL     1     -16.062  -2.382  -3.280  0.00  0.00           H  \\nATOM    491  H4b UNL     1     -17.584  -1.882  -2.512  0.00  0.00           H  \\nATOM    492  H4c UNL     1     -17.859  -3.706  -4.276  0.00  0.00           H  \\nATOM    493  H4d UNL     1     -18.667  -6.099  -2.712  0.00  0.00           H  \\nATOM    494  H4e UNL     1     -17.423  -6.259  -3.962  0.00  0.00           H  \\nATOM    495  H4f UNL     1     -19.058  -5.369  -5.677  0.00  0.00           H  \\nATOM    496  H4g UNL     1     -20.292  -5.248  -4.425  0.00  0.00           H  \\nATOM    497  H4h UNL     1     -18.989  -7.736  -5.313  0.00  0.00           H  \\nATOM    498  H4i UNL     1     -20.488  -7.237  -5.729  0.00  0.00           H  \\nATOM    499  H4j UNL     1     -17.209   4.128   2.242  0.00  0.00           H  \\nATOM    500  H4k UNL     1     -17.907   2.785   3.169  0.00  0.00           H  \\nATOM    501  H4l UNL     1     -20.090   3.062   1.967  0.00  0.00           H  \\nATOM    502  H4m UNL     1     -19.399   4.328   0.969  0.00  0.00           H  \\nATOM    503  H4n UNL     1     -19.005   5.563   3.071  0.00  0.00           H  \\nATOM    504  H4o UNL     1     -19.856   4.422   3.859  0.00  0.00           H  \\nATOM    505  H4p UNL     1      -9.229   7.013   0.269  0.00  0.00           H  \\nATOM    506  H4q UNL     1      -9.812   7.165   1.934  0.00  0.00           H  \\nATOM    507  H4r UNL     1     -11.935   8.234   1.082  0.00  0.00           H  \\nATOM    508  H4s UNL     1     -11.352   8.084  -0.567  0.00  0.00           H  \\nATOM    509  H4t UNL     1      -9.499   9.525   0.049  0.00  0.00           H  \\nATOM    510  H4u UNL     1     -10.100   9.694   1.549  0.00  0.00           H  \\nATOM    511  H4v UNL     1     -17.986   5.957  -0.190  0.00  0.00           H  \\nATOM    512  H4w UNL     1     -18.338   4.886  -1.560  0.00  0.00           H  \\nATOM    513  H4x UNL     1     -19.639   7.082  -1.656  0.00  0.00           H  \\nATOM    514  H4z UNL     1     -18.609   6.814  -3.072  0.00  0.00           H  \\nATOM    515  H4y UNL     1     -17.985   8.528  -0.775  0.00  0.00           H  \\nATOM    516  H4A UNL     1     -18.386   9.016  -2.271  0.00  0.00           H  \\nATOM    517  H4B UNL     1      -3.231  -1.731   1.493  0.00  0.00           H  \\nATOM    518  H4C UNL     1       0.713   0.130   1.828  0.00  0.00           H  \\nATOM    519  H4D UNL     1       8.754  -2.444   1.680  0.00  0.00           H  \\nATOM    520  H4E UNL     1       1.169   8.454  -0.131  0.00  0.00           H  \\nATOM    521  H4F UNL     1      -3.775 -10.116  -0.696  0.00  0.00           H  \\nATOM    522  H4G UNL     1      -8.055   0.426  -5.205  0.00  0.00           H  \\nATOM    523  H4H UNL     1      14.533   3.793   0.465  0.00  0.00           H  \\nATOM    524  H4I UNL     1      14.121  -3.808   1.413  0.00  0.00           H  \\nATOM    525  H4J UNL     1       7.390  12.435  -3.437  0.00  0.00           H  \\nATOM    526  H4K UNL     1      -2.501  15.515   3.228  0.00  0.00           H  \\nATOM    527  H4L UNL     1      -4.006 -15.716   4.979  0.00  0.00           H  \\nATOM    528  H4M UNL     1       0.400 -12.811  -2.763  0.00  0.00           H  \\nATOM    529  H4N UNL     1     -11.695   5.040  -0.978  0.00  0.00           H  \\nATOM    530  H4O UNL     1     -15.914  -0.315  -2.012  0.00  0.00           H  \\nCONECT    1    2   21   29  517\\nCONECT    2    3  229  230\\nCONECT    3    4  231  232\\nCONECT    4    5   13  518\\nCONECT    5    6  233  234\\nCONECT    6    7  235  236\\nCONECT    7    8    9\\nCONECT    9   10  237\\nCONECT   10   11  238  239\\nCONECT   11   12  240  241\\nCONECT   12   37   45  519\\nCONECT   13   14  242  243\\nCONECT   14   15  244  245\\nCONECT   15   16   17\\nCONECT   17   18  246\\nCONECT   18   19  247  248\\nCONECT   19   20  249  250\\nCONECT   20   53   61  520\\nCONECT   21   22  251  252\\nCONECT   22   23  253  254\\nCONECT   23   24   28\\nCONECT   24   25  255\\nCONECT   25   26  256  257\\nCONECT   26   27  258  259\\nCONECT   27   85   87  521\\nCONECT   29   30  260  261\\nCONECT   30   31  262  263\\nCONECT   31   32   33\\nCONECT   33   34  264\\nCONECT   34   35  265  266\\nCONECT   35   36  267  268\\nCONECT   36   89   91  522\\nCONECT   37   38  269  270\\nCONECT   38   39  271  272\\nCONECT   39   40   41\\nCONECT   41   42  273\\nCONECT   42   43  274  275\\nCONECT   43   44  276  277\\nCONECT   44   77   79  523\\nCONECT   45   46  278  279\\nCONECT   46   47  280  281\\nCONECT   47   48   49\\nCONECT   49   50  282\\nCONECT   50   51  283  284\\nCONECT   51   52  285  286\\nCONECT   52   81   83  524\\nCONECT   53   54  287  288\\nCONECT   54   55  289  290\\nCONECT   55   56   57\\nCONECT   57   58  291\\nCONECT   58   59  292  293\\nCONECT   59   60  294  295\\nCONECT   60   69   71  525\\nCONECT   61   62  296  297\\nCONECT   62   63  298  299\\nCONECT   63   64   68\\nCONECT   64   65  300\\nCONECT   65   66  301  302\\nCONECT   66   67  303  304\\nCONECT   67   73   75  526\\nCONECT   69   70  305  306\\nCONECT   70   93  307  308\\nCONECT   71   72  309  310\\nCONECT   72   99  311  312\\nCONECT   73   74  313  314\\nCONECT   74  129  315  316\\nCONECT   75   76  317  318\\nCONECT   76  135  319  320\\nCONECT   77   78  321  322\\nCONECT   78  105  323  324\\nCONECT   79   80  325  326\\nCONECT   80  110  327  328\\nCONECT   81   82  329  330\\nCONECT   82  117  331  332\\nCONECT   83   84  333  334\\nCONECT   84  123  335  336\\nCONECT   85   86  337  338\\nCONECT   86  141  339  340\\nCONECT   87   88  341  342\\nCONECT   88  143  343  344\\nCONECT   89   90  345  346\\nCONECT   90  169  347  348\\nCONECT   91   92  349  350\\nCONECT   92  174  351  352\\nCONECT   93   94   98\\nCONECT   94   95  353\\nCONECT   95   96  354  355\\nCONECT   96   97  356  357\\nCONECT   97  358  359\\nCONECT   99  100  104\\nCONECT  100  101  360\\nCONECT  101  102  361  362\\nCONECT  102  103  363  364\\nCONECT  103  365  366\\nCONECT  105  106  115\\nCONECT  106  107  367\\nCONECT  107  108  368  369\\nCONECT  108  109  370  371\\nCONECT  109  372  373\\nCONECT  110  111  116\\nCONECT  111  112  374\\nCONECT  112  113  375  376\\nCONECT  113  114  377  378\\nCONECT  114  379  380\\nCONECT  117  118  122\\nCONECT  118  119  381\\nCONECT  119  120  382  383\\nCONECT  120  121  384  385\\nCONECT  121  386  387\\nCONECT  123  124  128\\nCONECT  124  125  388\\nCONECT  125  126  389  390\\nCONECT  126  127  391  392\\nCONECT  127  393  394\\nCONECT  129  130  134\\nCONECT  130  131  395\\nCONECT  131  132  396  397\\nCONECT  132  133  398  399\\nCONECT  133  400  401\\nCONECT  135  136  140\\nCONECT  136  137  402\\nCONECT  137  138  403  404\\nCONECT  138  139  405  406\\nCONECT  139  407  408\\nCONECT  141  142  146\\nCONECT  142  147  409\\nCONECT  143  144  145\\nCONECT  144  150  410\\nCONECT  147  148  411  412\\nCONECT  148  149  413  414\\nCONECT  149  153  155  527\\nCONECT  150  151  415  416\\nCONECT  151  152  417  418\\nCONECT  152  157  159  528\\nCONECT  153  154  419  420\\nCONECT  154  185  421  422\\nCONECT  155  156  423  424\\nCONECT  156  187  425  426\\nCONECT  157  158  427  428\\nCONECT  158  161  429  430\\nCONECT  159  160  431  432\\nCONECT  160  166  433  434\\nCONECT  161  162  165\\nCONECT  162  163  435\\nCONECT  163  164  436  437\\nCONECT  164  184  438  439\\nCONECT  166  167  181\\nCONECT  167  168  440\\nCONECT  168  182  441  442\\nCONECT  169  170  179\\nCONECT  170  171  443\\nCONECT  171  172  444  445\\nCONECT  172  173  446  447\\nCONECT  173  197  202  529\\nCONECT  174  175  180\\nCONECT  175  176  448\\nCONECT  176  177  449  450\\nCONECT  177  178  451  452\\nCONECT  178  207  211  530\\nCONECT  182  183  453  454\\nCONECT  183  455  456\\nCONECT  184  457  458\\nCONECT  185  186  190\\nCONECT  186  191  459\\nCONECT  187  188  189\\nCONECT  188  194  460\\nCONECT  191  192  461  462\\nCONECT  192  193  463  464\\nCONECT  193  465  466\\nCONECT  194  195  467  468\\nCONECT  195  196  469  470\\nCONECT  196  471  472\\nCONECT  197  198  473  474\\nCONECT  198  199  475  476\\nCONECT  199  200  201\\nCONECT  200  223  477\\nCONECT  202  203  478  479\\nCONECT  203  204  480  481\\nCONECT  204  205  206\\nCONECT  205  226  482\\nCONECT  207  208  483  484\\nCONECT  208  209  485  486\\nCONECT  209  210  215\\nCONECT  210  220  487\\nCONECT  211  212  488  489\\nCONECT  212  213  490  491\\nCONECT  213  214  216\\nCONECT  214  217  492\\nCONECT  217  218  493  494\\nCONECT  218  219  495  496\\nCONECT  219  497  498\\nCONECT  220  221  499  500\\nCONECT  221  222  501  502\\nCONECT  222  503  504\\nCONECT  223  224  505  506\\nCONECT  224  225  507  508\\nCONECT  225  509  510\\nCONECT  226  227  511  512\\nCONECT  227  228  513  514\\nCONECT  228  515  516\\nEND\\n\",\"pdb\",{\"keepH\": true});\n\tviewer_16523428515418844.setStyle({\"model\": -1},{\"stick\": {}});\n\tviewer_16523428515418844.setClickable({},true,\"function(atom,viewer,event,container) {\\n                   if(!atom.label) {\\n                        atom.label = viewer.addLabel(atom.atom+\\\":\\\"+atom.serial,{position: atom, backgroundColor: 'mintcream', fontColor:'black', backgroundOpacity: \\\"0.5\\\"});\\n                        console.log(Object.getOwnPropertyNames(atom))\\n                        console.log(atom.serial)\\n                        viewer.setStyle({\\\"serial\\\": atom.serial}, {\\\"stick\\\": {\\\"color\\\": 0xFF0000}})\\n                        \\n                        atom_data = document.getElementById(\\\"atoms_of_class_xxx\\\");\\n                        var a = atom_data.dataset.atoms;\\n                        var arr = a.split(',').map(element => {\\n                          return Number(element);\\n                        });\\n                        arr.push(atom.serial)\\n                        atom_data.dataset.atoms = arr;\\n                   }\\n                   else {\\n                        viewer.removeLabel(atom.label);\\n                        delete atom.label;\\n                        viewer.setStyle({\\\"serial\\\": atom.serial}, {\\\"stick\\\": {\\\"colorscheme\\\": \\\"default\\\"}})\\n                        \\n                        atom_data = document.getElementById(\\\"atoms_of_class_xxx\\\");\\n                        var a = atom_data.dataset.atoms;\\n                        var arr = a.split(',').map(element => {\\n                          return Number(element);\\n                        });\\n                        arr = arr.filter(function(item) {\\n                            return item !== atom.serial\\n                        })\\n                        atom_data.dataset.atoms = arr;\\n                   }\\n                   viewer.render();}\");\n\tviewer_16523428515418844.addCylinder({\"start\": {\"x\": 1, \"y\": 1, \"z\": 1}, \"end\": {\"x\": 2, \"y\": 2, \"z\": 2}, \"radius\": 0.4, \"fromCap\": 0, \"toCap\": 0, \"dashed\": true, \"opacity\": \"0.5\"});\nviewer_16523428515418844.render();\n});\n</script>",
      "text/html": [
       "<div id=\"3dmolviewer_16523428515418844\"  style=\"position: relative; width: 800px; height: 500px\">\n",
       "        <p id=\"3dmolwarning_16523428515418844\" style=\"background-color:#ffcccc;color:black\">You appear to be running in JupyterLab (or JavaScript failed to load for some other reason).  You need to install the 3dmol extension: <br>\n",
       "        <tt>jupyter labextension install jupyterlab_3dmol</tt></p>\n",
       "        </div>\n",
       "<script>\n",
       "\n",
       "var loadScriptAsync = function(uri){\n",
       "  return new Promise((resolve, reject) => {\n",
       "    var tag = document.createElement('script');\n",
       "    tag.src = uri;\n",
       "    tag.async = true;\n",
       "    tag.onload = () => {\n",
       "      resolve();\n",
       "    };\n",
       "  var firstScriptTag = document.getElementsByTagName('script')[0];\n",
       "  firstScriptTag.parentNode.insertBefore(tag, firstScriptTag);\n",
       "});\n",
       "};\n",
       "\n",
       "if(typeof $3Dmolpromise === 'undefined') {\n",
       "$3Dmolpromise = null;\n",
       "  $3Dmolpromise = loadScriptAsync('https://3dmol.org/build/3Dmol.js');\n",
       "}\n",
       "\n",
       "var viewer_16523428515418844 = null;\n",
       "var warn = document.getElementById(\"3dmolwarning_16523428515418844\");\n",
       "if(warn) {\n",
       "    warn.parentNode.removeChild(warn);\n",
       "}\n",
       "$3Dmolpromise.then(function() {\n",
       "viewer_16523428515418844 = $3Dmol.createViewer($(\"#3dmolviewer_16523428515418844\"),{backgroundColor:\"white\"});\n",
       "viewer_16523428515418844.zoomTo();\n",
       "\tviewer_16523428515418844.addModel(\"ATOM      1  N   UNL     1      -2.689  -1.584   0.666  0.00  0.00           N1+\\nATOM      2  C   UNL     1      -1.532  -0.796   1.135  0.00  0.00           C  \\nATOM      3  C1  UNL     1      -0.220  -0.847   0.304  0.00  0.00           C  \\nATOM      4  N1  UNL     1       0.789   0.104   0.831  0.00  0.00           N1+\\nATOM      5  C2  UNL     1       2.159  -0.327   0.473  0.00  0.00           C  \\nATOM      6  C3  UNL     1       2.662  -1.446   1.386  0.00  0.00           C  \\nATOM      7  C4  UNL     1       4.109  -1.758   1.076  0.00  0.00           C  \\nATOM      8  O   UNL     1       4.435  -2.693   0.355  0.00  0.00           O  \\nATOM      9  N2  UNL     1       5.007  -0.884   1.647  0.00  0.00           N  \\nATOM     10  C5  UNL     1       6.444  -1.066   1.519  0.00  0.00           C  \\nATOM     11  C6  UNL     1       7.004  -2.013   2.600  0.00  0.00           C  \\nATOM     12  N3  UNL     1       8.478  -2.157   2.597  0.00  0.00           N1+\\nATOM     13  C7  UNL     1       0.530   1.466   0.302  0.00  0.00           C  \\nATOM     14  C8  UNL     1       0.985   2.527   1.305  0.00  0.00           C  \\nATOM     15  C9  UNL     1       0.751   3.923   0.767  0.00  0.00           C  \\nATOM     16  O1  UNL     1       0.647   4.177  -0.427  0.00  0.00           O  \\nATOM     17  N4  UNL     1       0.719   4.886   1.752  0.00  0.00           N  \\nATOM     18  Ca  UNL     1       0.547   6.298   1.445  0.00  0.00           C  \\nATOM     19  Cb  UNL     1       1.882   6.967   1.052  0.00  0.00           C  \\nATOM     20  N5  UNL     1       1.799   8.393   0.643  0.00  0.00           N1+\\nATOM     21  Cc  UNL     1      -2.338  -2.942   0.226  0.00  0.00           C  \\nATOM     22  Cd  UNL     1      -3.541  -3.890   0.190  0.00  0.00           C  \\nATOM     23  Ce  UNL     1      -3.135  -5.276  -0.269  0.00  0.00           C  \\nATOM     24  N6  UNL     1      -4.121  -6.221  -0.066  0.00  0.00           N  \\nATOM     25  Cf  UNL     1      -4.010  -7.558  -0.629  0.00  0.00           C  \\nATOM     26  Cg  UNL     1      -4.705  -8.608   0.258  0.00  0.00           C  \\nATOM     27  N7  UNL     1      -4.685  -9.976  -0.307  0.00  0.00           N1+\\nATOM     28  O2  UNL     1      -2.059  -5.523  -0.802  0.00  0.00           O  \\nATOM     29  Ch  UNL     1      -3.591  -0.834  -0.222  0.00  0.00           C  \\nATOM     30  Ci  UNL     1      -3.072  -0.492  -1.618  0.00  0.00           C  \\nATOM     31  Cj  UNL     1      -4.188   0.071  -2.472  0.00  0.00           C  \\nATOM     32  O3  UNL     1      -4.276   1.267  -2.728  0.00  0.00           O  \\nATOM     33  N8  UNL     1      -5.093  -0.875  -2.904  0.00  0.00           N  \\nATOM     34  Ck  UNL     1      -6.135  -0.572  -3.874  0.00  0.00           C  \\nATOM     35  Cl  UNL     1      -7.111   0.544  -3.443  0.00  0.00           C  \\nATOM     36  N9  UNL     1      -8.344   0.568  -4.258  0.00  0.00           N1+\\nATOM     37  Cm  UNL     1       9.166  -0.885   2.896  0.00  0.00           C  \\nATOM     38  Cn  UNL     1       9.914  -0.409   1.651  0.00  0.00           C  \\nATOM     39  Co  UNL     1      10.688   0.861   1.927  0.00  0.00           C  \\nATOM     40  O4  UNL     1      10.843   1.336   3.048  0.00  0.00           O  \\nATOM     41  Na  UNL     1      11.235   1.421   0.792  0.00  0.00           N  \\nATOM     42  Cp  UNL     1      12.073   2.606   0.858  0.00  0.00           C  \\nATOM     43  Cq  UNL     1      13.490   2.281   1.369  0.00  0.00           C  \\nATOM     44  Nb  UNL     1      14.450   3.416   1.388  0.00  0.00           N1+\\nATOM     45  Cr  UNL     1       8.868  -3.232   3.542  0.00  0.00           C  \\nATOM     46  Cs  UNL     1      10.334  -3.665   3.431  0.00  0.00           C  \\nATOM     47  Ct  UNL     1      10.579  -4.709   2.360  0.00  0.00           C  \\nATOM     48  O5  UNL     1       9.746  -5.539   2.011  0.00  0.00           O  \\nATOM     49  Nc  UNL     1      11.868  -4.683   1.871  0.00  0.00           N  \\nATOM     50  Cu  UNL     1      12.382  -5.771   1.064  0.00  0.00           C  \\nATOM     51  Cv  UNL     1      13.656  -5.384   0.284  0.00  0.00           C  \\nATOM     52  Nd  UNL     1      14.641  -4.573   1.033  0.00  0.00           N1+\\nATOM     53  Cw  UNL     1       3.123   8.882   0.194  0.00  0.00           C  \\nATOM     54  Cx  UNL     1       3.667   8.168  -1.048  0.00  0.00           C  \\nATOM     55  Cz  UNL     1       4.832   8.955  -1.603  0.00  0.00           C  \\nATOM     56  O6  UNL     1       5.991   8.734  -1.269  0.00  0.00           O  \\nATOM     57  Ne  UNL     1       4.464   9.972  -2.456  0.00  0.00           N  \\nATOM     58  Cy  UNL     1       5.438  10.866  -3.058  0.00  0.00           C  \\nATOM     59  CA  UNL     1       6.016  11.872  -2.043  0.00  0.00           C  \\nATOM     60  Nf  UNL     1       6.907  12.873  -2.679  0.00  0.00           N1+\\nATOM     61  CB  UNL     1       1.250   9.225   1.744  0.00  0.00           C  \\nATOM     62  CC  UNL     1       1.079  10.710   1.401  0.00  0.00           C  \\nATOM     63  CD  UNL     1       0.272  11.439   2.456  0.00  0.00           C  \\nATOM     64  Ng  UNL     1       0.153  12.789   2.197  0.00  0.00           N  \\nATOM     65  CE  UNL     1      -0.670  13.656   3.024  0.00  0.00           C  \\nATOM     66  CF  UNL     1      -2.154  13.604   2.605  0.00  0.00           C  \\nATOM     67  Nh  UNL     1      -2.992  14.644   3.252  0.00  0.00           N1+\\nATOM     68  O7  UNL     1      -0.225  10.895   3.435  0.00  0.00           O  \\nATOM     69  CG  UNL     1       6.091  13.992  -3.221  0.00  0.00           C  \\nATOM     70  CH  UNL     1       6.878  14.939  -4.137  0.00  0.00           C  \\nATOM     71  CI  UNL     1       7.908  13.373  -1.705  0.00  0.00           C  \\nATOM     72  CJ  UNL     1       9.013  12.348  -1.423  0.00  0.00           C  \\nATOM     73  CK  UNL     1      -4.265  14.791   2.497  0.00  0.00           C  \\nATOM     74  CL  UNL     1      -4.587  16.268   2.272  0.00  0.00           C  \\nATOM     75  CM  UNL     1      -3.249  14.279   4.671  0.00  0.00           C  \\nATOM     76  CN  UNL     1      -3.769  15.436   5.531  0.00  0.00           C  \\nATOM     77  CO  UNL     1      13.981   4.487   2.314  0.00  0.00           C  \\nATOM     78  CP  UNL     1      13.346   5.662   1.563  0.00  0.00           C  \\nATOM     79  CQ  UNL     1      15.785   2.939   1.845  0.00  0.00           C  \\nATOM     80  CR  UNL     1      16.426   1.891   0.929  0.00  0.00           C  \\nATOM     81  CS  UNL     1      15.640  -3.959   0.133  0.00  0.00           C  \\nATOM     82  CT  UNL     1      16.588  -4.922  -0.590  0.00  0.00           C  \\nATOM     83  CU  UNL     1      15.214  -5.273   2.194  0.00  0.00           C  \\nATOM     84  CV  UNL     1      15.845  -4.323   3.219  0.00  0.00           C  \\nATOM     85  CW  UNL     1      -4.861 -10.994   0.754  0.00  0.00           C  \\nATOM     86  CX  UNL     1      -6.147 -10.928   1.581  0.00  0.00           C  \\nATOM     87  CY  UNL     1      -5.655 -10.111  -1.422  0.00  0.00           C  \\nATOM     88  CZ  UNL     1      -5.655 -11.457  -2.158  0.00  0.00           C  \\nATOM     89  C!  UNL     1      -9.042   1.869  -4.231  0.00  0.00           C  \\nATOM     90  C@  UNL     1      -8.232   3.051  -4.765  0.00  0.00           C  \\nATOM     91  C#  UNL     1      -9.280  -0.536  -3.944  0.00  0.00           C  \\nATOM     92  C$  UNL     1      -9.723  -0.639  -2.480  0.00  0.00           C  \\nATOM     93  C%  UNL     1       7.264  16.223  -3.431  0.00  0.00           C  \\nATOM     94  Ni  UNL     1       8.497  16.712  -3.805  0.00  0.00           N  \\nATOM     95  C^  UNL     1       9.094  17.843  -3.118  0.00  0.00           C  \\nATOM     96  C&  UNL     1       9.712  17.437  -1.770  0.00  0.00           C  \\nATOM     97  Nj  UNL     1      10.346  18.574  -1.098  0.00  0.00           N  \\nATOM     98  O8  UNL     1       6.530  16.791  -2.629  0.00  0.00           O  \\nATOM     99  C_  UNL     1      10.118  12.948  -0.577  0.00  0.00           C  \\nATOM    100  Nk  UNL     1      11.107  12.041  -0.276  0.00  0.00           N  \\nATOM    101  C+  UNL     1      12.186  12.359   0.640  0.00  0.00           C  \\nATOM    102  C(  UNL     1      13.220  11.227   0.671  0.00  0.00           C  \\nATOM    103  Nl  UNL     1      12.575   9.925   0.894  0.00  0.00           N  \\nATOM    104  O9  UNL     1      10.143  14.119  -0.212  0.00  0.00           O  \\nATOM    105  C)  UNL     1      14.392   6.572   0.953  0.00  0.00           C  \\nATOM    106  Nm  UNL     1      15.200   5.952   0.030  0.00  0.00           N  \\nATOM    107  C<  UNL     1      16.352   6.609  -0.550  0.00  0.00           C  \\nATOM    108  C?  UNL     1      17.511   6.742   0.450  0.00  0.00           C  \\nATOM    109  Nn  UNL     1      18.755   7.177  -0.195  0.00  0.00           N  \\nATOM    110  C>  UNL     1      17.911   1.839   1.215  0.00  0.00           C  \\nATOM    111  No  UNL     1      18.767   2.418   0.328  0.00  0.00           N  \\nATOM    112  C-  UNL     1      18.447   3.077  -0.927  0.00  0.00           C  \\nATOM    113  C=  UNL     1      19.694   3.642  -1.621  0.00  0.00           C  \\nATOM    114  Np  UNL     1      20.436   4.555  -0.749  0.00  0.00           N  \\nATOM    115  Oa  UNL     1      14.488   7.759   1.250  0.00  0.00           O  \\nATOM    116  Ob  UNL     1      18.343   1.327   2.248  0.00  0.00           O  \\nATOM    117  C:  UNL     1      17.571  -4.179  -1.473  0.00  0.00           C  \\nATOM    118  Nq  UNL     1      18.429  -5.025  -2.143  0.00  0.00           N  \\nATOM    119  C}  UNL     1      19.486  -4.523  -3.001  0.00  0.00           C  \\nATOM    120  C{  UNL     1      20.696  -4.019  -2.202  0.00  0.00           C  \\nATOM    121  Nr  UNL     1      21.791  -3.603  -3.078  0.00  0.00           N  \\nATOM    122  Oc  UNL     1      17.609  -2.959  -1.578  0.00  0.00           O  \\nATOM    123  C]  UNL     1      14.810  -3.456   3.911  0.00  0.00           C  \\nATOM    124  Ns  UNL     1      15.345  -2.344   4.523  0.00  0.00           N  \\nATOM    125  C[  UNL     1      14.512  -1.393   5.238  0.00  0.00           C  \\nATOM    126  C1~ UNL     1      13.673  -0.515   4.299  0.00  0.00           C  \\nATOM    127  Nt  UNL     1      12.904   0.490   5.034  0.00  0.00           N  \\nATOM    128  Od  UNL     1      13.616  -3.737   3.968  0.00  0.00           O  \\nATOM    129  C21 UNL     1      -5.837  16.444   1.434  0.00  0.00           C  \\nATOM    130  Nu  UNL     1      -6.143  17.769   1.198  0.00  0.00           N  \\nATOM    131  C22 UNL     1      -7.334  18.150   0.464  0.00  0.00           C  \\nATOM    132  C23 UNL     1      -8.591  18.130   1.346  0.00  0.00           C  \\nATOM    133  Nv  UNL     1      -9.805  18.522   0.631  0.00  0.00           N  \\nATOM    134  Oe  UNL     1      -6.511  15.516   1.002  0.00  0.00           O  \\nATOM    135  C24 UNL     1      -5.277  15.474   5.666  0.00  0.00           C  \\nATOM    136  Nw  UNL     1      -5.746  16.684   6.132  0.00  0.00           N  \\nATOM    137  C25 UNL     1      -7.166  16.938   6.298  0.00  0.00           C  \\nATOM    138  C26 UNL     1      -7.872  17.189   4.957  0.00  0.00           C  \\nATOM    139  Nx  UNL     1      -9.272  17.569   5.142  0.00  0.00           N  \\nATOM    140  Of  UNL     1      -6.012  14.527   5.417  0.00  0.00           O  \\nATOM    141  C27 UNL     1      -6.313 -12.202   2.380  0.00  0.00           C  \\nATOM    142  Nz  UNL     1      -5.380 -12.383   3.374  0.00  0.00           N  \\nATOM    143  C28 UNL     1      -4.405 -11.739  -2.969  0.00  0.00           C  \\nATOM    144  Ny  UNL     1      -3.222 -11.440  -2.344  0.00  0.00           N  \\nATOM    145  Og  UNL     1      -4.463 -12.274  -4.074  0.00  0.00           O  \\nATOM    146  Oh  UNL     1      -7.197 -13.014   2.125  0.00  0.00           O  \\nATOM    147  C29 UNL     1      -5.398 -13.558   4.235  0.00  0.00           C  \\nATOM    148  C2a UNL     1      -5.087 -14.863   3.468  0.00  0.00           C  \\nATOM    149  NA  UNL     1      -4.714 -16.008   4.337  0.00  0.00           N1+\\nATOM    150  C2b UNL     1      -1.928 -11.670  -2.963  0.00  0.00           C  \\nATOM    151  C2c UNL     1      -1.562 -13.168  -3.006  0.00  0.00           C  \\nATOM    152  NB  UNL     1      -0.142 -13.433  -3.328  0.00  0.00           N1+\\nATOM    153  C2d UNL     1      -5.895 -16.484   5.097  0.00  0.00           C  \\nATOM    154  C2e UNL     1      -5.494 -17.297   6.329  0.00  0.00           C  \\nATOM    155  C2f UNL     1      -4.183 -17.112   3.495  0.00  0.00           C  \\nATOM    156  C2g UNL     1      -2.714 -16.901   3.119  0.00  0.00           C  \\nATOM    157  C2h UNL     1       0.165 -13.103  -4.736  0.00  0.00           C  \\nATOM    158  C2i UNL     1       1.654 -13.213  -5.079  0.00  0.00           C  \\nATOM    159  C2j UNL     1       0.241 -14.806  -2.934  0.00  0.00           C  \\nATOM    160  C2k UNL     1      -0.406 -15.952  -3.719  0.00  0.00           C  \\nATOM    161  C2l UNL     1       1.928 -12.761  -6.498  0.00  0.00           C  \\nATOM    162  NC  UNL     1       3.271 -12.680  -6.784  0.00  0.00           N  \\nATOM    163  C2m UNL     1       3.748 -12.400  -8.124  0.00  0.00           C  \\nATOM    164  C2n UNL     1       5.264 -12.173  -8.130  0.00  0.00           C  \\nATOM    165  Oi  UNL     1       1.051 -12.512  -7.317  0.00  0.00           O  \\nATOM    166  C2o UNL     1       0.015 -17.298  -3.165  0.00  0.00           C  \\nATOM    167  ND  UNL     1      -0.632 -18.356  -3.766  0.00  0.00           N  \\nATOM    168  C2p UNL     1      -0.447 -19.724  -3.315  0.00  0.00           C  \\nATOM    169  C2q UNL     1      -9.119   4.143  -5.325  0.00  0.00           C  \\nATOM    170  NE  UNL     1      -9.883   4.913  -4.503  0.00  0.00           N  \\nATOM    171  C2r UNL     1     -10.123   4.813  -3.072  0.00  0.00           C  \\nATOM    172  C2s UNL     1     -11.483   4.133  -2.788  0.00  0.00           C  \\nATOM    173  NF  UNL     1     -11.874   4.133  -1.358  0.00  0.00           N1+\\nATOM    174  C2t UNL     1     -11.043  -1.359  -2.335  0.00  0.00           C  \\nATOM    175  NG  UNL     1     -12.115  -0.664  -2.850  0.00  0.00           N  \\nATOM    176  C2u UNL     1     -13.485  -1.102  -2.648  0.00  0.00           C  \\nATOM    177  C2v UNL     1     -14.042  -0.612  -1.297  0.00  0.00           C  \\nATOM    178  NH  UNL     1     -15.511  -0.724  -1.193  0.00  0.00           N1+\\nATOM    179  Oj  UNL     1      -9.171   4.367  -6.535  0.00  0.00           O  \\nATOM    180  Ok  UNL     1     -11.141  -2.441  -1.768  0.00  0.00           O  \\nATOM    181  Ol  UNL     1       0.853 -17.441  -2.279  0.00  0.00           O  \\nATOM    182  C2w UNL     1       0.900 -20.320  -3.750  0.00  0.00           C  \\nATOM    183  NI  UNL     1       1.111 -21.646  -3.170  0.00  0.00           N  \\nATOM    184  NJ  UNL     1       5.975 -13.275  -7.465  0.00  0.00           N  \\nATOM    185  C2x UNL     1      -6.729 -17.868   6.987  0.00  0.00           C  \\nATOM    186  NK  UNL     1      -7.186 -19.086   6.579  0.00  0.00           N  \\nATOM    187  C2z UNL     1      -2.216 -18.027   2.234  0.00  0.00           C  \\nATOM    188  NL  UNL     1      -0.895 -17.871   1.864  0.00  0.00           N  \\nATOM    189  Om  UNL     1      -2.915 -18.970   1.880  0.00  0.00           O  \\nATOM    190  On  UNL     1      -7.336 -17.248   7.859  0.00  0.00           O  \\nATOM    191  C2y UNL     1      -6.738 -19.894   5.456  0.00  0.00           C  \\nATOM    192  C2A UNL     1      -7.401 -21.279   5.470  0.00  0.00           C  \\nATOM    193  NM  UNL     1      -8.858 -21.181   5.603  0.00  0.00           N  \\nATOM    194  C2B UNL     1      -0.312 -18.716   0.835  0.00  0.00           C  \\nATOM    195  C2C UNL     1       1.221 -18.710   0.886  0.00  0.00           C  \\nATOM    196  NN  UNL     1       1.813 -19.362  -0.284  0.00  0.00           N  \\nATOM    197  C2D UNL     1     -11.076   3.134  -0.597  0.00  0.00           C  \\nATOM    198  C2E UNL     1     -11.059   3.379   0.917  0.00  0.00           C  \\nATOM    199  C2F UNL     1     -10.295   4.632   1.293  0.00  0.00           C  \\nATOM    200  NO  UNL     1     -10.813   5.784   0.746  0.00  0.00           N  \\nATOM    201  Oo  UNL     1      -9.325   4.608   2.042  0.00  0.00           O  \\nATOM    202  C2G UNL     1     -13.327   3.840  -1.221  0.00  0.00           C  \\nATOM    203  C2H UNL     1     -14.199   5.058  -1.541  0.00  0.00           C  \\nATOM    204  C2I UNL     1     -15.663   4.780  -1.263  0.00  0.00           C  \\nATOM    205  NP  UNL     1     -16.479   5.834  -1.588  0.00  0.00           N  \\nATOM    206  Op  UNL     1     -16.081   3.724  -0.797  0.00  0.00           O  \\nATOM    207  C2J UNL     1     -15.991   0.034  -0.015  0.00  0.00           C  \\nATOM    208  C2K UNL     1     -17.485   0.342  -0.111  0.00  0.00           C  \\nATOM    209  C2L UNL     1     -17.953   1.111   1.104  0.00  0.00           C  \\nATOM    210  NQ  UNL     1     -17.519   2.413   1.160  0.00  0.00           N  \\nATOM    211  C2M UNL     1     -15.940  -2.142  -1.126  0.00  0.00           C  \\nATOM    212  C2N UNL     1     -16.698  -2.517  -2.398  0.00  0.00           C  \\nATOM    213  C2O UNL     1     -17.149  -3.963  -2.365  0.00  0.00           C  \\nATOM    214  NR  UNL     1     -17.900  -4.315  -3.469  0.00  0.00           N  \\nATOM    215  Oq  UNL     1     -18.664   0.602   1.965  0.00  0.00           O  \\nATOM    216  Or  UNL     1     -16.875  -4.741  -1.459  0.00  0.00           O  \\nATOM    217  C2P UNL     1     -18.315  -5.693  -3.668  0.00  0.00           C  \\nATOM    218  C2Q UNL     1     -19.408  -5.815  -4.738  0.00  0.00           C  \\nATOM    219  NS  UNL     1     -19.793  -7.202  -4.984  0.00  0.00           N  \\nATOM    220  C2R UNL     1     -17.942   3.314   2.210  0.00  0.00           C  \\nATOM    221  C2S UNL     1     -19.353   3.873   1.964  0.00  0.00           C  \\nATOM    222  NT  UNL     1     -19.750   4.879   2.952  0.00  0.00           N  \\nATOM    223  C2T UNL     1     -10.130   7.053   0.891  0.00  0.00           C  \\nATOM    224  C2U UNL     1     -11.026   8.225   0.470  0.00  0.00           C  \\nATOM    225  NU  UNL     1     -10.370   9.525   0.579  0.00  0.00           N  \\nATOM    226  C2V UNL     1     -17.896   5.847  -1.277  0.00  0.00           C  \\nATOM    227  C2W UNL     1     -18.600   7.005  -1.993  0.00  0.00           C  \\nATOM    228  NV  UNL     1     -17.899   8.277  -1.761  0.00  0.00           N  \\nATOM    229  H   UNL     1      -1.290  -1.162   2.143  0.00  0.00           H  \\nATOM    230  H1  UNL     1      -1.848   0.243   1.293  0.00  0.00           H  \\nATOM    231  H2  UNL     1      -0.402  -0.660  -0.759  0.00  0.00           H  \\nATOM    232  H3  UNL     1       0.162  -1.872   0.370  0.00  0.00           H  \\nATOM    233  H4  UNL     1       2.851   0.519   0.576  0.00  0.00           H  \\nATOM    234  H5  UNL     1       2.214  -0.632  -0.581  0.00  0.00           H  \\nATOM    235  H6  UNL     1       2.087  -2.370   1.264  0.00  0.00           H  \\nATOM    236  H7  UNL     1       2.578  -1.156   2.441  0.00  0.00           H  \\nATOM    237  H8  UNL     1       4.671  -0.214   2.328  0.00  0.00           H  \\nATOM    238  H9  UNL     1       6.877  -0.065   1.601  0.00  0.00           H  \\nATOM    239  Ha  UNL     1       6.672  -1.456   0.521  0.00  0.00           H  \\nATOM    240  Hb  UNL     1       6.547  -2.997   2.433  0.00  0.00           H  \\nATOM    241  Hc  UNL     1       6.663  -1.680   3.590  0.00  0.00           H  \\nATOM    242  Hd  UNL     1      -0.543   1.623   0.132  0.00  0.00           H  \\nATOM    243  He  UNL     1       1.006   1.603  -0.678  0.00  0.00           H  \\nATOM    244  Hf  UNL     1       2.055   2.437   1.524  0.00  0.00           H  \\nATOM    245  Hg  UNL     1       0.434   2.405   2.246  0.00  0.00           H  \\nATOM    246  Hh  UNL     1       0.856   4.617   2.718  0.00  0.00           H  \\nATOM    247  Hi  UNL     1       0.124   6.748   2.347  0.00  0.00           H  \\nATOM    248  Hj  UNL     1      -0.180   6.397   0.631  0.00  0.00           H  \\nATOM    249  Hk  UNL     1       2.284   6.380   0.219  0.00  0.00           H  \\nATOM    250  Hl  UNL     1       2.593   6.855   1.881  0.00  0.00           H  \\nATOM    251  Hm  UNL     1      -1.618  -3.370   0.936  0.00  0.00           H  \\nATOM    252  Hn  UNL     1      -1.835  -2.924  -0.747  0.00  0.00           H  \\nATOM    253  Ho  UNL     1      -4.302  -3.536  -0.514  0.00  0.00           H  \\nATOM    254  Hp  UNL     1      -3.993  -3.960   1.186  0.00  0.00           H  \\nATOM    255  Hq  UNL     1      -5.047  -5.886   0.172  0.00  0.00           H  \\nATOM    256  Hr  UNL     1      -2.954  -7.820  -0.761  0.00  0.00           H  \\nATOM    257  Hs  UNL     1      -4.465  -7.503  -1.622  0.00  0.00           H  \\nATOM    258  Ht  UNL     1      -5.734  -8.294   0.475  0.00  0.00           H  \\nATOM    259  Hu  UNL     1      -4.174  -8.602   1.220  0.00  0.00           H  \\nATOM    260  Hv  UNL     1      -3.881   0.100   0.279  0.00  0.00           H  \\nATOM    261  Hw  UNL     1      -4.538  -1.380  -0.298  0.00  0.00           H  \\nATOM    262  Hx  UNL     1      -2.663  -1.369  -2.132  0.00  0.00           H  \\nATOM    263  Hz  UNL     1      -2.278   0.260  -1.568  0.00  0.00           H  \\nATOM    264  Hy  UNL     1      -4.798  -1.843  -2.855  0.00  0.00           H  \\nATOM    265  HA  UNL     1      -6.661  -1.518  -4.031  0.00  0.00           H  \\nATOM    266  HB  UNL     1      -5.648  -0.300  -4.818  0.00  0.00           H  \\nATOM    267  HC  UNL     1      -6.575   1.490  -3.562  0.00  0.00           H  \\nATOM    268  HD  UNL     1      -7.340   0.469  -2.374  0.00  0.00           H  \\nATOM    269  HE  UNL     1       9.873  -0.990   3.728  0.00  0.00           H  \\nATOM    270  HF  UNL     1       8.466  -0.110   3.235  0.00  0.00           H  \\nATOM    271  HG  UNL     1       9.215  -0.220   0.829  0.00  0.00           H  \\nATOM    272  HH  UNL     1      10.631  -1.171   1.322  0.00  0.00           H  \\nATOM    273  HI  UNL     1      11.170   0.919  -0.086  0.00  0.00           H  \\nATOM    274  HJ  UNL     1      11.575   3.328   1.512  0.00  0.00           H  \\nATOM    275  HK  UNL     1      12.117   3.025  -0.153  0.00  0.00           H  \\nATOM    276  HL  UNL     1      13.876   1.497   0.707  0.00  0.00           H  \\nATOM    277  HM  UNL     1      13.424   1.836   2.367  0.00  0.00           H  \\nATOM    278  HN  UNL     1       8.228  -4.109   3.388  0.00  0.00           H  \\nATOM    279  HO  UNL     1       8.678  -2.889   4.569  0.00  0.00           H  \\nATOM    280  HP  UNL     1      10.630  -4.132   4.379  0.00  0.00           H  \\nATOM    281  HQ  UNL     1      11.004  -2.813   3.282  0.00  0.00           H  \\nATOM    282  HR  UNL     1      12.561  -4.194   2.441  0.00  0.00           H  \\nATOM    283  HS  UNL     1      11.607  -6.100   0.363  0.00  0.00           H  \\nATOM    284  HT  UNL     1      12.581  -6.610   1.740  0.00  0.00           H  \\nATOM    285  HU  UNL     1      13.319  -4.795  -0.579  0.00  0.00           H  \\nATOM    286  HV  UNL     1      14.116  -6.297  -0.113  0.00  0.00           H  \\nATOM    287  HW  UNL     1       3.856   8.817   1.010  0.00  0.00           H  \\nATOM    288  HX  UNL     1       3.044   9.943  -0.065  0.00  0.00           H  \\nATOM    289  HY  UNL     1       2.894   8.074  -1.819  0.00  0.00           H  \\nATOM    290  HZ  UNL     1       4.026   7.159  -0.818  0.00  0.00           H  \\nATOM    291  H!  UNL     1       3.494  10.059  -2.733  0.00  0.00           H  \\nATOM    292  H@  UNL     1       4.923  11.375  -3.878  0.00  0.00           H  \\nATOM    293  H#  UNL     1       6.245  10.260  -3.487  0.00  0.00           H  \\nATOM    294  H$  UNL     1       6.558  11.290  -1.290  0.00  0.00           H  \\nATOM    295  H%  UNL     1       5.205  12.366  -1.492  0.00  0.00           H  \\nATOM    296  H^  UNL     1       1.872   9.128   2.643  0.00  0.00           H  \\nATOM    297  H&  UNL     1       0.255   8.846   2.001  0.00  0.00           H  \\nATOM    298  H_  UNL     1       0.557  10.818   0.442  0.00  0.00           H  \\nATOM    299  H+  UNL     1       2.052  11.208   1.332  0.00  0.00           H  \\nATOM    300  H(  UNL     1       0.490  13.154   1.316  0.00  0.00           H  \\nATOM    301  H)  UNL     1      -0.277  14.671   2.901  0.00  0.00           H  \\nATOM    302  H<  UNL     1      -0.539  13.361   4.069  0.00  0.00           H  \\nATOM    303  H?  UNL     1      -2.569  12.601   2.771  0.00  0.00           H  \\nATOM    304  H>  UNL     1      -2.161  13.765   1.518  0.00  0.00           H  \\nATOM    305  H-  UNL     1       5.587  14.526  -2.406  0.00  0.00           H  \\nATOM    306  H=  UNL     1       5.297  13.563  -3.845  0.00  0.00           H  \\nATOM    307  H:  UNL     1       6.243  15.236  -4.981  0.00  0.00           H  \\nATOM    308  H}  UNL     1       7.754  14.439  -4.564  0.00  0.00           H  \\nATOM    309  H{  UNL     1       7.424  13.690  -0.772  0.00  0.00           H  \\nATOM    310  H]  UNL     1       8.406  14.258  -2.111  0.00  0.00           H  \\nATOM    311  H[  UNL     1       9.458  12.009  -2.367  0.00  0.00           H  \\nATOM    312  H1~ UNL     1       8.623  11.474  -0.893  0.00  0.00           H  \\nATOM    313  H21 UNL     1      -5.097  14.270   2.983  0.00  0.00           H  \\nATOM    314  H22 UNL     1      -4.188  14.323   1.506  0.00  0.00           H  \\nATOM    315  H23 UNL     1      -3.757  16.755   1.745  0.00  0.00           H  \\nATOM    316  H24 UNL     1      -4.741  16.790   3.220  0.00  0.00           H  \\nATOM    317  H25 UNL     1      -2.294  13.997   5.129  0.00  0.00           H  \\nATOM    318  H26 UNL     1      -3.888  13.390   4.740  0.00  0.00           H  \\nATOM    319  H27 UNL     1      -3.393  16.397   5.161  0.00  0.00           H  \\nATOM    320  H28 UNL     1      -3.378  15.316   6.550  0.00  0.00           H  \\nATOM    321  H29 UNL     1      14.816   4.885   2.906  0.00  0.00           H  \\nATOM    322  H2a UNL     1      13.271   4.086   3.049  0.00  0.00           H  \\nATOM    323  H2b UNL     1      12.764   6.262   2.272  0.00  0.00           H  \\nATOM    324  H2c UNL     1      12.657   5.340   0.776  0.00  0.00           H  \\nATOM    325  H2d UNL     1      15.723   2.541   2.867  0.00  0.00           H  \\nATOM    326  H2e UNL     1      16.458   3.805   1.889  0.00  0.00           H  \\nATOM    327  H2f UNL     1      16.232   2.120  -0.122  0.00  0.00           H  \\nATOM    328  H2g UNL     1      16.016   0.892   1.116  0.00  0.00           H  \\nATOM    329  H2h UNL     1      16.226  -3.221   0.692  0.00  0.00           H  \\nATOM    330  H2i UNL     1      15.105  -3.357  -0.615  0.00  0.00           H  \\nATOM    331  H2j UNL     1      16.026  -5.615  -1.224  0.00  0.00           H  \\nATOM    332  H2k UNL     1      17.173  -5.505   0.130  0.00  0.00           H  \\nATOM    333  H2l UNL     1      15.954  -6.016   1.877  0.00  0.00           H  \\nATOM    334  H2m UNL     1      14.440  -5.843   2.720  0.00  0.00           H  \\nATOM    335  H2n UNL     1      16.622  -3.699   2.767  0.00  0.00           H  \\nATOM    336  H2o UNL     1      16.331  -4.921   4.000  0.00  0.00           H  \\nATOM    337  H2p UNL     1      -4.003 -10.907   1.436  0.00  0.00           H  \\nATOM    338  H2q UNL     1      -4.740 -11.995   0.326  0.00  0.00           H  \\nATOM    339  H2r UNL     1      -7.032 -10.829   0.943  0.00  0.00           H  \\nATOM    340  H2s UNL     1      -6.141 -10.075   2.268  0.00  0.00           H  \\nATOM    341  H2t UNL     1      -5.439  -9.344  -2.175  0.00  0.00           H  \\nATOM    342  H2u UNL     1      -6.671  -9.910  -1.063  0.00  0.00           H  \\nATOM    343  H2v UNL     1      -6.492 -11.441  -2.869  0.00  0.00           H  \\nATOM    344  H2w UNL     1      -5.837 -12.301  -1.487  0.00  0.00           H  \\nATOM    345  H2x UNL     1      -9.358   2.092  -3.208  0.00  0.00           H  \\nATOM    346  H2z UNL     1      -9.956   1.785  -4.833  0.00  0.00           H  \\nATOM    347  H2y UNL     1      -7.578   2.724  -5.584  0.00  0.00           H  \\nATOM    348  H2A UNL     1      -7.583   3.480  -3.993  0.00  0.00           H  \\nATOM    349  H2B UNL     1      -8.826  -1.490  -4.236  0.00  0.00           H  \\nATOM    350  H2C UNL     1     -10.147  -0.451  -4.612  0.00  0.00           H  \\nATOM    351  H2D UNL     1      -9.847   0.344  -2.012  0.00  0.00           H  \\nATOM    352  H2E UNL     1      -8.969  -1.175  -1.892  0.00  0.00           H  \\nATOM    353  H2F UNL     1       9.116  16.115  -4.338  0.00  0.00           H  \\nATOM    354  H2G UNL     1       8.326  18.610  -2.968  0.00  0.00           H  \\nATOM    355  H2H UNL     1       9.862  18.252  -3.783  0.00  0.00           H  \\nATOM    356  H2I UNL     1      10.465  16.658  -1.934  0.00  0.00           H  \\nATOM    357  H2J UNL     1       8.947  17.010  -1.112  0.00  0.00           H  \\nATOM    358  H2K UNL     1      10.739  18.240  -0.217  0.00  0.00           H  \\nATOM    359  H2L UNL     1       9.623  19.244  -0.837  0.00  0.00           H  \\nATOM    360  H2M UNL     1      10.924  11.048  -0.388  0.00  0.00           H  \\nATOM    361  H2N UNL     1      11.744  12.507   1.632  0.00  0.00           H  \\nATOM    362  H2O UNL     1      12.649  13.302   0.332  0.00  0.00           H  \\nATOM    363  H2P UNL     1      13.963  11.417   1.453  0.00  0.00           H  \\nATOM    364  H2Q UNL     1      13.745  11.186  -0.289  0.00  0.00           H  \\nATOM    365  H2R UNL     1      12.179   9.908   1.834  0.00  0.00           H  \\nATOM    366  H2S UNL     1      13.314   9.204   0.921  0.00  0.00           H  \\nATOM    367  H2T UNL     1      15.151   4.934   0.005  0.00  0.00           H  \\nATOM    368  H2U UNL     1      16.048   7.600  -0.909  0.00  0.00           H  \\nATOM    369  H2V UNL     1      16.653   6.010  -1.416  0.00  0.00           H  \\nATOM    370  H2W UNL     1      17.694   5.779   0.939  0.00  0.00           H  \\nATOM    371  H2X UNL     1      17.246   7.455   1.239  0.00  0.00           H  \\nATOM    372  H2Y UNL     1      19.444   7.359   0.539  0.00  0.00           H  \\nATOM    373  H2Z UNL     1      18.593   8.087  -0.631  0.00  0.00           H  \\nATOM    374  H2! UNL     1      19.736   2.463   0.631  0.00  0.00           H  \\nATOM    375  H2@ UNL     1      17.726   3.872  -0.718  0.00  0.00           H  \\nATOM    376  H2# UNL     1      17.962   2.344  -1.581  0.00  0.00           H  \\nATOM    377  H2$ UNL     1      19.400   4.164  -2.538  0.00  0.00           H  \\nATOM    378  H2% UNL     1      20.360   2.819  -1.904  0.00  0.00           H  \\nATOM    379  H2^ UNL     1      19.838   5.369  -0.542  0.00  0.00           H  \\nATOM    380  H2& UNL     1      21.225   4.942  -1.267  0.00  0.00           H  \\nATOM    381  H2_ UNL     1      18.405  -6.018  -1.949  0.00  0.00           H  \\nATOM    382  H2+ UNL     1      19.078  -3.717  -3.623  0.00  0.00           H  \\nATOM    383  H2( UNL     1      19.778  -5.348  -3.661  0.00  0.00           H  \\nATOM    384  H2) UNL     1      21.056  -4.816  -1.542  0.00  0.00           H  \\nATOM    385  H2< UNL     1      20.406  -3.179  -1.561  0.00  0.00           H  \\nATOM    386  H2? UNL     1      22.560  -3.256  -2.504  0.00  0.00           H  \\nATOM    387  H2> UNL     1      21.486  -2.807  -3.639  0.00  0.00           H  \\nATOM    388  H2- UNL     1      16.301  -2.076   4.323  0.00  0.00           H  \\nATOM    389  H2= UNL     1      15.184  -0.776   5.845  0.00  0.00           H  \\nATOM    390  H2: UNL     1      13.857  -1.953   5.917  0.00  0.00           H  \\nATOM    391  H2} UNL     1      12.986  -1.132   3.711  0.00  0.00           H  \\nATOM    392  H2{ UNL     1      14.335  -0.008   3.589  0.00  0.00           H  \\nATOM    393  H2] UNL     1      12.270   0.022   5.681  0.00  0.00           H  \\nATOM    394  H2[ UNL     1      12.276   0.972   4.375  0.00  0.00           H  \\nATOM    395  H2` UNL     1      -5.604  18.492   1.657  0.00  0.00           H  \\nATOM    396  H2~ UNL     1      -7.457  17.470  -0.387  0.00  0.00           H  \\nATOM    397  H31 UNL     1      -7.159  19.157   0.070  0.00  0.00           H  \\nATOM    398  H32 UNL     1      -8.451  18.813   2.192  0.00  0.00           H  \\nATOM    399  H33 UNL     1      -8.741  17.132   1.771  0.00  0.00           H  \\nATOM    400  H34 UNL     1      -9.986  17.848  -0.115  0.00  0.00           H  \\nATOM    401  H35 UNL     1      -9.666  19.421   0.172  0.00  0.00           H  \\nATOM    402  H36 UNL     1      -5.098  17.440   6.311  0.00  0.00           H  \\nATOM    403  H37 UNL     1      -7.257  17.813   6.950  0.00  0.00           H  \\nATOM    404  H38 UNL     1      -7.617  16.081   6.811  0.00  0.00           H  \\nATOM    405  H39 UNL     1      -7.819  16.297   4.323  0.00  0.00           H  \\nATOM    406  H3a UNL     1      -7.357  17.993   4.420  0.00  0.00           H  \\nATOM    407  H3b UNL     1      -9.774  16.788   5.566  0.00  0.00           H  \\nATOM    408  H3c UNL     1      -9.706  17.697   4.225  0.00  0.00           H  \\nATOM    409  H3d UNL     1      -4.805 -11.601   3.662  0.00  0.00           H  \\nATOM    410  H3e UNL     1      -3.264 -10.899  -1.482  0.00  0.00           H  \\nATOM    411  H3f UNL     1      -6.382 -13.603   4.713  0.00  0.00           H  \\nATOM    412  H3g UNL     1      -4.643 -13.386   5.009  0.00  0.00           H  \\nATOM    413  H3h UNL     1      -4.252 -14.635   2.794  0.00  0.00           H  \\nATOM    414  H3i UNL     1      -5.932 -15.134   2.824  0.00  0.00           H  \\nATOM    415  H3j UNL     1      -1.194 -11.116  -2.369  0.00  0.00           H  \\nATOM    416  H3k UNL     1      -1.955 -11.241  -3.970  0.00  0.00           H  \\nATOM    417  H3l UNL     1      -2.225 -13.693  -3.705  0.00  0.00           H  \\nATOM    418  H3m UNL     1      -1.781 -13.575  -2.010  0.00  0.00           H  \\nATOM    419  H3n UNL     1      -6.574 -17.045   4.443  0.00  0.00           H  \\nATOM    420  H3o UNL     1      -6.481 -15.636   5.469  0.00  0.00           H  \\nATOM    421  H3p UNL     1      -4.989 -16.653   7.060  0.00  0.00           H  \\nATOM    422  H3q UNL     1      -4.791 -18.102   6.105  0.00  0.00           H  \\nATOM    423  H3r UNL     1      -4.802 -17.245   2.597  0.00  0.00           H  \\nATOM    424  H3s UNL     1      -4.237 -18.066   4.034  0.00  0.00           H  \\nATOM    425  H3t UNL     1      -2.095 -16.870   4.023  0.00  0.00           H  \\nATOM    426  H3u UNL     1      -2.573 -15.963   2.572  0.00  0.00           H  \\nATOM    427  H3v UNL     1      -0.130 -12.066  -4.933  0.00  0.00           H  \\nATOM    428  H3w UNL     1      -0.428 -13.723  -5.421  0.00  0.00           H  \\nATOM    429  H3x UNL     1       2.001 -14.249  -4.999  0.00  0.00           H  \\nATOM    430  H3z UNL     1       2.244 -12.592  -4.394  0.00  0.00           H  \\nATOM    431  H3y UNL     1       0.019 -14.931  -1.865  0.00  0.00           H  \\nATOM    432  H3A UNL     1       1.333 -14.899  -2.983  0.00  0.00           H  \\nATOM    433  H3B UNL     1      -0.109 -15.919  -4.772  0.00  0.00           H  \\nATOM    434  H3C UNL     1      -1.498 -15.892  -3.661  0.00  0.00           H  \\nATOM    435  H3D UNL     1       3.946 -13.115  -6.162  0.00  0.00           H  \\nATOM    436  H3E UNL     1       3.223 -11.521  -8.514  0.00  0.00           H  \\nATOM    437  H3F UNL     1       3.484 -13.258  -8.754  0.00  0.00           H  \\nATOM    438  H3G UNL     1       5.496 -11.246  -7.594  0.00  0.00           H  \\nATOM    439  H3H UNL     1       5.623 -12.065  -9.158  0.00  0.00           H  \\nATOM    440  H3I UNL     1      -1.351 -18.174  -4.457  0.00  0.00           H  \\nATOM    441  H3J UNL     1      -1.274 -20.315  -3.725  0.00  0.00           H  \\nATOM    442  H3K UNL     1      -0.537 -19.733  -2.223  0.00  0.00           H  \\nATOM    443  H3L UNL     1     -10.400   5.619  -5.016  0.00  0.00           H  \\nATOM    444  H3M UNL     1     -10.137   5.839  -2.688  0.00  0.00           H  \\nATOM    445  H3N UNL     1      -9.290   4.291  -2.598  0.00  0.00           H  \\nATOM    446  H3O UNL     1     -11.495   3.112  -3.190  0.00  0.00           H  \\nATOM    447  H3P UNL     1     -12.225   4.686  -3.375  0.00  0.00           H  \\nATOM    448  H3Q UNL     1     -11.972   0.265  -3.222  0.00  0.00           H  \\nATOM    449  H3R UNL     1     -13.527  -2.194  -2.717  0.00  0.00           H  \\nATOM    450  H3S UNL     1     -14.067  -0.680  -3.475  0.00  0.00           H  \\nATOM    451  H3T UNL     1     -13.763   0.447  -1.210  0.00  0.00           H  \\nATOM    452  H3U UNL     1     -13.541  -1.127  -0.467  0.00  0.00           H  \\nATOM    453  H3V UNL     1       1.728 -19.667  -3.454  0.00  0.00           H  \\nATOM    454  H3W UNL     1       0.930 -20.395  -4.843  0.00  0.00           H  \\nATOM    455  H3X UNL     1       1.154 -21.545  -2.151  0.00  0.00           H  \\nATOM    456  H3Y UNL     1       2.035 -21.982  -3.442  0.00  0.00           H  \\nATOM    457  H3Z UNL     1       6.978 -13.088  -7.503  0.00  0.00           H  \\nATOM    458  H3! UNL     1       5.831 -14.133  -7.997  0.00  0.00           H  \\nATOM    459  H3@ UNL     1      -8.074 -19.362   6.991  0.00  0.00           H  \\nATOM    460  H3# UNL     1      -0.488 -16.953   1.989  0.00  0.00           H  \\nATOM    461  H3$ UNL     1      -5.650 -20.000   5.495  0.00  0.00           H  \\nATOM    462  H3% UNL     1      -6.997 -19.357   4.538  0.00  0.00           H  \\nATOM    463  H3^ UNL     1      -7.019 -21.856   6.320  0.00  0.00           H  \\nATOM    464  H3& UNL     1      -7.145 -21.823   4.555  0.00  0.00           H  \\nATOM    465  H3_ UNL     1      -9.241 -20.676   4.804  0.00  0.00           H  \\nATOM    466  H3+ UNL     1      -9.261 -22.118   5.565  0.00  0.00           H  \\nATOM    467  H3( UNL     1      -0.672 -18.324  -0.123  0.00  0.00           H  \\nATOM    468  H3) UNL     1      -0.694 -19.738   0.939  0.00  0.00           H  \\nATOM    469  H3< UNL     1       1.561 -19.216   1.796  0.00  0.00           H  \\nATOM    470  H3? UNL     1       1.589 -17.678   0.937  0.00  0.00           H  \\nATOM    471  H3> UNL     1       2.828 -19.274  -0.225  0.00  0.00           H  \\nATOM    472  H3- UNL     1       1.556 -18.794  -1.107  0.00  0.00           H  \\nATOM    473  H3= UNL     1     -10.032   3.153  -0.929  0.00  0.00           H  \\nATOM    474  H3: UNL     1     -11.447   2.122  -0.804  0.00  0.00           H  \\nATOM    475  H3} UNL     1     -10.559   2.531   1.401  0.00  0.00           H  \\nATOM    476  H3{ UNL     1     -12.063   3.438   1.350  0.00  0.00           H  \\nATOM    477  H3] UNL     1     -11.382   5.637  -0.088  0.00  0.00           H  \\nATOM    478  H3[ UNL     1     -13.553   3.544  -0.190  0.00  0.00           H  \\nATOM    479  H3` UNL     1     -13.611   2.985  -1.849  0.00  0.00           H  \\nATOM    480  H3~ UNL     1     -14.108   5.348  -2.592  0.00  0.00           H  \\nATOM    481  H41 UNL     1     -13.893   5.909  -0.920  0.00  0.00           H  \\nATOM    482  H42 UNL     1     -16.078   6.750  -1.774  0.00  0.00           H  \\nATOM    483  H43 UNL     1     -15.460   0.994   0.039  0.00  0.00           H  \\nATOM    484  H44 UNL     1     -15.755  -0.493   0.919  0.00  0.00           H  \\nATOM    485  H45 UNL     1     -18.085  -0.572  -0.178  0.00  0.00           H  \\nATOM    486  H46 UNL     1     -17.704   0.935  -1.008  0.00  0.00           H  \\nATOM    487  H47 UNL     1     -17.028   2.812   0.355  0.00  0.00           H  \\nATOM    488  H48 UNL     1     -16.591  -2.327  -0.261  0.00  0.00           H  \\nATOM    489  H49 UNL     1     -15.086  -2.817  -0.979  0.00  0.00           H  \\nATOM    490  H4a UNL     1     -16.062  -2.382  -3.280  0.00  0.00           H  \\nATOM    491  H4b UNL     1     -17.584  -1.882  -2.512  0.00  0.00           H  \\nATOM    492  H4c UNL     1     -17.859  -3.706  -4.276  0.00  0.00           H  \\nATOM    493  H4d UNL     1     -18.667  -6.099  -2.712  0.00  0.00           H  \\nATOM    494  H4e UNL     1     -17.423  -6.259  -3.962  0.00  0.00           H  \\nATOM    495  H4f UNL     1     -19.058  -5.369  -5.677  0.00  0.00           H  \\nATOM    496  H4g UNL     1     -20.292  -5.248  -4.425  0.00  0.00           H  \\nATOM    497  H4h UNL     1     -18.989  -7.736  -5.313  0.00  0.00           H  \\nATOM    498  H4i UNL     1     -20.488  -7.237  -5.729  0.00  0.00           H  \\nATOM    499  H4j UNL     1     -17.209   4.128   2.242  0.00  0.00           H  \\nATOM    500  H4k UNL     1     -17.907   2.785   3.169  0.00  0.00           H  \\nATOM    501  H4l UNL     1     -20.090   3.062   1.967  0.00  0.00           H  \\nATOM    502  H4m UNL     1     -19.399   4.328   0.969  0.00  0.00           H  \\nATOM    503  H4n UNL     1     -19.005   5.563   3.071  0.00  0.00           H  \\nATOM    504  H4o UNL     1     -19.856   4.422   3.859  0.00  0.00           H  \\nATOM    505  H4p UNL     1      -9.229   7.013   0.269  0.00  0.00           H  \\nATOM    506  H4q UNL     1      -9.812   7.165   1.934  0.00  0.00           H  \\nATOM    507  H4r UNL     1     -11.935   8.234   1.082  0.00  0.00           H  \\nATOM    508  H4s UNL     1     -11.352   8.084  -0.567  0.00  0.00           H  \\nATOM    509  H4t UNL     1      -9.499   9.525   0.049  0.00  0.00           H  \\nATOM    510  H4u UNL     1     -10.100   9.694   1.549  0.00  0.00           H  \\nATOM    511  H4v UNL     1     -17.986   5.957  -0.190  0.00  0.00           H  \\nATOM    512  H4w UNL     1     -18.338   4.886  -1.560  0.00  0.00           H  \\nATOM    513  H4x UNL     1     -19.639   7.082  -1.656  0.00  0.00           H  \\nATOM    514  H4z UNL     1     -18.609   6.814  -3.072  0.00  0.00           H  \\nATOM    515  H4y UNL     1     -17.985   8.528  -0.775  0.00  0.00           H  \\nATOM    516  H4A UNL     1     -18.386   9.016  -2.271  0.00  0.00           H  \\nATOM    517  H4B UNL     1      -3.231  -1.731   1.493  0.00  0.00           H  \\nATOM    518  H4C UNL     1       0.713   0.130   1.828  0.00  0.00           H  \\nATOM    519  H4D UNL     1       8.754  -2.444   1.680  0.00  0.00           H  \\nATOM    520  H4E UNL     1       1.169   8.454  -0.131  0.00  0.00           H  \\nATOM    521  H4F UNL     1      -3.775 -10.116  -0.696  0.00  0.00           H  \\nATOM    522  H4G UNL     1      -8.055   0.426  -5.205  0.00  0.00           H  \\nATOM    523  H4H UNL     1      14.533   3.793   0.465  0.00  0.00           H  \\nATOM    524  H4I UNL     1      14.121  -3.808   1.413  0.00  0.00           H  \\nATOM    525  H4J UNL     1       7.390  12.435  -3.437  0.00  0.00           H  \\nATOM    526  H4K UNL     1      -2.501  15.515   3.228  0.00  0.00           H  \\nATOM    527  H4L UNL     1      -4.006 -15.716   4.979  0.00  0.00           H  \\nATOM    528  H4M UNL     1       0.400 -12.811  -2.763  0.00  0.00           H  \\nATOM    529  H4N UNL     1     -11.695   5.040  -0.978  0.00  0.00           H  \\nATOM    530  H4O UNL     1     -15.914  -0.315  -2.012  0.00  0.00           H  \\nCONECT    1    2   21   29  517\\nCONECT    2    3  229  230\\nCONECT    3    4  231  232\\nCONECT    4    5   13  518\\nCONECT    5    6  233  234\\nCONECT    6    7  235  236\\nCONECT    7    8    9\\nCONECT    9   10  237\\nCONECT   10   11  238  239\\nCONECT   11   12  240  241\\nCONECT   12   37   45  519\\nCONECT   13   14  242  243\\nCONECT   14   15  244  245\\nCONECT   15   16   17\\nCONECT   17   18  246\\nCONECT   18   19  247  248\\nCONECT   19   20  249  250\\nCONECT   20   53   61  520\\nCONECT   21   22  251  252\\nCONECT   22   23  253  254\\nCONECT   23   24   28\\nCONECT   24   25  255\\nCONECT   25   26  256  257\\nCONECT   26   27  258  259\\nCONECT   27   85   87  521\\nCONECT   29   30  260  261\\nCONECT   30   31  262  263\\nCONECT   31   32   33\\nCONECT   33   34  264\\nCONECT   34   35  265  266\\nCONECT   35   36  267  268\\nCONECT   36   89   91  522\\nCONECT   37   38  269  270\\nCONECT   38   39  271  272\\nCONECT   39   40   41\\nCONECT   41   42  273\\nCONECT   42   43  274  275\\nCONECT   43   44  276  277\\nCONECT   44   77   79  523\\nCONECT   45   46  278  279\\nCONECT   46   47  280  281\\nCONECT   47   48   49\\nCONECT   49   50  282\\nCONECT   50   51  283  284\\nCONECT   51   52  285  286\\nCONECT   52   81   83  524\\nCONECT   53   54  287  288\\nCONECT   54   55  289  290\\nCONECT   55   56   57\\nCONECT   57   58  291\\nCONECT   58   59  292  293\\nCONECT   59   60  294  295\\nCONECT   60   69   71  525\\nCONECT   61   62  296  297\\nCONECT   62   63  298  299\\nCONECT   63   64   68\\nCONECT   64   65  300\\nCONECT   65   66  301  302\\nCONECT   66   67  303  304\\nCONECT   67   73   75  526\\nCONECT   69   70  305  306\\nCONECT   70   93  307  308\\nCONECT   71   72  309  310\\nCONECT   72   99  311  312\\nCONECT   73   74  313  314\\nCONECT   74  129  315  316\\nCONECT   75   76  317  318\\nCONECT   76  135  319  320\\nCONECT   77   78  321  322\\nCONECT   78  105  323  324\\nCONECT   79   80  325  326\\nCONECT   80  110  327  328\\nCONECT   81   82  329  330\\nCONECT   82  117  331  332\\nCONECT   83   84  333  334\\nCONECT   84  123  335  336\\nCONECT   85   86  337  338\\nCONECT   86  141  339  340\\nCONECT   87   88  341  342\\nCONECT   88  143  343  344\\nCONECT   89   90  345  346\\nCONECT   90  169  347  348\\nCONECT   91   92  349  350\\nCONECT   92  174  351  352\\nCONECT   93   94   98\\nCONECT   94   95  353\\nCONECT   95   96  354  355\\nCONECT   96   97  356  357\\nCONECT   97  358  359\\nCONECT   99  100  104\\nCONECT  100  101  360\\nCONECT  101  102  361  362\\nCONECT  102  103  363  364\\nCONECT  103  365  366\\nCONECT  105  106  115\\nCONECT  106  107  367\\nCONECT  107  108  368  369\\nCONECT  108  109  370  371\\nCONECT  109  372  373\\nCONECT  110  111  116\\nCONECT  111  112  374\\nCONECT  112  113  375  376\\nCONECT  113  114  377  378\\nCONECT  114  379  380\\nCONECT  117  118  122\\nCONECT  118  119  381\\nCONECT  119  120  382  383\\nCONECT  120  121  384  385\\nCONECT  121  386  387\\nCONECT  123  124  128\\nCONECT  124  125  388\\nCONECT  125  126  389  390\\nCONECT  126  127  391  392\\nCONECT  127  393  394\\nCONECT  129  130  134\\nCONECT  130  131  395\\nCONECT  131  132  396  397\\nCONECT  132  133  398  399\\nCONECT  133  400  401\\nCONECT  135  136  140\\nCONECT  136  137  402\\nCONECT  137  138  403  404\\nCONECT  138  139  405  406\\nCONECT  139  407  408\\nCONECT  141  142  146\\nCONECT  142  147  409\\nCONECT  143  144  145\\nCONECT  144  150  410\\nCONECT  147  148  411  412\\nCONECT  148  149  413  414\\nCONECT  149  153  155  527\\nCONECT  150  151  415  416\\nCONECT  151  152  417  418\\nCONECT  152  157  159  528\\nCONECT  153  154  419  420\\nCONECT  154  185  421  422\\nCONECT  155  156  423  424\\nCONECT  156  187  425  426\\nCONECT  157  158  427  428\\nCONECT  158  161  429  430\\nCONECT  159  160  431  432\\nCONECT  160  166  433  434\\nCONECT  161  162  165\\nCONECT  162  163  435\\nCONECT  163  164  436  437\\nCONECT  164  184  438  439\\nCONECT  166  167  181\\nCONECT  167  168  440\\nCONECT  168  182  441  442\\nCONECT  169  170  179\\nCONECT  170  171  443\\nCONECT  171  172  444  445\\nCONECT  172  173  446  447\\nCONECT  173  197  202  529\\nCONECT  174  175  180\\nCONECT  175  176  448\\nCONECT  176  177  449  450\\nCONECT  177  178  451  452\\nCONECT  178  207  211  530\\nCONECT  182  183  453  454\\nCONECT  183  455  456\\nCONECT  184  457  458\\nCONECT  185  186  190\\nCONECT  186  191  459\\nCONECT  187  188  189\\nCONECT  188  194  460\\nCONECT  191  192  461  462\\nCONECT  192  193  463  464\\nCONECT  193  465  466\\nCONECT  194  195  467  468\\nCONECT  195  196  469  470\\nCONECT  196  471  472\\nCONECT  197  198  473  474\\nCONECT  198  199  475  476\\nCONECT  199  200  201\\nCONECT  200  223  477\\nCONECT  202  203  478  479\\nCONECT  203  204  480  481\\nCONECT  204  205  206\\nCONECT  205  226  482\\nCONECT  207  208  483  484\\nCONECT  208  209  485  486\\nCONECT  209  210  215\\nCONECT  210  220  487\\nCONECT  211  212  488  489\\nCONECT  212  213  490  491\\nCONECT  213  214  216\\nCONECT  214  217  492\\nCONECT  217  218  493  494\\nCONECT  218  219  495  496\\nCONECT  219  497  498\\nCONECT  220  221  499  500\\nCONECT  221  222  501  502\\nCONECT  222  503  504\\nCONECT  223  224  505  506\\nCONECT  224  225  507  508\\nCONECT  225  509  510\\nCONECT  226  227  511  512\\nCONECT  227  228  513  514\\nCONECT  228  515  516\\nEND\\n\",\"pdb\",{\"keepH\": true});\n",
       "\tviewer_16523428515418844.setStyle({\"model\": -1},{\"stick\": {}});\n",
       "\tviewer_16523428515418844.setClickable({},true,\"function(atom,viewer,event,container) {\\n                   if(!atom.label) {\\n                        atom.label = viewer.addLabel(atom.atom+\\\":\\\"+atom.serial,{position: atom, backgroundColor: 'mintcream', fontColor:'black', backgroundOpacity: \\\"0.5\\\"});\\n                        console.log(Object.getOwnPropertyNames(atom))\\n                        console.log(atom.serial)\\n                        viewer.setStyle({\\\"serial\\\": atom.serial}, {\\\"stick\\\": {\\\"color\\\": 0xFF0000}})\\n                        \\n                        atom_data = document.getElementById(\\\"atoms_of_class_xxx\\\");\\n                        var a = atom_data.dataset.atoms;\\n                        var arr = a.split(',').map(element => {\\n                          return Number(element);\\n                        });\\n                        arr.push(atom.serial)\\n                        atom_data.dataset.atoms = arr;\\n                   }\\n                   else {\\n                        viewer.removeLabel(atom.label);\\n                        delete atom.label;\\n                        viewer.setStyle({\\\"serial\\\": atom.serial}, {\\\"stick\\\": {\\\"colorscheme\\\": \\\"default\\\"}})\\n                        \\n                        atom_data = document.getElementById(\\\"atoms_of_class_xxx\\\");\\n                        var a = atom_data.dataset.atoms;\\n                        var arr = a.split(',').map(element => {\\n                          return Number(element);\\n                        });\\n                        arr = arr.filter(function(item) {\\n                            return item !== atom.serial\\n                        })\\n                        atom_data.dataset.atoms = arr;\\n                   }\\n                   viewer.render();}\");\n",
       "\tviewer_16523428515418844.addCylinder({\"start\": {\"x\": 1, \"y\": 1, \"z\": 1}, \"end\": {\"x\": 2, \"y\": 2, \"z\": 2}, \"radius\": 0.4, \"fromCap\": 0, \"toCap\": 0, \"dashed\": true, \"opacity\": \"0.5\"});\n",
       "viewer_16523428515418844.render();\n",
       "});\n",
       "</script>"
      ]
     },
     "metadata": {},
     "output_type": "display_data"
    },
    {
     "data": {
      "text/plain": [
       "<py3Dmol.view at 0x7fd2a168daf0>"
      ]
     },
     "execution_count": 7,
     "metadata": {},
     "output_type": "execute_result"
    }
   ],
   "source": [
    "width=800\n",
    "height=500\n",
    "\n",
    "pdb_block = Chem.rdmolfiles.MolToPDBBlock(rdmol_new)\n",
    "view = py3Dmol.view(width=width, height=height)\n",
    "\n",
    "view.addModel(pdb_block,'pdb', {\"keepH\": True})\n",
    "\n",
    "view.setStyle({\"model\": -1}, {\"stick\": {}})\n",
    "\n",
    "view.setClickable({},True,'''function(atom,viewer,event,container) {\n",
    "                   if(!atom.label) {\n",
    "                        atom.label = viewer.addLabel(atom.atom+\":\"+atom.serial,{position: atom, backgroundColor: 'mintcream', fontColor:'black', backgroundOpacity: \"0.5\"});\n",
    "                        console.log(Object.getOwnPropertyNames(atom))\n",
    "                        console.log(atom.serial)\n",
    "                        viewer.setStyle({\"serial\": atom.serial}, {\"stick\": {\"color\": 0xFF0000}})\n",
    "                        \n",
    "                        atom_data = document.getElementById(\"atoms_of_class_xxx\");\n",
    "                        var a = atom_data.dataset.atoms;\n",
    "                        var arr = a.split(',').map(element => {\n",
    "                          return Number(element);\n",
    "                        });\n",
    "                        arr.push(atom.serial)\n",
    "                        atom_data.dataset.atoms = arr;\n",
    "                   }\n",
    "                   else {\n",
    "                        viewer.removeLabel(atom.label);\n",
    "                        delete atom.label;\n",
    "                        viewer.setStyle({\"serial\": atom.serial}, {\"stick\": {\"colorscheme\": \"default\"}})\n",
    "                        \n",
    "                        atom_data = document.getElementById(\"atoms_of_class_xxx\");\n",
    "                        var a = atom_data.dataset.atoms;\n",
    "                        var arr = a.split(',').map(element => {\n",
    "                          return Number(element);\n",
    "                        });\n",
    "                        arr = arr.filter(function(item) {\n",
    "                            return item !== atom.serial\n",
    "                        })\n",
    "                        atom_data.dataset.atoms = arr;\n",
    "                   }\n",
    "                   viewer.render();}''')\n",
    "# view.addCylinder({\"start\":{\"x\":1,\"y\":1,\"z\":1}},\n",
    "#                  {\"end\":{\"x\":2,\"y\":2,\"z\":2}},\n",
    "#                  {\"radius\": 2},\n",
    "#                  {\"fromCap\":0},\n",
    "#                  {\"toCap\":0},\n",
    "#                  {\"dashed\": True})\n",
    "view.addCylinder({\"start\":{\"x\":1,\"y\":1,\"z\":1},\n",
    "                 \"end\":{\"x\":2,\"y\":2,\"z\":2},\n",
    "                 \"radius\": 0.4,\n",
    "                 \"fromCap\":0,\n",
    "                 \"toCap\":0,\n",
    "                 \"dashed\": True,\n",
    "                 \"opacity\": \"0.5\"})\n",
    "view"
   ]
  },
  {
   "cell_type": "code",
   "execution_count": 20,
   "id": "830e0fe2",
   "metadata": {},
   "outputs": [
    {
     "data": {
      "text/plain": [
       "'1.909'"
      ]
     },
     "execution_count": 20,
     "metadata": {},
     "output_type": "execute_result"
    }
   ],
   "source": [
    "x1"
   ]
  },
  {
   "cell_type": "code",
   "execution_count": 35,
   "id": "082b28c1",
   "metadata": {},
   "outputs": [
    {
     "name": "stdout",
     "output_type": "stream",
     "text": [
      "/home/coda3831/openff-workspace/openff_polymer_testing\r\n"
     ]
    }
   ],
   "source": [
    "!pwd"
   ]
  },
  {
   "cell_type": "code",
   "execution_count": 59,
   "id": "8029382e",
   "metadata": {},
   "outputs": [
    {
     "name": "stdout",
     "output_type": "stream",
     "text": [
      "ATOM      1  C   UNL     1       3.595   1.320  -0.618  0.00  0.00           C  \n",
      "ATOM      2  H   UNL     1       3.693   2.054   0.196  0.00  0.00           H  \n",
      "ATOM      3  H1  UNL     1       3.643   1.911  -1.553  0.00  0.00           H  \n",
      "ATOM      4  C1  UNL     1       2.246   0.620  -0.547  0.00  0.00           C  \n",
      "ATOM      5  C2  UNL     1       1.529   0.481   0.580  0.00  0.00           C  \n",
      "ATOM      6  H2  UNL     1       0.552  -0.013   0.512  0.00  0.00           H  \n",
      "ATOM      7  C3  UNL     1       1.909   0.909   1.976  0.00  0.00           C  \n",
      "ATOM      8  H3  UNL     1       2.944   1.266   2.056  0.00  0.00           H  \n",
      "ATOM      9  H4  UNL     1       1.809   0.058   2.671  0.00  0.00           H  \n",
      "ATOM     10  C4  UNL     1       1.742   0.060  -1.859  0.00  0.00           C  \n",
      "ATOM     11  H5  UNL     1       2.413  -0.729  -2.237  0.00  0.00           H  \n",
      "ATOM     12  H6  UNL     1       1.679   0.848  -2.629  0.00  0.00           H  \n",
      "ATOM     13  H7  UNL     1       0.740  -0.379  -1.756  0.00  0.00           H  \n",
      "ATOM     14  H8  UNL     1       1.246   1.716   2.328  0.00  0.00           H  \n",
      "ATOM     15  C5  UNL     1       6.885   1.120   1.599  0.00  0.00           C  \n",
      "ATOM     16  H9  UNL     1       5.824   1.056   1.884  0.00  0.00           H  \n",
      "ATOM     17  Ha  UNL     1       7.288   1.986   2.158  0.00  0.00           H  \n",
      "ATOM     18  C6  UNL     1       7.015   1.387   0.106  0.00  0.00           C  \n",
      "ATOM     19  C7  UNL     1       6.077   1.055  -0.796  0.00  0.00           C  \n",
      "ATOM     20  Hb  UNL     1       6.252   1.325  -1.843  0.00  0.00           H  \n",
      "ATOM     21  C8  UNL     1       4.769   0.332  -0.558  0.00  0.00           C  \n",
      "ATOM     22  Hc  UNL     1       4.765  -0.191   0.410  0.00  0.00           H  \n",
      "ATOM     23  Hd  UNL     1       4.665  -0.454  -1.327  0.00  0.00           H  \n",
      "ATOM     24  C9  UNL     1       8.290   2.072  -0.333  0.00  0.00           C  \n",
      "ATOM     25  He  UNL     1       9.179   1.458  -0.115  0.00  0.00           H  \n",
      "ATOM     26  Hf  UNL     1       8.415   3.037   0.184  0.00  0.00           H  \n",
      "ATOM     27  Hg  UNL     1       8.287   2.277  -1.413  0.00  0.00           H  \n",
      "ATOM     28  Ca  UNL     1       5.713  -2.106   3.584  0.00  0.00           C  \n",
      "ATOM     29  Hh  UNL     1       5.404  -1.706   2.607  0.00  0.00           H  \n",
      "ATOM     30  Hi  UNL     1       4.808  -2.066   4.219  0.00  0.00           H  \n",
      "ATOM     31  Cb  UNL     1       6.778  -1.219   4.212  0.00  0.00           C  \n",
      "ATOM     32  Cc  UNL     1       7.548  -0.363   3.519  0.00  0.00           C  \n",
      "ATOM     33  Hj  UNL     1       8.240   0.278   4.077  0.00  0.00           H  \n",
      "ATOM     34  Cd  UNL     1       7.604  -0.169   2.018  0.00  0.00           C  \n",
      "ATOM     35  Hk  UNL     1       7.160  -1.023   1.486  0.00  0.00           H  \n",
      "ATOM     36  Hl  UNL     1       8.666  -0.145   1.714  0.00  0.00           H  \n",
      "ATOM     37  Ce  UNL     1       6.914  -1.334   5.716  0.00  0.00           C  \n",
      "ATOM     38  Hm  UNL     1       7.197  -2.356   6.019  0.00  0.00           H  \n",
      "ATOM     39  Hn  UNL     1       5.964  -1.082   6.218  0.00  0.00           H  \n",
      "ATOM     40  Ho  UNL     1       7.685  -0.654   6.108  0.00  0.00           H  \n",
      "ATOM     41  Cf  UNL     1       5.523  -4.846   0.608  0.00  0.00           C  \n",
      "ATOM     42  Hp  UNL     1       6.093  -3.906   0.661  0.00  0.00           H  \n",
      "ATOM     43  Hq  UNL     1       4.850  -4.734  -0.262  0.00  0.00           H  \n",
      "ATOM     44  Cg  UNL     1       4.689  -5.018   1.871  0.00  0.00           C  \n",
      "ATOM     45  Ch  UNL     1       4.986  -4.434   3.044  0.00  0.00           C  \n",
      "ATOM     46  Hr  UNL     1       4.310  -4.604   3.887  0.00  0.00           H  \n",
      "ATOM     47  Ci  UNL     1       6.169  -3.561   3.402  0.00  0.00           C  \n",
      "ATOM     48  Hs  UNL     1       6.964  -3.606   2.644  0.00  0.00           H  \n",
      "ATOM     49  Ht  UNL     1       6.615  -3.959   4.331  0.00  0.00           H  \n",
      "ATOM     50  Cj  UNL     1       3.474  -5.916   1.748  0.00  0.00           C  \n",
      "ATOM     51  Hu  UNL     1       3.752  -6.935   1.428  0.00  0.00           H  \n",
      "ATOM     52  Hv  UNL     1       2.756  -5.516   1.012  0.00  0.00           H  \n",
      "ATOM     53  Hw  UNL     1       2.939  -6.012   2.705  0.00  0.00           H  \n",
      "ATOM     54  Ck  UNL     1       9.252  -4.614   0.248  0.00  0.00           C  \n",
      "ATOM     55  Hx  UNL     1       8.538  -4.469   1.071  0.00  0.00           H  \n",
      "ATOM     56  Hz  UNL     1       9.571  -3.597  -0.043  0.00  0.00           H  \n",
      "ATOM     57  Cl  UNL     1       8.555  -5.280  -0.930  0.00  0.00           C  \n",
      "ATOM     58  Cm  UNL     1       7.342  -5.856  -0.843  0.00  0.00           C  \n",
      "ATOM     59  Hy  UNL     1       6.912  -6.299  -1.747  0.00  0.00           H  \n",
      "ATOM     60  Cn  UNL     1       6.481  -6.023   0.397  0.00  0.00           C  \n",
      "ATOM     61  HA  UNL     1       7.112  -6.147   1.288  0.00  0.00           H  \n",
      "ATOM     62  HB  UNL     1       5.918  -6.969   0.297  0.00  0.00           H  \n",
      "ATOM     63  Co  UNL     1       9.301  -5.261  -2.250  0.00  0.00           C  \n",
      "ATOM     64  HC  UNL     1      10.222  -5.866  -2.205  0.00  0.00           H  \n",
      "ATOM     65  HD  UNL     1       9.582  -4.231  -2.526  0.00  0.00           H  \n",
      "ATOM     66  HE  UNL     1       8.682  -5.659  -3.067  0.00  0.00           H  \n",
      "ATOM     67  Cp  UNL     1       9.538  -6.330   3.559  0.00  0.00           C  \n",
      "ATOM     68  HF  UNL     1       8.810  -6.306   2.737  0.00  0.00           H  \n",
      "ATOM     69  HG  UNL     1       8.967  -6.043   4.462  0.00  0.00           H  \n",
      "ATOM     70  Cq  UNL     1      10.624  -5.293   3.303  0.00  0.00           C  \n",
      "ATOM     71  Cr  UNL     1      10.984  -4.896   2.069  0.00  0.00           C  \n",
      "ATOM     72  HH  UNL     1      11.749  -4.119   1.970  0.00  0.00           H  \n",
      "ATOM     73  Cs  UNL     1      10.444  -5.436   0.755  0.00  0.00           C  \n",
      "ATOM     74  HI  UNL     1      10.139  -6.486   0.877  0.00  0.00           H  \n",
      "ATOM     75  HJ  UNL     1      11.262  -5.447   0.011  0.00  0.00           H  \n",
      "ATOM     76  Ct  UNL     1      11.268  -4.711   4.540  0.00  0.00           C  \n",
      "ATOM     77  HK  UNL     1      11.699  -5.500   5.180  0.00  0.00           H  \n",
      "ATOM     78  HL  UNL     1      10.528  -4.155   5.141  0.00  0.00           H  \n",
      "ATOM     79  HM  UNL     1      12.077  -4.012   4.287  0.00  0.00           H  \n",
      "ATOM     80  Cu  UNL     1       8.477  -9.348   1.546  0.00  0.00           C  \n",
      "ATOM     81  HN  UNL     1       9.108  -8.482   1.303  0.00  0.00           H  \n",
      "ATOM     82  HO  UNL     1       7.507  -9.146   1.055  0.00  0.00           H  \n",
      "ATOM     83  Cv  UNL     1       8.249  -9.433   3.046  0.00  0.00           C  \n",
      "ATOM     84  Cw  UNL     1       8.945  -8.728   3.957  0.00  0.00           C  \n",
      "ATOM     85  HP  UNL     1       8.667  -8.832   5.012  0.00  0.00           H  \n",
      "ATOM     86  Cx  UNL     1      10.083  -7.756   3.706  0.00  0.00           C  \n",
      "ATOM     87  HQ  UNL     1      10.649  -8.041   2.807  0.00  0.00           H  \n",
      "ATOM     88  HR  UNL     1      10.796  -7.821   4.548  0.00  0.00           H  \n",
      "ATOM     89  Cz  UNL     1       7.121 -10.340   3.487  0.00  0.00           C  \n",
      "ATOM     90  HS  UNL     1       7.314 -11.391   3.217  0.00  0.00           H  \n",
      "ATOM     91  HT  UNL     1       6.168 -10.038   3.021  0.00  0.00           H  \n",
      "ATOM     92  HU  UNL     1       6.977 -10.300   4.576  0.00  0.00           H  \n",
      "ATOM     93  Cy  UNL     1      11.605  -9.624  -0.704  0.00  0.00           C  \n",
      "ATOM     94  HV  UNL     1      12.430 -10.289  -1.005  0.00  0.00           H  \n",
      "ATOM     95  HW  UNL     1      11.589  -9.577   0.392  0.00  0.00           H  \n",
      "ATOM     96  HX  UNL     1      11.835  -8.605  -1.061  0.00  0.00           H  \n",
      "ATOM     97  CA  UNL     1      10.291 -10.096  -1.286  0.00  0.00           C  \n",
      "ATOM     98  CB  UNL     1       9.236 -10.493  -0.555  0.00  0.00           C  \n",
      "ATOM     99  HY  UNL     1       8.323 -10.777  -1.089  0.00  0.00           H  \n",
      "ATOM    100  CC  UNL     1       9.128 -10.607   0.954  0.00  0.00           C  \n",
      "ATOM    101  HZ  UNL     1      10.114 -10.769   1.415  0.00  0.00           H  \n",
      "ATOM    102  H!  UNL     1       8.534 -11.510   1.185  0.00  0.00           H  \n",
      "ATOM    103  CD  UNL     1      10.227 -10.058  -2.797  0.00  0.00           C  \n",
      "ATOM    104  H@  UNL     1      11.032 -10.661  -3.249  0.00  0.00           H  \n",
      "ATOM    105  H#  UNL     1      10.330  -9.022  -3.162  0.00  0.00           H  \n",
      "ATOM    106  H$  UNL     1       9.270 -10.446  -3.174  0.00  0.00           H  \n",
      "CONECT    1    2    3    4   21\n",
      "CONECT    4    5   10\n",
      "CONECT    5    6    7\n",
      "CONECT    7    8    9   14\n",
      "CONECT   10   11   12   13\n",
      "CONECT   15   16   17   18   34\n",
      "CONECT   18   19   24\n",
      "CONECT   19   20   21\n",
      "CONECT   21   22   23\n",
      "CONECT   24   25   26   27\n",
      "CONECT   28   29   30   31   47\n",
      "CONECT   31   32   37\n",
      "CONECT   32   33   34\n",
      "CONECT   34   35   36\n",
      "CONECT   37   38   39   40\n",
      "CONECT   41   42   43   44   60\n",
      "CONECT   44   45   50\n",
      "CONECT   45   46   47\n",
      "CONECT   47   48   49\n",
      "CONECT   50   51   52   53\n",
      "CONECT   54   55   56   57   73\n",
      "CONECT   57   58   63\n",
      "CONECT   58   59   60\n",
      "CONECT   60   61   62\n",
      "CONECT   63   64   65   66\n",
      "CONECT   67   68   69   70   86\n",
      "CONECT   70   71   76\n",
      "CONECT   71   72   73\n",
      "CONECT   73   74   75\n",
      "CONECT   76   77   78   79\n",
      "CONECT   80   81   82   83  100\n",
      "CONECT   83   84   89\n",
      "CONECT   84   85   86\n",
      "CONECT   86   87   88\n",
      "CONECT   89   90   91   92\n",
      "CONECT   93   94   95   96   97\n",
      "CONECT   97   98  103\n",
      "CONECT   98   99  100\n",
      "CONECT  100  101  102\n",
      "CONECT  103  104  105  106\n",
      "END\n",
      "\n"
     ]
    }
   ],
   "source": [
    "print(pdb_block)\n"
   ]
  },
  {
   "cell_type": "code",
   "execution_count": 59,
   "id": "cb4fa015",
   "metadata": {
    "scrolled": true
   },
   "outputs": [
    {
     "name": "stdout",
     "output_type": "stream",
     "text": [
      "before\n",
      "after\n"
     ]
    },
    {
     "data": {
      "application/javascript": [
       "\n",
       "                var atom_data = document.getElementById(\"atoms_of_class_xxx\");\n",
       "                var a = JSON.stringify(atom_data.dataset.atoms);\n",
       "                Jupyter.notebook.kernel.execute(\"atoms_str = \" + a);\n",
       "                "
      ],
      "text/plain": [
       "<IPython.core.display.Javascript object>"
      ]
     },
     "metadata": {},
     "output_type": "display_data"
    },
    {
     "data": {
      "application/vnd.jupyter.widget-view+json": {
       "model_id": "6a1892efc5f34a5989d8cfda7a157cb7",
       "version_major": 2,
       "version_minor": 0
      },
      "text/plain": [
       "Button(description='Export Selection', style=ButtonStyle())"
      ]
     },
     "metadata": {},
     "output_type": "display_data"
    },
    {
     "data": {
      "application/vnd.jupyter.widget-view+json": {
       "model_id": "3d9b01d02bbf488fa44d628ef2683a4f",
       "version_major": 2,
       "version_minor": 0
      },
      "text/plain": [
       "Output()"
      ]
     },
     "metadata": {},
     "output_type": "display_data"
    }
   ],
   "source": [
    "from IPython.utils import io\n",
    "import ipywidgets as widgets\n",
    "\n",
    "atoms_str = None\n",
    "print(\"before\")\n",
    "d = Javascript(\"\"\"\n",
    "                var atom_data = document.getElementById(\"atoms_of_class_xxx\");\n",
    "                var a = JSON.stringify(atom_data.dataset.atoms);\n",
    "                Jupyter.notebook.kernel.execute(\"atoms_str = \" + a);\n",
    "                \"\"\")\n",
    "\n",
    "print(\"after\")\n",
    "\n",
    "button = widgets.Button(description=\"Export Selection\")\n",
    "output = widgets.Output()\n",
    "\n",
    "def on_button_clicked(b):\n",
    "    with output:\n",
    "        print(atoms_str)\n",
    "\n",
    "button.on_click(on_button_clicked)\n",
    "\n",
    "display(d, button, output)"
   ]
  },
  {
   "cell_type": "code",
   "execution_count": 55,
   "id": "94eac725",
   "metadata": {},
   "outputs": [
    {
     "name": "stdout",
     "output_type": "stream",
     "text": [
      "2,3,4,23,62,75\n"
     ]
    }
   ],
   "source": [
    "print(atoms_str)"
   ]
  },
  {
   "cell_type": "code",
   "execution_count": 39,
   "id": "4bafe2ff",
   "metadata": {},
   "outputs": [
    {
     "data": {
      "text/plain": [
       "[<IPython.utils.capture.RichOutput at 0x7fe56fda5280>]"
      ]
     },
     "execution_count": 39,
     "metadata": {},
     "output_type": "execute_result"
    }
   ],
   "source": []
  },
  {
   "cell_type": "code",
   "execution_count": 44,
   "id": "257b6dbb",
   "metadata": {},
   "outputs": [],
   "source": [
    "atoms_str = None"
   ]
  },
  {
   "cell_type": "code",
   "execution_count": 18,
   "id": "99204666",
   "metadata": {},
   "outputs": [
    {
     "data": {
      "application/javascript": [
       "console.log(typeof Jupyter.notebook.kernel.execute)\n"
      ],
      "text/plain": [
       "<IPython.core.display.Javascript object>"
      ]
     },
     "metadata": {},
     "output_type": "display_data"
    }
   ],
   "source": [
    "\n",
    "console.log(typeof Jupyter.notebook.kernel.execute)"
   ]
  },
  {
   "cell_type": "code",
   "execution_count": 2,
   "id": "9b6884d2",
   "metadata": {},
   "outputs": [
    {
     "data": {
      "application/javascript": [
       "var atom_data = document.getElementById(\"atoms_of_class_xxx\");\n",
       "var a = JSON.stringify(atom_data.dataset.atoms);\n",
       "Jupyter.notebook.kernel.execute(\"atoms_str = \" + a)\n"
      ],
      "text/plain": [
       "<IPython.core.display.Javascript object>"
      ]
     },
     "metadata": {},
     "output_type": "display_data"
    }
   ],
   "source": [
    "%%javascript\n",
    "var atom_data = document.getElementById(\"atoms_of_class_xxx\");\n",
    "var a = JSON.stringify(atom_data.dataset.atoms);\n",
    "Jupyter.notebook.kernel.execute(\"atoms_str = \" + a)"
   ]
  },
  {
   "cell_type": "code",
   "execution_count": 64,
   "id": "510df1c6",
   "metadata": {},
   "outputs": [
    {
     "name": "stdout",
     "output_type": "stream",
     "text": [
      "2,3,4,23,62,75\n"
     ]
    }
   ],
   "source": [
    "print(atoms_str)"
   ]
  },
  {
   "cell_type": "code",
   "execution_count": 59,
   "id": "a09be177",
   "metadata": {},
   "outputs": [
    {
     "data": {
      "text/plain": [
       "str"
      ]
     },
     "execution_count": 59,
     "metadata": {},
     "output_type": "execute_result"
    }
   ],
   "source": [
    "type(atoms_str)"
   ]
  },
  {
   "cell_type": "code",
   "execution_count": 77,
   "id": "c83cc405",
   "metadata": {},
   "outputs": [
    {
     "data": {
      "application/javascript": [
       "\n",
       "            console.log(\"lskjdflskjdf\")\n",
       "            "
      ],
      "text/plain": [
       "<IPython.core.display.Javascript object>"
      ]
     },
     "execution_count": 77,
     "metadata": {},
     "output_type": "execute_result"
    }
   ],
   "source": [
    "Javascript(\"\"\"\n",
    "            console.log(\"lskjdflskjdf\")\n",
    "            \"\"\")"
   ]
  },
  {
   "cell_type": "code",
   "execution_count": 2,
   "id": "97579151",
   "metadata": {
    "scrolled": false
   },
   "outputs": [
    {
     "data": {
      "application/3dmoljs_load.v0": "<div id=\"3dmolviewer_16522979773469121\"  style=\"position: relative; width: 500px; height: 300px\">\n        <p id=\"3dmolwarning_16522979773469121\" style=\"background-color:#ffcccc;color:black\">You appear to be running in JupyterLab (or JavaScript failed to load for some other reason).  You need to install the 3dmol extension: <br>\n        <tt>jupyter labextension install jupyterlab_3dmol</tt></p>\n        </div>\n<script>\n\nvar loadScriptAsync = function(uri){\n  return new Promise((resolve, reject) => {\n    var tag = document.createElement('script');\n    tag.src = uri;\n    tag.async = true;\n    tag.onload = () => {\n      resolve();\n    };\n  var firstScriptTag = document.getElementsByTagName('script')[0];\n  firstScriptTag.parentNode.insertBefore(tag, firstScriptTag);\n});\n};\n\nif(typeof $3Dmolpromise === 'undefined') {\n$3Dmolpromise = null;\n  $3Dmolpromise = loadScriptAsync('https://3dmol.org/build/3Dmol.js');\n}\n\nvar viewer_16522979773469121 = null;\nvar warn = document.getElementById(\"3dmolwarning_16522979773469121\");\nif(warn) {\n    warn.parentNode.removeChild(warn);\n}\n$3Dmolpromise.then(function() {\nviewer_16522979773469121 = $3Dmol.createViewer($(\"#3dmolviewer_16522979773469121\"),{backgroundColor:\"white\"});\nviewer_16522979773469121.zoomTo();\n\tviewer_16522979773469121.addModel(\"ATOM      1  C   UNL     1       3.595   1.320  -0.618  0.00  0.00           C  \\nATOM      2  H   UNL     1       3.693   2.054   0.196  0.00  0.00           H  \\nATOM      3  H1  UNL     1       3.643   1.911  -1.553  0.00  0.00           H  \\nATOM      4  C1  UNL     1       2.246   0.620  -0.547  0.00  0.00           C  \\nATOM      5  C2  UNL     1       1.529   0.481   0.580  0.00  0.00           C  \\nATOM      6  H2  UNL     1       0.552  -0.013   0.512  0.00  0.00           H  \\nATOM      7  C3  UNL     1       1.909   0.909   1.976  0.00  0.00           C  \\nATOM      8  H3  UNL     1       2.944   1.266   2.056  0.00  0.00           H  \\nATOM      9  H4  UNL     1       1.809   0.058   2.671  0.00  0.00           H  \\nATOM     10  C4  UNL     1       1.742   0.060  -1.859  0.00  0.00           C  \\nATOM     11  H5  UNL     1       2.413  -0.729  -2.237  0.00  0.00           H  \\nATOM     12  H6  UNL     1       1.679   0.848  -2.629  0.00  0.00           H  \\nATOM     13  H7  UNL     1       0.740  -0.379  -1.756  0.00  0.00           H  \\nATOM     14  H8  UNL     1       1.246   1.716   2.328  0.00  0.00           H  \\nATOM     15  C5  UNL     1       6.885   1.120   1.599  0.00  0.00           C  \\nATOM     16  H9  UNL     1       5.824   1.056   1.884  0.00  0.00           H  \\nATOM     17  Ha  UNL     1       7.288   1.986   2.158  0.00  0.00           H  \\nATOM     18  C6  UNL     1       7.015   1.387   0.106  0.00  0.00           C  \\nATOM     19  C7  UNL     1       6.077   1.055  -0.796  0.00  0.00           C  \\nATOM     20  Hb  UNL     1       6.252   1.325  -1.843  0.00  0.00           H  \\nATOM     21  C8  UNL     1       4.769   0.332  -0.558  0.00  0.00           C  \\nATOM     22  Hc  UNL     1       4.765  -0.191   0.410  0.00  0.00           H  \\nATOM     23  Hd  UNL     1       4.665  -0.454  -1.327  0.00  0.00           H  \\nATOM     24  C9  UNL     1       8.290   2.072  -0.333  0.00  0.00           C  \\nATOM     25  He  UNL     1       9.179   1.458  -0.115  0.00  0.00           H  \\nATOM     26  Hf  UNL     1       8.415   3.037   0.184  0.00  0.00           H  \\nATOM     27  Hg  UNL     1       8.287   2.277  -1.413  0.00  0.00           H  \\nATOM     28  Ca  UNL     1       5.713  -2.106   3.584  0.00  0.00           C  \\nATOM     29  Hh  UNL     1       5.404  -1.706   2.607  0.00  0.00           H  \\nATOM     30  Hi  UNL     1       4.808  -2.066   4.219  0.00  0.00           H  \\nATOM     31  Cb  UNL     1       6.778  -1.219   4.212  0.00  0.00           C  \\nATOM     32  Cc  UNL     1       7.548  -0.363   3.519  0.00  0.00           C  \\nATOM     33  Hj  UNL     1       8.240   0.278   4.077  0.00  0.00           H  \\nATOM     34  Cd  UNL     1       7.604  -0.169   2.018  0.00  0.00           C  \\nATOM     35  Hk  UNL     1       7.160  -1.023   1.486  0.00  0.00           H  \\nATOM     36  Hl  UNL     1       8.666  -0.145   1.714  0.00  0.00           H  \\nATOM     37  Ce  UNL     1       6.914  -1.334   5.716  0.00  0.00           C  \\nATOM     38  Hm  UNL     1       7.197  -2.356   6.019  0.00  0.00           H  \\nATOM     39  Hn  UNL     1       5.964  -1.082   6.218  0.00  0.00           H  \\nATOM     40  Ho  UNL     1       7.685  -0.654   6.108  0.00  0.00           H  \\nATOM     41  Cf  UNL     1       5.523  -4.846   0.608  0.00  0.00           C  \\nATOM     42  Hp  UNL     1       6.093  -3.906   0.661  0.00  0.00           H  \\nATOM     43  Hq  UNL     1       4.850  -4.734  -0.262  0.00  0.00           H  \\nATOM     44  Cg  UNL     1       4.689  -5.018   1.871  0.00  0.00           C  \\nATOM     45  Ch  UNL     1       4.986  -4.434   3.044  0.00  0.00           C  \\nATOM     46  Hr  UNL     1       4.310  -4.604   3.887  0.00  0.00           H  \\nATOM     47  Ci  UNL     1       6.169  -3.561   3.402  0.00  0.00           C  \\nATOM     48  Hs  UNL     1       6.964  -3.606   2.644  0.00  0.00           H  \\nATOM     49  Ht  UNL     1       6.615  -3.959   4.331  0.00  0.00           H  \\nATOM     50  Cj  UNL     1       3.474  -5.916   1.748  0.00  0.00           C  \\nATOM     51  Hu  UNL     1       3.752  -6.935   1.428  0.00  0.00           H  \\nATOM     52  Hv  UNL     1       2.756  -5.516   1.012  0.00  0.00           H  \\nATOM     53  Hw  UNL     1       2.939  -6.012   2.705  0.00  0.00           H  \\nATOM     54  Ck  UNL     1       9.252  -4.614   0.248  0.00  0.00           C  \\nATOM     55  Hx  UNL     1       8.538  -4.469   1.071  0.00  0.00           H  \\nATOM     56  Hz  UNL     1       9.571  -3.597  -0.043  0.00  0.00           H  \\nATOM     57  Cl  UNL     1       8.555  -5.280  -0.930  0.00  0.00           C  \\nATOM     58  Cm  UNL     1       7.342  -5.856  -0.843  0.00  0.00           C  \\nATOM     59  Hy  UNL     1       6.912  -6.299  -1.747  0.00  0.00           H  \\nATOM     60  Cn  UNL     1       6.481  -6.023   0.397  0.00  0.00           C  \\nATOM     61  HA  UNL     1       7.112  -6.147   1.288  0.00  0.00           H  \\nATOM     62  HB  UNL     1       5.918  -6.969   0.297  0.00  0.00           H  \\nATOM     63  Co  UNL     1       9.301  -5.261  -2.250  0.00  0.00           C  \\nATOM     64  HC  UNL     1      10.222  -5.866  -2.205  0.00  0.00           H  \\nATOM     65  HD  UNL     1       9.582  -4.231  -2.526  0.00  0.00           H  \\nATOM     66  HE  UNL     1       8.682  -5.659  -3.067  0.00  0.00           H  \\nATOM     67  Cp  UNL     1       9.538  -6.330   3.559  0.00  0.00           C  \\nATOM     68  HF  UNL     1       8.810  -6.306   2.737  0.00  0.00           H  \\nATOM     69  HG  UNL     1       8.967  -6.043   4.462  0.00  0.00           H  \\nATOM     70  Cq  UNL     1      10.624  -5.293   3.303  0.00  0.00           C  \\nATOM     71  Cr  UNL     1      10.984  -4.896   2.069  0.00  0.00           C  \\nATOM     72  HH  UNL     1      11.749  -4.119   1.970  0.00  0.00           H  \\nATOM     73  Cs  UNL     1      10.444  -5.436   0.755  0.00  0.00           C  \\nATOM     74  HI  UNL     1      10.139  -6.486   0.877  0.00  0.00           H  \\nATOM     75  HJ  UNL     1      11.262  -5.447   0.011  0.00  0.00           H  \\nATOM     76  Ct  UNL     1      11.268  -4.711   4.540  0.00  0.00           C  \\nATOM     77  HK  UNL     1      11.699  -5.500   5.180  0.00  0.00           H  \\nATOM     78  HL  UNL     1      10.528  -4.155   5.141  0.00  0.00           H  \\nATOM     79  HM  UNL     1      12.077  -4.012   4.287  0.00  0.00           H  \\nATOM     80  Cu  UNL     1       8.477  -9.348   1.546  0.00  0.00           C  \\nATOM     81  HN  UNL     1       9.108  -8.482   1.303  0.00  0.00           H  \\nATOM     82  HO  UNL     1       7.507  -9.146   1.055  0.00  0.00           H  \\nATOM     83  Cv  UNL     1       8.249  -9.433   3.046  0.00  0.00           C  \\nATOM     84  Cw  UNL     1       8.945  -8.728   3.957  0.00  0.00           C  \\nATOM     85  HP  UNL     1       8.667  -8.832   5.012  0.00  0.00           H  \\nATOM     86  Cx  UNL     1      10.083  -7.756   3.706  0.00  0.00           C  \\nATOM     87  HQ  UNL     1      10.649  -8.041   2.807  0.00  0.00           H  \\nATOM     88  HR  UNL     1      10.796  -7.821   4.548  0.00  0.00           H  \\nATOM     89  Cz  UNL     1       7.121 -10.340   3.487  0.00  0.00           C  \\nATOM     90  HS  UNL     1       7.314 -11.391   3.217  0.00  0.00           H  \\nATOM     91  HT  UNL     1       6.168 -10.038   3.021  0.00  0.00           H  \\nATOM     92  HU  UNL     1       6.977 -10.300   4.576  0.00  0.00           H  \\nATOM     93  Cy  UNL     1      11.605  -9.624  -0.704  0.00  0.00           C  \\nATOM     94  HV  UNL     1      12.430 -10.289  -1.005  0.00  0.00           H  \\nATOM     95  HW  UNL     1      11.589  -9.577   0.392  0.00  0.00           H  \\nATOM     96  HX  UNL     1      11.835  -8.605  -1.061  0.00  0.00           H  \\nATOM     97  CA  UNL     1      10.291 -10.096  -1.286  0.00  0.00           C  \\nATOM     98  CB  UNL     1       9.236 -10.493  -0.555  0.00  0.00           C  \\nATOM     99  HY  UNL     1       8.323 -10.777  -1.089  0.00  0.00           H  \\nATOM    100  CC  UNL     1       9.128 -10.607   0.954  0.00  0.00           C  \\nATOM    101  HZ  UNL     1      10.114 -10.769   1.415  0.00  0.00           H  \\nATOM    102  H!  UNL     1       8.534 -11.510   1.185  0.00  0.00           H  \\nATOM    103  CD  UNL     1      10.227 -10.058  -2.797  0.00  0.00           C  \\nATOM    104  H@  UNL     1      11.032 -10.661  -3.249  0.00  0.00           H  \\nATOM    105  H#  UNL     1      10.330  -9.022  -3.162  0.00  0.00           H  \\nATOM    106  H$  UNL     1       9.270 -10.446  -3.174  0.00  0.00           H  \\nCONECT    1    2    3    4   21\\nCONECT    4    5   10\\nCONECT    5    6    7\\nCONECT    7    8    9   14\\nCONECT   10   11   12   13\\nCONECT   15   16   17   18   34\\nCONECT   18   19   24\\nCONECT   19   20   21\\nCONECT   21   22   23\\nCONECT   24   25   26   27\\nCONECT   28   29   30   31   47\\nCONECT   31   32   37\\nCONECT   32   33   34\\nCONECT   34   35   36\\nCONECT   37   38   39   40\\nCONECT   41   42   43   44   60\\nCONECT   44   45   50\\nCONECT   45   46   47\\nCONECT   47   48   49\\nCONECT   50   51   52   53\\nCONECT   54   55   56   57   73\\nCONECT   57   58   63\\nCONECT   58   59   60\\nCONECT   60   61   62\\nCONECT   63   64   65   66\\nCONECT   67   68   69   70   86\\nCONECT   70   71   76\\nCONECT   71   72   73\\nCONECT   73   74   75\\nCONECT   76   77   78   79\\nCONECT   80   81   82   83  100\\nCONECT   83   84   89\\nCONECT   84   85   86\\nCONECT   86   87   88\\nCONECT   89   90   91   92\\nCONECT   93   94   95   96   97\\nCONECT   97   98  103\\nCONECT   98   99  100\\nCONECT  100  101  102\\nCONECT  103  104  105  106\\nEND\\n\",\"pdb\",{\"keepH\": true});\n\tviewer_16522979773469121.setStyle({\"model\": -1},{\"stick\": {}});\n\tviewer_16522979773469121.setClickable({},true,\"function(atom,viewer,event,container) {\\n                   if(!atom.label) {\\n                        atom.label = viewer.addLabel(atom.atom+\\\":\\\"+atom.serial,{position: atom, backgroundColor: 'mintcream', fontColor:'black', backgroundOpacity: \\\"0.3\\\"});\\n                        console.log(Object.getOwnPropertyNames(atom))\\n                        console.log(atom.serial)\\n                        viewer.setStyle({\\\"serial\\\": atom.serial}, {\\\"stick\\\": {\\\"color\\\": 0xFF0000}})\\n                        \\n                        atom_data = document.getElementById(\\\"atoms_of_class_1652297916845\\\");\\n                        var a = atom_data.dataset.atoms;\\n                        var arr = a.split(',').map(element => {\\n                          return Number(element);\\n                        });\\n                        arr.push(atom.serial)\\n                        atom_data.dataset.atoms = arr;\\n                   }\\n                   else {\\n                        viewer.removeLabel(atom.label);\\n                        delete atom.label;\\n                        viewer.setStyle({\\\"serial\\\": atom.serial}, {\\\"stick\\\": {\\\"colorscheme\\\": \\\"default\\\"}})\\n                        \\n                        atom_data = document.getElementById(\\\"atoms_of_class_1652297916845\\\");\\n                        var a = atom_data.dataset.atoms;\\n                        var arr = a.split(',').map(element => {\\n                          return Number(element);\\n                        });\\n                        arr = arr.filter(function(item) {\\n                            return item !== atom.serial\\n                        })\\n                        atom_data.dataset.atoms = arr;\\n                   }\\n                   viewer.render();}\");\n\tviewer_16522979773469121.setStyle({\"model\": -1},{\"stick\": {\"colorscheme\": \"default\"}});\n\tviewer_16522979773469121.removeAllLabels();\n\tviewer_16522979773469121.setStyle({\"model\": -1},{\"stick\": {\"colorscheme\": \"default\"}});\n\tviewer_16522979773469121.removeAllLabels();\n\tviewer_16522979773469121.setStyle({\"model\": -1},{\"stick\": {\"colorscheme\": \"default\"}});\n\tviewer_16522979773469121.removeAllLabels();\nviewer_16522979773469121.render();\n});\n</script>",
      "text/html": [
       "<div id=\"3dmolviewer_16522979773469121\"  style=\"position: relative; width: 500px; height: 300px\">\n",
       "        <p id=\"3dmolwarning_16522979773469121\" style=\"background-color:#ffcccc;color:black\">You appear to be running in JupyterLab (or JavaScript failed to load for some other reason).  You need to install the 3dmol extension: <br>\n",
       "        <tt>jupyter labextension install jupyterlab_3dmol</tt></p>\n",
       "        </div>\n",
       "<script>\n",
       "\n",
       "var loadScriptAsync = function(uri){\n",
       "  return new Promise((resolve, reject) => {\n",
       "    var tag = document.createElement('script');\n",
       "    tag.src = uri;\n",
       "    tag.async = true;\n",
       "    tag.onload = () => {\n",
       "      resolve();\n",
       "    };\n",
       "  var firstScriptTag = document.getElementsByTagName('script')[0];\n",
       "  firstScriptTag.parentNode.insertBefore(tag, firstScriptTag);\n",
       "});\n",
       "};\n",
       "\n",
       "if(typeof $3Dmolpromise === 'undefined') {\n",
       "$3Dmolpromise = null;\n",
       "  $3Dmolpromise = loadScriptAsync('https://3dmol.org/build/3Dmol.js');\n",
       "}\n",
       "\n",
       "var viewer_16522979773469121 = null;\n",
       "var warn = document.getElementById(\"3dmolwarning_16522979773469121\");\n",
       "if(warn) {\n",
       "    warn.parentNode.removeChild(warn);\n",
       "}\n",
       "$3Dmolpromise.then(function() {\n",
       "viewer_16522979773469121 = $3Dmol.createViewer($(\"#3dmolviewer_16522979773469121\"),{backgroundColor:\"white\"});\n",
       "viewer_16522979773469121.zoomTo();\n",
       "\tviewer_16522979773469121.addModel(\"ATOM      1  C   UNL     1       3.595   1.320  -0.618  0.00  0.00           C  \\nATOM      2  H   UNL     1       3.693   2.054   0.196  0.00  0.00           H  \\nATOM      3  H1  UNL     1       3.643   1.911  -1.553  0.00  0.00           H  \\nATOM      4  C1  UNL     1       2.246   0.620  -0.547  0.00  0.00           C  \\nATOM      5  C2  UNL     1       1.529   0.481   0.580  0.00  0.00           C  \\nATOM      6  H2  UNL     1       0.552  -0.013   0.512  0.00  0.00           H  \\nATOM      7  C3  UNL     1       1.909   0.909   1.976  0.00  0.00           C  \\nATOM      8  H3  UNL     1       2.944   1.266   2.056  0.00  0.00           H  \\nATOM      9  H4  UNL     1       1.809   0.058   2.671  0.00  0.00           H  \\nATOM     10  C4  UNL     1       1.742   0.060  -1.859  0.00  0.00           C  \\nATOM     11  H5  UNL     1       2.413  -0.729  -2.237  0.00  0.00           H  \\nATOM     12  H6  UNL     1       1.679   0.848  -2.629  0.00  0.00           H  \\nATOM     13  H7  UNL     1       0.740  -0.379  -1.756  0.00  0.00           H  \\nATOM     14  H8  UNL     1       1.246   1.716   2.328  0.00  0.00           H  \\nATOM     15  C5  UNL     1       6.885   1.120   1.599  0.00  0.00           C  \\nATOM     16  H9  UNL     1       5.824   1.056   1.884  0.00  0.00           H  \\nATOM     17  Ha  UNL     1       7.288   1.986   2.158  0.00  0.00           H  \\nATOM     18  C6  UNL     1       7.015   1.387   0.106  0.00  0.00           C  \\nATOM     19  C7  UNL     1       6.077   1.055  -0.796  0.00  0.00           C  \\nATOM     20  Hb  UNL     1       6.252   1.325  -1.843  0.00  0.00           H  \\nATOM     21  C8  UNL     1       4.769   0.332  -0.558  0.00  0.00           C  \\nATOM     22  Hc  UNL     1       4.765  -0.191   0.410  0.00  0.00           H  \\nATOM     23  Hd  UNL     1       4.665  -0.454  -1.327  0.00  0.00           H  \\nATOM     24  C9  UNL     1       8.290   2.072  -0.333  0.00  0.00           C  \\nATOM     25  He  UNL     1       9.179   1.458  -0.115  0.00  0.00           H  \\nATOM     26  Hf  UNL     1       8.415   3.037   0.184  0.00  0.00           H  \\nATOM     27  Hg  UNL     1       8.287   2.277  -1.413  0.00  0.00           H  \\nATOM     28  Ca  UNL     1       5.713  -2.106   3.584  0.00  0.00           C  \\nATOM     29  Hh  UNL     1       5.404  -1.706   2.607  0.00  0.00           H  \\nATOM     30  Hi  UNL     1       4.808  -2.066   4.219  0.00  0.00           H  \\nATOM     31  Cb  UNL     1       6.778  -1.219   4.212  0.00  0.00           C  \\nATOM     32  Cc  UNL     1       7.548  -0.363   3.519  0.00  0.00           C  \\nATOM     33  Hj  UNL     1       8.240   0.278   4.077  0.00  0.00           H  \\nATOM     34  Cd  UNL     1       7.604  -0.169   2.018  0.00  0.00           C  \\nATOM     35  Hk  UNL     1       7.160  -1.023   1.486  0.00  0.00           H  \\nATOM     36  Hl  UNL     1       8.666  -0.145   1.714  0.00  0.00           H  \\nATOM     37  Ce  UNL     1       6.914  -1.334   5.716  0.00  0.00           C  \\nATOM     38  Hm  UNL     1       7.197  -2.356   6.019  0.00  0.00           H  \\nATOM     39  Hn  UNL     1       5.964  -1.082   6.218  0.00  0.00           H  \\nATOM     40  Ho  UNL     1       7.685  -0.654   6.108  0.00  0.00           H  \\nATOM     41  Cf  UNL     1       5.523  -4.846   0.608  0.00  0.00           C  \\nATOM     42  Hp  UNL     1       6.093  -3.906   0.661  0.00  0.00           H  \\nATOM     43  Hq  UNL     1       4.850  -4.734  -0.262  0.00  0.00           H  \\nATOM     44  Cg  UNL     1       4.689  -5.018   1.871  0.00  0.00           C  \\nATOM     45  Ch  UNL     1       4.986  -4.434   3.044  0.00  0.00           C  \\nATOM     46  Hr  UNL     1       4.310  -4.604   3.887  0.00  0.00           H  \\nATOM     47  Ci  UNL     1       6.169  -3.561   3.402  0.00  0.00           C  \\nATOM     48  Hs  UNL     1       6.964  -3.606   2.644  0.00  0.00           H  \\nATOM     49  Ht  UNL     1       6.615  -3.959   4.331  0.00  0.00           H  \\nATOM     50  Cj  UNL     1       3.474  -5.916   1.748  0.00  0.00           C  \\nATOM     51  Hu  UNL     1       3.752  -6.935   1.428  0.00  0.00           H  \\nATOM     52  Hv  UNL     1       2.756  -5.516   1.012  0.00  0.00           H  \\nATOM     53  Hw  UNL     1       2.939  -6.012   2.705  0.00  0.00           H  \\nATOM     54  Ck  UNL     1       9.252  -4.614   0.248  0.00  0.00           C  \\nATOM     55  Hx  UNL     1       8.538  -4.469   1.071  0.00  0.00           H  \\nATOM     56  Hz  UNL     1       9.571  -3.597  -0.043  0.00  0.00           H  \\nATOM     57  Cl  UNL     1       8.555  -5.280  -0.930  0.00  0.00           C  \\nATOM     58  Cm  UNL     1       7.342  -5.856  -0.843  0.00  0.00           C  \\nATOM     59  Hy  UNL     1       6.912  -6.299  -1.747  0.00  0.00           H  \\nATOM     60  Cn  UNL     1       6.481  -6.023   0.397  0.00  0.00           C  \\nATOM     61  HA  UNL     1       7.112  -6.147   1.288  0.00  0.00           H  \\nATOM     62  HB  UNL     1       5.918  -6.969   0.297  0.00  0.00           H  \\nATOM     63  Co  UNL     1       9.301  -5.261  -2.250  0.00  0.00           C  \\nATOM     64  HC  UNL     1      10.222  -5.866  -2.205  0.00  0.00           H  \\nATOM     65  HD  UNL     1       9.582  -4.231  -2.526  0.00  0.00           H  \\nATOM     66  HE  UNL     1       8.682  -5.659  -3.067  0.00  0.00           H  \\nATOM     67  Cp  UNL     1       9.538  -6.330   3.559  0.00  0.00           C  \\nATOM     68  HF  UNL     1       8.810  -6.306   2.737  0.00  0.00           H  \\nATOM     69  HG  UNL     1       8.967  -6.043   4.462  0.00  0.00           H  \\nATOM     70  Cq  UNL     1      10.624  -5.293   3.303  0.00  0.00           C  \\nATOM     71  Cr  UNL     1      10.984  -4.896   2.069  0.00  0.00           C  \\nATOM     72  HH  UNL     1      11.749  -4.119   1.970  0.00  0.00           H  \\nATOM     73  Cs  UNL     1      10.444  -5.436   0.755  0.00  0.00           C  \\nATOM     74  HI  UNL     1      10.139  -6.486   0.877  0.00  0.00           H  \\nATOM     75  HJ  UNL     1      11.262  -5.447   0.011  0.00  0.00           H  \\nATOM     76  Ct  UNL     1      11.268  -4.711   4.540  0.00  0.00           C  \\nATOM     77  HK  UNL     1      11.699  -5.500   5.180  0.00  0.00           H  \\nATOM     78  HL  UNL     1      10.528  -4.155   5.141  0.00  0.00           H  \\nATOM     79  HM  UNL     1      12.077  -4.012   4.287  0.00  0.00           H  \\nATOM     80  Cu  UNL     1       8.477  -9.348   1.546  0.00  0.00           C  \\nATOM     81  HN  UNL     1       9.108  -8.482   1.303  0.00  0.00           H  \\nATOM     82  HO  UNL     1       7.507  -9.146   1.055  0.00  0.00           H  \\nATOM     83  Cv  UNL     1       8.249  -9.433   3.046  0.00  0.00           C  \\nATOM     84  Cw  UNL     1       8.945  -8.728   3.957  0.00  0.00           C  \\nATOM     85  HP  UNL     1       8.667  -8.832   5.012  0.00  0.00           H  \\nATOM     86  Cx  UNL     1      10.083  -7.756   3.706  0.00  0.00           C  \\nATOM     87  HQ  UNL     1      10.649  -8.041   2.807  0.00  0.00           H  \\nATOM     88  HR  UNL     1      10.796  -7.821   4.548  0.00  0.00           H  \\nATOM     89  Cz  UNL     1       7.121 -10.340   3.487  0.00  0.00           C  \\nATOM     90  HS  UNL     1       7.314 -11.391   3.217  0.00  0.00           H  \\nATOM     91  HT  UNL     1       6.168 -10.038   3.021  0.00  0.00           H  \\nATOM     92  HU  UNL     1       6.977 -10.300   4.576  0.00  0.00           H  \\nATOM     93  Cy  UNL     1      11.605  -9.624  -0.704  0.00  0.00           C  \\nATOM     94  HV  UNL     1      12.430 -10.289  -1.005  0.00  0.00           H  \\nATOM     95  HW  UNL     1      11.589  -9.577   0.392  0.00  0.00           H  \\nATOM     96  HX  UNL     1      11.835  -8.605  -1.061  0.00  0.00           H  \\nATOM     97  CA  UNL     1      10.291 -10.096  -1.286  0.00  0.00           C  \\nATOM     98  CB  UNL     1       9.236 -10.493  -0.555  0.00  0.00           C  \\nATOM     99  HY  UNL     1       8.323 -10.777  -1.089  0.00  0.00           H  \\nATOM    100  CC  UNL     1       9.128 -10.607   0.954  0.00  0.00           C  \\nATOM    101  HZ  UNL     1      10.114 -10.769   1.415  0.00  0.00           H  \\nATOM    102  H!  UNL     1       8.534 -11.510   1.185  0.00  0.00           H  \\nATOM    103  CD  UNL     1      10.227 -10.058  -2.797  0.00  0.00           C  \\nATOM    104  H@  UNL     1      11.032 -10.661  -3.249  0.00  0.00           H  \\nATOM    105  H#  UNL     1      10.330  -9.022  -3.162  0.00  0.00           H  \\nATOM    106  H$  UNL     1       9.270 -10.446  -3.174  0.00  0.00           H  \\nCONECT    1    2    3    4   21\\nCONECT    4    5   10\\nCONECT    5    6    7\\nCONECT    7    8    9   14\\nCONECT   10   11   12   13\\nCONECT   15   16   17   18   34\\nCONECT   18   19   24\\nCONECT   19   20   21\\nCONECT   21   22   23\\nCONECT   24   25   26   27\\nCONECT   28   29   30   31   47\\nCONECT   31   32   37\\nCONECT   32   33   34\\nCONECT   34   35   36\\nCONECT   37   38   39   40\\nCONECT   41   42   43   44   60\\nCONECT   44   45   50\\nCONECT   45   46   47\\nCONECT   47   48   49\\nCONECT   50   51   52   53\\nCONECT   54   55   56   57   73\\nCONECT   57   58   63\\nCONECT   58   59   60\\nCONECT   60   61   62\\nCONECT   63   64   65   66\\nCONECT   67   68   69   70   86\\nCONECT   70   71   76\\nCONECT   71   72   73\\nCONECT   73   74   75\\nCONECT   76   77   78   79\\nCONECT   80   81   82   83  100\\nCONECT   83   84   89\\nCONECT   84   85   86\\nCONECT   86   87   88\\nCONECT   89   90   91   92\\nCONECT   93   94   95   96   97\\nCONECT   97   98  103\\nCONECT   98   99  100\\nCONECT  100  101  102\\nCONECT  103  104  105  106\\nEND\\n\",\"pdb\",{\"keepH\": true});\n",
       "\tviewer_16522979773469121.setStyle({\"model\": -1},{\"stick\": {}});\n",
       "\tviewer_16522979773469121.setClickable({},true,\"function(atom,viewer,event,container) {\\n                   if(!atom.label) {\\n                        atom.label = viewer.addLabel(atom.atom+\\\":\\\"+atom.serial,{position: atom, backgroundColor: 'mintcream', fontColor:'black', backgroundOpacity: \\\"0.3\\\"});\\n                        console.log(Object.getOwnPropertyNames(atom))\\n                        console.log(atom.serial)\\n                        viewer.setStyle({\\\"serial\\\": atom.serial}, {\\\"stick\\\": {\\\"color\\\": 0xFF0000}})\\n                        \\n                        atom_data = document.getElementById(\\\"atoms_of_class_1652297916845\\\");\\n                        var a = atom_data.dataset.atoms;\\n                        var arr = a.split(',').map(element => {\\n                          return Number(element);\\n                        });\\n                        arr.push(atom.serial)\\n                        atom_data.dataset.atoms = arr;\\n                   }\\n                   else {\\n                        viewer.removeLabel(atom.label);\\n                        delete atom.label;\\n                        viewer.setStyle({\\\"serial\\\": atom.serial}, {\\\"stick\\\": {\\\"colorscheme\\\": \\\"default\\\"}})\\n                        \\n                        atom_data = document.getElementById(\\\"atoms_of_class_1652297916845\\\");\\n                        var a = atom_data.dataset.atoms;\\n                        var arr = a.split(',').map(element => {\\n                          return Number(element);\\n                        });\\n                        arr = arr.filter(function(item) {\\n                            return item !== atom.serial\\n                        })\\n                        atom_data.dataset.atoms = arr;\\n                   }\\n                   viewer.render();}\");\n",
       "\tviewer_16522979773469121.setStyle({\"model\": -1},{\"stick\": {\"colorscheme\": \"default\"}});\n",
       "\tviewer_16522979773469121.removeAllLabels();\n",
       "\tviewer_16522979773469121.setStyle({\"model\": -1},{\"stick\": {\"colorscheme\": \"default\"}});\n",
       "\tviewer_16522979773469121.removeAllLabels();\n",
       "\tviewer_16522979773469121.setStyle({\"model\": -1},{\"stick\": {\"colorscheme\": \"default\"}});\n",
       "\tviewer_16522979773469121.removeAllLabels();\n",
       "viewer_16522979773469121.render();\n",
       "});\n",
       "</script>"
      ]
     },
     "metadata": {},
     "output_type": "display_data"
    },
    {
     "data": {
      "text/plain": [
       "<py3Dmol.view at 0x7fa2f227c700>"
      ]
     },
     "metadata": {},
     "output_type": "display_data"
    },
    {
     "data": {
      "application/vnd.jupyter.widget-view+json": {
       "model_id": "9d73b12b9f9d4d318044e670809cb8c2",
       "version_major": 2,
       "version_minor": 0
      },
      "text/plain": [
       "HBox(children=(Button(button_style='danger', description='Clear', style=ButtonStyle()), Button(description='[#…"
      ]
     },
     "metadata": {},
     "output_type": "display_data"
    },
    {
     "data": {
      "application/vnd.jupyter.widget-view+json": {
       "model_id": "2240ff18b4b14eaea3c11fc185b86e92",
       "version_major": 2,
       "version_minor": 0
      },
      "text/plain": [
       "Output()"
      ]
     },
     "metadata": {},
     "output_type": "display_data"
    },
    {
     "data": {
      "application/javascript": [
       "\n",
       "                        var atom_data = document.getElementById(\"atoms_of_class_1652297916845\");\n",
       "                        var a = JSON.stringify(atom_data.dataset.atoms);\n",
       "                        Jupyter.notebook.kernel.execute(\"atoms_str = \" + a);\n",
       "                        Jupyter.notebook.kernel.execute(\"ParsePolymer.instances[1652297916845].atoms_str = \" + a);\n",
       "                        console.log(\"exporting atom serial ids\");\n",
       "                        "
      ],
      "text/plain": [
       "<IPython.core.display.Javascript object>"
      ]
     },
     "metadata": {},
     "output_type": "display_data"
    }
   ],
   "source": [
    "\n"
   ]
  },
  {
   "cell_type": "code",
   "execution_count": 12,
   "id": "8fd5bcc0",
   "metadata": {},
   "outputs": [
    {
     "data": {
      "application/vnd.jupyter.widget-view+json": {
       "model_id": "cd9320320c6749d7adb80231d0d12c45",
       "version_major": 2,
       "version_minor": 0
      },
      "text/plain": [
       "Output()"
      ]
     },
     "metadata": {},
     "output_type": "display_data"
    },
    {
     "data": {
      "text/plain": [
       "<DisplayHandle display_id=00e6df3bf3df34ed22f5441c1ee4bcc9>"
      ]
     },
     "execution_count": 12,
     "metadata": {},
     "output_type": "execute_result"
    }
   ],
   "source": [
    "import ipywidgets as widgets\n",
    "output = widgets.Output()\n",
    "view.update(output)"
   ]
  },
  {
   "cell_type": "code",
   "execution_count": 7,
   "id": "d776e868",
   "metadata": {},
   "outputs": [
    {
     "data": {
      "text/plain": [
       "'-1,1,8,14,9,7,5,6,4'"
      ]
     },
     "execution_count": 7,
     "metadata": {},
     "output_type": "execute_result"
    }
   ],
   "source": [
    "p2.atoms_str"
   ]
  },
  {
   "cell_type": "code",
   "execution_count": 20,
   "id": "25f42f20",
   "metadata": {},
   "outputs": [
    {
     "data": {
      "text/plain": [
       "'function(atom,viewer,event,container) {\\n                   if(!atom.label) {\\n                        atom.label = viewer.addLabel(atom.atom+\":\"+atom.serial,{position: atom, backgroundColor: \\'mintcream\\', fontColor:\\'black\\'});\\n                        \\n                        atom_data = document.getElementById(\"atoms_of_class_1\");\\n                        var a = atom_data.dataset.atoms;\\n                        var arr = a.split(\\',\\').map(element => {\\n                          return Number(element);\\n                        });\\n                        arr.push(atom.serial)\\n                        atom_data.dataset.atoms = arr;\\n                   }\\n                   else {\\n                        viewer.removeLabel(atom.label);\\n                        delete atom.label;\\n                        \\n                        atom_data = document.getElementById(\"atoms_of_class_1\");\\n                        var a = atom_data.dataset.atoms;\\n                        var arr = a.split(\\',\\').map(element => {\\n                          return Number(element);\\n                        });\\n                        arr = arr.filter(function(item) {\\n                            return item !== atom.serial\\n                        })\\n                        atom_data.dataset.atoms = arr;\\n                   }}'"
      ]
     },
     "execution_count": 20,
     "metadata": {},
     "output_type": "execute_result"
    }
   ],
   "source": [
    "number = 1\n",
    "\"\"\"function(atom,viewer,event,container) {\n",
    "                   if(!atom.label) {\n",
    "                        atom.label = viewer.addLabel(atom.atom+\":\"+atom.serial,{position: atom, backgroundColor: 'mintcream', fontColor:'black'});\n",
    "                        \n",
    "                        atom_data = document.getElementById(\"atoms_of_class_%d\");\n",
    "                        var a = atom_data.dataset.atoms;\n",
    "                        var arr = a.split(',').map(element => {\n",
    "                          return Number(element);\n",
    "                        });\n",
    "                        arr.push(atom.serial)\n",
    "                        atom_data.dataset.atoms = arr;\n",
    "                   }\n",
    "                   else {\n",
    "                        viewer.removeLabel(atom.label);\n",
    "                        delete atom.label;\n",
    "                        \n",
    "                        atom_data = document.getElementById(\"atoms_of_class_%d\");\n",
    "                        var a = atom_data.dataset.atoms;\n",
    "                        var arr = a.split(',').map(element => {\n",
    "                          return Number(element);\n",
    "                        });\n",
    "                        arr = arr.filter(function(item) {\n",
    "                            return item !== atom.serial\n",
    "                        })\n",
    "                        atom_data.dataset.atoms = arr;\n",
    "                   }}\"\"\" % (number, number)"
   ]
  },
  {
   "cell_type": "code",
   "execution_count": 6,
   "id": "398cd56a",
   "metadata": {},
   "outputs": [
    {
     "name": "stdout",
     "output_type": "stream",
     "text": [
      "function(atom,viewer,event,container) {\n",
      "                        if(!atom.label) {\n",
      "                                atom.label = viewer.addLabel(atom.atom+\":\"+atom.serial,{position: atom, backgroundColor: 'mintcream', fontColor:'black'});\n",
      "                                \n",
      "                                atom_data = document.getElementById(\"atoms_of_class_2\");\n",
      "                                var a = atom_data.dataset.atoms;\n",
      "                                var arr = a.split(',').map(element => {\n",
      "                                return Number(element);\n",
      "                                });\n",
      "                                arr.push(atom.serial)\n",
      "                                atom_data.dataset.atoms = arr;\n",
      "                        }\n",
      "                        else {\n",
      "                                viewer.removeLabel(atom.label);\n",
      "                                delete atom.label;\n",
      "                                \n",
      "                                atom_data = document.getElementById(\"atoms_of_class_2\");\n",
      "                                var a = atom_data.dataset.atoms;\n",
      "                                var arr = a.split(',').map(element => {\n",
      "                                return Number(element);\n",
      "                                });\n",
      "                                arr = arr.filter(function(item) {\n",
      "                                    return item !== atom.serial\n",
      "                                })\n",
      "                                atom_data.dataset.atoms = arr;\n",
      "                        }}\n"
     ]
    }
   ],
   "source": [
    "code = '''function(atom,viewer,event,container) {\n",
    "                        if(!atom.label) {\n",
    "                                atom.label = viewer.addLabel(atom.atom+\":\"+atom.serial,{position: atom, backgroundColor: 'mintcream', fontColor:'black'});\n",
    "                                \n",
    "                                atom_data = document.getElementById(\"atoms_of_class_%d\");\n",
    "                                var a = atom_data.dataset.atoms;\n",
    "                                var arr = a.split(',').map(element => {\n",
    "                                return Number(element);\n",
    "                                });\n",
    "                                arr.push(atom.serial)\n",
    "                                atom_data.dataset.atoms = arr;\n",
    "                        }\n",
    "                        else {\n",
    "                                viewer.removeLabel(atom.label);\n",
    "                                delete atom.label;\n",
    "                                \n",
    "                                atom_data = document.getElementById(\"atoms_of_class_%d\");\n",
    "                                var a = atom_data.dataset.atoms;\n",
    "                                var arr = a.split(',').map(element => {\n",
    "                                return Number(element);\n",
    "                                });\n",
    "                                arr = arr.filter(function(item) {\n",
    "                                    return item !== atom.serial\n",
    "                                })\n",
    "                                atom_data.dataset.atoms = arr;\n",
    "                        }}''' % (2, 2)\n",
    "print(code)"
   ]
  },
  {
   "cell_type": "code",
   "execution_count": 3,
   "id": "cbb9dfe1",
   "metadata": {},
   "outputs": [
    {
     "data": {
      "application/javascript": [
       "\n",
       "        var atom_data = document.getElementById(\"atoms_of_class_1\");\n",
       "        var a = JSON.stringify(atom_data.dataset.atoms);\n",
       "        Jupyter.notebook.kernel.execute(\"atoms_str = \" + a);\n",
       "        "
      ],
      "text/plain": [
       "<IPython.core.display.Javascript object>"
      ]
     },
     "metadata": {},
     "output_type": "display_data"
    }
   ],
   "source": [
    "code = \"\"\"\n",
    "        var atom_data = document.getElementById(\"atoms_of_class_%d\");\n",
    "        var a = JSON.stringify(atom_data.dataset.atoms);\n",
    "        Jupyter.notebook.kernel.execute(\"atoms_str = \" + a);\n",
    "        \"\"\" % (1)\n",
    "display(Javascript(code))"
   ]
  },
  {
   "cell_type": "code",
   "execution_count": 3,
   "id": "fcbfa862",
   "metadata": {},
   "outputs": [
    {
     "data": {
      "text/plain": [
       "'-1,10,14,2,22'"
      ]
     },
     "execution_count": 3,
     "metadata": {},
     "output_type": "execute_result"
    }
   ],
   "source": [
    "atoms_str"
   ]
  },
  {
   "cell_type": "code",
   "execution_count": 2,
   "id": "9a635d73",
   "metadata": {},
   "outputs": [
    {
     "ename": "WebDriverException",
     "evalue": "Message: 'operadriver' executable needs to be in PATH. Please see https://chromedriver.chromium.org/home\n",
     "output_type": "error",
     "traceback": [
      "\u001b[0;31m---------------------------------------------------------------------------\u001b[0m",
      "\u001b[0;31mFileNotFoundError\u001b[0m                         Traceback (most recent call last)",
      "File \u001b[0;32m~/anaconda3/envs/test/lib/python3.9/site-packages/selenium/webdriver/common/service.py:71\u001b[0m, in \u001b[0;36mService.start\u001b[0;34m(self)\u001b[0m\n\u001b[1;32m     70\u001b[0m     cmd\u001b[38;5;241m.\u001b[39mextend(\u001b[38;5;28mself\u001b[39m\u001b[38;5;241m.\u001b[39mcommand_line_args())\n\u001b[0;32m---> 71\u001b[0m     \u001b[38;5;28mself\u001b[39m\u001b[38;5;241m.\u001b[39mprocess \u001b[38;5;241m=\u001b[39m \u001b[43msubprocess\u001b[49m\u001b[38;5;241;43m.\u001b[39;49m\u001b[43mPopen\u001b[49m\u001b[43m(\u001b[49m\u001b[43mcmd\u001b[49m\u001b[43m,\u001b[49m\u001b[43m \u001b[49m\u001b[43menv\u001b[49m\u001b[38;5;241;43m=\u001b[39;49m\u001b[38;5;28;43mself\u001b[39;49m\u001b[38;5;241;43m.\u001b[39;49m\u001b[43menv\u001b[49m\u001b[43m,\u001b[49m\n\u001b[1;32m     72\u001b[0m \u001b[43m                                    \u001b[49m\u001b[43mclose_fds\u001b[49m\u001b[38;5;241;43m=\u001b[39;49m\u001b[43msystem\u001b[49m\u001b[43m(\u001b[49m\u001b[43m)\u001b[49m\u001b[43m \u001b[49m\u001b[38;5;241;43m!=\u001b[39;49m\u001b[43m \u001b[49m\u001b[38;5;124;43m'\u001b[39;49m\u001b[38;5;124;43mWindows\u001b[39;49m\u001b[38;5;124;43m'\u001b[39;49m\u001b[43m,\u001b[49m\n\u001b[1;32m     73\u001b[0m \u001b[43m                                    \u001b[49m\u001b[43mstdout\u001b[49m\u001b[38;5;241;43m=\u001b[39;49m\u001b[38;5;28;43mself\u001b[39;49m\u001b[38;5;241;43m.\u001b[39;49m\u001b[43mlog_file\u001b[49m\u001b[43m,\u001b[49m\n\u001b[1;32m     74\u001b[0m \u001b[43m                                    \u001b[49m\u001b[43mstderr\u001b[49m\u001b[38;5;241;43m=\u001b[39;49m\u001b[38;5;28;43mself\u001b[39;49m\u001b[38;5;241;43m.\u001b[39;49m\u001b[43mlog_file\u001b[49m\u001b[43m,\u001b[49m\n\u001b[1;32m     75\u001b[0m \u001b[43m                                    \u001b[49m\u001b[43mstdin\u001b[49m\u001b[38;5;241;43m=\u001b[39;49m\u001b[43mPIPE\u001b[49m\u001b[43m,\u001b[49m\n\u001b[1;32m     76\u001b[0m \u001b[43m                                    \u001b[49m\u001b[43mcreationflags\u001b[49m\u001b[38;5;241;43m=\u001b[39;49m\u001b[38;5;28;43mself\u001b[39;49m\u001b[38;5;241;43m.\u001b[39;49m\u001b[43mcreationflags\u001b[49m\u001b[43m)\u001b[49m\n\u001b[1;32m     77\u001b[0m \u001b[38;5;28;01mexcept\u001b[39;00m \u001b[38;5;167;01mTypeError\u001b[39;00m:\n",
      "File \u001b[0;32m~/anaconda3/envs/test/lib/python3.9/subprocess.py:951\u001b[0m, in \u001b[0;36mPopen.__init__\u001b[0;34m(self, args, bufsize, executable, stdin, stdout, stderr, preexec_fn, close_fds, shell, cwd, env, universal_newlines, startupinfo, creationflags, restore_signals, start_new_session, pass_fds, user, group, extra_groups, encoding, errors, text, umask)\u001b[0m\n\u001b[1;32m    948\u001b[0m             \u001b[38;5;28mself\u001b[39m\u001b[38;5;241m.\u001b[39mstderr \u001b[38;5;241m=\u001b[39m io\u001b[38;5;241m.\u001b[39mTextIOWrapper(\u001b[38;5;28mself\u001b[39m\u001b[38;5;241m.\u001b[39mstderr,\n\u001b[1;32m    949\u001b[0m                     encoding\u001b[38;5;241m=\u001b[39mencoding, errors\u001b[38;5;241m=\u001b[39merrors)\n\u001b[0;32m--> 951\u001b[0m     \u001b[38;5;28;43mself\u001b[39;49m\u001b[38;5;241;43m.\u001b[39;49m\u001b[43m_execute_child\u001b[49m\u001b[43m(\u001b[49m\u001b[43margs\u001b[49m\u001b[43m,\u001b[49m\u001b[43m \u001b[49m\u001b[43mexecutable\u001b[49m\u001b[43m,\u001b[49m\u001b[43m \u001b[49m\u001b[43mpreexec_fn\u001b[49m\u001b[43m,\u001b[49m\u001b[43m \u001b[49m\u001b[43mclose_fds\u001b[49m\u001b[43m,\u001b[49m\n\u001b[1;32m    952\u001b[0m \u001b[43m                        \u001b[49m\u001b[43mpass_fds\u001b[49m\u001b[43m,\u001b[49m\u001b[43m \u001b[49m\u001b[43mcwd\u001b[49m\u001b[43m,\u001b[49m\u001b[43m \u001b[49m\u001b[43menv\u001b[49m\u001b[43m,\u001b[49m\n\u001b[1;32m    953\u001b[0m \u001b[43m                        \u001b[49m\u001b[43mstartupinfo\u001b[49m\u001b[43m,\u001b[49m\u001b[43m \u001b[49m\u001b[43mcreationflags\u001b[49m\u001b[43m,\u001b[49m\u001b[43m \u001b[49m\u001b[43mshell\u001b[49m\u001b[43m,\u001b[49m\n\u001b[1;32m    954\u001b[0m \u001b[43m                        \u001b[49m\u001b[43mp2cread\u001b[49m\u001b[43m,\u001b[49m\u001b[43m \u001b[49m\u001b[43mp2cwrite\u001b[49m\u001b[43m,\u001b[49m\n\u001b[1;32m    955\u001b[0m \u001b[43m                        \u001b[49m\u001b[43mc2pread\u001b[49m\u001b[43m,\u001b[49m\u001b[43m \u001b[49m\u001b[43mc2pwrite\u001b[49m\u001b[43m,\u001b[49m\n\u001b[1;32m    956\u001b[0m \u001b[43m                        \u001b[49m\u001b[43merrread\u001b[49m\u001b[43m,\u001b[49m\u001b[43m \u001b[49m\u001b[43merrwrite\u001b[49m\u001b[43m,\u001b[49m\n\u001b[1;32m    957\u001b[0m \u001b[43m                        \u001b[49m\u001b[43mrestore_signals\u001b[49m\u001b[43m,\u001b[49m\n\u001b[1;32m    958\u001b[0m \u001b[43m                        \u001b[49m\u001b[43mgid\u001b[49m\u001b[43m,\u001b[49m\u001b[43m \u001b[49m\u001b[43mgids\u001b[49m\u001b[43m,\u001b[49m\u001b[43m \u001b[49m\u001b[43muid\u001b[49m\u001b[43m,\u001b[49m\u001b[43m \u001b[49m\u001b[43mumask\u001b[49m\u001b[43m,\u001b[49m\n\u001b[1;32m    959\u001b[0m \u001b[43m                        \u001b[49m\u001b[43mstart_new_session\u001b[49m\u001b[43m)\u001b[49m\n\u001b[1;32m    960\u001b[0m \u001b[38;5;28;01mexcept\u001b[39;00m:\n\u001b[1;32m    961\u001b[0m     \u001b[38;5;66;03m# Cleanup if the child failed starting.\u001b[39;00m\n",
      "File \u001b[0;32m~/anaconda3/envs/test/lib/python3.9/subprocess.py:1821\u001b[0m, in \u001b[0;36mPopen._execute_child\u001b[0;34m(self, args, executable, preexec_fn, close_fds, pass_fds, cwd, env, startupinfo, creationflags, shell, p2cread, p2cwrite, c2pread, c2pwrite, errread, errwrite, restore_signals, gid, gids, uid, umask, start_new_session)\u001b[0m\n\u001b[1;32m   1820\u001b[0m         err_msg \u001b[38;5;241m=\u001b[39m os\u001b[38;5;241m.\u001b[39mstrerror(errno_num)\n\u001b[0;32m-> 1821\u001b[0m     \u001b[38;5;28;01mraise\u001b[39;00m child_exception_type(errno_num, err_msg, err_filename)\n\u001b[1;32m   1822\u001b[0m \u001b[38;5;28;01mraise\u001b[39;00m child_exception_type(err_msg)\n",
      "\u001b[0;31mFileNotFoundError\u001b[0m: [Errno 2] No such file or directory: 'operadriver'",
      "\nDuring handling of the above exception, another exception occurred:\n",
      "\u001b[0;31mWebDriverException\u001b[0m                        Traceback (most recent call last)",
      "Input \u001b[0;32mIn [2]\u001b[0m, in \u001b[0;36m<module>\u001b[0;34m\u001b[0m\n\u001b[1;32m      1\u001b[0m \u001b[38;5;28;01mfrom\u001b[39;00m \u001b[38;5;21;01mselenium\u001b[39;00m \u001b[38;5;28;01mimport\u001b[39;00m webdriver\n\u001b[0;32m----> 2\u001b[0m driver \u001b[38;5;241m=\u001b[39m \u001b[43mwebdriver\u001b[49m\u001b[38;5;241;43m.\u001b[39;49m\u001b[43mOpera\u001b[49m\u001b[43m(\u001b[49m\u001b[43m)\u001b[49m\n\u001b[1;32m      3\u001b[0m url \u001b[38;5;241m=\u001b[39m \u001b[38;5;124m\"\u001b[39m\u001b[38;5;124mhttp://localhost:8888/notebooks/py3Dmol_tests.ipynb\u001b[39m\u001b[38;5;124m\"\u001b[39m\n\u001b[1;32m      4\u001b[0m driver\u001b[38;5;241m.\u001b[39mget(url)\n",
      "File \u001b[0;32m~/anaconda3/envs/test/lib/python3.9/site-packages/selenium/webdriver/opera/webdriver.py:70\u001b[0m, in \u001b[0;36mWebDriver.__init__\u001b[0;34m(self, desired_capabilities, executable_path, port, service_log_path, service_args, options)\u001b[0m\n\u001b[1;32m     63\u001b[0m \u001b[38;5;28;01mdef\u001b[39;00m \u001b[38;5;21m__init__\u001b[39m(\u001b[38;5;28mself\u001b[39m,\n\u001b[1;32m     64\u001b[0m              desired_capabilities\u001b[38;5;241m=\u001b[39m\u001b[38;5;28;01mNone\u001b[39;00m,\n\u001b[1;32m     65\u001b[0m              executable_path\u001b[38;5;241m=\u001b[39m\u001b[38;5;28;01mNone\u001b[39;00m,\n\u001b[0;32m   (...)\u001b[0m\n\u001b[1;32m     68\u001b[0m              service_args\u001b[38;5;241m=\u001b[39m\u001b[38;5;28;01mNone\u001b[39;00m,\n\u001b[1;32m     69\u001b[0m              options\u001b[38;5;241m=\u001b[39m\u001b[38;5;28;01mNone\u001b[39;00m):\n\u001b[0;32m---> 70\u001b[0m     \u001b[43mOperaDriver\u001b[49m\u001b[38;5;241;43m.\u001b[39;49m\u001b[38;5;21;43m__init__\u001b[39;49m\u001b[43m(\u001b[49m\u001b[38;5;28;43mself\u001b[39;49m\u001b[43m,\u001b[49m\u001b[43m \u001b[49m\u001b[43mexecutable_path\u001b[49m\u001b[38;5;241;43m=\u001b[39;49m\u001b[43mexecutable_path\u001b[49m\u001b[43m,\u001b[49m\n\u001b[1;32m     71\u001b[0m \u001b[43m                         \u001b[49m\u001b[43mport\u001b[49m\u001b[38;5;241;43m=\u001b[39;49m\u001b[43mport\u001b[49m\u001b[43m,\u001b[49m\u001b[43m \u001b[49m\u001b[43moptions\u001b[49m\u001b[38;5;241;43m=\u001b[39;49m\u001b[43moptions\u001b[49m\u001b[43m,\u001b[49m\n\u001b[1;32m     72\u001b[0m \u001b[43m                         \u001b[49m\u001b[43mservice_args\u001b[49m\u001b[38;5;241;43m=\u001b[39;49m\u001b[43mservice_args\u001b[49m\u001b[43m,\u001b[49m\n\u001b[1;32m     73\u001b[0m \u001b[43m                         \u001b[49m\u001b[43mdesired_capabilities\u001b[49m\u001b[38;5;241;43m=\u001b[39;49m\u001b[43mdesired_capabilities\u001b[49m\u001b[43m,\u001b[49m\n\u001b[1;32m     74\u001b[0m \u001b[43m                         \u001b[49m\u001b[43mservice_log_path\u001b[49m\u001b[38;5;241;43m=\u001b[39;49m\u001b[43mservice_log_path\u001b[49m\u001b[43m)\u001b[49m\n",
      "File \u001b[0;32m~/anaconda3/envs/test/lib/python3.9/site-packages/selenium/webdriver/opera/webdriver.py:46\u001b[0m, in \u001b[0;36mOperaDriver.__init__\u001b[0;34m(self, executable_path, port, options, service_args, desired_capabilities, service_log_path, opera_options, keep_alive)\u001b[0m\n\u001b[1;32m     29\u001b[0m \u001b[38;5;124;03m\"\"\"\u001b[39;00m\n\u001b[1;32m     30\u001b[0m \u001b[38;5;124;03mCreates a new instance of the operadriver.\u001b[39;00m\n\u001b[1;32m     31\u001b[0m \n\u001b[0;32m   (...)\u001b[0m\n\u001b[1;32m     43\u001b[0m \u001b[38;5;124;03m   capabilities only, such as \"proxy\" or \"loggingPref\".\u001b[39;00m\n\u001b[1;32m     44\u001b[0m \u001b[38;5;124;03m\"\"\"\u001b[39;00m\n\u001b[1;32m     45\u001b[0m executable_path \u001b[38;5;241m=\u001b[39m (executable_path \u001b[38;5;28;01mif\u001b[39;00m executable_path \u001b[38;5;28;01melse\u001b[39;00m \u001b[38;5;124m\"\u001b[39m\u001b[38;5;124moperadriver\u001b[39m\u001b[38;5;124m\"\u001b[39m)\n\u001b[0;32m---> 46\u001b[0m \u001b[43mChromiumDriver\u001b[49m\u001b[38;5;241;43m.\u001b[39;49m\u001b[38;5;21;43m__init__\u001b[39;49m\u001b[43m(\u001b[49m\u001b[38;5;28;43mself\u001b[39;49m\u001b[43m,\u001b[49m\n\u001b[1;32m     47\u001b[0m \u001b[43m                        \u001b[49m\u001b[43mexecutable_path\u001b[49m\u001b[38;5;241;43m=\u001b[39;49m\u001b[43mexecutable_path\u001b[49m\u001b[43m,\u001b[49m\n\u001b[1;32m     48\u001b[0m \u001b[43m                        \u001b[49m\u001b[43mport\u001b[49m\u001b[38;5;241;43m=\u001b[39;49m\u001b[43mport\u001b[49m\u001b[43m,\u001b[49m\n\u001b[1;32m     49\u001b[0m \u001b[43m                        \u001b[49m\u001b[43moptions\u001b[49m\u001b[38;5;241;43m=\u001b[39;49m\u001b[43moptions\u001b[49m\u001b[43m,\u001b[49m\n\u001b[1;32m     50\u001b[0m \u001b[43m                        \u001b[49m\u001b[43mservice_args\u001b[49m\u001b[38;5;241;43m=\u001b[39;49m\u001b[43mservice_args\u001b[49m\u001b[43m,\u001b[49m\n\u001b[1;32m     51\u001b[0m \u001b[43m                        \u001b[49m\u001b[43mdesired_capabilities\u001b[49m\u001b[38;5;241;43m=\u001b[39;49m\u001b[43mdesired_capabilities\u001b[49m\u001b[43m,\u001b[49m\n\u001b[1;32m     52\u001b[0m \u001b[43m                        \u001b[49m\u001b[43mservice_log_path\u001b[49m\u001b[38;5;241;43m=\u001b[39;49m\u001b[43mservice_log_path\u001b[49m\u001b[43m,\u001b[49m\n\u001b[1;32m     53\u001b[0m \u001b[43m                        \u001b[49m\u001b[43mkeep_alive\u001b[49m\u001b[38;5;241;43m=\u001b[39;49m\u001b[43mkeep_alive\u001b[49m\u001b[43m)\u001b[49m\n",
      "File \u001b[0;32m~/anaconda3/envs/test/lib/python3.9/site-packages/selenium/webdriver/chrome/webdriver.py:70\u001b[0m, in \u001b[0;36mWebDriver.__init__\u001b[0;34m(self, executable_path, port, options, service_args, desired_capabilities, service_log_path, chrome_options, service, keep_alive)\u001b[0m\n\u001b[1;32m     67\u001b[0m \u001b[38;5;28;01mif\u001b[39;00m \u001b[38;5;129;01mnot\u001b[39;00m service:\n\u001b[1;32m     68\u001b[0m     service \u001b[38;5;241m=\u001b[39m Service(executable_path, port, service_args, service_log_path)\n\u001b[0;32m---> 70\u001b[0m \u001b[38;5;28;43msuper\u001b[39;49m\u001b[43m(\u001b[49m\u001b[43mWebDriver\u001b[49m\u001b[43m,\u001b[49m\u001b[43m \u001b[49m\u001b[38;5;28;43mself\u001b[39;49m\u001b[43m)\u001b[49m\u001b[38;5;241;43m.\u001b[39;49m\u001b[38;5;21;43m__init__\u001b[39;49m\u001b[43m(\u001b[49m\u001b[43mDesiredCapabilities\u001b[49m\u001b[38;5;241;43m.\u001b[39;49m\u001b[43mCHROME\u001b[49m\u001b[43m[\u001b[49m\u001b[38;5;124;43m'\u001b[39;49m\u001b[38;5;124;43mbrowserName\u001b[39;49m\u001b[38;5;124;43m'\u001b[39;49m\u001b[43m]\u001b[49m\u001b[43m,\u001b[49m\u001b[43m \u001b[49m\u001b[38;5;124;43m\"\u001b[39;49m\u001b[38;5;124;43mgoog\u001b[39;49m\u001b[38;5;124;43m\"\u001b[39;49m\u001b[43m,\u001b[49m\n\u001b[1;32m     71\u001b[0m \u001b[43m                                \u001b[49m\u001b[43mport\u001b[49m\u001b[43m,\u001b[49m\u001b[43m \u001b[49m\u001b[43moptions\u001b[49m\u001b[43m,\u001b[49m\n\u001b[1;32m     72\u001b[0m \u001b[43m                                \u001b[49m\u001b[43mservice_args\u001b[49m\u001b[43m,\u001b[49m\u001b[43m \u001b[49m\u001b[43mdesired_capabilities\u001b[49m\u001b[43m,\u001b[49m\n\u001b[1;32m     73\u001b[0m \u001b[43m                                \u001b[49m\u001b[43mservice_log_path\u001b[49m\u001b[43m,\u001b[49m\u001b[43m \u001b[49m\u001b[43mservice\u001b[49m\u001b[43m,\u001b[49m\u001b[43m \u001b[49m\u001b[43mkeep_alive\u001b[49m\u001b[43m)\u001b[49m\n",
      "File \u001b[0;32m~/anaconda3/envs/test/lib/python3.9/site-packages/selenium/webdriver/chromium/webdriver.py:90\u001b[0m, in \u001b[0;36mChromiumDriver.__init__\u001b[0;34m(self, browser_name, vendor_prefix, port, options, service_args, desired_capabilities, service_log_path, service, keep_alive)\u001b[0m\n\u001b[1;32m     87\u001b[0m     \u001b[38;5;28;01mraise\u001b[39;00m \u001b[38;5;167;01mAttributeError\u001b[39;00m(\u001b[38;5;124m'\u001b[39m\u001b[38;5;124mservice cannot be None\u001b[39m\u001b[38;5;124m'\u001b[39m)\n\u001b[1;32m     89\u001b[0m \u001b[38;5;28mself\u001b[39m\u001b[38;5;241m.\u001b[39mservice \u001b[38;5;241m=\u001b[39m service\n\u001b[0;32m---> 90\u001b[0m \u001b[38;5;28;43mself\u001b[39;49m\u001b[38;5;241;43m.\u001b[39;49m\u001b[43mservice\u001b[49m\u001b[38;5;241;43m.\u001b[39;49m\u001b[43mstart\u001b[49m\u001b[43m(\u001b[49m\u001b[43m)\u001b[49m\n\u001b[1;32m     92\u001b[0m \u001b[38;5;28;01mtry\u001b[39;00m:\n\u001b[1;32m     93\u001b[0m     RemoteWebDriver\u001b[38;5;241m.\u001b[39m\u001b[38;5;21m__init__\u001b[39m(\n\u001b[1;32m     94\u001b[0m         \u001b[38;5;28mself\u001b[39m,\n\u001b[1;32m     95\u001b[0m         command_executor\u001b[38;5;241m=\u001b[39mChromiumRemoteConnection(\n\u001b[0;32m   (...)\u001b[0m\n\u001b[1;32m     98\u001b[0m             keep_alive\u001b[38;5;241m=\u001b[39mkeep_alive, ignore_proxy\u001b[38;5;241m=\u001b[39m_ignore_proxy),\n\u001b[1;32m     99\u001b[0m         options\u001b[38;5;241m=\u001b[39moptions)\n",
      "File \u001b[0;32m~/anaconda3/envs/test/lib/python3.9/site-packages/selenium/webdriver/common/service.py:81\u001b[0m, in \u001b[0;36mService.start\u001b[0;34m(self)\u001b[0m\n\u001b[1;32m     79\u001b[0m \u001b[38;5;28;01mexcept\u001b[39;00m \u001b[38;5;167;01mOSError\u001b[39;00m \u001b[38;5;28;01mas\u001b[39;00m err:\n\u001b[1;32m     80\u001b[0m     \u001b[38;5;28;01mif\u001b[39;00m err\u001b[38;5;241m.\u001b[39merrno \u001b[38;5;241m==\u001b[39m errno\u001b[38;5;241m.\u001b[39mENOENT:\n\u001b[0;32m---> 81\u001b[0m         \u001b[38;5;28;01mraise\u001b[39;00m WebDriverException(\n\u001b[1;32m     82\u001b[0m             \u001b[38;5;124m\"\u001b[39m\u001b[38;5;124m'\u001b[39m\u001b[38;5;132;01m%s\u001b[39;00m\u001b[38;5;124m'\u001b[39m\u001b[38;5;124m executable needs to be in PATH. \u001b[39m\u001b[38;5;132;01m%s\u001b[39;00m\u001b[38;5;124m\"\u001b[39m \u001b[38;5;241m%\u001b[39m (\n\u001b[1;32m     83\u001b[0m                 os\u001b[38;5;241m.\u001b[39mpath\u001b[38;5;241m.\u001b[39mbasename(\u001b[38;5;28mself\u001b[39m\u001b[38;5;241m.\u001b[39mpath), \u001b[38;5;28mself\u001b[39m\u001b[38;5;241m.\u001b[39mstart_error_message)\n\u001b[1;32m     84\u001b[0m         )\n\u001b[1;32m     85\u001b[0m     \u001b[38;5;28;01melif\u001b[39;00m err\u001b[38;5;241m.\u001b[39merrno \u001b[38;5;241m==\u001b[39m errno\u001b[38;5;241m.\u001b[39mEACCES:\n\u001b[1;32m     86\u001b[0m         \u001b[38;5;28;01mraise\u001b[39;00m WebDriverException(\n\u001b[1;32m     87\u001b[0m             \u001b[38;5;124m\"\u001b[39m\u001b[38;5;124m'\u001b[39m\u001b[38;5;132;01m%s\u001b[39;00m\u001b[38;5;124m'\u001b[39m\u001b[38;5;124m executable may have wrong permissions. \u001b[39m\u001b[38;5;132;01m%s\u001b[39;00m\u001b[38;5;124m\"\u001b[39m \u001b[38;5;241m%\u001b[39m (\n\u001b[1;32m     88\u001b[0m                 os\u001b[38;5;241m.\u001b[39mpath\u001b[38;5;241m.\u001b[39mbasename(\u001b[38;5;28mself\u001b[39m\u001b[38;5;241m.\u001b[39mpath), \u001b[38;5;28mself\u001b[39m\u001b[38;5;241m.\u001b[39mstart_error_message)\n\u001b[1;32m     89\u001b[0m         )\n",
      "\u001b[0;31mWebDriverException\u001b[0m: Message: 'operadriver' executable needs to be in PATH. Please see https://chromedriver.chromium.org/home\n"
     ]
    }
   ],
   "source": [
    "from selenium import webdriver\n",
    "driver = webdriver.Opera()\n",
    "url = \"http://localhost:8888/notebooks/py3Dmol_tests.ipynb\"\n",
    "driver.get(url)\n",
    "driver.find_element_by_id(\"atoms_of_class_1\")"
   ]
  },
  {
   "cell_type": "code",
   "execution_count": 9,
   "id": "1ec2f0eb",
   "metadata": {},
   "outputs": [],
   "source": [
    "d = driver.find_element_by_id\n",
    "d.__defaults__"
   ]
  },
  {
   "cell_type": "code",
   "execution_count": 3,
   "id": "3f226cc1",
   "metadata": {},
   "outputs": [
    {
     "data": {
      "text/plain": [
       "'-1,14,9,2'"
      ]
     },
     "execution_count": 3,
     "metadata": {},
     "output_type": "execute_result"
    }
   ],
   "source": [
    "atoms_str"
   ]
  },
  {
   "cell_type": "code",
   "execution_count": 8,
   "id": "2031894f",
   "metadata": {},
   "outputs": [
    {
     "ename": "NameError",
     "evalue": "name 'Jupyter' is not defined",
     "output_type": "error",
     "traceback": [
      "\u001b[0;31m---------------------------------------------------------------------------\u001b[0m",
      "\u001b[0;31mNameError\u001b[0m                                 Traceback (most recent call last)",
      "Input \u001b[0;32mIn [8]\u001b[0m, in \u001b[0;36m<module>\u001b[0;34m\u001b[0m\n\u001b[0;32m----> 1\u001b[0m ks \u001b[38;5;241m=\u001b[39m \u001b[43mJupyter\u001b[49m\u001b[38;5;241m.\u001b[39mkernel\n",
      "\u001b[0;31mNameError\u001b[0m: name 'Jupyter' is not defined"
     ]
    }
   ],
   "source": [
    "ks = Jupyter.kernel"
   ]
  },
  {
   "cell_type": "code",
   "execution_count": 10,
   "id": "3dbc6397",
   "metadata": {},
   "outputs": [
    {
     "data": {
      "text/plain": [
       "'-1,14,9,2'"
      ]
     },
     "execution_count": 10,
     "metadata": {},
     "output_type": "execute_result"
    }
   ],
   "source": [
    "globals()[\"atoms_str\"]"
   ]
  },
  {
   "cell_type": "code",
   "execution_count": 4,
   "id": "94e9feb7",
   "metadata": {},
   "outputs": [],
   "source": [
    "from html.parser import HTMLParser"
   ]
  },
  {
   "cell_type": "code",
   "execution_count": 15,
   "id": "fe051a32",
   "metadata": {},
   "outputs": [],
   "source": [
    "def on_button_clicked(b):\n",
    "    atoms_str = None\n",
    "    code = \"\"\"\n",
    "            var atom_data = document.getElementById(\"atoms_of_class_%d\");\n",
    "            var a = JSON.stringify(atom_data.dataset.atoms);\n",
    "            Jupyter.notebook.kernel.execute(\"atoms_str = \" + a);\n",
    "            \"\"\" % (1)\n",
    "    return display(Javascript(code))"
   ]
  },
  {
   "cell_type": "code",
   "execution_count": 18,
   "id": "595b3958",
   "metadata": {},
   "outputs": [
    {
     "data": {
      "application/javascript": [
       "\n",
       "            var atom_data = document.getElementById(\"atoms_of_class_1\");\n",
       "            var a = JSON.stringify(atom_data.dataset.atoms);\n",
       "            Jupyter.notebook.kernel.execute(\"atoms_str = \" + a);\n",
       "            "
      ],
      "text/plain": [
       "<IPython.core.display.Javascript object>"
      ]
     },
     "metadata": {},
     "output_type": "display_data"
    }
   ],
   "source": [
    "on_button_clicked(1)"
   ]
  },
  {
   "cell_type": "code",
   "execution_count": 14,
   "id": "6766c22c",
   "metadata": {},
   "outputs": [],
   "source": [
    "atoms_str = None"
   ]
  },
  {
   "cell_type": "code",
   "execution_count": 3,
   "id": "3e887bea",
   "metadata": {},
   "outputs": [
    {
     "data": {
      "text/plain": [
       "'-1,9,6,13,22'"
      ]
     },
     "execution_count": 3,
     "metadata": {},
     "output_type": "execute_result"
    }
   ],
   "source": [
    "atoms_str"
   ]
  },
  {
   "cell_type": "code",
   "execution_count": 3,
   "id": "31c53b7f",
   "metadata": {},
   "outputs": [
    {
     "ename": "NameError",
     "evalue": "name 'atoms_str' is not defined",
     "output_type": "error",
     "traceback": [
      "\u001b[0;31m---------------------------------------------------------------------------\u001b[0m",
      "\u001b[0;31mNameError\u001b[0m                                 Traceback (most recent call last)",
      "Input \u001b[0;32mIn [3]\u001b[0m, in \u001b[0;36m<module>\u001b[0;34m\u001b[0m\n\u001b[0;32m----> 1\u001b[0m \u001b[43mp\u001b[49m\u001b[38;5;241;43m.\u001b[39;49m\u001b[43mfuck_you\u001b[49m\u001b[43m(\u001b[49m\u001b[43m)\u001b[49m\n",
      "File \u001b[0;32m~/openff-workspace/openff_polymer_testing/polymer_utils.py:122\u001b[0m, in \u001b[0;36mParsePolymer.fuck_you\u001b[0;34m(self)\u001b[0m\n\u001b[1;32m    121\u001b[0m \u001b[38;5;28;01mdef\u001b[39;00m \u001b[38;5;21mfuck_you\u001b[39m(\u001b[38;5;28mself\u001b[39m):\n\u001b[0;32m--> 122\u001b[0m     \u001b[38;5;28mprint\u001b[39m(\u001b[43matoms_str\u001b[49m)\n",
      "\u001b[0;31mNameError\u001b[0m: name 'atoms_str' is not defined"
     ]
    }
   ],
   "source": [
    "p.fuck_you()"
   ]
  },
  {
   "cell_type": "code",
   "execution_count": 26,
   "id": "54b93045",
   "metadata": {},
   "outputs": [],
   "source": [
    "for instance in ParsePolymer.instances:\n",
    "    instance.atoms_str = \"123\""
   ]
  },
  {
   "cell_type": "code",
   "execution_count": 6,
   "id": "f63ef7d4",
   "metadata": {},
   "outputs": [],
   "source": [
    "p.atoms_str = \"k\""
   ]
  },
  {
   "cell_type": "code",
   "execution_count": 13,
   "id": "f5c28979",
   "metadata": {},
   "outputs": [
    {
     "data": {
      "application/javascript": [
       "Jupyter.notebook.kernel.execute(\"for i in ParsePolymer.instances:\\n\\tif i.instance_id != 1652246798257:\\n\\t\\tcontinue\\n\\ti.atoms_str = \\\"bla\\\"\")\n"
      ],
      "text/plain": [
       "<IPython.core.display.Javascript object>"
      ]
     },
     "metadata": {},
     "output_type": "display_data"
    }
   ],
   "source": [
    "%%javascript\n",
    "Jupyter.notebook.kernel.execute(\"for i in ParsePolymer.instances:\\n\\tif i.instance_id != 1652246798257:\\n\\t\\tcontinue\\n\\ti.atoms_str = \\\"bla\\\"\")"
   ]
  },
  {
   "cell_type": "code",
   "execution_count": 9,
   "id": "30502ed8",
   "metadata": {},
   "outputs": [
    {
     "data": {
      "text/plain": [
       "'bla'"
      ]
     },
     "execution_count": 9,
     "metadata": {},
     "output_type": "execute_result"
    }
   ],
   "source": [
    "p.atoms_str"
   ]
  },
  {
   "cell_type": "code",
   "execution_count": 8,
   "id": "3c40a5ac",
   "metadata": {},
   "outputs": [
    {
     "name": "stdout",
     "output_type": "stream",
     "text": [
      "1652248720771\n",
      "1652248734691\n",
      "1652248738684\n",
      "1652248742379\n",
      "1652248746271\n"
     ]
    }
   ],
   "source": [
    "for instance in ParsePolymer.instances.values():\n",
    "    print(instance.instance_id)"
   ]
  },
  {
   "cell_type": "code",
   "execution_count": 9,
   "id": "a34daff1",
   "metadata": {},
   "outputs": [
    {
     "name": "stdout",
     "output_type": "stream",
     "text": [
      "1652248720771\n",
      "1652248734691\n",
      "1652248738684\n",
      "1652248742379\n",
      "1652248746271\n"
     ]
    }
   ],
   "source": [
    "for instance in ParsePolymer.instances.keys():\n",
    "    print(instance)"
   ]
  },
  {
   "cell_type": "code",
   "execution_count": 7,
   "id": "de02b8a0",
   "metadata": {},
   "outputs": [
    {
     "name": "stdout",
     "output_type": "stream",
     "text": [
      "-1,78\n",
      "-1,2,9,14,39\n",
      "-1\n"
     ]
    }
   ],
   "source": [
    "for instance in ParsePolymer.instances.values():\n",
    "    print(instance.atoms_str)"
   ]
  },
  {
   "cell_type": "code",
   "execution_count": 38,
   "id": "e34a6735",
   "metadata": {},
   "outputs": [
    {
     "data": {
      "text/plain": [
       "['__class__',\n",
       " '__delattr__',\n",
       " '__dict__',\n",
       " '__dir__',\n",
       " '__doc__',\n",
       " '__eq__',\n",
       " '__format__',\n",
       " '__ge__',\n",
       " '__getattribute__',\n",
       " '__gt__',\n",
       " '__hash__',\n",
       " '__init__',\n",
       " '__init_subclass__',\n",
       " '__le__',\n",
       " '__lt__',\n",
       " '__module__',\n",
       " '__ne__',\n",
       " '__new__',\n",
       " '__reduce__',\n",
       " '__reduce_ex__',\n",
       " '__repr__',\n",
       " '__setattr__',\n",
       " '__sizeof__',\n",
       " '__str__',\n",
       " '__subclasshook__',\n",
       " '__weakref__',\n",
       " '_smarts_string_cleaner',\n",
       " 'generate_ids',\n",
       " 'generate_library_charge_entry',\n",
       " 'generate_library_charges_am1',\n",
       " 'generate_monomer_smarts',\n",
       " 'generate_smarts_entry',\n",
       " 'instances',\n",
       " 'sample_molecule',\n",
       " 'test_polymer_load',\n",
       " 'visualize']"
      ]
     },
     "execution_count": 38,
     "metadata": {},
     "output_type": "execute_result"
    }
   ],
   "source": [
    "dir(ParsePolymer)"
   ]
  },
  {
   "cell_type": "code",
   "execution_count": 7,
   "id": "8a2fd136",
   "metadata": {},
   "outputs": [
    {
     "data": {
      "text/plain": [
       "1652245975.0138865"
      ]
     },
     "execution_count": 7,
     "metadata": {},
     "output_type": "execute_result"
    }
   ],
   "source": [
    "time.time()"
   ]
  },
  {
   "cell_type": "code",
   "execution_count": 37,
   "id": "41647e77",
   "metadata": {},
   "outputs": [
    {
     "data": {
      "text/plain": [
       "1652246337986"
      ]
     },
     "execution_count": 37,
     "metadata": {},
     "output_type": "execute_result"
    }
   ],
   "source": [
    "p2.instance_id"
   ]
  },
  {
   "cell_type": "code",
   "execution_count": 24,
   "id": "1a895deb",
   "metadata": {},
   "outputs": [],
   "source": [
    "exec(\"for i in ParsePolymer.instances:\\n\\tif i.instance_id != 1652246798257:\\n\\t\\tcontinue\\n\\ti.atoms_str = \\\"bla5\\\"\")"
   ]
  },
  {
   "cell_type": "code",
   "execution_count": 22,
   "id": "2d2b4ca3",
   "metadata": {},
   "outputs": [
    {
     "name": "stdout",
     "output_type": "stream",
     "text": [
      "for i in ParsePolymer.instances:\n",
      "\tif i.instance_id != 1652246798257:\n",
      "\t\tcontinue\n",
      "\ti.atoms_str = \"bla\"\n"
     ]
    }
   ],
   "source": [
    "print(\"for i in ParsePolymer.instances:\\n\\tif i.instance_id != 1652246798257:\\n\\t\\tcontinue\\n\\ti.atoms_str = \\\"bla\\\"\")"
   ]
  },
  {
   "cell_type": "code",
   "execution_count": 20,
   "id": "d8933a21",
   "metadata": {},
   "outputs": [],
   "source": [
    "for i in ParsePolymer.instances:\n",
    "\tif i.instance_id != 1652246798257:\n",
    "\t\tcontinue\n",
    "\ti.atoms_str = \"bla2\""
   ]
  },
  {
   "cell_type": "code",
   "execution_count": 5,
   "id": "5b8be54a",
   "metadata": {},
   "outputs": [
    {
     "name": "stdout",
     "output_type": "stream",
     "text": [
      "\n",
      "var atom_data = document.getElementById(\"atoms_of_class_1\");\n",
      "var a = JSON.stringify(atom_data.dataset.atoms);\n",
      "Jupyter.notebook.kernel.execute(\"atoms_str = \" + a);\n",
      "Jupyter.notebook.kernel.execute(\"for i in ParsePolymer.instances:\n",
      "\tif i.instance_id != 1:\n",
      "\t\tcontinue\n",
      "\ti.atoms_str = \"bla5\");\n",
      "console.log(\"exporting atom serial ids\");\n",
      "\n"
     ]
    }
   ],
   "source": [
    "string = \"\"\"\n",
    "var atom_data = document.getElementById(\"atoms_of_class_%d\");\n",
    "var a = JSON.stringify(atom_data.dataset.atoms);\n",
    "Jupyter.notebook.kernel.execute(\"atoms_str = \" + a);\n",
    "Jupyter.notebook.kernel.execute(\"for i in ParsePolymer.instances:\\n\\tif i.instance_id != %d:\\n\\t\\tcontinue\\n\\ti.atoms_str = \\\"bla5\\\");\n",
    "console.log(\"exporting atom serial ids\");\n",
    "\"\"\" % (1,1)\n",
    "print(string)"
   ]
  },
  {
   "cell_type": "code",
   "execution_count": 4,
   "id": "2422db92",
   "metadata": {},
   "outputs": [
    {
     "data": {
      "text/plain": [
       "'-1,9,14,2'"
      ]
     },
     "execution_count": 4,
     "metadata": {},
     "output_type": "execute_result"
    }
   ],
   "source": [
    "p2.atoms_str"
   ]
  },
  {
   "cell_type": "code",
   "execution_count": 3,
   "id": "855acc8d",
   "metadata": {},
   "outputs": [],
   "source": [
    "rdmol = p2.full_molecule"
   ]
  },
  {
   "cell_type": "code",
   "execution_count": 68,
   "id": "5dd32b15",
   "metadata": {},
   "outputs": [
    {
     "name": "stdout",
     "output_type": "stream",
     "text": [
      "['GetAltLoc', 'GetChainId', 'GetInsertionCode', 'GetIsHeteroAtom', 'GetMonomerType', 'GetName', 'GetOccupancy', 'GetResidueName', 'GetResidueNumber', 'GetSecondaryStructure', 'GetSegmentNumber', 'GetSerialNumber', 'GetTempFactor', 'SetAltLoc', 'SetChainId', 'SetInsertionCode', 'SetIsHeteroAtom', 'SetMonomerType', 'SetName', 'SetOccupancy', 'SetResidueName', 'SetResidueNumber', 'SetSecondaryStructure', 'SetSegmentNumber', 'SetSerialNumber', 'SetTempFactor', '__class__', '__delattr__', '__dict__', '__dir__', '__doc__', '__eq__', '__format__', '__ge__', '__getattribute__', '__gt__', '__hash__', '__init__', '__init_subclass__', '__instance_size__', '__le__', '__lt__', '__module__', '__ne__', '__new__', '__reduce__', '__reduce_ex__', '__repr__', '__setattr__', '__sizeof__', '__str__', '__subclasshook__', '__weakref__']\n"
     ]
    }
   ],
   "source": [
    "for atom in rdmol.GetAtoms():\n",
    "    print(dir(atom.GetMonomerInfo()))\n",
    "    break"
   ]
  },
  {
   "cell_type": "code",
   "execution_count": 70,
   "id": "b5ab3941",
   "metadata": {},
   "outputs": [
    {
     "name": "stdout",
     "output_type": "stream",
     "text": [
      "AAA\n"
     ]
    }
   ],
   "source": [
    "for atom in rdmol.GetAtoms():\n",
    "    print(atom.GetMonomerInfo().GetResidueName())\n",
    "    break"
   ]
  },
  {
   "cell_type": "code",
   "execution_count": 11,
   "id": "041df4da",
   "metadata": {},
   "outputs": [],
   "source": [
    "from collections import defaultdict\n",
    "element_counts = defaultdict(int)\n",
    "pdb_block = Chem.rdmolfiles.MolToPDBBlock(rdmol_new)"
   ]
  },
  {
   "cell_type": "code",
   "execution_count": 12,
   "id": "e5a2bc5f",
   "metadata": {},
   "outputs": [
    {
     "name": "stdout",
     "output_type": "stream",
     "text": [
      "ATOM      1 N51 AAA     1      -2.689  -1.584   0.666  0.00  0.00           N1+\n",
      "ATOM      2 C51 AAA     1      -1.532  -0.796   1.135  0.00  0.00           C  \n",
      "ATOM      3 C52 AAA     1      -0.220  -0.847   0.304  0.00  0.00           C  \n",
      "ATOM      4 N52 AAA     1       0.789   0.104   0.831  0.00  0.00           N1+\n",
      "ATOM      5 C53 AAA     1       2.159  -0.327   0.473  0.00  0.00           C  \n",
      "ATOM      6 C54 AAA     1       2.662  -1.446   1.386  0.00  0.00           C  \n",
      "ATOM      7 C55 AAA     1       4.109  -1.758   1.076  0.00  0.00           C  \n",
      "ATOM      8 O51 AAA     1       4.435  -2.693   0.355  0.00  0.00           O  \n",
      "ATOM      9 N53 AAA     1       5.007  -0.884   1.647  0.00  0.00           N  \n",
      "ATOM     10 C56 AAA     1       6.444  -1.066   1.519  0.00  0.00           C  \n",
      "ATOM     11 C57 AAA     1       7.004  -2.013   2.600  0.00  0.00           C  \n",
      "ATOM     12 N54 AAA     1       8.478  -2.157   2.597  0.00  0.00           N1+\n",
      "ATOM     13 C58 AAA     1       0.530   1.466   0.302  0.00  0.00           C  \n",
      "ATOM     14 C59 AAA     1       0.985   2.527   1.305  0.00  0.00           C  \n",
      "ATOM     15 C60 AAA     1       0.751   3.923   0.767  0.00  0.00           C  \n",
      "ATOM     16 O52 AAA     1       0.647   4.177  -0.427  0.00  0.00           O  \n",
      "ATOM     17 N55 AAA     1       0.719   4.886   1.752  0.00  0.00           N  \n",
      "ATOM     18 C61 AAA     1       0.547   6.298   1.445  0.00  0.00           C  \n",
      "ATOM     19 C62 AAA     1       1.882   6.967   1.052  0.00  0.00           C  \n",
      "ATOM     20 N56 AAA     1       1.799   8.393   0.643  0.00  0.00           N1+\n",
      "ATOM     21 C63 AAA     1      -2.338  -2.942   0.226  0.00  0.00           C  \n",
      "ATOM     22 C64 AAA     1      -3.541  -3.890   0.190  0.00  0.00           C  \n",
      "ATOM     23 C65 AAA     1      -3.135  -5.276  -0.269  0.00  0.00           C  \n",
      "ATOM     24 N57 AAA     1      -4.121  -6.221  -0.066  0.00  0.00           N  \n",
      "ATOM     25 C66 AAA     1      -4.010  -7.558  -0.629  0.00  0.00           C  \n",
      "ATOM     26 C67 AAA     1      -4.705  -8.608   0.258  0.00  0.00           C  \n",
      "ATOM     27 N58 AAA     1      -4.685  -9.976  -0.307  0.00  0.00           N1+\n",
      "ATOM     28 O53 AAA     1      -2.059  -5.523  -0.802  0.00  0.00           O  \n",
      "ATOM     29 C68 AAA     1      -3.591  -0.834  -0.222  0.00  0.00           C  \n",
      "ATOM     30 C69 AAA     1      -3.072  -0.492  -1.618  0.00  0.00           C  \n",
      "ATOM     31 C70 AAA     1      -4.188   0.071  -2.472  0.00  0.00           C  \n",
      "ATOM     32 O54 AAA     1      -4.276   1.267  -2.728  0.00  0.00           O  \n",
      "ATOM     33 N59 AAA     1      -5.093  -0.875  -2.904  0.00  0.00           N  \n",
      "ATOM     34 C71 AAA     1      -6.135  -0.572  -3.874  0.00  0.00           C  \n",
      "ATOM     35 C72 AAA     1      -7.111   0.544  -3.443  0.00  0.00           C  \n",
      "ATOM     36 N60 AAA     1      -8.344   0.568  -4.258  0.00  0.00           N1+\n",
      "ATOM     37 C73 AAA     1       9.166  -0.885   2.896  0.00  0.00           C  \n",
      "ATOM     38 C74 AAA     1       9.914  -0.409   1.651  0.00  0.00           C  \n",
      "ATOM     39 C75 AAA     1      10.688   0.861   1.927  0.00  0.00           C  \n",
      "ATOM     40 O55 AAA     1      10.843   1.336   3.048  0.00  0.00           O  \n",
      "ATOM     41 N61 AAA     1      11.235   1.421   0.792  0.00  0.00           N  \n",
      "ATOM     42 C76 AAA     1      12.073   2.606   0.858  0.00  0.00           C  \n",
      "ATOM     43 C77 AAA     1      13.490   2.281   1.369  0.00  0.00           C  \n",
      "ATOM     44 N62 AAA     1      14.450   3.416   1.388  0.00  0.00           N1+\n",
      "ATOM     45 C78 AAA     1       8.868  -3.232   3.542  0.00  0.00           C  \n",
      "ATOM     46 C79 AAA     1      10.334  -3.665   3.431  0.00  0.00           C  \n",
      "ATOM     47 C80 AAA     1      10.579  -4.709   2.360  0.00  0.00           C  \n",
      "ATOM     48 O56 AAA     1       9.746  -5.539   2.011  0.00  0.00           O  \n",
      "ATOM     49 N63 AAA     1      11.868  -4.683   1.871  0.00  0.00           N  \n",
      "ATOM     50 C81 AAA     1      12.382  -5.771   1.064  0.00  0.00           C  \n",
      "ATOM     51 C82 AAA     1      13.656  -5.384   0.284  0.00  0.00           C  \n",
      "ATOM     52 N64 AAA     1      14.641  -4.573   1.033  0.00  0.00           N1+\n",
      "ATOM     53 C83 AAA     1       3.123   8.882   0.194  0.00  0.00           C  \n",
      "ATOM     54 C84 AAA     1       3.667   8.168  -1.048  0.00  0.00           C  \n",
      "ATOM     55 C85 AAA     1       4.832   8.955  -1.603  0.00  0.00           C  \n",
      "ATOM     56 O57 AAA     1       5.991   8.734  -1.269  0.00  0.00           O  \n",
      "ATOM     57 N65 AAA     1       4.464   9.972  -2.456  0.00  0.00           N  \n",
      "ATOM     58 C86 AAA     1       5.438  10.866  -3.058  0.00  0.00           C  \n",
      "ATOM     59 C87 AAA     1       6.016  11.872  -2.043  0.00  0.00           C  \n",
      "ATOM     60 N66 AAA     1       6.907  12.873  -2.679  0.00  0.00           N1+\n",
      "ATOM     61 C88 AAA     1       1.250   9.225   1.744  0.00  0.00           C  \n",
      "ATOM     62 C89 AAA     1       1.079  10.710   1.401  0.00  0.00           C  \n",
      "ATOM     63 C90 AAA     1       0.272  11.439   2.456  0.00  0.00           C  \n",
      "ATOM     64 N67 AAA     1       0.153  12.789   2.197  0.00  0.00           N  \n",
      "ATOM     65 C91 AAA     1      -0.670  13.656   3.024  0.00  0.00           C  \n",
      "ATOM     66 C92 AAA     1      -2.154  13.604   2.605  0.00  0.00           C  \n",
      "ATOM     67 N68 AAA     1      -2.992  14.644   3.252  0.00  0.00           N1+\n",
      "ATOM     68 O58 AAA     1      -0.225  10.895   3.435  0.00  0.00           O  \n",
      "ATOM     69 C93 AAA     1       6.091  13.992  -3.221  0.00  0.00           C  \n",
      "ATOM     70 C94 AAA     1       6.878  14.939  -4.137  0.00  0.00           C  \n",
      "ATOM     71 C95 AAA     1       7.908  13.373  -1.705  0.00  0.00           C  \n",
      "ATOM     72 C96 AAA     1       9.013  12.348  -1.423  0.00  0.00           C  \n",
      "ATOM     73 C97 AAA     1      -4.265  14.791   2.497  0.00  0.00           C  \n",
      "ATOM     74 C98 AAA     1      -4.587  16.268   2.272  0.00  0.00           C  \n",
      "ATOM     75 C99 AAA     1      -3.249  14.279   4.671  0.00  0.00           C  \n",
      "ATOM     76 C01 AAB     2      -3.769  15.436   5.531  0.00  0.00           C  \n",
      "ATOM     77 C02 AAB     2      13.981   4.487   2.314  0.00  0.00           C  \n",
      "ATOM     78 C03 AAB     2      13.346   5.662   1.563  0.00  0.00           C  \n",
      "ATOM     79 C04 AAB     2      15.785   2.939   1.845  0.00  0.00           C  \n",
      "ATOM     80 C05 AAB     2      16.426   1.891   0.929  0.00  0.00           C  \n",
      "ATOM     81 C06 AAB     2      15.640  -3.959   0.133  0.00  0.00           C  \n",
      "ATOM     82 C07 AAB     2      16.588  -4.922  -0.590  0.00  0.00           C  \n",
      "ATOM     83 C08 AAB     2      15.214  -5.273   2.194  0.00  0.00           C  \n",
      "ATOM     84 C09 AAB     2      15.845  -4.323   3.219  0.00  0.00           C  \n",
      "ATOM     85 C10 AAB     2      -4.861 -10.994   0.754  0.00  0.00           C  \n",
      "ATOM     86 C11 AAB     2      -6.147 -10.928   1.581  0.00  0.00           C  \n",
      "ATOM     87 C12 AAB     2      -5.655 -10.111  -1.422  0.00  0.00           C  \n",
      "ATOM     88 C13 AAB     2      -5.655 -11.457  -2.158  0.00  0.00           C  \n",
      "ATOM     89 C14 AAB     2      -9.042   1.869  -4.231  0.00  0.00           C  \n",
      "ATOM     90 C15 AAB     2      -8.232   3.051  -4.765  0.00  0.00           C  \n",
      "ATOM     91 C16 AAB     2      -9.280  -0.536  -3.944  0.00  0.00           C  \n",
      "ATOM     92 C17 AAB     2      -9.723  -0.639  -2.480  0.00  0.00           C  \n",
      "ATOM     93 C18 AAB     2       7.264  16.223  -3.431  0.00  0.00           C  \n",
      "ATOM     94 N69 AAA     1       8.497  16.712  -3.805  0.00  0.00           N  \n",
      "ATOM     95 C19 AAB     2       9.094  17.843  -3.118  0.00  0.00           C  \n",
      "ATOM     96 C20 AAB     2       9.712  17.437  -1.770  0.00  0.00           C  \n",
      "ATOM     97 N70 AAA     1      10.346  18.574  -1.098  0.00  0.00           N  \n",
      "ATOM     98 O59 AAA     1       6.530  16.791  -2.629  0.00  0.00           O  \n",
      "ATOM     99 C21 AAB     2      10.118  12.948  -0.577  0.00  0.00           C  \n",
      "ATOM    100 N71 AAA     1      11.107  12.041  -0.276  0.00  0.00           N  \n",
      "ATOM    101 C22 AAB     2      12.186  12.359   0.640  0.00  0.00           C  \n",
      "ATOM    102 C23 AAB     2      13.220  11.227   0.671  0.00  0.00           C  \n",
      "ATOM    103 N72 AAA     1      12.575   9.925   0.894  0.00  0.00           N  \n",
      "ATOM    104 O60 AAA     1      10.143  14.119  -0.212  0.00  0.00           O  \n",
      "ATOM    105 C24 AAB     2      14.392   6.572   0.953  0.00  0.00           C  \n",
      "ATOM    106 N73 AAA     1      15.200   5.952   0.030  0.00  0.00           N  \n",
      "ATOM    107 C25 AAB     2      16.352   6.609  -0.550  0.00  0.00           C  \n",
      "ATOM    108 C26 AAB     2      17.511   6.742   0.450  0.00  0.00           C  \n",
      "ATOM    109 N74 AAA     1      18.755   7.177  -0.195  0.00  0.00           N  \n",
      "ATOM    110 C27 AAB     2      17.911   1.839   1.215  0.00  0.00           C  \n",
      "ATOM    111 N75 AAA     1      18.767   2.418   0.328  0.00  0.00           N  \n",
      "ATOM    112 C28 AAB     2      18.447   3.077  -0.927  0.00  0.00           C  \n",
      "ATOM    113 C29 AAB     2      19.694   3.642  -1.621  0.00  0.00           C  \n",
      "ATOM    114 N76 AAA     1      20.436   4.555  -0.749  0.00  0.00           N  \n",
      "ATOM    115 O61 AAA     1      14.488   7.759   1.250  0.00  0.00           O  \n",
      "ATOM    116 O62 AAA     1      18.343   1.327   2.248  0.00  0.00           O  \n",
      "ATOM    117 C30 AAB     2      17.571  -4.179  -1.473  0.00  0.00           C  \n",
      "ATOM    118 N77 AAA     1      18.429  -5.025  -2.143  0.00  0.00           N  \n",
      "ATOM    119 C31 AAB     2      19.486  -4.523  -3.001  0.00  0.00           C  \n",
      "ATOM    120 C32 AAB     2      20.696  -4.019  -2.202  0.00  0.00           C  \n",
      "ATOM    121 N78 AAA     1      21.791  -3.603  -3.078  0.00  0.00           N  \n",
      "ATOM    122 O63 AAA     1      17.609  -2.959  -1.578  0.00  0.00           O  \n",
      "ATOM    123 C33 AAB     2      14.810  -3.456   3.911  0.00  0.00           C  \n",
      "ATOM    124 N79 AAA     1      15.345  -2.344   4.523  0.00  0.00           N  \n",
      "ATOM    125 C34 AAB     2      14.512  -1.393   5.238  0.00  0.00           C  \n",
      "ATOM    126 C35 AAB     2      13.673  -0.515   4.299  0.00  0.00           C  \n",
      "ATOM    127 N80 AAA     1      12.904   0.490   5.034  0.00  0.00           N  \n",
      "ATOM    128 O64 AAA     1      13.616  -3.737   3.968  0.00  0.00           O  \n",
      "ATOM    129 C36 AAB     2      -5.837  16.444   1.434  0.00  0.00           C  \n",
      "ATOM    130 N81 AAA     1      -6.143  17.769   1.198  0.00  0.00           N  \n",
      "ATOM    131 C37 AAB     2      -7.334  18.150   0.464  0.00  0.00           C  \n",
      "ATOM    132 C38 AAB     2      -8.591  18.130   1.346  0.00  0.00           C  \n",
      "ATOM    133 N82 AAA     1      -9.805  18.522   0.631  0.00  0.00           N  \n",
      "ATOM    134 O65 AAA     1      -6.511  15.516   1.002  0.00  0.00           O  \n",
      "ATOM    135 C39 AAB     2      -5.277  15.474   5.666  0.00  0.00           C  \n",
      "ATOM    136 N83 AAA     1      -5.746  16.684   6.132  0.00  0.00           N  \n",
      "ATOM    137 C40 AAB     2      -7.166  16.938   6.298  0.00  0.00           C  \n",
      "ATOM    138 C41 AAB     2      -7.872  17.189   4.957  0.00  0.00           C  \n",
      "ATOM    139 N84 AAA     1      -9.272  17.569   5.142  0.00  0.00           N  \n",
      "ATOM    140 O66 AAA     1      -6.012  14.527   5.417  0.00  0.00           O  \n",
      "ATOM    141 C42 AAB     2      -6.313 -12.202   2.380  0.00  0.00           C  \n",
      "ATOM    142 N85 AAA     1      -5.380 -12.383   3.374  0.00  0.00           N  \n",
      "ATOM    143 C43 AAB     2      -4.405 -11.739  -2.969  0.00  0.00           C  \n",
      "ATOM    144 N86 AAA     1      -3.222 -11.440  -2.344  0.00  0.00           N  \n",
      "ATOM    145 O67 AAA     1      -4.463 -12.274  -4.074  0.00  0.00           O  \n",
      "ATOM    146 O68 AAA     1      -7.197 -13.014   2.125  0.00  0.00           O  \n",
      "ATOM    147 C44 AAB     2      -5.398 -13.558   4.235  0.00  0.00           C  \n",
      "ATOM    148 C45 AAB     2      -5.087 -14.863   3.468  0.00  0.00           C  \n",
      "ATOM    149 N87 AAA     1      -4.714 -16.008   4.337  0.00  0.00           N1+\n",
      "ATOM    150 C46 AAB     2      -1.928 -11.670  -2.963  0.00  0.00           C  \n",
      "ATOM    151 C47 AAB     2      -1.562 -13.168  -3.006  0.00  0.00           C  \n",
      "ATOM    152 N88 AAA     1      -0.142 -13.433  -3.328  0.00  0.00           N1+\n",
      "ATOM    153 C48 AAB     2      -5.895 -16.484   5.097  0.00  0.00           C  \n",
      "ATOM    154 C49 AAB     2      -5.494 -17.297   6.329  0.00  0.00           C  \n",
      "ATOM    155 C50 AAB     2      -4.183 -17.112   3.495  0.00  0.00           C  \n",
      "ATOM    156 C51 AAB     2      -2.714 -16.901   3.119  0.00  0.00           C  \n",
      "ATOM    157 C52 AAB     2       0.165 -13.103  -4.736  0.00  0.00           C  \n",
      "ATOM    158 C53 AAB     2       1.654 -13.213  -5.079  0.00  0.00           C  \n",
      "ATOM    159 C54 AAB     2       0.241 -14.806  -2.934  0.00  0.00           C  \n",
      "ATOM    160 C55 AAB     2      -0.406 -15.952  -3.719  0.00  0.00           C  \n",
      "ATOM    161 C56 AAB     2       1.928 -12.761  -6.498  0.00  0.00           C  \n",
      "ATOM    162 N89 AAA     1       3.271 -12.680  -6.784  0.00  0.00           N  \n",
      "ATOM    163 C57 AAB     2       3.748 -12.400  -8.124  0.00  0.00           C  \n",
      "ATOM    164 C58 AAB     2       5.264 -12.173  -8.130  0.00  0.00           C  \n",
      "ATOM    165 O69 AAA     1       1.051 -12.512  -7.317  0.00  0.00           O  \n",
      "ATOM    166 C59 AAB     2       0.015 -17.298  -3.165  0.00  0.00           C  \n",
      "ATOM    167 N90 AAA     1      -0.632 -18.356  -3.766  0.00  0.00           N  \n",
      "ATOM    168 C60 AAB     2      -0.447 -19.724  -3.315  0.00  0.00           C  \n",
      "ATOM    169 C61 AAB     2      -9.119   4.143  -5.325  0.00  0.00           C  \n",
      "ATOM    170 N91 AAA     1      -9.883   4.913  -4.503  0.00  0.00           N  \n",
      "ATOM    171 C62 AAB     2     -10.123   4.813  -3.072  0.00  0.00           C  \n",
      "ATOM    172 C63 AAB     2     -11.483   4.133  -2.788  0.00  0.00           C  \n",
      "ATOM    173 N92 AAA     1     -11.874   4.133  -1.358  0.00  0.00           N1+\n",
      "ATOM    174 C64 AAB     2     -11.043  -1.359  -2.335  0.00  0.00           C  \n",
      "ATOM    175 N93 AAA     1     -12.115  -0.664  -2.850  0.00  0.00           N  \n",
      "ATOM    176 C65 AAB     2     -13.485  -1.102  -2.648  0.00  0.00           C  \n",
      "ATOM    177 C66 AAB     2     -14.042  -0.612  -1.297  0.00  0.00           C  \n",
      "ATOM    178 N94 AAA     1     -15.511  -0.724  -1.193  0.00  0.00           N1+\n",
      "ATOM    179 O70 AAA     1      -9.171   4.367  -6.535  0.00  0.00           O  \n",
      "ATOM    180 O71 AAA     1     -11.141  -2.441  -1.768  0.00  0.00           O  \n",
      "ATOM    181 O72 AAA     1       0.853 -17.441  -2.279  0.00  0.00           O  \n",
      "ATOM    182 C67 AAB     2       0.900 -20.320  -3.750  0.00  0.00           C  \n",
      "ATOM    183 N95 AAA     1       1.111 -21.646  -3.170  0.00  0.00           N  \n",
      "ATOM    184 N96 AAA     1       5.975 -13.275  -7.465  0.00  0.00           N  \n",
      "ATOM    185 C68 AAB     2      -6.729 -17.868   6.987  0.00  0.00           C  \n",
      "ATOM    186 N97 AAA     1      -7.186 -19.086   6.579  0.00  0.00           N  \n",
      "ATOM    187 C69 AAB     2      -2.216 -18.027   2.234  0.00  0.00           C  \n",
      "ATOM    188 N98 AAA     1      -0.895 -17.871   1.864  0.00  0.00           N  \n",
      "ATOM    189 O73 AAA     1      -2.915 -18.970   1.880  0.00  0.00           O  \n",
      "ATOM    190 O74 AAA     1      -7.336 -17.248   7.859  0.00  0.00           O  \n",
      "ATOM    191 C70 AAB     2      -6.738 -19.894   5.456  0.00  0.00           C  \n",
      "ATOM    192 C71 AAB     2      -7.401 -21.279   5.470  0.00  0.00           C  \n",
      "ATOM    193 N99 AAA     1      -8.858 -21.181   5.603  0.00  0.00           N  \n",
      "ATOM    194 C72 AAB     2      -0.312 -18.716   0.835  0.00  0.00           C  \n",
      "ATOM    195 C73 AAB     2       1.221 -18.710   0.886  0.00  0.00           C  \n",
      "ATOM    196 N01 AAB     2       1.813 -19.362  -0.284  0.00  0.00           N  \n",
      "ATOM    197 C74 AAB     2     -11.076   3.134  -0.597  0.00  0.00           C  \n",
      "ATOM    198 C75 AAB     2     -11.059   3.379   0.917  0.00  0.00           C  \n",
      "ATOM    199 C76 AAB     2     -10.295   4.632   1.293  0.00  0.00           C  \n",
      "ATOM    200 N02 AAB     2     -10.813   5.784   0.746  0.00  0.00           N  \n",
      "ATOM    201 O75 AAA     1      -9.325   4.608   2.042  0.00  0.00           O  \n",
      "ATOM    202 C77 AAB     2     -13.327   3.840  -1.221  0.00  0.00           C  \n",
      "ATOM    203 C78 AAB     2     -14.199   5.058  -1.541  0.00  0.00           C  \n",
      "ATOM    204 C79 AAB     2     -15.663   4.780  -1.263  0.00  0.00           C  \n",
      "ATOM    205 N03 AAB     2     -16.479   5.834  -1.588  0.00  0.00           N  \n",
      "ATOM    206 O76 AAA     1     -16.081   3.724  -0.797  0.00  0.00           O  \n",
      "ATOM    207 C80 AAB     2     -15.991   0.034  -0.015  0.00  0.00           C  \n",
      "ATOM    208 C81 AAB     2     -17.485   0.342  -0.111  0.00  0.00           C  \n",
      "ATOM    209 C82 AAB     2     -17.953   1.111   1.104  0.00  0.00           C  \n",
      "ATOM    210 N04 AAB     2     -17.519   2.413   1.160  0.00  0.00           N  \n",
      "ATOM    211 C83 AAB     2     -15.940  -2.142  -1.126  0.00  0.00           C  \n",
      "ATOM    212 C84 AAB     2     -16.698  -2.517  -2.398  0.00  0.00           C  \n",
      "ATOM    213 C85 AAB     2     -17.149  -3.963  -2.365  0.00  0.00           C  \n",
      "ATOM    214 N05 AAB     2     -17.900  -4.315  -3.469  0.00  0.00           N  \n",
      "ATOM    215 O77 AAA     1     -18.664   0.602   1.965  0.00  0.00           O  \n",
      "ATOM    216 O78 AAA     1     -16.875  -4.741  -1.459  0.00  0.00           O  \n",
      "ATOM    217 C86 AAB     2     -18.315  -5.693  -3.668  0.00  0.00           C  \n",
      "ATOM    218 C87 AAB     2     -19.408  -5.815  -4.738  0.00  0.00           C  \n",
      "ATOM    219 N06 AAB     2     -19.793  -7.202  -4.984  0.00  0.00           N  \n",
      "ATOM    220 C88 AAB     2     -17.942   3.314   2.210  0.00  0.00           C  \n",
      "ATOM    221 C89 AAB     2     -19.353   3.873   1.964  0.00  0.00           C  \n",
      "ATOM    222 N07 AAB     2     -19.750   4.879   2.952  0.00  0.00           N  \n",
      "ATOM    223 C90 AAB     2     -10.130   7.053   0.891  0.00  0.00           C  \n",
      "ATOM    224 C91 AAB     2     -11.026   8.225   0.470  0.00  0.00           C  \n",
      "ATOM    225 N08 AAB     2     -10.370   9.525   0.579  0.00  0.00           N  \n",
      "ATOM    226 C92 AAB     2     -17.896   5.847  -1.277  0.00  0.00           C  \n",
      "ATOM    227 C93 AAB     2     -18.600   7.005  -1.993  0.00  0.00           C  \n",
      "ATOM    228 N09 AAB     2     -17.899   8.277  -1.761  0.00  0.00           N  \n",
      "ATOM    229 H51 AAA     1      -1.290  -1.162   2.143  0.00  0.00           H  \n",
      "ATOM    230 H52 AAA     1      -1.848   0.243   1.293  0.00  0.00           H  \n",
      "ATOM    231 H53 AAA     1      -0.402  -0.660  -0.759  0.00  0.00           H  \n",
      "ATOM    232 H54 AAA     1       0.162  -1.872   0.370  0.00  0.00           H  \n",
      "ATOM    233 H55 AAA     1       2.851   0.519   0.576  0.00  0.00           H  \n",
      "ATOM    234 H56 AAA     1       2.214  -0.632  -0.581  0.00  0.00           H  \n",
      "ATOM    235 H57 AAA     1       2.087  -2.370   1.264  0.00  0.00           H  \n",
      "ATOM    236 H58 AAA     1       2.578  -1.156   2.441  0.00  0.00           H  \n",
      "ATOM    237 H59 AAA     1       4.671  -0.214   2.328  0.00  0.00           H  \n",
      "ATOM    238 H60 AAA     1       6.877  -0.065   1.601  0.00  0.00           H  \n",
      "ATOM    239 H61 AAA     1       6.672  -1.456   0.521  0.00  0.00           H  \n",
      "ATOM    240 H62 AAA     1       6.547  -2.997   2.433  0.00  0.00           H  \n",
      "ATOM    241 H63 AAA     1       6.663  -1.680   3.590  0.00  0.00           H  \n",
      "ATOM    242 H64 AAA     1      -0.543   1.623   0.132  0.00  0.00           H  \n",
      "ATOM    243 H65 AAA     1       1.006   1.603  -0.678  0.00  0.00           H  \n",
      "ATOM    244 H66 AAA     1       2.055   2.437   1.524  0.00  0.00           H  \n",
      "ATOM    245 H67 AAA     1       0.434   2.405   2.246  0.00  0.00           H  \n",
      "ATOM    246 H68 AAA     1       0.856   4.617   2.718  0.00  0.00           H  \n",
      "ATOM    247 H69 AAA     1       0.124   6.748   2.347  0.00  0.00           H  \n",
      "ATOM    248 H70 AAA     1      -0.180   6.397   0.631  0.00  0.00           H  \n",
      "ATOM    249 H71 AAA     1       2.284   6.380   0.219  0.00  0.00           H  \n",
      "ATOM    250 H72 AAA     1       2.593   6.855   1.881  0.00  0.00           H  \n",
      "ATOM    251 H73 AAA     1      -1.618  -3.370   0.936  0.00  0.00           H  \n",
      "ATOM    252 H74 AAA     1      -1.835  -2.924  -0.747  0.00  0.00           H  \n",
      "ATOM    253 H75 AAA     1      -4.302  -3.536  -0.514  0.00  0.00           H  \n",
      "ATOM    254 H76 AAA     1      -3.993  -3.960   1.186  0.00  0.00           H  \n",
      "ATOM    255 H77 AAA     1      -5.047  -5.886   0.172  0.00  0.00           H  \n",
      "ATOM    256 H78 AAA     1      -2.954  -7.820  -0.761  0.00  0.00           H  \n",
      "ATOM    257 H79 AAA     1      -4.465  -7.503  -1.622  0.00  0.00           H  \n",
      "ATOM    258 H80 AAA     1      -5.734  -8.294   0.475  0.00  0.00           H  \n",
      "ATOM    259 H81 AAA     1      -4.174  -8.602   1.220  0.00  0.00           H  \n",
      "ATOM    260 H82 AAA     1      -3.881   0.100   0.279  0.00  0.00           H  \n",
      "ATOM    261 H83 AAA     1      -4.538  -1.380  -0.298  0.00  0.00           H  \n",
      "ATOM    262 H84 AAA     1      -2.663  -1.369  -2.132  0.00  0.00           H  \n",
      "ATOM    263 H85 AAA     1      -2.278   0.260  -1.568  0.00  0.00           H  \n",
      "ATOM    264 H86 AAA     1      -4.798  -1.843  -2.855  0.00  0.00           H  \n",
      "ATOM    265 H87 AAA     1      -6.661  -1.518  -4.031  0.00  0.00           H  \n",
      "ATOM    266 H88 AAA     1      -5.648  -0.300  -4.818  0.00  0.00           H  \n",
      "ATOM    267 H89 AAA     1      -6.575   1.490  -3.562  0.00  0.00           H  \n",
      "ATOM    268 H90 AAA     1      -7.340   0.469  -2.374  0.00  0.00           H  \n",
      "ATOM    269 H91 AAA     1       9.873  -0.990   3.728  0.00  0.00           H  \n",
      "ATOM    270 H92 AAA     1       8.466  -0.110   3.235  0.00  0.00           H  \n",
      "ATOM    271 H93 AAA     1       9.215  -0.220   0.829  0.00  0.00           H  \n",
      "ATOM    272 H94 AAA     1      10.631  -1.171   1.322  0.00  0.00           H  \n",
      "ATOM    273 H95 AAA     1      11.170   0.919  -0.086  0.00  0.00           H  \n",
      "ATOM    274 H96 AAA     1      11.575   3.328   1.512  0.00  0.00           H  \n",
      "ATOM    275 H97 AAA     1      12.117   3.025  -0.153  0.00  0.00           H  \n",
      "ATOM    276 H98 AAA     1      13.876   1.497   0.707  0.00  0.00           H  \n",
      "ATOM    277 H99 AAA     1      13.424   1.836   2.367  0.00  0.00           H  \n",
      "ATOM    278 H01 AAB     2       8.228  -4.109   3.388  0.00  0.00           H  \n",
      "ATOM    279 H02 AAB     2       8.678  -2.889   4.569  0.00  0.00           H  \n",
      "ATOM    280 H03 AAB     2      10.630  -4.132   4.379  0.00  0.00           H  \n",
      "ATOM    281 H04 AAB     2      11.004  -2.813   3.282  0.00  0.00           H  \n",
      "ATOM    282 H05 AAB     2      12.561  -4.194   2.441  0.00  0.00           H  \n",
      "ATOM    283 H06 AAB     2      11.607  -6.100   0.363  0.00  0.00           H  \n",
      "ATOM    284 H07 AAB     2      12.581  -6.610   1.740  0.00  0.00           H  \n",
      "ATOM    285 H08 AAB     2      13.319  -4.795  -0.579  0.00  0.00           H  \n",
      "ATOM    286 H09 AAB     2      14.116  -6.297  -0.113  0.00  0.00           H  \n",
      "ATOM    287 H10 AAB     2       3.856   8.817   1.010  0.00  0.00           H  \n",
      "ATOM    288 H11 AAB     2       3.044   9.943  -0.065  0.00  0.00           H  \n",
      "ATOM    289 H12 AAB     2       2.894   8.074  -1.819  0.00  0.00           H  \n",
      "ATOM    290 H13 AAB     2       4.026   7.159  -0.818  0.00  0.00           H  \n",
      "ATOM    291 H14 AAB     2       3.494  10.059  -2.733  0.00  0.00           H  \n",
      "ATOM    292 H15 AAB     2       4.923  11.375  -3.878  0.00  0.00           H  \n",
      "ATOM    293 H16 AAB     2       6.245  10.260  -3.487  0.00  0.00           H  \n",
      "ATOM    294 H17 AAB     2       6.558  11.290  -1.290  0.00  0.00           H  \n",
      "ATOM    295 H18 AAB     2       5.205  12.366  -1.492  0.00  0.00           H  \n",
      "ATOM    296 H19 AAB     2       1.872   9.128   2.643  0.00  0.00           H  \n",
      "ATOM    297 H20 AAB     2       0.255   8.846   2.001  0.00  0.00           H  \n",
      "ATOM    298 H21 AAB     2       0.557  10.818   0.442  0.00  0.00           H  \n",
      "ATOM    299 H22 AAB     2       2.052  11.208   1.332  0.00  0.00           H  \n",
      "ATOM    300 H23 AAB     2       0.490  13.154   1.316  0.00  0.00           H  \n",
      "ATOM    301 H24 AAB     2      -0.277  14.671   2.901  0.00  0.00           H  \n",
      "ATOM    302 H25 AAB     2      -0.539  13.361   4.069  0.00  0.00           H  \n",
      "ATOM    303 H26 AAB     2      -2.569  12.601   2.771  0.00  0.00           H  \n",
      "ATOM    304 H27 AAB     2      -2.161  13.765   1.518  0.00  0.00           H  \n",
      "ATOM    305 H28 AAB     2       5.587  14.526  -2.406  0.00  0.00           H  \n",
      "ATOM    306 H29 AAB     2       5.297  13.563  -3.845  0.00  0.00           H  \n",
      "ATOM    307 H30 AAB     2       6.243  15.236  -4.981  0.00  0.00           H  \n",
      "ATOM    308 H31 AAB     2       7.754  14.439  -4.564  0.00  0.00           H  \n",
      "ATOM    309 H32 AAB     2       7.424  13.690  -0.772  0.00  0.00           H  \n",
      "ATOM    310 H33 AAB     2       8.406  14.258  -2.111  0.00  0.00           H  \n",
      "ATOM    311 H34 AAB     2       9.458  12.009  -2.367  0.00  0.00           H  \n",
      "ATOM    312 H35 AAB     2       8.623  11.474  -0.893  0.00  0.00           H  \n",
      "ATOM    313 H36 AAB     2      -5.097  14.270   2.983  0.00  0.00           H  \n",
      "ATOM    314 H37 AAB     2      -4.188  14.323   1.506  0.00  0.00           H  \n",
      "ATOM    315 H38 AAB     2      -3.757  16.755   1.745  0.00  0.00           H  \n",
      "ATOM    316 H39 AAB     2      -4.741  16.790   3.220  0.00  0.00           H  \n",
      "ATOM    317 H40 AAB     2      -2.294  13.997   5.129  0.00  0.00           H  \n",
      "ATOM    318 H41 AAB     2      -3.888  13.390   4.740  0.00  0.00           H  \n",
      "ATOM    319 H42 AAB     2      -3.393  16.397   5.161  0.00  0.00           H  \n",
      "ATOM    320 H43 AAB     2      -3.378  15.316   6.550  0.00  0.00           H  \n",
      "ATOM    321 H44 AAB     2      14.816   4.885   2.906  0.00  0.00           H  \n",
      "ATOM    322 H45 AAB     2      13.271   4.086   3.049  0.00  0.00           H  \n",
      "ATOM    323 H46 AAB     2      12.764   6.262   2.272  0.00  0.00           H  \n",
      "ATOM    324 H47 AAB     2      12.657   5.340   0.776  0.00  0.00           H  \n",
      "ATOM    325 H48 AAB     2      15.723   2.541   2.867  0.00  0.00           H  \n",
      "ATOM    326 H49 AAB     2      16.458   3.805   1.889  0.00  0.00           H  \n",
      "ATOM    327 H50 AAB     2      16.232   2.120  -0.122  0.00  0.00           H  \n",
      "ATOM    328 H51 AAB     2      16.016   0.892   1.116  0.00  0.00           H  \n",
      "ATOM    329 H52 AAB     2      16.226  -3.221   0.692  0.00  0.00           H  \n",
      "ATOM    330 H53 AAB     2      15.105  -3.357  -0.615  0.00  0.00           H  \n",
      "ATOM    331 H54 AAB     2      16.026  -5.615  -1.224  0.00  0.00           H  \n",
      "ATOM    332 H55 AAB     2      17.173  -5.505   0.130  0.00  0.00           H  \n",
      "ATOM    333 H56 AAB     2      15.954  -6.016   1.877  0.00  0.00           H  \n",
      "ATOM    334 H57 AAB     2      14.440  -5.843   2.720  0.00  0.00           H  \n",
      "ATOM    335 H58 AAB     2      16.622  -3.699   2.767  0.00  0.00           H  \n",
      "ATOM    336 H59 AAB     2      16.331  -4.921   4.000  0.00  0.00           H  \n",
      "ATOM    337 H60 AAB     2      -4.003 -10.907   1.436  0.00  0.00           H  \n",
      "ATOM    338 H61 AAB     2      -4.740 -11.995   0.326  0.00  0.00           H  \n",
      "ATOM    339 H62 AAB     2      -7.032 -10.829   0.943  0.00  0.00           H  \n",
      "ATOM    340 H63 AAB     2      -6.141 -10.075   2.268  0.00  0.00           H  \n",
      "ATOM    341 H64 AAB     2      -5.439  -9.344  -2.175  0.00  0.00           H  \n",
      "ATOM    342 H65 AAB     2      -6.671  -9.910  -1.063  0.00  0.00           H  \n",
      "ATOM    343 H66 AAB     2      -6.492 -11.441  -2.869  0.00  0.00           H  \n",
      "ATOM    344 H67 AAB     2      -5.837 -12.301  -1.487  0.00  0.00           H  \n",
      "ATOM    345 H68 AAB     2      -9.358   2.092  -3.208  0.00  0.00           H  \n",
      "ATOM    346 H69 AAB     2      -9.956   1.785  -4.833  0.00  0.00           H  \n",
      "ATOM    347 H70 AAB     2      -7.578   2.724  -5.584  0.00  0.00           H  \n",
      "ATOM    348 H71 AAB     2      -7.583   3.480  -3.993  0.00  0.00           H  \n",
      "ATOM    349 H72 AAB     2      -8.826  -1.490  -4.236  0.00  0.00           H  \n",
      "ATOM    350 H73 AAB     2     -10.147  -0.451  -4.612  0.00  0.00           H  \n",
      "ATOM    351 H74 AAB     2      -9.847   0.344  -2.012  0.00  0.00           H  \n",
      "ATOM    352 H75 AAB     2      -8.969  -1.175  -1.892  0.00  0.00           H  \n",
      "ATOM    353 H76 AAB     2       9.116  16.115  -4.338  0.00  0.00           H  \n",
      "ATOM    354 H77 AAB     2       8.326  18.610  -2.968  0.00  0.00           H  \n",
      "ATOM    355 H78 AAB     2       9.862  18.252  -3.783  0.00  0.00           H  \n",
      "ATOM    356 H79 AAB     2      10.465  16.658  -1.934  0.00  0.00           H  \n",
      "ATOM    357 H80 AAB     2       8.947  17.010  -1.112  0.00  0.00           H  \n",
      "ATOM    358 H81 AAB     2      10.739  18.240  -0.217  0.00  0.00           H  \n",
      "ATOM    359 H82 AAB     2       9.623  19.244  -0.837  0.00  0.00           H  \n",
      "ATOM    360 H83 AAB     2      10.924  11.048  -0.388  0.00  0.00           H  \n",
      "ATOM    361 H84 AAB     2      11.744  12.507   1.632  0.00  0.00           H  \n",
      "ATOM    362 H85 AAB     2      12.649  13.302   0.332  0.00  0.00           H  \n",
      "ATOM    363 H86 AAB     2      13.963  11.417   1.453  0.00  0.00           H  \n",
      "ATOM    364 H87 AAB     2      13.745  11.186  -0.289  0.00  0.00           H  \n",
      "ATOM    365 H88 AAB     2      12.179   9.908   1.834  0.00  0.00           H  \n",
      "ATOM    366 H89 AAB     2      13.314   9.204   0.921  0.00  0.00           H  \n",
      "ATOM    367 H90 AAB     2      15.151   4.934   0.005  0.00  0.00           H  \n",
      "ATOM    368 H91 AAB     2      16.048   7.600  -0.909  0.00  0.00           H  \n",
      "ATOM    369 H92 AAB     2      16.653   6.010  -1.416  0.00  0.00           H  \n",
      "ATOM    370 H93 AAB     2      17.694   5.779   0.939  0.00  0.00           H  \n",
      "ATOM    371 H94 AAB     2      17.246   7.455   1.239  0.00  0.00           H  \n",
      "ATOM    372 H95 AAB     2      19.444   7.359   0.539  0.00  0.00           H  \n",
      "ATOM    373 H96 AAB     2      18.593   8.087  -0.631  0.00  0.00           H  \n",
      "ATOM    374 H97 AAB     2      19.736   2.463   0.631  0.00  0.00           H  \n",
      "ATOM    375 H98 AAB     2      17.726   3.872  -0.718  0.00  0.00           H  \n",
      "ATOM    376 H99 AAB     2      17.962   2.344  -1.581  0.00  0.00           H  \n",
      "ATOM    377 H01 AAC     3      19.400   4.164  -2.538  0.00  0.00           H  \n",
      "ATOM    378 H02 AAC     3      20.360   2.819  -1.904  0.00  0.00           H  \n",
      "ATOM    379 H03 AAC     3      19.838   5.369  -0.542  0.00  0.00           H  \n",
      "ATOM    380 H04 AAC     3      21.225   4.942  -1.267  0.00  0.00           H  \n",
      "ATOM    381 H05 AAC     3      18.405  -6.018  -1.949  0.00  0.00           H  \n",
      "ATOM    382 H06 AAC     3      19.078  -3.717  -3.623  0.00  0.00           H  \n",
      "ATOM    383 H07 AAC     3      19.778  -5.348  -3.661  0.00  0.00           H  \n",
      "ATOM    384 H08 AAC     3      21.056  -4.816  -1.542  0.00  0.00           H  \n",
      "ATOM    385 H09 AAC     3      20.406  -3.179  -1.561  0.00  0.00           H  \n",
      "ATOM    386 H10 AAC     3      22.560  -3.256  -2.504  0.00  0.00           H  \n",
      "ATOM    387 H11 AAC     3      21.486  -2.807  -3.639  0.00  0.00           H  \n",
      "ATOM    388 H12 AAC     3      16.301  -2.076   4.323  0.00  0.00           H  \n",
      "ATOM    389 H13 AAC     3      15.184  -0.776   5.845  0.00  0.00           H  \n",
      "ATOM    390 H14 AAC     3      13.857  -1.953   5.917  0.00  0.00           H  \n",
      "ATOM    391 H15 AAC     3      12.986  -1.132   3.711  0.00  0.00           H  \n",
      "ATOM    392 H16 AAC     3      14.335  -0.008   3.589  0.00  0.00           H  \n",
      "ATOM    393 H17 AAC     3      12.270   0.022   5.681  0.00  0.00           H  \n",
      "ATOM    394 H18 AAC     3      12.276   0.972   4.375  0.00  0.00           H  \n",
      "ATOM    395 H19 AAC     3      -5.604  18.492   1.657  0.00  0.00           H  \n",
      "ATOM    396 H20 AAC     3      -7.457  17.470  -0.387  0.00  0.00           H  \n",
      "ATOM    397 H21 AAC     3      -7.159  19.157   0.070  0.00  0.00           H  \n",
      "ATOM    398 H22 AAC     3      -8.451  18.813   2.192  0.00  0.00           H  \n",
      "ATOM    399 H23 AAC     3      -8.741  17.132   1.771  0.00  0.00           H  \n",
      "ATOM    400 H24 AAC     3      -9.986  17.848  -0.115  0.00  0.00           H  \n",
      "ATOM    401 H25 AAC     3      -9.666  19.421   0.172  0.00  0.00           H  \n",
      "ATOM    402 H26 AAC     3      -5.098  17.440   6.311  0.00  0.00           H  \n",
      "ATOM    403 H27 AAC     3      -7.257  17.813   6.950  0.00  0.00           H  \n",
      "ATOM    404 H28 AAC     3      -7.617  16.081   6.811  0.00  0.00           H  \n",
      "ATOM    405 H29 AAC     3      -7.819  16.297   4.323  0.00  0.00           H  \n",
      "ATOM    406 H30 AAC     3      -7.357  17.993   4.420  0.00  0.00           H  \n",
      "ATOM    407 H31 AAC     3      -9.774  16.788   5.566  0.00  0.00           H  \n",
      "ATOM    408 H32 AAC     3      -9.706  17.697   4.225  0.00  0.00           H  \n",
      "ATOM    409 H33 AAC     3      -4.805 -11.601   3.662  0.00  0.00           H  \n",
      "ATOM    410 H34 AAC     3      -3.264 -10.899  -1.482  0.00  0.00           H  \n",
      "ATOM    411 H35 AAC     3      -6.382 -13.603   4.713  0.00  0.00           H  \n",
      "ATOM    412 H36 AAC     3      -4.643 -13.386   5.009  0.00  0.00           H  \n",
      "ATOM    413 H37 AAC     3      -4.252 -14.635   2.794  0.00  0.00           H  \n",
      "ATOM    414 H38 AAC     3      -5.932 -15.134   2.824  0.00  0.00           H  \n",
      "ATOM    415 H39 AAC     3      -1.194 -11.116  -2.369  0.00  0.00           H  \n",
      "ATOM    416 H40 AAC     3      -1.955 -11.241  -3.970  0.00  0.00           H  \n",
      "ATOM    417 H41 AAC     3      -2.225 -13.693  -3.705  0.00  0.00           H  \n",
      "ATOM    418 H42 AAC     3      -1.781 -13.575  -2.010  0.00  0.00           H  \n",
      "ATOM    419 H43 AAC     3      -6.574 -17.045   4.443  0.00  0.00           H  \n",
      "ATOM    420 H44 AAC     3      -6.481 -15.636   5.469  0.00  0.00           H  \n",
      "ATOM    421 H45 AAC     3      -4.989 -16.653   7.060  0.00  0.00           H  \n",
      "ATOM    422 H46 AAC     3      -4.791 -18.102   6.105  0.00  0.00           H  \n",
      "ATOM    423 H47 AAC     3      -4.802 -17.245   2.597  0.00  0.00           H  \n",
      "ATOM    424 H48 AAC     3      -4.237 -18.066   4.034  0.00  0.00           H  \n",
      "ATOM    425 H49 AAC     3      -2.095 -16.870   4.023  0.00  0.00           H  \n",
      "ATOM    426 H50 AAC     3      -2.573 -15.963   2.572  0.00  0.00           H  \n",
      "ATOM    427 H51 AAC     3      -0.130 -12.066  -4.933  0.00  0.00           H  \n",
      "ATOM    428 H52 AAC     3      -0.428 -13.723  -5.421  0.00  0.00           H  \n",
      "ATOM    429 H53 AAC     3       2.001 -14.249  -4.999  0.00  0.00           H  \n",
      "ATOM    430 H54 AAC     3       2.244 -12.592  -4.394  0.00  0.00           H  \n",
      "ATOM    431 H55 AAC     3       0.019 -14.931  -1.865  0.00  0.00           H  \n",
      "ATOM    432 H56 AAC     3       1.333 -14.899  -2.983  0.00  0.00           H  \n",
      "ATOM    433 H57 AAC     3      -0.109 -15.919  -4.772  0.00  0.00           H  \n",
      "ATOM    434 H58 AAC     3      -1.498 -15.892  -3.661  0.00  0.00           H  \n",
      "ATOM    435 H59 AAC     3       3.946 -13.115  -6.162  0.00  0.00           H  \n",
      "ATOM    436 H60 AAC     3       3.223 -11.521  -8.514  0.00  0.00           H  \n",
      "ATOM    437 H61 AAC     3       3.484 -13.258  -8.754  0.00  0.00           H  \n",
      "ATOM    438 H62 AAC     3       5.496 -11.246  -7.594  0.00  0.00           H  \n",
      "ATOM    439 H63 AAC     3       5.623 -12.065  -9.158  0.00  0.00           H  \n",
      "ATOM    440 H64 AAC     3      -1.351 -18.174  -4.457  0.00  0.00           H  \n",
      "ATOM    441 H65 AAC     3      -1.274 -20.315  -3.725  0.00  0.00           H  \n",
      "ATOM    442 H66 AAC     3      -0.537 -19.733  -2.223  0.00  0.00           H  \n",
      "ATOM    443 H67 AAC     3     -10.400   5.619  -5.016  0.00  0.00           H  \n",
      "ATOM    444 H68 AAC     3     -10.137   5.839  -2.688  0.00  0.00           H  \n",
      "ATOM    445 H69 AAC     3      -9.290   4.291  -2.598  0.00  0.00           H  \n",
      "ATOM    446 H70 AAC     3     -11.495   3.112  -3.190  0.00  0.00           H  \n",
      "ATOM    447 H71 AAC     3     -12.225   4.686  -3.375  0.00  0.00           H  \n",
      "ATOM    448 H72 AAC     3     -11.972   0.265  -3.222  0.00  0.00           H  \n",
      "ATOM    449 H73 AAC     3     -13.527  -2.194  -2.717  0.00  0.00           H  \n",
      "ATOM    450 H74 AAC     3     -14.067  -0.680  -3.475  0.00  0.00           H  \n",
      "ATOM    451 H75 AAC     3     -13.763   0.447  -1.210  0.00  0.00           H  \n",
      "ATOM    452 H76 AAC     3     -13.541  -1.127  -0.467  0.00  0.00           H  \n",
      "ATOM    453 H77 AAC     3       1.728 -19.667  -3.454  0.00  0.00           H  \n",
      "ATOM    454 H78 AAC     3       0.930 -20.395  -4.843  0.00  0.00           H  \n",
      "ATOM    455 H79 AAC     3       1.154 -21.545  -2.151  0.00  0.00           H  \n",
      "ATOM    456 H80 AAC     3       2.035 -21.982  -3.442  0.00  0.00           H  \n",
      "ATOM    457 H81 AAC     3       6.978 -13.088  -7.503  0.00  0.00           H  \n",
      "ATOM    458 H82 AAC     3       5.831 -14.133  -7.997  0.00  0.00           H  \n",
      "ATOM    459 H83 AAC     3      -8.074 -19.362   6.991  0.00  0.00           H  \n",
      "ATOM    460 H84 AAC     3      -0.488 -16.953   1.989  0.00  0.00           H  \n",
      "ATOM    461 H85 AAC     3      -5.650 -20.000   5.495  0.00  0.00           H  \n",
      "ATOM    462 H86 AAC     3      -6.997 -19.357   4.538  0.00  0.00           H  \n",
      "ATOM    463 H87 AAC     3      -7.019 -21.856   6.320  0.00  0.00           H  \n",
      "ATOM    464 H88 AAC     3      -7.145 -21.823   4.555  0.00  0.00           H  \n",
      "ATOM    465 H89 AAC     3      -9.241 -20.676   4.804  0.00  0.00           H  \n",
      "ATOM    466 H90 AAC     3      -9.261 -22.118   5.565  0.00  0.00           H  \n",
      "ATOM    467 H91 AAC     3      -0.672 -18.324  -0.123  0.00  0.00           H  \n",
      "ATOM    468 H92 AAC     3      -0.694 -19.738   0.939  0.00  0.00           H  \n",
      "ATOM    469 H93 AAC     3       1.561 -19.216   1.796  0.00  0.00           H  \n",
      "ATOM    470 H94 AAC     3       1.589 -17.678   0.937  0.00  0.00           H  \n",
      "ATOM    471 H95 AAC     3       2.828 -19.274  -0.225  0.00  0.00           H  \n",
      "ATOM    472 H96 AAC     3       1.556 -18.794  -1.107  0.00  0.00           H  \n",
      "ATOM    473 H97 AAC     3     -10.032   3.153  -0.929  0.00  0.00           H  \n",
      "ATOM    474 H98 AAC     3     -11.447   2.122  -0.804  0.00  0.00           H  \n",
      "ATOM    475 H99 AAC     3     -10.559   2.531   1.401  0.00  0.00           H  \n",
      "ATOM    476 H01 AAD     4     -12.063   3.438   1.350  0.00  0.00           H  \n",
      "ATOM    477 H02 AAD     4     -11.382   5.637  -0.088  0.00  0.00           H  \n",
      "ATOM    478 H03 AAD     4     -13.553   3.544  -0.190  0.00  0.00           H  \n",
      "ATOM    479 H04 AAD     4     -13.611   2.985  -1.849  0.00  0.00           H  \n",
      "ATOM    480 H05 AAD     4     -14.108   5.348  -2.592  0.00  0.00           H  \n",
      "ATOM    481 H06 AAD     4     -13.893   5.909  -0.920  0.00  0.00           H  \n",
      "ATOM    482 H07 AAD     4     -16.078   6.750  -1.774  0.00  0.00           H  \n",
      "ATOM    483 H08 AAD     4     -15.460   0.994   0.039  0.00  0.00           H  \n",
      "ATOM    484 H09 AAD     4     -15.755  -0.493   0.919  0.00  0.00           H  \n",
      "ATOM    485 H10 AAD     4     -18.085  -0.572  -0.178  0.00  0.00           H  \n",
      "ATOM    486 H11 AAD     4     -17.704   0.935  -1.008  0.00  0.00           H  \n",
      "ATOM    487 H12 AAD     4     -17.028   2.812   0.355  0.00  0.00           H  \n",
      "ATOM    488 H13 AAD     4     -16.591  -2.327  -0.261  0.00  0.00           H  \n",
      "ATOM    489 H14 AAD     4     -15.086  -2.817  -0.979  0.00  0.00           H  \n",
      "ATOM    490 H15 AAD     4     -16.062  -2.382  -3.280  0.00  0.00           H  \n",
      "ATOM    491 H16 AAD     4     -17.584  -1.882  -2.512  0.00  0.00           H  \n",
      "ATOM    492 H17 AAD     4     -17.859  -3.706  -4.276  0.00  0.00           H  \n",
      "ATOM    493 H18 AAD     4     -18.667  -6.099  -2.712  0.00  0.00           H  \n",
      "ATOM    494 H19 AAD     4     -17.423  -6.259  -3.962  0.00  0.00           H  \n",
      "ATOM    495 H20 AAD     4     -19.058  -5.369  -5.677  0.00  0.00           H  \n",
      "ATOM    496 H21 AAD     4     -20.292  -5.248  -4.425  0.00  0.00           H  \n",
      "ATOM    497 H22 AAD     4     -18.989  -7.736  -5.313  0.00  0.00           H  \n",
      "ATOM    498 H23 AAD     4     -20.488  -7.237  -5.729  0.00  0.00           H  \n",
      "ATOM    499 H24 AAD     4     -17.209   4.128   2.242  0.00  0.00           H  \n",
      "ATOM    500 H25 AAD     4     -17.907   2.785   3.169  0.00  0.00           H  \n",
      "ATOM    501 H26 AAD     4     -20.090   3.062   1.967  0.00  0.00           H  \n",
      "ATOM    502 H27 AAD     4     -19.399   4.328   0.969  0.00  0.00           H  \n",
      "ATOM    503 H28 AAD     4     -19.005   5.563   3.071  0.00  0.00           H  \n",
      "ATOM    504 H29 AAD     4     -19.856   4.422   3.859  0.00  0.00           H  \n",
      "ATOM    505 H30 AAD     4      -9.229   7.013   0.269  0.00  0.00           H  \n",
      "ATOM    506 H31 AAD     4      -9.812   7.165   1.934  0.00  0.00           H  \n",
      "ATOM    507 H32 AAD     4     -11.935   8.234   1.082  0.00  0.00           H  \n",
      "ATOM    508 H33 AAD     4     -11.352   8.084  -0.567  0.00  0.00           H  \n",
      "ATOM    509 H34 AAD     4      -9.499   9.525   0.049  0.00  0.00           H  \n",
      "ATOM    510 H35 AAD     4     -10.100   9.694   1.549  0.00  0.00           H  \n",
      "ATOM    511 H36 AAD     4     -17.986   5.957  -0.190  0.00  0.00           H  \n",
      "ATOM    512 H37 AAD     4     -18.338   4.886  -1.560  0.00  0.00           H  \n",
      "ATOM    513 H38 AAD     4     -19.639   7.082  -1.656  0.00  0.00           H  \n",
      "ATOM    514 H39 AAD     4     -18.609   6.814  -3.072  0.00  0.00           H  \n",
      "ATOM    515 H40 AAD     4     -17.985   8.528  -0.775  0.00  0.00           H  \n",
      "ATOM    516 H41 AAD     4     -18.386   9.016  -2.271  0.00  0.00           H  \n",
      "ATOM    517 H42 AAD     4      -3.231  -1.731   1.493  0.00  0.00           H  \n",
      "ATOM    518 H43 AAD     4       0.713   0.130   1.828  0.00  0.00           H  \n",
      "ATOM    519 H44 AAD     4       8.754  -2.444   1.680  0.00  0.00           H  \n",
      "ATOM    520 H45 AAD     4       1.169   8.454  -0.131  0.00  0.00           H  \n",
      "ATOM    521 H46 AAD     4      -3.775 -10.116  -0.696  0.00  0.00           H  \n",
      "ATOM    522 H47 AAD     4      -8.055   0.426  -5.205  0.00  0.00           H  \n",
      "ATOM    523 H48 AAD     4      14.533   3.793   0.465  0.00  0.00           H  \n",
      "ATOM    524 H49 AAD     4      14.121  -3.808   1.413  0.00  0.00           H  \n",
      "ATOM    525 H50 AAD     4       7.390  12.435  -3.437  0.00  0.00           H  \n",
      "ATOM    526 H51 AAD     4      -2.501  15.515   3.228  0.00  0.00           H  \n",
      "ATOM    527 H52 AAD     4      -4.006 -15.716   4.979  0.00  0.00           H  \n",
      "ATOM    528 H53 AAD     4       0.400 -12.811  -2.763  0.00  0.00           H  \n",
      "ATOM    529 H54 AAD     4     -11.695   5.040  -0.978  0.00  0.00           H  \n",
      "ATOM    530 H55 AAD     4     -15.914  -0.315  -2.012  0.00  0.00           H  \n",
      "CONECT    1    2   21   29  517\n",
      "CONECT    2    3  229  230\n",
      "CONECT    3    4  231  232\n",
      "CONECT    4    5   13  518\n",
      "CONECT    5    6  233  234\n",
      "CONECT    6    7  235  236\n",
      "CONECT    7    8    9\n",
      "CONECT    9   10  237\n",
      "CONECT   10   11  238  239\n",
      "CONECT   11   12  240  241\n",
      "CONECT   12   37   45  519\n",
      "CONECT   13   14  242  243\n",
      "CONECT   14   15  244  245\n",
      "CONECT   15   16   17\n",
      "CONECT   17   18  246\n",
      "CONECT   18   19  247  248\n",
      "CONECT   19   20  249  250\n",
      "CONECT   20   53   61  520\n",
      "CONECT   21   22  251  252\n",
      "CONECT   22   23  253  254\n",
      "CONECT   23   24   28\n",
      "CONECT   24   25  255\n",
      "CONECT   25   26  256  257\n",
      "CONECT   26   27  258  259\n",
      "CONECT   27   85   87  521\n",
      "CONECT   29   30  260  261\n",
      "CONECT   30   31  262  263\n",
      "CONECT   31   32   33\n",
      "CONECT   33   34  264\n",
      "CONECT   34   35  265  266\n",
      "CONECT   35   36  267  268\n",
      "CONECT   36   89   91  522\n",
      "CONECT   37   38  269  270\n",
      "CONECT   38   39  271  272\n",
      "CONECT   39   40   41\n",
      "CONECT   41   42  273\n",
      "CONECT   42   43  274  275\n",
      "CONECT   43   44  276  277\n",
      "CONECT   44   77   79  523\n",
      "CONECT   45   46  278  279\n",
      "CONECT   46   47  280  281\n",
      "CONECT   47   48   49\n",
      "CONECT   49   50  282\n",
      "CONECT   50   51  283  284\n",
      "CONECT   51   52  285  286\n",
      "CONECT   52   81   83  524\n",
      "CONECT   53   54  287  288\n",
      "CONECT   54   55  289  290\n",
      "CONECT   55   56   57\n",
      "CONECT   57   58  291\n",
      "CONECT   58   59  292  293\n",
      "CONECT   59   60  294  295\n",
      "CONECT   60   69   71  525\n",
      "CONECT   61   62  296  297\n",
      "CONECT   62   63  298  299\n",
      "CONECT   63   64   68\n",
      "CONECT   64   65  300\n",
      "CONECT   65   66  301  302\n",
      "CONECT   66   67  303  304\n",
      "CONECT   67   73   75  526\n",
      "CONECT   69   70  305  306\n",
      "CONECT   70   93  307  308\n",
      "CONECT   71   72  309  310\n",
      "CONECT   72   99  311  312\n",
      "CONECT   73   74  313  314\n",
      "CONECT   74  129  315  316\n",
      "CONECT   75   76  317  318\n",
      "CONECT   76  135  319  320\n",
      "CONECT   77   78  321  322\n",
      "CONECT   78  105  323  324\n",
      "CONECT   79   80  325  326\n",
      "CONECT   80  110  327  328\n",
      "CONECT   81   82  329  330\n",
      "CONECT   82  117  331  332\n",
      "CONECT   83   84  333  334\n",
      "CONECT   84  123  335  336\n",
      "CONECT   85   86  337  338\n",
      "CONECT   86  141  339  340\n",
      "CONECT   87   88  341  342\n",
      "CONECT   88  143  343  344\n",
      "CONECT   89   90  345  346\n",
      "CONECT   90  169  347  348\n",
      "CONECT   91   92  349  350\n",
      "CONECT   92  174  351  352\n",
      "CONECT   93   94   98\n",
      "CONECT   94   95  353\n",
      "CONECT   95   96  354  355\n",
      "CONECT   96   97  356  357\n",
      "CONECT   97  358  359\n",
      "CONECT   99  100  104\n",
      "CONECT  100  101  360\n",
      "CONECT  101  102  361  362\n",
      "CONECT  102  103  363  364\n",
      "CONECT  103  365  366\n",
      "CONECT  105  106  115\n",
      "CONECT  106  107  367\n",
      "CONECT  107  108  368  369\n",
      "CONECT  108  109  370  371\n",
      "CONECT  109  372  373\n",
      "CONECT  110  111  116\n",
      "CONECT  111  112  374\n",
      "CONECT  112  113  375  376\n",
      "CONECT  113  114  377  378\n",
      "CONECT  114  379  380\n",
      "CONECT  117  118  122\n",
      "CONECT  118  119  381\n",
      "CONECT  119  120  382  383\n",
      "CONECT  120  121  384  385\n",
      "CONECT  121  386  387\n",
      "CONECT  123  124  128\n",
      "CONECT  124  125  388\n",
      "CONECT  125  126  389  390\n",
      "CONECT  126  127  391  392\n",
      "CONECT  127  393  394\n",
      "CONECT  129  130  134\n",
      "CONECT  130  131  395\n",
      "CONECT  131  132  396  397\n",
      "CONECT  132  133  398  399\n",
      "CONECT  133  400  401\n",
      "CONECT  135  136  140\n",
      "CONECT  136  137  402\n",
      "CONECT  137  138  403  404\n",
      "CONECT  138  139  405  406\n",
      "CONECT  139  407  408\n",
      "CONECT  141  142  146\n",
      "CONECT  142  147  409\n",
      "CONECT  143  144  145\n",
      "CONECT  144  150  410\n",
      "CONECT  147  148  411  412\n",
      "CONECT  148  149  413  414\n",
      "CONECT  149  153  155  527\n",
      "CONECT  150  151  415  416\n",
      "CONECT  151  152  417  418\n",
      "CONECT  152  157  159  528\n",
      "CONECT  153  154  419  420\n",
      "CONECT  154  185  421  422\n",
      "CONECT  155  156  423  424\n",
      "CONECT  156  187  425  426\n",
      "CONECT  157  158  427  428\n",
      "CONECT  158  161  429  430\n",
      "CONECT  159  160  431  432\n",
      "CONECT  160  166  433  434\n",
      "CONECT  161  162  165\n",
      "CONECT  162  163  435\n",
      "CONECT  163  164  436  437\n",
      "CONECT  164  184  438  439\n",
      "CONECT  166  167  181\n",
      "CONECT  167  168  440\n",
      "CONECT  168  182  441  442\n",
      "CONECT  169  170  179\n",
      "CONECT  170  171  443\n",
      "CONECT  171  172  444  445\n",
      "CONECT  172  173  446  447\n",
      "CONECT  173  197  202  529\n",
      "CONECT  174  175  180\n",
      "CONECT  175  176  448\n",
      "CONECT  176  177  449  450\n",
      "CONECT  177  178  451  452\n",
      "CONECT  178  207  211  530\n",
      "CONECT  182  183  453  454\n",
      "CONECT  183  455  456\n",
      "CONECT  184  457  458\n",
      "CONECT  185  186  190\n",
      "CONECT  186  191  459\n",
      "CONECT  187  188  189\n",
      "CONECT  188  194  460\n",
      "CONECT  191  192  461  462\n",
      "CONECT  192  193  463  464\n",
      "CONECT  193  465  466\n",
      "CONECT  194  195  467  468\n",
      "CONECT  195  196  469  470\n",
      "CONECT  196  471  472\n",
      "CONECT  197  198  473  474\n",
      "CONECT  198  199  475  476\n",
      "CONECT  199  200  201\n",
      "CONECT  200  223  477\n",
      "CONECT  202  203  478  479\n",
      "CONECT  203  204  480  481\n",
      "CONECT  204  205  206\n",
      "CONECT  205  226  482\n",
      "CONECT  207  208  483  484\n",
      "CONECT  208  209  485  486\n",
      "CONECT  209  210  215\n",
      "CONECT  210  220  487\n",
      "CONECT  211  212  488  489\n",
      "CONECT  212  213  490  491\n",
      "CONECT  213  214  216\n",
      "CONECT  214  217  492\n",
      "CONECT  217  218  493  494\n",
      "CONECT  218  219  495  496\n",
      "CONECT  219  497  498\n",
      "CONECT  220  221  499  500\n",
      "CONECT  221  222  501  502\n",
      "CONECT  222  503  504\n",
      "CONECT  223  224  505  506\n",
      "CONECT  224  225  507  508\n",
      "CONECT  225  509  510\n",
      "CONECT  226  227  511  512\n",
      "CONECT  227  228  513  514\n",
      "CONECT  228  515  516\n",
      "END\n",
      "\n"
     ]
    }
   ],
   "source": [
    "print(pdb_block)"
   ]
  },
  {
   "cell_type": "code",
   "execution_count": 25,
   "id": "3a95b07d",
   "metadata": {},
   "outputs": [
    {
     "data": {
      "text/plain": [
       "'Z'"
      ]
     },
     "execution_count": 25,
     "metadata": {},
     "output_type": "execute_result"
    }
   ],
   "source": [
    "chr(90)"
   ]
  },
  {
   "cell_type": "code",
   "execution_count": 28,
   "id": "6d917a40",
   "metadata": {},
   "outputs": [],
   "source": [
    "test = element_counts[\"C\"]"
   ]
  },
  {
   "cell_type": "code",
   "execution_count": 29,
   "id": "c02acc98",
   "metadata": {},
   "outputs": [
    {
     "data": {
      "text/plain": [
       "0"
      ]
     },
     "execution_count": 29,
     "metadata": {},
     "output_type": "execute_result"
    }
   ],
   "source": [
    "test"
   ]
  },
  {
   "cell_type": "code",
   "execution_count": 31,
   "id": "90b0ac59",
   "metadata": {},
   "outputs": [],
   "source": [
    "n = 92834"
   ]
  },
  {
   "cell_type": "code",
   "execution_count": 36,
   "id": "8839deb8",
   "metadata": {},
   "outputs": [
    {
     "data": {
      "text/plain": [
       "72"
      ]
     },
     "execution_count": 36,
     "metadata": {},
     "output_type": "execute_result"
    }
   ],
   "source": [
    "atom_name_num = (n % 99) + 1\n",
    "atom_name_num"
   ]
  },
  {
   "cell_type": "code",
   "execution_count": 38,
   "id": "144cfee5",
   "metadata": {},
   "outputs": [
    {
     "data": {
      "text/plain": [
       "0"
      ]
     },
     "execution_count": 38,
     "metadata": {},
     "output_type": "execute_result"
    }
   ],
   "source": [
    "99 % 99"
   ]
  },
  {
   "cell_type": "code",
   "execution_count": 42,
   "id": "c0e0ed63",
   "metadata": {},
   "outputs": [
    {
     "name": "stdout",
     "output_type": "stream",
     "text": [
      "937.7171717171717\n"
     ]
    },
    {
     "data": {
      "text/plain": [
       "937"
      ]
     },
     "execution_count": 42,
     "metadata": {},
     "output_type": "execute_result"
    }
   ],
   "source": [
    "res_num = (n / 99)\n",
    "print(res_num)\n",
    "int(res_num)"
   ]
  },
  {
   "cell_type": "code",
   "execution_count": 58,
   "id": "f969ef4b",
   "metadata": {},
   "outputs": [
    {
     "name": "stdout",
     "output_type": "stream",
     "text": [
      "0\n",
      "AAA 1\n"
     ]
    }
   ],
   "source": [
    "for i in range(0,4000):\n",
    "    print(i)\n",
    "    res_num = i/99\n",
    "    atom_num = (i%99) + 1\n",
    "    print(f\"{chr(int(res_num/26/26%26)+65)}{chr(int(res_num/26%26)+65)}{chr(int(res_num%26)+65)}\", end='')\n",
    "    print(f\" {atom_num}\")\n",
    "    break"
   ]
  },
  {
   "cell_type": "code",
   "execution_count": 46,
   "id": "4497718d",
   "metadata": {},
   "outputs": [
    {
     "data": {
      "text/plain": [
       "937"
      ]
     },
     "execution_count": 46,
     "metadata": {},
     "output_type": "execute_result"
    }
   ],
   "source": [
    "1*26*26 + 10*26 + 1"
   ]
  },
  {
   "cell_type": "code",
   "execution_count": 82,
   "id": "9fa54da2",
   "metadata": {},
   "outputs": [
    {
     "data": {
      "text/plain": [
       "'100'"
      ]
     },
     "execution_count": 82,
     "metadata": {},
     "output_type": "execute_result"
    }
   ],
   "source": [
    "f\"{100:02d}\""
   ]
  },
  {
   "cell_type": "code",
   "execution_count": 3,
   "id": "e37f27e7",
   "metadata": {},
   "outputs": [],
   "source": [
    "rdmol = p2.full_molecule"
   ]
  },
  {
   "cell_type": "code",
   "execution_count": 6,
   "id": "7778fb1e",
   "metadata": {},
   "outputs": [
    {
     "name": "stdout",
     "output_type": "stream",
     "text": [
      "['ClearProp', 'DescribeQuery', 'GetBeginAtom', 'GetBeginAtomIdx', 'GetBondDir', 'GetBondType', 'GetBondTypeAsDouble', 'GetBoolProp', 'GetDoubleProp', 'GetEndAtom', 'GetEndAtomIdx', 'GetIdx', 'GetIntProp', 'GetIsAromatic', 'GetIsConjugated', 'GetOtherAtom', 'GetOtherAtomIdx', 'GetOwningMol', 'GetProp', 'GetPropNames', 'GetPropsAsDict', 'GetSmarts', 'GetStereo', 'GetStereoAtoms', 'GetUnsignedProp', 'GetValenceContrib', 'HasOwningMol', 'HasProp', 'HasQuery', 'IsInRing', 'IsInRingSize', 'Match', 'SetBondDir', 'SetBondType', 'SetBoolProp', 'SetDoubleProp', 'SetIntProp', 'SetIsAromatic', 'SetIsConjugated', 'SetProp', 'SetStereo', 'SetStereoAtoms', 'SetUnsignedProp', '__class__', '__delattr__', '__dict__', '__dir__', '__doc__', '__eq__', '__format__', '__ge__', '__getattribute__', '__gt__', '__hash__', '__init__', '__init_subclass__', '__le__', '__lt__', '__module__', '__ne__', '__new__', '__reduce__', '__reduce_ex__', '__repr__', '__setattr__', '__sizeof__', '__str__', '__subclasshook__', '__weakref__']\n"
     ]
    }
   ],
   "source": [
    "for bond in rdmol.GetBonds():\n",
    "    print(dir(bond))\n",
    "    break"
   ]
  },
  {
   "cell_type": "code",
   "execution_count": 8,
   "id": "15c85e21",
   "metadata": {},
   "outputs": [
    {
     "name": "stdout",
     "output_type": "stream",
     "text": [
      "<class 'rdkit.Chem.rdchem.BondType'>\n"
     ]
    }
   ],
   "source": [
    "for bond in rdmol.GetBonds():\n",
    "    print(type(bond.GetBondType()))\n",
    "    break"
   ]
  },
  {
   "cell_type": "code",
   "execution_count": null,
   "id": "f309ddb5",
   "metadata": {},
   "outputs": [],
   "source": []
  }
 ],
 "metadata": {
  "kernelspec": {
   "display_name": "Python 3 (ipykernel)",
   "language": "python",
   "name": "python3"
  },
  "language_info": {
   "codemirror_mode": {
    "name": "ipython",
    "version": 3
   },
   "file_extension": ".py",
   "mimetype": "text/x-python",
   "name": "python",
   "nbconvert_exporter": "python",
   "pygments_lexer": "ipython3",
   "version": "3.9.10"
  }
 },
 "nbformat": 4,
 "nbformat_minor": 5
}
